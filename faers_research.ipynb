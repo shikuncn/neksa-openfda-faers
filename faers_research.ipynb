{
 "cells": [
  {
   "cell_type": "markdown",
   "id": "65e60cd0-efcc-4075-a995-019612a7b942",
   "metadata": {},
   "source": [
    "# Tools and functions"
   ]
  },
  {
   "cell_type": "code",
   "id": "initial_id",
   "metadata": {},
   "source": [
    "import pandas as pd\n",
    "from pprint import pprint\n",
    "import matplotlib.pyplot as plt\n",
    "%matplotlib inline\n",
    "plt.style.use('fivethirtyeight')\n",
    "plt.rcParams[\"figure.figsize\"] = (4, 3)\n",
    "import requests\n",
    "import json\n",
    "# rate limiting is important to avoid accidental service abuse of the OpenFDA API provider\n",
    "from ratelimit import limits, sleep_and_retry\n",
    "!pip install pyperclip\n",
    "import pyperclip as clip\n",
    "\n",
    "\n",
    "# cache API calls in a sqllite file to reduce the number of requests to openfda server\n",
    "import requests_cache\n",
    "requests_cache.install_cache('openfda_cache')\n",
    "\n",
    "OPENFDA_API = \"https://api.fda.gov/drug/event.json\"\n",
    "\n",
    "@sleep_and_retry\n",
    "@limits(calls=40, period=60)\n",
    "def call_api(params):\n",
    "    \"\"\"\n",
    "    OpenFDA API call. Respects rate limit. Overrides default data limit\n",
    "    Input: dictionary with API parameters {search: '...', count: '...'}\n",
    "    Output: nested dictionary representation of the JSON results section\n",
    "    \n",
    "    OpenFDA API rate limits:\n",
    "         With no API key: 40 requests per minute, per IP address. 1000 requests per day, per IP address.\n",
    "         With an API key: 240 requests per minute, per key. 120000 requests per day, per key.\n",
    "    \"\"\"\n",
    "    if not params:\n",
    "        params = {}\n",
    "    params['limit'] = params.get('limit', 1000)\n",
    "    response = requests.get(OPENFDA_API, params=params)\n",
    "    \n",
    "    print(response.url)\n",
    "\n",
    "    if response.status_code != 200:\n",
    "        raise Exception('API response: {}'.format(response.status_code))\n",
    "    return response.json()['results']\n",
    "\n",
    "\n",
    "OPENFDA_METADATA_YAML = \"https://open.fda.gov/fields/drugevent.yaml\"\n",
    "# munch is a yaml parser with javascript-style object access\n",
    "from munch import Munch\n",
    "\n",
    "def api_meta():\n",
    "    \"\"\"\n",
    "    YAML file with field description and other metadata retrieved from the OpenFDA website\n",
    "    Parses YAML file and provides syntactic sugar for accessing nested dictionaries\n",
    "    Example: .patient.properties.patientagegroup.possible_values.value\n",
    "    Note: reserved words, such as count and items still have to be accessed via ['count'], ['items']\n",
    "    \"\"\"\n",
    "    response = requests.get(OPENFDA_METADATA_YAML)\n",
    "    if response.status_code != 200:\n",
    "        raise Exception('Could not retrieve YAML file with drug event API fields')\n",
    "    y = Munch.fromYAML(response.text)\n",
    "    return y['properties']\n",
    "    "
   ],
   "outputs": [],
   "execution_count": null
  },
  {
   "metadata": {
    "ExecuteTime": {
     "end_time": "2024-07-15T15:57:03.521104Z",
     "start_time": "2024-07-15T15:57:03.460196Z"
    }
   },
   "cell_type": "code",
   "source": [
    "def enumerate_quarters(start_year, end_year):\n",
    "    quarters = []\n",
    "    for year in range(start_year, end_year + 1):\n",
    "        for quarter in range(1, 5):  # Q1 to Q4\n",
    "            quarters.append(f\"{year}Q{quarter}\")\n",
    "    return quarters\n",
    "\n",
    "\n",
    "\n",
    "quarters = enumerate_quarters(2017, 2024)\n",
    "filelist = '\\n'.join([ 'https://fis.fda.gov/content/Exports/faers_ascii_{}.zip'.format(q) for q in quarters])\n",
    "print(filelist)\n",
    "clip.copy(filelist)\n",
    "\n",
    "\n"
   ],
   "id": "94d646339a2e7e7b",
   "outputs": [
    {
     "name": "stdout",
     "output_type": "stream",
     "text": [
      "https://fis.fda.gov/content/Exports/faers_ascii_2017Q1.zip\n",
      "https://fis.fda.gov/content/Exports/faers_ascii_2017Q2.zip\n",
      "https://fis.fda.gov/content/Exports/faers_ascii_2017Q3.zip\n",
      "https://fis.fda.gov/content/Exports/faers_ascii_2017Q4.zip\n",
      "https://fis.fda.gov/content/Exports/faers_ascii_2018Q1.zip\n",
      "https://fis.fda.gov/content/Exports/faers_ascii_2018Q2.zip\n",
      "https://fis.fda.gov/content/Exports/faers_ascii_2018Q3.zip\n",
      "https://fis.fda.gov/content/Exports/faers_ascii_2018Q4.zip\n",
      "https://fis.fda.gov/content/Exports/faers_ascii_2019Q1.zip\n",
      "https://fis.fda.gov/content/Exports/faers_ascii_2019Q2.zip\n",
      "https://fis.fda.gov/content/Exports/faers_ascii_2019Q3.zip\n",
      "https://fis.fda.gov/content/Exports/faers_ascii_2019Q4.zip\n",
      "https://fis.fda.gov/content/Exports/faers_ascii_2020Q1.zip\n",
      "https://fis.fda.gov/content/Exports/faers_ascii_2020Q2.zip\n",
      "https://fis.fda.gov/content/Exports/faers_ascii_2020Q3.zip\n",
      "https://fis.fda.gov/content/Exports/faers_ascii_2020Q4.zip\n",
      "https://fis.fda.gov/content/Exports/faers_ascii_2021Q1.zip\n",
      "https://fis.fda.gov/content/Exports/faers_ascii_2021Q2.zip\n",
      "https://fis.fda.gov/content/Exports/faers_ascii_2021Q3.zip\n",
      "https://fis.fda.gov/content/Exports/faers_ascii_2021Q4.zip\n",
      "https://fis.fda.gov/content/Exports/faers_ascii_2022Q1.zip\n",
      "https://fis.fda.gov/content/Exports/faers_ascii_2022Q2.zip\n",
      "https://fis.fda.gov/content/Exports/faers_ascii_2022Q3.zip\n",
      "https://fis.fda.gov/content/Exports/faers_ascii_2022Q4.zip\n",
      "https://fis.fda.gov/content/Exports/faers_ascii_2023Q1.zip\n",
      "https://fis.fda.gov/content/Exports/faers_ascii_2023Q2.zip\n",
      "https://fis.fda.gov/content/Exports/faers_ascii_2023Q3.zip\n",
      "https://fis.fda.gov/content/Exports/faers_ascii_2023Q4.zip\n",
      "https://fis.fda.gov/content/Exports/faers_ascii_2024Q1.zip\n",
      "https://fis.fda.gov/content/Exports/faers_ascii_2024Q2.zip\n",
      "https://fis.fda.gov/content/Exports/faers_ascii_2024Q3.zip\n",
      "https://fis.fda.gov/content/Exports/faers_ascii_2024Q4.zip\n"
     ]
    }
   ],
   "execution_count": 113
  },
  {
   "metadata": {},
   "cell_type": "code",
   "outputs": [],
   "execution_count": null,
   "source": [
    "## utils \n",
    "def remove_duplicates(a):\n",
    "    unique_list = []\n",
    "    result = []\n",
    "    for d in a:\n",
    "        json_str = json.dumps(d, sort_keys=True)\n",
    "        if json_str not in unique_list:\n",
    "            unique_list.append(json_str)\n",
    "            result.append(d)\n",
    "    return unique_list,result"
   ],
   "id": "15c8a1aee1c76c4c"
  },
  {
   "metadata": {},
   "cell_type": "markdown",
   "source": "# Basic Statistics",
   "id": "c55bf4a974a68d5e"
  },
  {
   "metadata": {
    "ExecuteTime": {
     "end_time": "2024-07-14T08:14:35.308096Z",
     "start_time": "2024-07-14T08:14:32.658632Z"
    }
   },
   "cell_type": "code",
   "source": [
    "df = pd.DataFrame(\n",
    "    call_api({\n",
    "        'count':'receivedate',\n",
    "        'search': \n",
    "                \"receivedate:([20170301 TO 20240330]) AND \"\n",
    "                \"patient.drug.openfda.generic_name: ribociclib \"\n",
    "    }));\n",
    "\n",
    "df.index = pd.to_datetime(df.time)\n",
    "# tally reports by year\n",
    "df.drop('time', axis=1).resample(\"YE\").sum().plot(style='.-', figsize=(5, 3))\n",
    "total = df['count'].sum()\n",
    "plt.gca().legend([\"Total: {:,}\".format(total)])\n",
    "plt.show()\n"
   ],
   "id": "c1462b813184028f",
   "outputs": [
    {
     "data": {
      "text/plain": [
       "<Figure size 500x300 with 1 Axes>"
      ],
      "image/png": "[encoded data removed]"
     },
     "metadata": {},
     "output_type": "display_data"
    }
   ],
   "execution_count": 105
  },
  {
   "cell_type": "markdown",
   "id": "b671583a-40a1-445f-86e9-c3c36abf2c93",
   "metadata": {},
   "source": [
    "# Association of drugs with adverse drug reaction events"
   ]
  },
  {
   "cell_type": "code",
   "id": "33b65f17-a0eb-4734-afd8-b810458d4a0e",
   "metadata": {
    "ExecuteTime": {
     "end_time": "2024-07-14T01:09:15.317397Z",
     "start_time": "2024-07-13T23:22:30.106697Z"
    }
   },
   "source": [
    "from tqdm import tqdm\n",
    "\n",
    "adr = []\n",
    "# load only the first 100 pages by 100 reports = 10,000 events\n",
    "for page in tqdm(range(1000000)):\n",
    "    try:\n",
    "        d = call_api({\n",
    "            'search':\n",
    "                \"receivedate:([20170301 TO 20240330]) AND \"\n",
    "                \"patient.drug.openfda.generic_name: {} \"\n",
    "                \"\".format(\"ribociclib\"),\n",
    "            'limit': 1000,\n",
    "            'skip': page\n",
    "        })\n",
    "    except:\n",
    "        raise\n",
    "        break\n",
    "    print('done for page no. {} with len = {}'.format(page, len(d)))\n",
    "    adr += d\n",
    "\n",
    "\"Total ADR events loaded\", len(adr)"
   ],
   "outputs": [
    {
     "name": "stderr",
     "output_type": "stream",
     "text": [
      "  0%|          | 1/1000000 [00:00<48:46:27,  5.70it/s]"
     ]
    },
    {
     "name": "stdout",
     "output_type": "stream",
     "text": [
      "done for page no. 0 with len = 1000\n"
     ]
    },
    {
     "name": "stderr",
     "output_type": "stream",
     "text": [
      "  0%|          | 3/1000000 [00:00<81:23:23,  3.41it/s] "
     ]
    },
    {
     "name": "stdout",
     "output_type": "stream",
     "text": [
      "done for page no. 1 with len = 1000\n",
      "done for page no. 2 with len = 1000\n"
     ]
    },
    {
     "name": "stderr",
     "output_type": "stream",
     "text": [
      "  0%|          | 4/1000000 [00:01<62:56:31,  4.41it/s]"
     ]
    },
    {
     "name": "stdout",
     "output_type": "stream",
     "text": [
      "done for page no. 3 with len = 1000\n",
      "done for page no. 4 with len = 1000\n"
     ]
    },
    {
     "name": "stderr",
     "output_type": "stream",
     "text": [
      "  0%|          | 7/1000000 [00:01<42:13:22,  6.58it/s]"
     ]
    },
    {
     "name": "stdout",
     "output_type": "stream",
     "text": [
      "done for page no. 5 with len = 1000\n",
      "done for page no. 6 with len = 1000\n"
     ]
    },
    {
     "name": "stderr",
     "output_type": "stream",
     "text": [
      "  0%|          | 8/1000000 [00:01<38:23:23,  7.24it/s]"
     ]
    },
    {
     "name": "stdout",
     "output_type": "stream",
     "text": [
      "done for page no. 7 with len = 1000\n"
     ]
    },
    {
     "name": "stderr",
     "output_type": "stream",
     "text": [
      "  0%|          | 10/1000000 [00:02<63:17:25,  4.39it/s]"
     ]
    },
    {
     "name": "stdout",
     "output_type": "stream",
     "text": [
      "done for page no. 8 with len = 1000\n",
      "done for page no. 9 with len = 1000\n",
      "done for page no. 10 with len = 1000\n"
     ]
    },
    {
     "name": "stderr",
     "output_type": "stream",
     "text": [
      "  0%|          | 13/1000000 [00:02<43:23:31,  6.40it/s]"
     ]
    },
    {
     "name": "stdout",
     "output_type": "stream",
     "text": [
      "done for page no. 11 with len = 1000\n",
      "done for page no. 12 with len = 1000\n"
     ]
    },
    {
     "name": "stderr",
     "output_type": "stream",
     "text": [
      "  0%|          | 15/1000000 [00:03<63:37:54,  4.37it/s]"
     ]
    },
    {
     "name": "stdout",
     "output_type": "stream",
     "text": [
      "done for page no. 13 with len = 1000\n",
      "done for page no. 14 with len = 1000\n"
     ]
    },
    {
     "name": "stderr",
     "output_type": "stream",
     "text": [
      "  0%|          | 18/1000000 [00:03<43:59:06,  6.32it/s]"
     ]
    },
    {
     "name": "stdout",
     "output_type": "stream",
     "text": [
      "done for page no. 15 with len = 1000\n",
      "done for page no. 16 with len = 1000\n",
      "done for page no. 17 with len = 1000\n"
     ]
    },
    {
     "name": "stderr",
     "output_type": "stream",
     "text": [
      "  0%|          | 19/1000000 [00:03<45:17:03,  6.13it/s]"
     ]
    },
    {
     "name": "stdout",
     "output_type": "stream",
     "text": [
      "done for page no. 18 with len = 1000\n"
     ]
    },
    {
     "name": "stderr",
     "output_type": "stream",
     "text": [
      "  0%|          | 21/1000000 [00:03<45:09:48,  6.15it/s]"
     ]
    },
    {
     "name": "stdout",
     "output_type": "stream",
     "text": [
      "done for page no. 19 with len = 1000\n",
      "done for page no. 20 with len = 1000\n"
     ]
    },
    {
     "name": "stderr",
     "output_type": "stream",
     "text": [
      "  0%|          | 22/1000000 [00:04<90:06:20,  3.08it/s]"
     ]
    },
    {
     "name": "stdout",
     "output_type": "stream",
     "text": [
      "done for page no. 21 with len = 1000\n",
      "done for page no. 22 with len = 1000\n"
     ]
    },
    {
     "name": "stderr",
     "output_type": "stream",
     "text": [
      "  0%|          | 24/1000000 [00:04<63:49:33,  4.35it/s]"
     ]
    },
    {
     "name": "stdout",
     "output_type": "stream",
     "text": [
      "done for page no. 23 with len = 1000\n",
      "done for page no. 24 with len = 1000\n"
     ]
    },
    {
     "name": "stderr",
     "output_type": "stream",
     "text": [
      "  0%|          | 27/1000000 [00:05<48:25:34,  5.74it/s]"
     ]
    },
    {
     "name": "stdout",
     "output_type": "stream",
     "text": [
      "done for page no. 25 with len = 1000\n",
      "done for page no. 26 with len = 1000\n"
     ]
    },
    {
     "name": "stderr",
     "output_type": "stream",
     "text": [
      "  0%|          | 29/1000000 [00:05<42:08:47,  6.59it/s]"
     ]
    },
    {
     "name": "stdout",
     "output_type": "stream",
     "text": [
      "done for page no. 27 with len = 1000\n",
      "done for page no. 28 with len = 1000\n",
      "done for page no. 29 with len = 1000\n"
     ]
    },
    {
     "name": "stderr",
     "output_type": "stream",
     "text": [
      "  0%|          | 31/1000000 [00:15<573:40:26,  2.07s/it]"
     ]
    },
    {
     "name": "stdout",
     "output_type": "stream",
     "text": [
      "done for page no. 30 with len = 1000\n"
     ]
    },
    {
     "name": "stderr",
     "output_type": "stream",
     "text": [
      "  0%|          | 32/1000000 [01:50<6518:20:04, 23.47s/it]"
     ]
    },
    {
     "name": "stdout",
     "output_type": "stream",
     "text": [
      "done for page no. 31 with len = 1000\n"
     ]
    },
    {
     "name": "stderr",
     "output_type": "stream",
     "text": [
      "  0%|          | 33/1000000 [02:02<5749:50:22, 20.70s/it]"
     ]
    },
    {
     "name": "stdout",
     "output_type": "stream",
     "text": [
      "done for page no. 32 with len = 1000\n"
     ]
    },
    {
     "name": "stderr",
     "output_type": "stream",
     "text": [
      "  0%|          | 34/1000000 [03:53<12313:31:16, 44.33s/it]"
     ]
    },
    {
     "name": "stdout",
     "output_type": "stream",
     "text": [
      "done for page no. 33 with len = 1000\n"
     ]
    },
    {
     "name": "stderr",
     "output_type": "stream",
     "text": [
      "  0%|          | 35/1000000 [04:01<9554:42:28, 34.40s/it] "
     ]
    },
    {
     "name": "stdout",
     "output_type": "stream",
     "text": [
      "done for page no. 34 with len = 1000\n"
     ]
    },
    {
     "name": "stderr",
     "output_type": "stream",
     "text": [
      "  0%|          | 36/1000000 [05:59<16012:03:27, 57.65s/it]"
     ]
    },
    {
     "name": "stdout",
     "output_type": "stream",
     "text": [
      "done for page no. 35 with len = 1000\n"
     ]
    },
    {
     "name": "stderr",
     "output_type": "stream",
     "text": [
      "  0%|          | 37/1000000 [06:09<12261:58:59, 44.14s/it]"
     ]
    },
    {
     "name": "stdout",
     "output_type": "stream",
     "text": [
      "done for page no. 36 with len = 1000\n"
     ]
    },
    {
     "name": "stderr",
     "output_type": "stream",
     "text": [
      "  0%|          | 38/1000000 [08:03<17873:40:21, 64.35s/it]"
     ]
    },
    {
     "name": "stdout",
     "output_type": "stream",
     "text": [
      "done for page no. 37 with len = 1000\n"
     ]
    },
    {
     "name": "stderr",
     "output_type": "stream",
     "text": [
      "  0%|          | 39/1000000 [08:10<13204:16:12, 47.54s/it]"
     ]
    },
    {
     "name": "stdout",
     "output_type": "stream",
     "text": [
      "done for page no. 38 with len = 1000\n"
     ]
    },
    {
     "name": "stderr",
     "output_type": "stream",
     "text": [
      "  0%|          | 40/1000000 [09:37<16456:11:35, 59.24s/it]"
     ]
    },
    {
     "name": "stdout",
     "output_type": "stream",
     "text": [
      "done for page no. 39 with len = 1000\n"
     ]
    },
    {
     "name": "stderr",
     "output_type": "stream",
     "text": [
      "  0%|          | 41/1000000 [09:49<12592:53:48, 45.34s/it]"
     ]
    },
    {
     "name": "stdout",
     "output_type": "stream",
     "text": [
      "done for page no. 40 with len = 1000\n"
     ]
    },
    {
     "name": "stderr",
     "output_type": "stream",
     "text": [
      "  0%|          | 42/1000000 [11:27<16933:31:11, 60.96s/it]"
     ]
    },
    {
     "name": "stdout",
     "output_type": "stream",
     "text": [
      "done for page no. 41 with len = 1000\n"
     ]
    },
    {
     "name": "stderr",
     "output_type": "stream",
     "text": [
      "  0%|          | 43/1000000 [11:37<12671:35:42, 45.62s/it]"
     ]
    },
    {
     "name": "stdout",
     "output_type": "stream",
     "text": [
      "done for page no. 42 with len = 1000\n"
     ]
    },
    {
     "name": "stderr",
     "output_type": "stream",
     "text": [
      "  0%|          | 44/1000000 [11:46<9676:10:15, 34.84s/it] "
     ]
    },
    {
     "name": "stdout",
     "output_type": "stream",
     "text": [
      "done for page no. 43 with len = 1000\n"
     ]
    },
    {
     "name": "stderr",
     "output_type": "stream",
     "text": [
      "  0%|          | 45/1000000 [13:09<13683:04:39, 49.26s/it]"
     ]
    },
    {
     "name": "stdout",
     "output_type": "stream",
     "text": [
      "done for page no. 44 with len = 1000\n"
     ]
    },
    {
     "name": "stderr",
     "output_type": "stream",
     "text": [
      "  0%|          | 46/1000000 [13:18<10275:49:28, 36.99s/it]"
     ]
    },
    {
     "name": "stdout",
     "output_type": "stream",
     "text": [
      "done for page no. 45 with len = 1000\n"
     ]
    },
    {
     "name": "stderr",
     "output_type": "stream",
     "text": [
      "  0%|          | 47/1000000 [13:27<7983:02:04, 28.74s/it] "
     ]
    },
    {
     "name": "stdout",
     "output_type": "stream",
     "text": [
      "done for page no. 46 with len = 1000\n"
     ]
    },
    {
     "name": "stderr",
     "output_type": "stream",
     "text": [
      "  0%|          | 48/1000000 [15:04<13681:40:47, 49.26s/it]"
     ]
    },
    {
     "name": "stdout",
     "output_type": "stream",
     "text": [
      "done for page no. 47 with len = 1000\n"
     ]
    },
    {
     "name": "stderr",
     "output_type": "stream",
     "text": [
      "  0%|          | 49/1000000 [15:09<10013:21:53, 36.05s/it]"
     ]
    },
    {
     "name": "stdout",
     "output_type": "stream",
     "text": [
      "done for page no. 48 with len = 1000\n"
     ]
    },
    {
     "name": "stderr",
     "output_type": "stream",
     "text": [
      "  0%|          | 50/1000000 [15:18<7747:00:33, 27.89s/it] "
     ]
    },
    {
     "name": "stdout",
     "output_type": "stream",
     "text": [
      "done for page no. 49 with len = 1000\n"
     ]
    },
    {
     "name": "stderr",
     "output_type": "stream",
     "text": [
      "  0%|          | 51/1000000 [17:29<16345:55:48, 58.85s/it]"
     ]
    },
    {
     "name": "stdout",
     "output_type": "stream",
     "text": [
      "done for page no. 50 with len = 1000\n"
     ]
    },
    {
     "name": "stderr",
     "output_type": "stream",
     "text": [
      "  0%|          | 52/1000000 [17:36<11996:56:28, 43.19s/it]"
     ]
    },
    {
     "name": "stdout",
     "output_type": "stream",
     "text": [
      "done for page no. 51 with len = 1000\n"
     ]
    },
    {
     "name": "stderr",
     "output_type": "stream",
     "text": [
      "  0%|          | 53/1000000 [17:43<9005:18:27, 32.42s/it] "
     ]
    },
    {
     "name": "stdout",
     "output_type": "stream",
     "text": [
      "done for page no. 52 with len = 1000\n"
     ]
    },
    {
     "name": "stderr",
     "output_type": "stream",
     "text": [
      "  0%|          | 54/1000000 [19:33<15417:12:13, 55.50s/it]"
     ]
    },
    {
     "name": "stdout",
     "output_type": "stream",
     "text": [
      "done for page no. 53 with len = 1000\n"
     ]
    },
    {
     "name": "stderr",
     "output_type": "stream",
     "text": [
      "  0%|          | 55/1000000 [19:42<11538:17:26, 41.54s/it]"
     ]
    },
    {
     "name": "stdout",
     "output_type": "stream",
     "text": [
      "done for page no. 54 with len = 1000\n"
     ]
    },
    {
     "name": "stderr",
     "output_type": "stream",
     "text": [
      "  0%|          | 56/1000000 [19:49<8686:59:22, 31.27s/it] "
     ]
    },
    {
     "name": "stdout",
     "output_type": "stream",
     "text": [
      "done for page no. 55 with len = 1000\n"
     ]
    },
    {
     "name": "stderr",
     "output_type": "stream",
     "text": [
      "  0%|          | 57/1000000 [22:13<18066:59:46, 65.04s/it]"
     ]
    },
    {
     "name": "stdout",
     "output_type": "stream",
     "text": [
      "done for page no. 56 with len = 1000\n"
     ]
    },
    {
     "name": "stderr",
     "output_type": "stream",
     "text": [
      "  0%|          | 58/1000000 [22:23<13524:12:19, 48.69s/it]"
     ]
    },
    {
     "name": "stdout",
     "output_type": "stream",
     "text": [
      "done for page no. 57 with len = 1000\n"
     ]
    },
    {
     "name": "stderr",
     "output_type": "stream",
     "text": [
      "  0%|          | 59/1000000 [22:33<10242:54:58, 36.88s/it]"
     ]
    },
    {
     "name": "stdout",
     "output_type": "stream",
     "text": [
      "done for page no. 58 with len = 1000\n"
     ]
    },
    {
     "name": "stderr",
     "output_type": "stream",
     "text": [
      "  0%|          | 60/1000000 [24:40<17785:20:11, 64.03s/it]"
     ]
    },
    {
     "name": "stdout",
     "output_type": "stream",
     "text": [
      "done for page no. 59 with len = 1000\n"
     ]
    },
    {
     "name": "stderr",
     "output_type": "stream",
     "text": [
      "  0%|          | 61/1000000 [24:50<13276:37:09, 47.80s/it]"
     ]
    },
    {
     "name": "stdout",
     "output_type": "stream",
     "text": [
      "done for page no. 60 with len = 1000\n"
     ]
    },
    {
     "name": "stderr",
     "output_type": "stream",
     "text": [
      "  0%|          | 62/1000000 [24:58<9920:42:10, 35.72s/it] "
     ]
    },
    {
     "name": "stdout",
     "output_type": "stream",
     "text": [
      "done for page no. 61 with len = 1000\n"
     ]
    },
    {
     "name": "stderr",
     "output_type": "stream",
     "text": [
      "  0%|          | 63/1000000 [26:54<16673:49:42, 60.03s/it]"
     ]
    },
    {
     "name": "stdout",
     "output_type": "stream",
     "text": [
      "done for page no. 62 with len = 1000\n"
     ]
    },
    {
     "name": "stderr",
     "output_type": "stream",
     "text": [
      "  0%|          | 64/1000000 [27:01<12223:02:34, 44.01s/it]"
     ]
    },
    {
     "name": "stdout",
     "output_type": "stream",
     "text": [
      "done for page no. 63 with len = 1000\n"
     ]
    },
    {
     "name": "stderr",
     "output_type": "stream",
     "text": [
      "  0%|          | 65/1000000 [27:08<9127:34:13, 32.86s/it] "
     ]
    },
    {
     "name": "stdout",
     "output_type": "stream",
     "text": [
      "done for page no. 64 with len = 1000\n"
     ]
    },
    {
     "name": "stderr",
     "output_type": "stream",
     "text": [
      "  0%|          | 66/1000000 [29:07<16302:28:47, 58.69s/it]"
     ]
    },
    {
     "name": "stdout",
     "output_type": "stream",
     "text": [
      "done for page no. 65 with len = 1000\n"
     ]
    },
    {
     "name": "stderr",
     "output_type": "stream",
     "text": [
      "  0%|          | 67/1000000 [29:15<12088:08:08, 43.52s/it]"
     ]
    },
    {
     "name": "stdout",
     "output_type": "stream",
     "text": [
      "done for page no. 66 with len = 1000\n"
     ]
    },
    {
     "name": "stderr",
     "output_type": "stream",
     "text": [
      "  0%|          | 68/1000000 [29:21<8999:52:29, 32.40s/it] "
     ]
    },
    {
     "name": "stdout",
     "output_type": "stream",
     "text": [
      "done for page no. 67 with len = 1000\n"
     ]
    },
    {
     "name": "stderr",
     "output_type": "stream",
     "text": [
      "  0%|          | 69/1000000 [31:30<16994:22:08, 61.18s/it]"
     ]
    },
    {
     "name": "stdout",
     "output_type": "stream",
     "text": [
      "done for page no. 68 with len = 1000\n"
     ]
    },
    {
     "name": "stderr",
     "output_type": "stream",
     "text": [
      "  0%|          | 70/1000000 [31:36<12437:09:48, 44.78s/it]"
     ]
    },
    {
     "name": "stdout",
     "output_type": "stream",
     "text": [
      "done for page no. 69 with len = 1000\n"
     ]
    },
    {
     "name": "stderr",
     "output_type": "stream",
     "text": [
      "  0%|          | 71/1000000 [31:43<9293:53:37, 33.46s/it] "
     ]
    },
    {
     "name": "stdout",
     "output_type": "stream",
     "text": [
      "done for page no. 70 with len = 1000\n"
     ]
    },
    {
     "name": "stderr",
     "output_type": "stream",
     "text": [
      "  0%|          | 72/1000000 [32:25<9981:47:59, 35.94s/it]"
     ]
    },
    {
     "name": "stdout",
     "output_type": "stream",
     "text": [
      "done for page no. 71 with len = 1000\n"
     ]
    },
    {
     "name": "stderr",
     "output_type": "stream",
     "text": [
      "  0%|          | 73/1000000 [32:33<7656:22:13, 27.56s/it]"
     ]
    },
    {
     "name": "stdout",
     "output_type": "stream",
     "text": [
      "done for page no. 72 with len = 1000\n"
     ]
    },
    {
     "name": "stderr",
     "output_type": "stream",
     "text": [
      "  0%|          | 74/1000000 [32:44<6268:30:34, 22.57s/it]"
     ]
    },
    {
     "name": "stdout",
     "output_type": "stream",
     "text": [
      "done for page no. 73 with len = 1000\n"
     ]
    },
    {
     "name": "stderr",
     "output_type": "stream",
     "text": [
      "  0%|          | 75/1000000 [32:52<5101:24:15, 18.37s/it]"
     ]
    },
    {
     "name": "stdout",
     "output_type": "stream",
     "text": [
      "done for page no. 74 with len = 1000\n"
     ]
    },
    {
     "name": "stderr",
     "output_type": "stream",
     "text": [
      "  0%|          | 76/1000000 [33:10<5010:32:43, 18.04s/it]"
     ]
    },
    {
     "name": "stdout",
     "output_type": "stream",
     "text": [
      "done for page no. 75 with len = 1000\n"
     ]
    },
    {
     "name": "stderr",
     "output_type": "stream",
     "text": [
      "  0%|          | 77/1000000 [33:17<4109:51:20, 14.80s/it]"
     ]
    },
    {
     "name": "stdout",
     "output_type": "stream",
     "text": [
      "done for page no. 76 with len = 1000\n"
     ]
    },
    {
     "name": "stderr",
     "output_type": "stream",
     "text": [
      "  0%|          | 78/1000000 [33:26<3623:21:52, 13.05s/it]"
     ]
    },
    {
     "name": "stdout",
     "output_type": "stream",
     "text": [
      "done for page no. 77 with len = 1000\n"
     ]
    },
    {
     "name": "stderr",
     "output_type": "stream",
     "text": [
      "  0%|          | 79/1000000 [33:34<3197:13:20, 11.51s/it]"
     ]
    },
    {
     "name": "stdout",
     "output_type": "stream",
     "text": [
      "done for page no. 78 with len = 1000\n"
     ]
    },
    {
     "name": "stderr",
     "output_type": "stream",
     "text": [
      "  0%|          | 80/1000000 [33:43<3016:06:21, 10.86s/it]"
     ]
    },
    {
     "name": "stdout",
     "output_type": "stream",
     "text": [
      "done for page no. 79 with len = 1000\n"
     ]
    },
    {
     "name": "stderr",
     "output_type": "stream",
     "text": [
      "  0%|          | 81/1000000 [33:53<2901:16:08, 10.45s/it]"
     ]
    },
    {
     "name": "stdout",
     "output_type": "stream",
     "text": [
      "done for page no. 80 with len = 1000\n"
     ]
    },
    {
     "name": "stderr",
     "output_type": "stream",
     "text": [
      "  0%|          | 82/1000000 [34:01<2733:51:23,  9.84s/it]"
     ]
    },
    {
     "name": "stdout",
     "output_type": "stream",
     "text": [
      "done for page no. 81 with len = 1000\n"
     ]
    },
    {
     "name": "stderr",
     "output_type": "stream",
     "text": [
      "  0%|          | 83/1000000 [34:09<2590:00:11,  9.32s/it]"
     ]
    },
    {
     "name": "stdout",
     "output_type": "stream",
     "text": [
      "done for page no. 82 with len = 1000\n"
     ]
    },
    {
     "name": "stderr",
     "output_type": "stream",
     "text": [
      "  0%|          | 84/1000000 [34:16<2371:05:53,  8.54s/it]"
     ]
    },
    {
     "name": "stdout",
     "output_type": "stream",
     "text": [
      "done for page no. 83 with len = 1000\n"
     ]
    },
    {
     "name": "stderr",
     "output_type": "stream",
     "text": [
      "  0%|          | 85/1000000 [34:22<2164:35:57,  7.79s/it]"
     ]
    },
    {
     "name": "stdout",
     "output_type": "stream",
     "text": [
      "done for page no. 84 with len = 1000\n"
     ]
    },
    {
     "name": "stderr",
     "output_type": "stream",
     "text": [
      "  0%|          | 86/1000000 [35:57<9462:46:00, 34.07s/it]"
     ]
    },
    {
     "name": "stdout",
     "output_type": "stream",
     "text": [
      "done for page no. 85 with len = 1000\n"
     ]
    },
    {
     "name": "stderr",
     "output_type": "stream",
     "text": [
      "  0%|          | 87/1000000 [36:07<7439:18:06, 26.78s/it]"
     ]
    },
    {
     "name": "stdout",
     "output_type": "stream",
     "text": [
      "done for page no. 86 with len = 1000\n"
     ]
    },
    {
     "name": "stderr",
     "output_type": "stream",
     "text": [
      "  0%|          | 88/1000000 [36:14<5823:04:40, 20.96s/it]"
     ]
    },
    {
     "name": "stdout",
     "output_type": "stream",
     "text": [
      "done for page no. 87 with len = 1000\n"
     ]
    },
    {
     "name": "stderr",
     "output_type": "stream",
     "text": [
      "  0%|          | 89/1000000 [39:06<18341:58:26, 66.04s/it]"
     ]
    },
    {
     "name": "stdout",
     "output_type": "stream",
     "text": [
      "done for page no. 88 with len = 1000\n"
     ]
    },
    {
     "name": "stderr",
     "output_type": "stream",
     "text": [
      "  0%|          | 90/1000000 [39:17<13776:50:33, 49.60s/it]"
     ]
    },
    {
     "name": "stdout",
     "output_type": "stream",
     "text": [
      "done for page no. 89 with len = 1000\n"
     ]
    },
    {
     "name": "stderr",
     "output_type": "stream",
     "text": [
      "  0%|          | 91/1000000 [39:25<10281:25:48, 37.02s/it]"
     ]
    },
    {
     "name": "stdout",
     "output_type": "stream",
     "text": [
      "done for page no. 90 with len = 1000\n"
     ]
    },
    {
     "name": "stderr",
     "output_type": "stream",
     "text": [
      "  0%|          | 92/1000000 [41:15<16380:54:35, 58.98s/it]"
     ]
    },
    {
     "name": "stdout",
     "output_type": "stream",
     "text": [
      "done for page no. 91 with len = 1000\n"
     ]
    },
    {
     "name": "stderr",
     "output_type": "stream",
     "text": [
      "  0%|          | 93/1000000 [41:23<12128:06:31, 43.67s/it]"
     ]
    },
    {
     "name": "stdout",
     "output_type": "stream",
     "text": [
      "done for page no. 92 with len = 1000\n"
     ]
    },
    {
     "name": "stderr",
     "output_type": "stream",
     "text": [
      "  0%|          | 94/1000000 [41:33<9366:48:48, 33.72s/it] "
     ]
    },
    {
     "name": "stdout",
     "output_type": "stream",
     "text": [
      "done for page no. 93 with len = 1000\n"
     ]
    },
    {
     "name": "stderr",
     "output_type": "stream",
     "text": [
      "  0%|          | 95/1000000 [44:02<18912:31:49, 68.09s/it]"
     ]
    },
    {
     "name": "stdout",
     "output_type": "stream",
     "text": [
      "done for page no. 94 with len = 1000\n"
     ]
    },
    {
     "name": "stderr",
     "output_type": "stream",
     "text": [
      "  0%|          | 96/1000000 [44:10<13975:37:57, 50.32s/it]"
     ]
    },
    {
     "name": "stdout",
     "output_type": "stream",
     "text": [
      "done for page no. 95 with len = 1000\n"
     ]
    },
    {
     "name": "stderr",
     "output_type": "stream",
     "text": [
      "  0%|          | 97/1000000 [44:19<10502:38:09, 37.81s/it]"
     ]
    },
    {
     "name": "stdout",
     "output_type": "stream",
     "text": [
      "done for page no. 96 with len = 1000\n"
     ]
    },
    {
     "name": "stderr",
     "output_type": "stream",
     "text": [
      "  0%|          | 98/1000000 [47:25<22821:13:20, 82.16s/it]"
     ]
    },
    {
     "name": "stdout",
     "output_type": "stream",
     "text": [
      "done for page no. 97 with len = 1000\n"
     ]
    },
    {
     "name": "stderr",
     "output_type": "stream",
     "text": [
      "  0%|          | 99/1000000 [47:34<16746:47:05, 60.29s/it]"
     ]
    },
    {
     "name": "stdout",
     "output_type": "stream",
     "text": [
      "done for page no. 98 with len = 1000\n"
     ]
    },
    {
     "name": "stderr",
     "output_type": "stream",
     "text": [
      "  0%|          | 100/1000000 [47:44<12522:00:28, 45.08s/it]"
     ]
    },
    {
     "name": "stdout",
     "output_type": "stream",
     "text": [
      "done for page no. 99 with len = 1000\n"
     ]
    },
    {
     "name": "stderr",
     "output_type": "stream",
     "text": [
      "  0%|          | 101/1000000 [49:24<17104:46:28, 61.58s/it]"
     ]
    },
    {
     "name": "stdout",
     "output_type": "stream",
     "text": [
      "done for page no. 100 with len = 1000\n"
     ]
    },
    {
     "name": "stderr",
     "output_type": "stream",
     "text": [
      "  0%|          | 102/1000000 [49:32<12641:18:40, 45.51s/it]"
     ]
    },
    {
     "name": "stdout",
     "output_type": "stream",
     "text": [
      "done for page no. 101 with len = 1000\n"
     ]
    },
    {
     "name": "stderr",
     "output_type": "stream",
     "text": [
      "  0%|          | 103/1000000 [49:39<9485:48:52, 34.15s/it] "
     ]
    },
    {
     "name": "stdout",
     "output_type": "stream",
     "text": [
      "done for page no. 102 with len = 1000\n"
     ]
    },
    {
     "name": "stderr",
     "output_type": "stream",
     "text": [
      "  0%|          | 104/1000000 [51:53<17746:53:22, 63.90s/it]"
     ]
    },
    {
     "name": "stdout",
     "output_type": "stream",
     "text": [
      "done for page no. 103 with len = 1000\n"
     ]
    },
    {
     "name": "stderr",
     "output_type": "stream",
     "text": [
      "  0%|          | 105/1000000 [52:01<13107:09:24, 47.19s/it]"
     ]
    },
    {
     "name": "stdout",
     "output_type": "stream",
     "text": [
      "done for page no. 104 with len = 1000\n"
     ]
    },
    {
     "name": "stderr",
     "output_type": "stream",
     "text": [
      "  0%|          | 106/1000000 [52:10<9950:47:34, 35.83s/it] "
     ]
    },
    {
     "name": "stdout",
     "output_type": "stream",
     "text": [
      "done for page no. 105 with len = 1000\n"
     ]
    },
    {
     "name": "stderr",
     "output_type": "stream",
     "text": [
      "  0%|          | 107/1000000 [54:35<19021:12:05, 68.48s/it]"
     ]
    },
    {
     "name": "stdout",
     "output_type": "stream",
     "text": [
      "done for page no. 106 with len = 1000\n"
     ]
    },
    {
     "name": "stderr",
     "output_type": "stream",
     "text": [
      "  0%|          | 108/1000000 [54:41<13860:21:22, 49.90s/it]"
     ]
    },
    {
     "name": "stdout",
     "output_type": "stream",
     "text": [
      "done for page no. 107 with len = 1000\n"
     ]
    },
    {
     "name": "stderr",
     "output_type": "stream",
     "text": [
      "  0%|          | 109/1000000 [54:50<10408:54:40, 37.48s/it]"
     ]
    },
    {
     "name": "stdout",
     "output_type": "stream",
     "text": [
      "done for page no. 108 with len = 1000\n"
     ]
    },
    {
     "name": "stderr",
     "output_type": "stream",
     "text": [
      "  0%|          | 110/1000000 [57:23<20029:25:48, 72.11s/it]"
     ]
    },
    {
     "name": "stdout",
     "output_type": "stream",
     "text": [
      "done for page no. 109 with len = 1000\n"
     ]
    },
    {
     "name": "stderr",
     "output_type": "stream",
     "text": [
      "  0%|          | 111/1000000 [57:32<14821:54:36, 53.36s/it]"
     ]
    },
    {
     "name": "stdout",
     "output_type": "stream",
     "text": [
      "done for page no. 110 with len = 1000\n"
     ]
    },
    {
     "name": "stderr",
     "output_type": "stream",
     "text": [
      "  0%|          | 112/1000000 [57:42<11158:58:11, 40.18s/it]"
     ]
    },
    {
     "name": "stdout",
     "output_type": "stream",
     "text": [
      "done for page no. 111 with len = 1000\n"
     ]
    },
    {
     "name": "stderr",
     "output_type": "stream",
     "text": [
      "  0%|          | 113/1000000 [59:24<16291:38:54, 58.66s/it]"
     ]
    },
    {
     "name": "stdout",
     "output_type": "stream",
     "text": [
      "done for page no. 112 with len = 1000\n"
     ]
    },
    {
     "name": "stderr",
     "output_type": "stream",
     "text": [
      "  0%|          | 114/1000000 [59:33<12174:49:58, 43.83s/it]"
     ]
    },
    {
     "name": "stdout",
     "output_type": "stream",
     "text": [
      "done for page no. 113 with len = 1000\n"
     ]
    },
    {
     "name": "stderr",
     "output_type": "stream",
     "text": [
      "  0%|          | 115/1000000 [59:47<9663:49:10, 34.79s/it] "
     ]
    },
    {
     "name": "stdout",
     "output_type": "stream",
     "text": [
      "done for page no. 114 with len = 1000\n"
     ]
    },
    {
     "name": "stderr",
     "output_type": "stream",
     "text": [
      "  0%|          | 116/1000000 [1:02:25<19947:28:46, 71.82s/it]"
     ]
    },
    {
     "name": "stdout",
     "output_type": "stream",
     "text": [
      "done for page no. 115 with len = 1000\n"
     ]
    },
    {
     "name": "stderr",
     "output_type": "stream",
     "text": [
      "  0%|          | 117/1000000 [1:02:32<14569:25:40, 52.46s/it]"
     ]
    },
    {
     "name": "stdout",
     "output_type": "stream",
     "text": [
      "done for page no. 116 with len = 1000\n"
     ]
    },
    {
     "name": "stderr",
     "output_type": "stream",
     "text": [
      "  0%|          | 118/1000000 [1:02:39<10753:32:07, 38.72s/it]"
     ]
    },
    {
     "name": "stdout",
     "output_type": "stream",
     "text": [
      "done for page no. 117 with len = 1000\n"
     ]
    },
    {
     "name": "stderr",
     "output_type": "stream",
     "text": [
      "  0%|          | 119/1000000 [1:04:45<18063:07:23, 65.03s/it]"
     ]
    },
    {
     "name": "stdout",
     "output_type": "stream",
     "text": [
      "done for page no. 118 with len = 1000\n"
     ]
    },
    {
     "name": "stderr",
     "output_type": "stream",
     "text": [
      "  0%|          | 120/1000000 [1:04:54<13425:19:29, 48.34s/it]"
     ]
    },
    {
     "name": "stdout",
     "output_type": "stream",
     "text": [
      "done for page no. 119 with len = 1000\n"
     ]
    },
    {
     "name": "stderr",
     "output_type": "stream",
     "text": [
      "  0%|          | 121/1000000 [1:05:04<10201:41:54, 36.73s/it]"
     ]
    },
    {
     "name": "stdout",
     "output_type": "stream",
     "text": [
      "done for page no. 120 with len = 1000\n"
     ]
    },
    {
     "name": "stderr",
     "output_type": "stream",
     "text": [
      "  0%|          | 122/1000000 [1:07:43<20412:49:59, 73.50s/it]"
     ]
    },
    {
     "name": "stdout",
     "output_type": "stream",
     "text": [
      "done for page no. 121 with len = 1000\n"
     ]
    },
    {
     "name": "stderr",
     "output_type": "stream",
     "text": [
      "  0%|          | 123/1000000 [1:07:53<15063:28:05, 54.24s/it]"
     ]
    },
    {
     "name": "stdout",
     "output_type": "stream",
     "text": [
      "done for page no. 122 with len = 1000\n"
     ]
    },
    {
     "name": "stderr",
     "output_type": "stream",
     "text": [
      "  0%|          | 124/1000000 [1:07:59<11094:36:58, 39.95s/it]"
     ]
    },
    {
     "name": "stdout",
     "output_type": "stream",
     "text": [
      "done for page no. 123 with len = 1000\n"
     ]
    },
    {
     "name": "stderr",
     "output_type": "stream",
     "text": [
      "  0%|          | 125/1000000 [1:10:15<19095:14:24, 68.75s/it]"
     ]
    },
    {
     "name": "stdout",
     "output_type": "stream",
     "text": [
      "done for page no. 124 with len = 1000\n"
     ]
    },
    {
     "name": "stderr",
     "output_type": "stream",
     "text": [
      "  0%|          | 126/1000000 [1:10:36<15121:48:28, 54.45s/it]"
     ]
    },
    {
     "name": "stdout",
     "output_type": "stream",
     "text": [
      "done for page no. 125 with len = 1000\n"
     ]
    },
    {
     "name": "stderr",
     "output_type": "stream",
     "text": [
      "  0%|          | 127/1000000 [1:10:43<11140:24:28, 40.11s/it]"
     ]
    },
    {
     "name": "stdout",
     "output_type": "stream",
     "text": [
      "done for page no. 126 with len = 1000\n"
     ]
    },
    {
     "name": "stderr",
     "output_type": "stream",
     "text": [
      "  0%|          | 128/1000000 [1:13:00<19214:07:47, 69.18s/it]"
     ]
    },
    {
     "name": "stdout",
     "output_type": "stream",
     "text": [
      "done for page no. 127 with len = 1000\n"
     ]
    },
    {
     "name": "stderr",
     "output_type": "stream",
     "text": [
      "  0%|          | 129/1000000 [1:13:09<14185:32:20, 51.07s/it]"
     ]
    },
    {
     "name": "stdout",
     "output_type": "stream",
     "text": [
      "done for page no. 128 with len = 1000\n"
     ]
    },
    {
     "name": "stderr",
     "output_type": "stream",
     "text": [
      "  0%|          | 130/1000000 [1:13:19<10770:29:42, 38.78s/it]"
     ]
    },
    {
     "name": "stdout",
     "output_type": "stream",
     "text": [
      "done for page no. 129 with len = 1000\n"
     ]
    },
    {
     "name": "stderr",
     "output_type": "stream",
     "text": [
      "  0%|          | 131/1000000 [1:16:56<25651:10:30, 92.36s/it]"
     ]
    },
    {
     "name": "stdout",
     "output_type": "stream",
     "text": [
      "done for page no. 130 with len = 1000\n"
     ]
    },
    {
     "name": "stderr",
     "output_type": "stream",
     "text": [
      "  0%|          | 132/1000000 [1:17:03<18491:03:24, 66.58s/it]"
     ]
    },
    {
     "name": "stdout",
     "output_type": "stream",
     "text": [
      "done for page no. 131 with len = 1000\n"
     ]
    },
    {
     "name": "stderr",
     "output_type": "stream",
     "text": [
      "  0%|          | 133/1000000 [1:17:11<13666:42:00, 49.21s/it]"
     ]
    },
    {
     "name": "stdout",
     "output_type": "stream",
     "text": [
      "done for page no. 132 with len = 1000\n"
     ]
    },
    {
     "name": "stderr",
     "output_type": "stream",
     "text": [
      "  0%|          | 134/1000000 [1:20:45<27343:15:16, 98.45s/it]"
     ]
    },
    {
     "name": "stdout",
     "output_type": "stream",
     "text": [
      "done for page no. 133 with len = 1000\n"
     ]
    },
    {
     "name": "stderr",
     "output_type": "stream",
     "text": [
      "  0%|          | 135/1000000 [1:20:51<19672:00:27, 70.83s/it]"
     ]
    },
    {
     "name": "stdout",
     "output_type": "stream",
     "text": [
      "done for page no. 134 with len = 1000\n"
     ]
    },
    {
     "name": "stderr",
     "output_type": "stream",
     "text": [
      "  0%|          | 136/1000000 [1:21:00<14532:33:59, 52.32s/it]"
     ]
    },
    {
     "name": "stdout",
     "output_type": "stream",
     "text": [
      "done for page no. 135 with len = 1000\n"
     ]
    },
    {
     "name": "stderr",
     "output_type": "stream",
     "text": [
      "  0%|          | 137/1000000 [1:23:53<24567:21:25, 88.45s/it]"
     ]
    },
    {
     "name": "stdout",
     "output_type": "stream",
     "text": [
      "done for page no. 136 with len = 1000\n"
     ]
    },
    {
     "name": "stderr",
     "output_type": "stream",
     "text": [
      "  0%|          | 137/1000000 [1:46:43<12982:09:45, 46.74s/it]\n"
     ]
    },
    {
     "ename": "ChunkedEncodingError",
     "evalue": "(\"Connection broken: InvalidChunkLength(got length b'', 0 bytes read)\", InvalidChunkLength(got length b'', 0 bytes read))",
     "output_type": "error",
     "traceback": [
      "\u001B[0;31m---------------------------------------------------------------------------\u001B[0m",
      "\u001B[0;31mInvalidChunkLength\u001B[0m                        Traceback (most recent call last)",
      "File \u001B[0;32m/opt/anaconda3/lib/python3.11/site-packages/urllib3/response.py:710\u001B[0m, in \u001B[0;36mHTTPResponse._error_catcher\u001B[0;34m(self)\u001B[0m\n\u001B[1;32m    709\u001B[0m \u001B[38;5;28;01mtry\u001B[39;00m:\n\u001B[0;32m--> 710\u001B[0m     \u001B[38;5;28;01myield\u001B[39;00m\n\u001B[1;32m    712\u001B[0m \u001B[38;5;28;01mexcept\u001B[39;00m SocketTimeout \u001B[38;5;28;01mas\u001B[39;00m e:\n\u001B[1;32m    713\u001B[0m     \u001B[38;5;66;03m# FIXME: Ideally we'd like to include the url in the ReadTimeoutError but\u001B[39;00m\n\u001B[1;32m    714\u001B[0m     \u001B[38;5;66;03m# there is yet no clean way to get at it from this context.\u001B[39;00m\n",
      "File \u001B[0;32m/opt/anaconda3/lib/python3.11/site-packages/urllib3/response.py:1073\u001B[0m, in \u001B[0;36mHTTPResponse.read_chunked\u001B[0;34m(self, amt, decode_content)\u001B[0m\n\u001B[1;32m   1072\u001B[0m \u001B[38;5;28;01mwhile\u001B[39;00m \u001B[38;5;28;01mTrue\u001B[39;00m:\n\u001B[0;32m-> 1073\u001B[0m     \u001B[38;5;28mself\u001B[39m\u001B[38;5;241m.\u001B[39m_update_chunk_length()\n\u001B[1;32m   1074\u001B[0m     \u001B[38;5;28;01mif\u001B[39;00m \u001B[38;5;28mself\u001B[39m\u001B[38;5;241m.\u001B[39mchunk_left \u001B[38;5;241m==\u001B[39m \u001B[38;5;241m0\u001B[39m:\n",
      "File \u001B[0;32m/opt/anaconda3/lib/python3.11/site-packages/urllib3/response.py:1008\u001B[0m, in \u001B[0;36mHTTPResponse._update_chunk_length\u001B[0;34m(self)\u001B[0m\n\u001B[1;32m   1007\u001B[0m \u001B[38;5;28mself\u001B[39m\u001B[38;5;241m.\u001B[39mclose()\n\u001B[0;32m-> 1008\u001B[0m \u001B[38;5;28;01mraise\u001B[39;00m InvalidChunkLength(\u001B[38;5;28mself\u001B[39m, line) \u001B[38;5;28;01mfrom\u001B[39;00m \u001B[38;5;28;01mNone\u001B[39;00m\n",
      "\u001B[0;31mInvalidChunkLength\u001B[0m: InvalidChunkLength(got length b'', 0 bytes read)",
      "\nThe above exception was the direct cause of the following exception:\n",
      "\u001B[0;31mProtocolError\u001B[0m                             Traceback (most recent call last)",
      "File \u001B[0;32m/opt/anaconda3/lib/python3.11/site-packages/requests/models.py:816\u001B[0m, in \u001B[0;36mResponse.iter_content.<locals>.generate\u001B[0;34m()\u001B[0m\n\u001B[1;32m    815\u001B[0m \u001B[38;5;28;01mtry\u001B[39;00m:\n\u001B[0;32m--> 816\u001B[0m     \u001B[38;5;28;01myield from\u001B[39;00m \u001B[38;5;28mself\u001B[39m\u001B[38;5;241m.\u001B[39mraw\u001B[38;5;241m.\u001B[39mstream(chunk_size, decode_content\u001B[38;5;241m=\u001B[39m\u001B[38;5;28;01mTrue\u001B[39;00m)\n\u001B[1;32m    817\u001B[0m \u001B[38;5;28;01mexcept\u001B[39;00m ProtocolError \u001B[38;5;28;01mas\u001B[39;00m e:\n",
      "File \u001B[0;32m/opt/anaconda3/lib/python3.11/site-packages/urllib3/response.py:933\u001B[0m, in \u001B[0;36mHTTPResponse.stream\u001B[0;34m(self, amt, decode_content)\u001B[0m\n\u001B[1;32m    932\u001B[0m \u001B[38;5;28;01mif\u001B[39;00m \u001B[38;5;28mself\u001B[39m\u001B[38;5;241m.\u001B[39mchunked \u001B[38;5;129;01mand\u001B[39;00m \u001B[38;5;28mself\u001B[39m\u001B[38;5;241m.\u001B[39msupports_chunked_reads():\n\u001B[0;32m--> 933\u001B[0m     \u001B[38;5;28;01myield from\u001B[39;00m \u001B[38;5;28mself\u001B[39m\u001B[38;5;241m.\u001B[39mread_chunked(amt, decode_content\u001B[38;5;241m=\u001B[39mdecode_content)\n\u001B[1;32m    934\u001B[0m \u001B[38;5;28;01melse\u001B[39;00m:\n",
      "File \u001B[0;32m/opt/anaconda3/lib/python3.11/site-packages/urllib3/response.py:1061\u001B[0m, in \u001B[0;36mHTTPResponse.read_chunked\u001B[0;34m(self, amt, decode_content)\u001B[0m\n\u001B[1;32m   1056\u001B[0m     \u001B[38;5;28;01mraise\u001B[39;00m BodyNotHttplibCompatible(\n\u001B[1;32m   1057\u001B[0m         \u001B[38;5;124m\"\u001B[39m\u001B[38;5;124mBody should be http.client.HTTPResponse like. \u001B[39m\u001B[38;5;124m\"\u001B[39m\n\u001B[1;32m   1058\u001B[0m         \u001B[38;5;124m\"\u001B[39m\u001B[38;5;124mIt should have have an fp attribute which returns raw chunks.\u001B[39m\u001B[38;5;124m\"\u001B[39m\n\u001B[1;32m   1059\u001B[0m     )\n\u001B[0;32m-> 1061\u001B[0m \u001B[38;5;28;01mwith\u001B[39;00m \u001B[38;5;28mself\u001B[39m\u001B[38;5;241m.\u001B[39m_error_catcher():\n\u001B[1;32m   1062\u001B[0m     \u001B[38;5;66;03m# Don't bother reading the body of a HEAD request.\u001B[39;00m\n\u001B[1;32m   1063\u001B[0m     \u001B[38;5;28;01mif\u001B[39;00m \u001B[38;5;28mself\u001B[39m\u001B[38;5;241m.\u001B[39m_original_response \u001B[38;5;129;01mand\u001B[39;00m is_response_to_head(\u001B[38;5;28mself\u001B[39m\u001B[38;5;241m.\u001B[39m_original_response):\n",
      "File \u001B[0;32m/opt/anaconda3/lib/python3.11/contextlib.py:158\u001B[0m, in \u001B[0;36m_GeneratorContextManager.__exit__\u001B[0;34m(self, typ, value, traceback)\u001B[0m\n\u001B[1;32m    157\u001B[0m \u001B[38;5;28;01mtry\u001B[39;00m:\n\u001B[0;32m--> 158\u001B[0m     \u001B[38;5;28mself\u001B[39m\u001B[38;5;241m.\u001B[39mgen\u001B[38;5;241m.\u001B[39mthrow(typ, value, traceback)\n\u001B[1;32m    159\u001B[0m \u001B[38;5;28;01mexcept\u001B[39;00m \u001B[38;5;167;01mStopIteration\u001B[39;00m \u001B[38;5;28;01mas\u001B[39;00m exc:\n\u001B[1;32m    160\u001B[0m     \u001B[38;5;66;03m# Suppress StopIteration *unless* it's the same exception that\u001B[39;00m\n\u001B[1;32m    161\u001B[0m     \u001B[38;5;66;03m# was passed to throw().  This prevents a StopIteration\u001B[39;00m\n\u001B[1;32m    162\u001B[0m     \u001B[38;5;66;03m# raised inside the \"with\" statement from being suppressed.\u001B[39;00m\n",
      "File \u001B[0;32m/opt/anaconda3/lib/python3.11/site-packages/urllib3/response.py:727\u001B[0m, in \u001B[0;36mHTTPResponse._error_catcher\u001B[0;34m(self)\u001B[0m\n\u001B[1;32m    725\u001B[0m \u001B[38;5;28;01mexcept\u001B[39;00m (HTTPException, \u001B[38;5;167;01mOSError\u001B[39;00m) \u001B[38;5;28;01mas\u001B[39;00m e:\n\u001B[1;32m    726\u001B[0m     \u001B[38;5;66;03m# This includes IncompleteRead.\u001B[39;00m\n\u001B[0;32m--> 727\u001B[0m     \u001B[38;5;28;01mraise\u001B[39;00m ProtocolError(\u001B[38;5;124mf\u001B[39m\u001B[38;5;124m\"\u001B[39m\u001B[38;5;124mConnection broken: \u001B[39m\u001B[38;5;132;01m{\u001B[39;00me\u001B[38;5;132;01m!r}\u001B[39;00m\u001B[38;5;124m\"\u001B[39m, e) \u001B[38;5;28;01mfrom\u001B[39;00m \u001B[38;5;21;01me\u001B[39;00m\n\u001B[1;32m    729\u001B[0m \u001B[38;5;66;03m# If no exception is thrown, we should avoid cleaning up\u001B[39;00m\n\u001B[1;32m    730\u001B[0m \u001B[38;5;66;03m# unnecessarily.\u001B[39;00m\n",
      "\u001B[0;31mProtocolError\u001B[0m: (\"Connection broken: InvalidChunkLength(got length b'', 0 bytes read)\", InvalidChunkLength(got length b'', 0 bytes read))",
      "\nDuring handling of the above exception, another exception occurred:\n",
      "\u001B[0;31mChunkedEncodingError\u001B[0m                      Traceback (most recent call last)",
      "Cell \u001B[0;32mIn[98], line 7\u001B[0m\n\u001B[1;32m      5\u001B[0m \u001B[38;5;28;01mfor\u001B[39;00m page \u001B[38;5;129;01min\u001B[39;00m tqdm(\u001B[38;5;28mrange\u001B[39m(\u001B[38;5;241m1000000\u001B[39m)):\n\u001B[1;32m      6\u001B[0m     \u001B[38;5;28;01mtry\u001B[39;00m:\n\u001B[0;32m----> 7\u001B[0m         d \u001B[38;5;241m=\u001B[39m call_api({\n\u001B[1;32m      8\u001B[0m             \u001B[38;5;124m'\u001B[39m\u001B[38;5;124msearch\u001B[39m\u001B[38;5;124m'\u001B[39m:\n\u001B[1;32m      9\u001B[0m                 \u001B[38;5;124m\"\u001B[39m\u001B[38;5;124mreceivedate:([20170301 TO 20240330]) AND \u001B[39m\u001B[38;5;124m\"\u001B[39m\n\u001B[1;32m     10\u001B[0m                 \u001B[38;5;124m\"\u001B[39m\u001B[38;5;124mpatient.drug.openfda.generic_name: \u001B[39m\u001B[38;5;132;01m{}\u001B[39;00m\u001B[38;5;124m \u001B[39m\u001B[38;5;124m\"\u001B[39m\n\u001B[1;32m     11\u001B[0m                 \u001B[38;5;124m\"\u001B[39m\u001B[38;5;124m\"\u001B[39m\u001B[38;5;241m.\u001B[39mformat(\u001B[38;5;124m\"\u001B[39m\u001B[38;5;124mribociclib\u001B[39m\u001B[38;5;124m\"\u001B[39m),\n\u001B[1;32m     12\u001B[0m             \u001B[38;5;124m'\u001B[39m\u001B[38;5;124mlimit\u001B[39m\u001B[38;5;124m'\u001B[39m: \u001B[38;5;241m1000\u001B[39m,\n\u001B[1;32m     13\u001B[0m             \u001B[38;5;124m'\u001B[39m\u001B[38;5;124mskip\u001B[39m\u001B[38;5;124m'\u001B[39m: page\n\u001B[1;32m     14\u001B[0m         })\n\u001B[1;32m     15\u001B[0m     \u001B[38;5;28;01mexcept\u001B[39;00m:\n\u001B[1;32m     16\u001B[0m         \u001B[38;5;28;01mraise\u001B[39;00m\n",
      "File \u001B[0;32m/opt/anaconda3/lib/python3.11/site-packages/ratelimit/decorators.py:113\u001B[0m, in \u001B[0;36msleep_and_retry.<locals>.wrapper\u001B[0;34m(*args, **kargs)\u001B[0m\n\u001B[1;32m    111\u001B[0m \u001B[38;5;28;01mwhile\u001B[39;00m \u001B[38;5;28;01mTrue\u001B[39;00m:\n\u001B[1;32m    112\u001B[0m     \u001B[38;5;28;01mtry\u001B[39;00m:\n\u001B[0;32m--> 113\u001B[0m         \u001B[38;5;28;01mreturn\u001B[39;00m func(\u001B[38;5;241m*\u001B[39margs, \u001B[38;5;241m*\u001B[39m\u001B[38;5;241m*\u001B[39mkargs)\n\u001B[1;32m    114\u001B[0m     \u001B[38;5;28;01mexcept\u001B[39;00m RateLimitException \u001B[38;5;28;01mas\u001B[39;00m exception:\n\u001B[1;32m    115\u001B[0m         time\u001B[38;5;241m.\u001B[39msleep(exception\u001B[38;5;241m.\u001B[39mperiod_remaining)\n",
      "File \u001B[0;32m/opt/anaconda3/lib/python3.11/site-packages/ratelimit/decorators.py:80\u001B[0m, in \u001B[0;36mRateLimitDecorator.__call__.<locals>.wrapper\u001B[0;34m(*args, **kargs)\u001B[0m\n\u001B[1;32m     77\u001B[0m             \u001B[38;5;28;01mraise\u001B[39;00m RateLimitException(\u001B[38;5;124m'\u001B[39m\u001B[38;5;124mtoo many calls\u001B[39m\u001B[38;5;124m'\u001B[39m, period_remaining)\n\u001B[1;32m     78\u001B[0m         \u001B[38;5;28;01mreturn\u001B[39;00m\n\u001B[0;32m---> 80\u001B[0m \u001B[38;5;28;01mreturn\u001B[39;00m func(\u001B[38;5;241m*\u001B[39margs, \u001B[38;5;241m*\u001B[39m\u001B[38;5;241m*\u001B[39mkargs)\n",
      "Cell \u001B[0;32mIn[1], line 36\u001B[0m, in \u001B[0;36mcall_api\u001B[0;34m(params)\u001B[0m\n\u001B[1;32m     34\u001B[0m     params \u001B[38;5;241m=\u001B[39m {}\n\u001B[1;32m     35\u001B[0m params[\u001B[38;5;124m'\u001B[39m\u001B[38;5;124mlimit\u001B[39m\u001B[38;5;124m'\u001B[39m] \u001B[38;5;241m=\u001B[39m params\u001B[38;5;241m.\u001B[39mget(\u001B[38;5;124m'\u001B[39m\u001B[38;5;124mlimit\u001B[39m\u001B[38;5;124m'\u001B[39m, \u001B[38;5;241m1000\u001B[39m)\n\u001B[0;32m---> 36\u001B[0m response \u001B[38;5;241m=\u001B[39m requests\u001B[38;5;241m.\u001B[39mget(OPENFDA_API, params\u001B[38;5;241m=\u001B[39mparams)\n\u001B[1;32m     37\u001B[0m \u001B[38;5;66;03m# print(response.url)\u001B[39;00m\n\u001B[1;32m     39\u001B[0m \u001B[38;5;28;01mif\u001B[39;00m response\u001B[38;5;241m.\u001B[39mstatus_code \u001B[38;5;241m!=\u001B[39m \u001B[38;5;241m200\u001B[39m:\n",
      "File \u001B[0;32m/opt/anaconda3/lib/python3.11/site-packages/requests/api.py:73\u001B[0m, in \u001B[0;36mget\u001B[0;34m(url, params, **kwargs)\u001B[0m\n\u001B[1;32m     62\u001B[0m \u001B[38;5;28;01mdef\u001B[39;00m \u001B[38;5;21mget\u001B[39m(url, params\u001B[38;5;241m=\u001B[39m\u001B[38;5;28;01mNone\u001B[39;00m, \u001B[38;5;241m*\u001B[39m\u001B[38;5;241m*\u001B[39mkwargs):\n\u001B[1;32m     63\u001B[0m \u001B[38;5;250m    \u001B[39m\u001B[38;5;124mr\u001B[39m\u001B[38;5;124;03m\"\"\"Sends a GET request.\u001B[39;00m\n\u001B[1;32m     64\u001B[0m \n\u001B[1;32m     65\u001B[0m \u001B[38;5;124;03m    :param url: URL for the new :class:`Request` object.\u001B[39;00m\n\u001B[0;32m   (...)\u001B[0m\n\u001B[1;32m     70\u001B[0m \u001B[38;5;124;03m    :rtype: requests.Response\u001B[39;00m\n\u001B[1;32m     71\u001B[0m \u001B[38;5;124;03m    \"\"\"\u001B[39;00m\n\u001B[0;32m---> 73\u001B[0m     \u001B[38;5;28;01mreturn\u001B[39;00m request(\u001B[38;5;124m\"\u001B[39m\u001B[38;5;124mget\u001B[39m\u001B[38;5;124m\"\u001B[39m, url, params\u001B[38;5;241m=\u001B[39mparams, \u001B[38;5;241m*\u001B[39m\u001B[38;5;241m*\u001B[39mkwargs)\n",
      "File \u001B[0;32m/opt/anaconda3/lib/python3.11/site-packages/requests/api.py:59\u001B[0m, in \u001B[0;36mrequest\u001B[0;34m(method, url, **kwargs)\u001B[0m\n\u001B[1;32m     55\u001B[0m \u001B[38;5;66;03m# By using the 'with' statement we are sure the session is closed, thus we\u001B[39;00m\n\u001B[1;32m     56\u001B[0m \u001B[38;5;66;03m# avoid leaving sockets open which can trigger a ResourceWarning in some\u001B[39;00m\n\u001B[1;32m     57\u001B[0m \u001B[38;5;66;03m# cases, and look like a memory leak in others.\u001B[39;00m\n\u001B[1;32m     58\u001B[0m \u001B[38;5;28;01mwith\u001B[39;00m sessions\u001B[38;5;241m.\u001B[39mSession() \u001B[38;5;28;01mas\u001B[39;00m session:\n\u001B[0;32m---> 59\u001B[0m     \u001B[38;5;28;01mreturn\u001B[39;00m session\u001B[38;5;241m.\u001B[39mrequest(method\u001B[38;5;241m=\u001B[39mmethod, url\u001B[38;5;241m=\u001B[39murl, \u001B[38;5;241m*\u001B[39m\u001B[38;5;241m*\u001B[39mkwargs)\n",
      "File \u001B[0;32m/opt/anaconda3/lib/python3.11/site-packages/requests_cache/session.py:183\u001B[0m, in \u001B[0;36mCacheMixin.request\u001B[0;34m(self, method, url, headers, expire_after, only_if_cached, refresh, force_refresh, *args, **kwargs)\u001B[0m\n\u001B[1;32m    181\u001B[0m headers \u001B[38;5;241m=\u001B[39m set_request_headers(headers, expire_after, only_if_cached, refresh, force_refresh)\n\u001B[1;32m    182\u001B[0m \u001B[38;5;28;01mwith\u001B[39;00m patch_form_boundary() \u001B[38;5;28;01mif\u001B[39;00m kwargs\u001B[38;5;241m.\u001B[39mget(\u001B[38;5;124m'\u001B[39m\u001B[38;5;124mfiles\u001B[39m\u001B[38;5;124m'\u001B[39m) \u001B[38;5;28;01melse\u001B[39;00m nullcontext():\n\u001B[0;32m--> 183\u001B[0m     \u001B[38;5;28;01mreturn\u001B[39;00m \u001B[38;5;28msuper\u001B[39m()\u001B[38;5;241m.\u001B[39mrequest(method, url, \u001B[38;5;241m*\u001B[39margs, headers\u001B[38;5;241m=\u001B[39mheaders, \u001B[38;5;241m*\u001B[39m\u001B[38;5;241m*\u001B[39mkwargs)\n",
      "File \u001B[0;32m/opt/anaconda3/lib/python3.11/site-packages/requests/sessions.py:589\u001B[0m, in \u001B[0;36mSession.request\u001B[0;34m(self, method, url, params, data, headers, cookies, files, auth, timeout, allow_redirects, proxies, hooks, stream, verify, cert, json)\u001B[0m\n\u001B[1;32m    584\u001B[0m send_kwargs \u001B[38;5;241m=\u001B[39m {\n\u001B[1;32m    585\u001B[0m     \u001B[38;5;124m\"\u001B[39m\u001B[38;5;124mtimeout\u001B[39m\u001B[38;5;124m\"\u001B[39m: timeout,\n\u001B[1;32m    586\u001B[0m     \u001B[38;5;124m\"\u001B[39m\u001B[38;5;124mallow_redirects\u001B[39m\u001B[38;5;124m\"\u001B[39m: allow_redirects,\n\u001B[1;32m    587\u001B[0m }\n\u001B[1;32m    588\u001B[0m send_kwargs\u001B[38;5;241m.\u001B[39mupdate(settings)\n\u001B[0;32m--> 589\u001B[0m resp \u001B[38;5;241m=\u001B[39m \u001B[38;5;28mself\u001B[39m\u001B[38;5;241m.\u001B[39msend(prep, \u001B[38;5;241m*\u001B[39m\u001B[38;5;241m*\u001B[39msend_kwargs)\n\u001B[1;32m    591\u001B[0m \u001B[38;5;28;01mreturn\u001B[39;00m resp\n",
      "File \u001B[0;32m/opt/anaconda3/lib/python3.11/site-packages/requests_cache/session.py:230\u001B[0m, in \u001B[0;36mCacheMixin.send\u001B[0;34m(self, request, expire_after, only_if_cached, refresh, force_refresh, **kwargs)\u001B[0m\n\u001B[1;32m    228\u001B[0m     response \u001B[38;5;241m=\u001B[39m \u001B[38;5;28mself\u001B[39m\u001B[38;5;241m.\u001B[39m_resend(request, actions, cached_response, \u001B[38;5;241m*\u001B[39m\u001B[38;5;241m*\u001B[39mkwargs)  \u001B[38;5;66;03m# type: ignore\u001B[39;00m\n\u001B[1;32m    229\u001B[0m \u001B[38;5;28;01melif\u001B[39;00m actions\u001B[38;5;241m.\u001B[39msend_request:\n\u001B[0;32m--> 230\u001B[0m     response \u001B[38;5;241m=\u001B[39m \u001B[38;5;28mself\u001B[39m\u001B[38;5;241m.\u001B[39m_send_and_cache(request, actions, cached_response, \u001B[38;5;241m*\u001B[39m\u001B[38;5;241m*\u001B[39mkwargs)\n\u001B[1;32m    231\u001B[0m \u001B[38;5;28;01melse\u001B[39;00m:\n\u001B[1;32m    232\u001B[0m     response \u001B[38;5;241m=\u001B[39m cached_response  \u001B[38;5;66;03m# type: ignore  # Guaranteed to be non-None by this point\u001B[39;00m\n",
      "File \u001B[0;32m/opt/anaconda3/lib/python3.11/site-packages/requests_cache/session.py:254\u001B[0m, in \u001B[0;36mCacheMixin._send_and_cache\u001B[0;34m(self, request, actions, cached_response, **kwargs)\u001B[0m\n\u001B[1;32m    250\u001B[0m \u001B[38;5;250m\u001B[39m\u001B[38;5;124;03m\"\"\"Send a request and cache the response, unless disabled by settings or headers.\u001B[39;00m\n\u001B[1;32m    251\u001B[0m \u001B[38;5;124;03mIf applicable, also handle conditional requests.\u001B[39;00m\n\u001B[1;32m    252\u001B[0m \u001B[38;5;124;03m\"\"\"\u001B[39;00m\n\u001B[1;32m    253\u001B[0m request \u001B[38;5;241m=\u001B[39m actions\u001B[38;5;241m.\u001B[39mupdate_request(request)\n\u001B[0;32m--> 254\u001B[0m response \u001B[38;5;241m=\u001B[39m \u001B[38;5;28msuper\u001B[39m()\u001B[38;5;241m.\u001B[39msend(request, \u001B[38;5;241m*\u001B[39m\u001B[38;5;241m*\u001B[39mkwargs)\n\u001B[1;32m    255\u001B[0m actions\u001B[38;5;241m.\u001B[39mupdate_from_response(response)\n\u001B[1;32m    257\u001B[0m \u001B[38;5;28;01mif\u001B[39;00m \u001B[38;5;129;01mnot\u001B[39;00m actions\u001B[38;5;241m.\u001B[39mskip_write:\n",
      "File \u001B[0;32m/opt/anaconda3/lib/python3.11/site-packages/requests/sessions.py:747\u001B[0m, in \u001B[0;36mSession.send\u001B[0;34m(self, request, **kwargs)\u001B[0m\n\u001B[1;32m    744\u001B[0m         \u001B[38;5;28;01mpass\u001B[39;00m\n\u001B[1;32m    746\u001B[0m \u001B[38;5;28;01mif\u001B[39;00m \u001B[38;5;129;01mnot\u001B[39;00m stream:\n\u001B[0;32m--> 747\u001B[0m     r\u001B[38;5;241m.\u001B[39mcontent\n\u001B[1;32m    749\u001B[0m \u001B[38;5;28;01mreturn\u001B[39;00m r\n",
      "File \u001B[0;32m/opt/anaconda3/lib/python3.11/site-packages/requests/models.py:899\u001B[0m, in \u001B[0;36mResponse.content\u001B[0;34m(self)\u001B[0m\n\u001B[1;32m    897\u001B[0m         \u001B[38;5;28mself\u001B[39m\u001B[38;5;241m.\u001B[39m_content \u001B[38;5;241m=\u001B[39m \u001B[38;5;28;01mNone\u001B[39;00m\n\u001B[1;32m    898\u001B[0m     \u001B[38;5;28;01melse\u001B[39;00m:\n\u001B[0;32m--> 899\u001B[0m         \u001B[38;5;28mself\u001B[39m\u001B[38;5;241m.\u001B[39m_content \u001B[38;5;241m=\u001B[39m \u001B[38;5;124mb\u001B[39m\u001B[38;5;124m\"\u001B[39m\u001B[38;5;124m\"\u001B[39m\u001B[38;5;241m.\u001B[39mjoin(\u001B[38;5;28mself\u001B[39m\u001B[38;5;241m.\u001B[39miter_content(CONTENT_CHUNK_SIZE)) \u001B[38;5;129;01mor\u001B[39;00m \u001B[38;5;124mb\u001B[39m\u001B[38;5;124m\"\u001B[39m\u001B[38;5;124m\"\u001B[39m\n\u001B[1;32m    901\u001B[0m \u001B[38;5;28mself\u001B[39m\u001B[38;5;241m.\u001B[39m_content_consumed \u001B[38;5;241m=\u001B[39m \u001B[38;5;28;01mTrue\u001B[39;00m\n\u001B[1;32m    902\u001B[0m \u001B[38;5;66;03m# don't need to release the connection; that's been handled by urllib3\u001B[39;00m\n\u001B[1;32m    903\u001B[0m \u001B[38;5;66;03m# since we exhausted the data.\u001B[39;00m\n",
      "File \u001B[0;32m/opt/anaconda3/lib/python3.11/site-packages/requests/models.py:818\u001B[0m, in \u001B[0;36mResponse.iter_content.<locals>.generate\u001B[0;34m()\u001B[0m\n\u001B[1;32m    816\u001B[0m     \u001B[38;5;28;01myield from\u001B[39;00m \u001B[38;5;28mself\u001B[39m\u001B[38;5;241m.\u001B[39mraw\u001B[38;5;241m.\u001B[39mstream(chunk_size, decode_content\u001B[38;5;241m=\u001B[39m\u001B[38;5;28;01mTrue\u001B[39;00m)\n\u001B[1;32m    817\u001B[0m \u001B[38;5;28;01mexcept\u001B[39;00m ProtocolError \u001B[38;5;28;01mas\u001B[39;00m e:\n\u001B[0;32m--> 818\u001B[0m     \u001B[38;5;28;01mraise\u001B[39;00m ChunkedEncodingError(e)\n\u001B[1;32m    819\u001B[0m \u001B[38;5;28;01mexcept\u001B[39;00m DecodeError \u001B[38;5;28;01mas\u001B[39;00m e:\n\u001B[1;32m    820\u001B[0m     \u001B[38;5;28;01mraise\u001B[39;00m ContentDecodingError(e)\n",
      "\u001B[0;31mChunkedEncodingError\u001B[0m: (\"Connection broken: InvalidChunkLength(got length b'', 0 bytes read)\", InvalidChunkLength(got length b'', 0 bytes read))"
     ]
    }
   ],
   "execution_count": 98
  },
  {
   "cell_type": "code",
   "id": "8f3d8ec9-e8d5-4caf-b630-7d453816d52a",
   "metadata": {},
   "source": [
    "!pip install jsondiff\n",
    "import jsondiff\n",
    "jsondiff.diff(sr_list[8],sr_list[4],syntax='symmetric')"
   ],
   "outputs": [],
   "execution_count": null
  },
  {
   "cell_type": "code",
   "id": "99d1e4a1-db6d-4e8d-a1eb-4e4bff47ae58",
   "metadata": {
    "ExecuteTime": {
     "end_time": "2024-07-14T02:18:47.402184Z",
     "start_time": "2024-07-14T02:18:38.591859Z"
    }
   },
   "source": "sr_list = [ x for x in adr if x['safetyreportid'] == '13476514' ]",
   "outputs": [],
   "execution_count": 99
  },
  {
   "metadata": {
    "ExecuteTime": {
     "end_time": "2024-07-14T02:18:56.055754Z",
     "start_time": "2024-07-14T02:18:55.989644Z"
    }
   },
   "cell_type": "code",
   "source": "len(sr_list)",
   "id": "385305ce6f501b6f",
   "outputs": [
    {
     "data": {
      "text/plain": [
       "12"
      ]
     },
     "execution_count": 100,
     "metadata": {},
     "output_type": "execute_result"
    }
   ],
   "execution_count": 100
  },
  {
   "cell_type": "code",
   "id": "d47230e7-90f6-4eeb-ac08-59d84931f6d5",
   "metadata": {
    "ExecuteTime": {
     "end_time": "2024-07-13T22:50:56.606791Z",
     "start_time": "2024-07-13T22:50:56.577096Z"
    }
   },
   "source": [
    "import json\n",
    "\n",
    "\n"
   ],
   "outputs": [],
   "execution_count": 49
  },
  {
   "cell_type": "code",
   "id": "fba972f5-a903-42b8-8e72-5861c0125a4f",
   "metadata": {},
   "source": "",
   "outputs": [],
   "execution_count": null
  },
  {
   "cell_type": "code",
   "id": "d65a8e03-68fa-4bbf-bffd-df0d0cb2f4ce",
   "metadata": {
    "ExecuteTime": {
     "end_time": "2024-07-14T02:19:03.403800Z",
     "start_time": "2024-07-14T02:19:03.381545Z"
    }
   },
   "source": [
    "sr_list[0] == sr_list[1] "
   ],
   "outputs": [
    {
     "data": {
      "text/plain": [
       "True"
      ]
     },
     "execution_count": 101,
     "metadata": {},
     "output_type": "execute_result"
    }
   ],
   "execution_count": 101
  },
  {
   "cell_type": "code",
   "id": "5ecc04b9-b571-4ef7-9b64-423fdb76485a",
   "metadata": {},
   "source": [
    "sr_list = [ x for x in uniq_list if x['safetyreportid'] == '13324685' ]"
   ],
   "outputs": [],
   "execution_count": null
  },
  {
   "cell_type": "code",
   "id": "c19e855c-f830-4ad3-b01c-42ae58445252",
   "metadata": {},
   "source": [
    "jsondiff.diff(sr_list[0],sr_list[1],syntax='symmetric')"
   ],
   "outputs": [],
   "execution_count": null
  },
  {
   "cell_type": "markdown",
   "id": "7c292159-a0ce-42b4-9eb7-72d90cbfbbef",
   "metadata": {},
   "source": [
    "## openFDA 数据请求结果保存"
   ]
  },
  {
   "cell_type": "code",
   "id": "81590631-8c55-42bb-b736-7478ee7af7c4",
   "metadata": {},
   "source": [
    "import pickle\n",
    "#with open('rib.pickle','wb') as outfile:\n",
    "#    pickle.dump(adr, outfile)\n",
    "\n",
    "with open('rib.pickle','rb') as infile:\n",
    "    adr = pickle.load(infile)\n",
    "\n"
   ],
   "outputs": [],
   "execution_count": null
  },
  {
   "metadata": {
    "ExecuteTime": {
     "end_time": "2024-07-14T02:19:52.908276Z",
     "start_time": "2024-07-14T02:19:15.522650Z"
    }
   },
   "cell_type": "code",
   "source": "unique_list_str, unique_list_json = remove_duplicates(adr)",
   "id": "d9dcbeb8eeb6745d",
   "outputs": [
    {
     "name": "stdout",
     "output_type": "stream",
     "text": [
      "1136, type <class 'list'>\n"
     ]
    }
   ],
   "execution_count": 102
  },
  {
   "metadata": {
    "ExecuteTime": {
     "end_time": "2024-07-14T02:21:07.417449Z",
     "start_time": "2024-07-14T02:21:07.408683Z"
    }
   },
   "cell_type": "code",
   "source": "print(\"got result len {}, after unique {}, type {}\".format(len(adr), len(unique_list_str), type(unique_list_json)))\n",
   "id": "d22bc327882c6f64",
   "outputs": [
    {
     "name": "stdout",
     "output_type": "stream",
     "text": [
      "got result len 137000, after unique 1136, type <class 'list'>\n"
     ]
    }
   ],
   "execution_count": 104
  },
  {
   "metadata": {
    "ExecuteTime": {
     "end_time": "2024-07-13T22:52:15.398821Z",
     "start_time": "2024-07-13T22:52:15.336104Z"
    }
   },
   "cell_type": "code",
   "source": "unique_list_json[1]",
   "id": "5185de5b4c554cf6",
   "outputs": [
    {
     "data": {
      "text/plain": [
       "{'safetyreportversion': '2',\n",
       " 'safetyreportid': '13324685',\n",
       " 'primarysourcecountry': 'US',\n",
       " 'occurcountry': 'US',\n",
       " 'transmissiondateformat': '102',\n",
       " 'transmissiondate': '20170830',\n",
       " 'reporttype': '2',\n",
       " 'serious': '1',\n",
       " 'seriousnesshospitalization': '1',\n",
       " 'receivedateformat': '102',\n",
       " 'receivedate': '20170310',\n",
       " 'receiptdateformat': '102',\n",
       " 'receiptdate': '20170613',\n",
       " 'fulfillexpeditecriteria': '1',\n",
       " 'companynumb': 'PHHO2017US004561',\n",
       " 'duplicate': '1',\n",
       " 'reportduplicate': {'duplicatesource': 'SANDOZ',\n",
       "  'duplicatenumb': 'PHHO2017US004561'},\n",
       " 'primarysource': {'reportercountry': 'US', 'qualification': '3'},\n",
       " 'sender': {'sendertype': '2', 'senderorganization': 'FDA-Public Use'},\n",
       " 'receiver': {'receivertype': '6', 'receiverorganization': 'FDA'},\n",
       " 'patient': {'patientonsetage': '65',\n",
       "  'patientonsetageunit': '801',\n",
       "  'patientweight': '100',\n",
       "  'patientsex': '2',\n",
       "  'reaction': [{'reactionmeddraversionpt': '20.0',\n",
       "    'reactionmeddrapt': 'Diverticulitis',\n",
       "    'reactionoutcome': '3'},\n",
       "   {'reactionmeddraversionpt': '20.0',\n",
       "    'reactionmeddrapt': 'Abscess',\n",
       "    'reactionoutcome': '3'}],\n",
       "  'drug': [{'drugcharacterization': '1',\n",
       "    'medicinalproduct': 'CGS 20267',\n",
       "    'drugstructuredosagenumb': '3',\n",
       "    'drugstructuredosageunit': '003',\n",
       "    'drugseparatedosagenumb': '1',\n",
       "    'drugintervaldosageunitnumb': '1',\n",
       "    'drugintervaldosagedefinition': '804',\n",
       "    'drugdosagetext': '2.5 MG, QD',\n",
       "    'drugdosageform': 'TABLET',\n",
       "    'drugadministrationroute': '048',\n",
       "    'drugindication': 'BREAST CANCER',\n",
       "    'drugstartdateformat': '102',\n",
       "    'drugstartdate': '20161207',\n",
       "    'actiondrug': '4',\n",
       "    'activesubstance': {'activesubstancename': 'LETROZOLE'}},\n",
       "   {'drugcharacterization': '1',\n",
       "    'medicinalproduct': 'LOPERAMIDE',\n",
       "    'drugauthorizationnumb': '72993',\n",
       "    'drugstructuredosagenumb': '4',\n",
       "    'drugstructuredosageunit': '003',\n",
       "    'drugcumulativedosagenumb': '4',\n",
       "    'drugcumulativedosageunit': '003',\n",
       "    'drugdosagetext': '4 MG, PRN',\n",
       "    'drugadministrationroute': '048',\n",
       "    'drugindication': 'DIARRHOEA',\n",
       "    'drugstartdateformat': '102',\n",
       "    'drugstartdate': '20170217',\n",
       "    'drugenddateformat': '102',\n",
       "    'drugenddate': '20170217',\n",
       "    'actiondrug': '1',\n",
       "    'drugrecurreadministration': '3',\n",
       "    'drugadditional': '2',\n",
       "    'activesubstance': {'activesubstancename': 'LOPERAMIDE'}},\n",
       "   {'drugcharacterization': '1',\n",
       "    'medicinalproduct': 'IMODIUM',\n",
       "    'drugstructuredosagenumb': '4',\n",
       "    'drugstructuredosageunit': '003',\n",
       "    'drugdosagetext': '4 MG, PRN',\n",
       "    'drugadministrationroute': '048',\n",
       "    'drugindication': 'DIARRHOEA',\n",
       "    'drugstartdateformat': '102',\n",
       "    'drugstartdate': '20170217',\n",
       "    'drugenddateformat': '102',\n",
       "    'drugenddate': '20170217',\n",
       "    'actiondrug': '1',\n",
       "    'drugrecurreadministration': '3',\n",
       "    'drugadditional': '2',\n",
       "    'activesubstance': {'activesubstancename': 'LOPERAMIDE HYDROCHLORIDE'},\n",
       "    'openfda': {'application_number': ['ANDA075232', 'NDA019487', 'NDA021140'],\n",
       "     'brand_name': ['IMODIUM A-D', 'IMODIUM MULTI-SYMPTOM RELIEF'],\n",
       "     'generic_name': ['LOPERAMIDE HYDROCHLORIDE',\n",
       "      'LOPERAMIDE HYDROCHLORIDE AND DIMETHICONE'],\n",
       "     'manufacturer_name': ['Johnson & Johnson Consumer Inc.'],\n",
       "     'product_ndc': ['50580-317', '50580-134', '50580-338'],\n",
       "     'product_type': ['HUMAN OTC DRUG'],\n",
       "     'route': ['ORAL'],\n",
       "     'substance_name': ['LOPERAMIDE HYDROCHLORIDE', 'DIMETHICONE'],\n",
       "     'rxcui': ['978010', '978013', '1250685', '1250693', '978001', '1426827'],\n",
       "     'spl_id': ['1631d76d-cc52-44cb-e063-6394a90acd07',\n",
       "      'f7555a4a-ab6c-65bc-e053-6394a90a483f',\n",
       "      '18136eaf-1bd8-f421-e063-6394a90a2e20'],\n",
       "     'spl_set_id': ['01da76d0-1979-4c45-9d39-c72ae4e4ffe2',\n",
       "      '76a976d5-8bee-4158-a94d-7fbfc5544fd4',\n",
       "      'ecb91e47-2b0c-47c8-9256-4623d8bc825e'],\n",
       "     'package_ndc': ['50580-317-01',\n",
       "      '50580-317-03',\n",
       "      '50580-317-04',\n",
       "      '50580-317-05',\n",
       "      '50580-317-06',\n",
       "      '50580-317-12',\n",
       "      '50580-134-04',\n",
       "      '50580-134-44',\n",
       "      '50580-134-08',\n",
       "      '50580-338-12',\n",
       "      '50580-338-18',\n",
       "      '50580-338-42',\n",
       "      '50580-338-30',\n",
       "      '50580-338-60',\n",
       "      '50580-338-61',\n",
       "      '50580-338-64'],\n",
       "     'unii': ['77TI35393C', '92RU3N3Y1O'],\n",
       "     'nui': ['N0000010282'],\n",
       "     'pharm_class_pe': ['Skin Barrier Activity [PE]']}},\n",
       "   {'drugcharacterization': '1',\n",
       "    'medicinalproduct': 'KISQALI',\n",
       "    'drugstructuredosagenumb': '600',\n",
       "    'drugstructuredosageunit': '003',\n",
       "    'drugseparatedosagenumb': '1',\n",
       "    'drugintervaldosageunitnumb': '1',\n",
       "    'drugintervaldosagedefinition': '804',\n",
       "    'drugcumulativedosagenumb': '46200',\n",
       "    'drugcumulativedosageunit': '003',\n",
       "    'drugdosagetext': '600 MG, QD',\n",
       "    'drugdosageform': 'TABLET',\n",
       "    'drugadministrationroute': '048',\n",
       "    'drugindication': 'BREAST CANCER',\n",
       "    'drugstartdateformat': '102',\n",
       "    'drugstartdate': '20161207',\n",
       "    'drugenddateformat': '102',\n",
       "    'drugenddate': '20170221',\n",
       "    'actiondrug': '5',\n",
       "    'drugrecurreadministration': '3',\n",
       "    'drugadditional': '3',\n",
       "    'activesubstance': {'activesubstancename': 'RIBOCICLIB'},\n",
       "    'openfda': {'application_number': ['NDA209092'],\n",
       "     'brand_name': ['KISQALI'],\n",
       "     'generic_name': ['RIBOCICLIB'],\n",
       "     'manufacturer_name': ['Novartis Pharmaceuticals Corporation'],\n",
       "     'product_ndc': ['0078-0860', '0078-0867', '0078-0874'],\n",
       "     'product_type': ['HUMAN PRESCRIPTION DRUG'],\n",
       "     'route': ['ORAL'],\n",
       "     'substance_name': ['RIBOCICLIB SUCCINATE'],\n",
       "     'spl_id': ['91a83b5a-c64a-4248-9566-c7025f12d97c'],\n",
       "     'spl_set_id': ['aaeaef94-f3f5-4367-8ea2-b181d7be2da8'],\n",
       "     'package_ndc': ['0078-0860-01',\n",
       "      '0078-0867-14',\n",
       "      '0078-0867-42',\n",
       "      '0078-0874-21',\n",
       "      '0078-0874-63'],\n",
       "     'unii': ['BG7HLX2919']}}],\n",
       "  'summary': {'narrativeincludeclinical': 'CASE EVENT DATE: 20170225'}}}"
      ]
     },
     "execution_count": 52,
     "metadata": {},
     "output_type": "execute_result"
    }
   ],
   "execution_count": 52
  },
  {
   "metadata": {
    "ExecuteTime": {
     "end_time": "2024-07-13T23:05:14.551563Z",
     "start_time": "2024-07-13T23:05:14.524171Z"
    }
   },
   "cell_type": "code",
   "source": [
    "sr_list = [ x['safetyreportid'] + x['safetyreportversion']  for x in adr ]\n",
    "df = pd.DataFrame(sr_list)\n",
    "\n"
   ],
   "id": "5c2231ae6cc403a3",
   "outputs": [],
   "execution_count": 77
  },
  {
   "metadata": {},
   "cell_type": "code",
   "outputs": [],
   "execution_count": null,
   "source": "",
   "id": "9002c44f9e843185"
  },
  {
   "metadata": {
    "ExecuteTime": {
     "end_time": "2024-07-13T23:05:18.110778Z",
     "start_time": "2024-07-13T23:05:18.089064Z"
    }
   },
   "cell_type": "code",
   "source": [
    "df.columns = ['id']\n",
    "df.groupby(['id']).sum().reset_index()"
   ],
   "id": "c35865d4a47f58ce",
   "outputs": [
    {
     "data": {
      "text/plain": [
       "             id\n",
       "0     133240142\n",
       "1     133246852\n",
       "2     133624611\n",
       "3     134177085\n",
       "4     134232612\n",
       "...         ...\n",
       "1024  149972001\n",
       "1025  149974071\n",
       "1026  149975811\n",
       "1027  149992981\n",
       "1028  150003121\n",
       "\n",
       "[1029 rows x 1 columns]"
      ],
      "text/html": [
       "<div>\n",
       "<style scoped>\n",
       "    .dataframe tbody tr th:only-of-type {\n",
       "        vertical-align: middle;\n",
       "    }\n",
       "\n",
       "    .dataframe tbody tr th {\n",
       "        vertical-align: top;\n",
       "    }\n",
       "\n",
       "    .dataframe thead th {\n",
       "        text-align: right;\n",
       "    }\n",
       "</style>\n",
       "<table border=\"1\" class=\"dataframe\">\n",
       "  <thead>\n",
       "    <tr style=\"text-align: right;\">\n",
       "      <th></th>\n",
       "      <th>id</th>\n",
       "    </tr>\n",
       "  </thead>\n",
       "  <tbody>\n",
       "    <tr>\n",
       "      <th>0</th>\n",
       "      <td>133240142</td>\n",
       "    </tr>\n",
       "    <tr>\n",
       "      <th>1</th>\n",
       "      <td>133246852</td>\n",
       "    </tr>\n",
       "    <tr>\n",
       "      <th>2</th>\n",
       "      <td>133624611</td>\n",
       "    </tr>\n",
       "    <tr>\n",
       "      <th>3</th>\n",
       "      <td>134177085</td>\n",
       "    </tr>\n",
       "    <tr>\n",
       "      <th>4</th>\n",
       "      <td>134232612</td>\n",
       "    </tr>\n",
       "    <tr>\n",
       "      <th>...</th>\n",
       "      <td>...</td>\n",
       "    </tr>\n",
       "    <tr>\n",
       "      <th>1024</th>\n",
       "      <td>149972001</td>\n",
       "    </tr>\n",
       "    <tr>\n",
       "      <th>1025</th>\n",
       "      <td>149974071</td>\n",
       "    </tr>\n",
       "    <tr>\n",
       "      <th>1026</th>\n",
       "      <td>149975811</td>\n",
       "    </tr>\n",
       "    <tr>\n",
       "      <th>1027</th>\n",
       "      <td>149992981</td>\n",
       "    </tr>\n",
       "    <tr>\n",
       "      <th>1028</th>\n",
       "      <td>150003121</td>\n",
       "    </tr>\n",
       "  </tbody>\n",
       "</table>\n",
       "<p>1029 rows × 1 columns</p>\n",
       "</div>"
      ]
     },
     "execution_count": 78,
     "metadata": {},
     "output_type": "execute_result"
    }
   ],
   "execution_count": 78
  },
  {
   "metadata": {
    "ExecuteTime": {
     "end_time": "2024-07-13T23:05:36.530260Z",
     "start_time": "2024-07-13T23:05:36.469574Z"
    }
   },
   "cell_type": "code",
   "source": [
    "sr_list = [ x['safetyreportid']  for x in adr ]\n",
    "df = pd.DataFrame(sr_list)\n",
    "df.describe()"
   ],
   "id": "ee415932929b7340",
   "outputs": [
    {
     "data": {
      "text/plain": [
       "               0\n",
       "count      30000\n",
       "unique      1029\n",
       "top     14338555\n",
       "freq          30"
      ],
      "text/html": [
       "<div>\n",
       "<style scoped>\n",
       "    .dataframe tbody tr th:only-of-type {\n",
       "        vertical-align: middle;\n",
       "    }\n",
       "\n",
       "    .dataframe tbody tr th {\n",
       "        vertical-align: top;\n",
       "    }\n",
       "\n",
       "    .dataframe thead th {\n",
       "        text-align: right;\n",
       "    }\n",
       "</style>\n",
       "<table border=\"1\" class=\"dataframe\">\n",
       "  <thead>\n",
       "    <tr style=\"text-align: right;\">\n",
       "      <th></th>\n",
       "      <th>0</th>\n",
       "    </tr>\n",
       "  </thead>\n",
       "  <tbody>\n",
       "    <tr>\n",
       "      <th>count</th>\n",
       "      <td>30000</td>\n",
       "    </tr>\n",
       "    <tr>\n",
       "      <th>unique</th>\n",
       "      <td>1029</td>\n",
       "    </tr>\n",
       "    <tr>\n",
       "      <th>top</th>\n",
       "      <td>14338555</td>\n",
       "    </tr>\n",
       "    <tr>\n",
       "      <th>freq</th>\n",
       "      <td>30</td>\n",
       "    </tr>\n",
       "  </tbody>\n",
       "</table>\n",
       "</div>"
      ]
     },
     "execution_count": 79,
     "metadata": {},
     "output_type": "execute_result"
    }
   ],
   "execution_count": 79
  },
  {
   "metadata": {
    "ExecuteTime": {
     "end_time": "2024-07-14T17:13:45.171088Z",
     "start_time": "2024-07-14T17:13:40.867694Z"
    }
   },
   "cell_type": "code",
   "source": [
    "sr_list = [ x for x in adr if x['safetyreportid'] == '21925314' ]\n",
    "len(sr_list)\n"
   ],
   "id": "4b48690141455ad2",
   "outputs": [
    {
     "data": {
      "text/plain": [
       "0"
      ]
     },
     "execution_count": 107,
     "metadata": {},
     "output_type": "execute_result"
    }
   ],
   "execution_count": 107
  },
  {
   "metadata": {
    "ExecuteTime": {
     "end_time": "2024-07-13T23:06:13.378055Z",
     "start_time": "2024-07-13T23:06:13.370263Z"
    }
   },
   "cell_type": "code",
   "source": "len(adr)",
   "id": "387e1637656fffbb",
   "outputs": [
    {
     "data": {
      "text/plain": [
       "30000"
      ]
     },
     "execution_count": 81,
     "metadata": {},
     "output_type": "execute_result"
    }
   ],
   "execution_count": 81
  },
  {
   "metadata": {
    "ExecuteTime": {
     "end_time": "2024-07-13T23:07:31.191669Z",
     "start_time": "2024-07-13T23:07:31.175410Z"
    }
   },
   "cell_type": "code",
   "source": [
    "a=[ x for x in adr if x['safetyreportid'] == '13674367' ]\n",
    "len(a)\n"
   ],
   "id": "db5d2a64552e126b",
   "outputs": [
    {
     "data": {
      "text/plain": [
       "30"
      ]
     },
     "execution_count": 86,
     "metadata": {},
     "output_type": "execute_result"
    }
   ],
   "execution_count": 86
  },
  {
   "metadata": {
    "ExecuteTime": {
     "end_time": "2024-07-13T23:08:50.606091Z",
     "start_time": "2024-07-13T23:08:50.522420Z"
    }
   },
   "cell_type": "code",
   "source": [
    "b =[ x['safetyreportversion'] for x in a]\n",
    "unique_list_str, unique_list_json = remove_duplicates(a)"
   ],
   "id": "1cc21c53bde61a7d",
   "outputs": [],
   "execution_count": 90
  },
  {
   "metadata": {
    "ExecuteTime": {
     "end_time": "2024-07-13T23:09:04.780022Z",
     "start_time": "2024-07-13T23:09:04.773410Z"
    }
   },
   "cell_type": "code",
   "source": "len(unique_list_json)",
   "id": "5d68d4cfcfdf7abb",
   "outputs": [
    {
     "data": {
      "text/plain": [
       "1"
      ]
     },
     "execution_count": 92,
     "metadata": {},
     "output_type": "execute_result"
    }
   ],
   "execution_count": 92
  }
 ],
 "metadata": {
  "kernelspec": {
   "display_name": "Python 3 (ipykernel)",
   "language": "python",
   "name": "python3"
  },
  "language_info": {
   "codemirror_mode": {
    "name": "ipython",
    "version": 3
   },
   "file_extension": ".py",
   "mimetype": "text/x-python",
   "name": "python",
   "nbconvert_exporter": "python",
   "pygments_lexer": "ipython3",
   "version": "3.11.7"
  }
 },
 "nbformat": 4,
 "nbformat_minor": 5
}
