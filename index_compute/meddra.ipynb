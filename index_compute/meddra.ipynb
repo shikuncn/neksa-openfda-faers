{
 "cells": [
  {
   "cell_type": "code",
   "id": "initial_id",
   "metadata": {
    "collapsed": true,
    "ExecuteTime": {
     "end_time": "2024-08-11T14:46:45.292Z",
     "start_time": "2024-08-11T14:46:45.261444Z"
    }
   },
   "source": [
    "import os\n",
    "import sys\n",
    "import requests\n",
    "from cachetools import cached, TTLCache\n",
    "import time\n",
    "import pandas as pd\n",
    "import tqdm\n",
    "\n",
    "g_token=''\n",
    "\n",
    "@cached(cache=TTLCache(maxsize=1, ttl=36000))\n",
    "def get_token():\n",
    "    # step 1:  using username='30007', password='2A4nFXhP' \n",
    "    ##         on https://mid.meddra.org/account/register for apikey\n",
    "    # step 2:  apply for grant\n",
    "    cmd = '''\n",
    "    curl \\\n",
    "        --request POST \\\n",
    "        --data \"grant_type=password\"  \\\n",
    "        --data \"username={username}\"  --data \"password={apikey}\" \\\n",
    "        --data \"scope=meddraapi\" \\\n",
    "        --data \"client_id=mspclient\" \\\n",
    "        \"https://mid.meddra.org/connect/token\"\n",
    "    '''.format(username='30007', apikey='4Lj68iPSy3jjti7hK2hM')\n",
    "    os.system(cmd)\n",
    "    # ref: https://cloud.tencent.com/developer/article/1908468\n",
    "    return auth['access_token']\n",
    "    # {\"access_token\":\"6acb65aaaa2eee65530de8e2521606b10051a5b8a5451bdf1227eb704bda080d\",\"expires_in\":36000,\"token_type\":\"Bearer\"}\n",
    "\n",
    "def get_token2():\n",
    "    return \"767067280cb04954b8ac16493aef7bee88a859d64d6c8fc6a257231127b85215\"  #8-12 19:00\n",
    "\n",
    "def get_soc(row):\n",
    "    ## (1) search pt name for pt-code\n",
    "    # considering sleep 3s\n",
    "    \n",
    "    headers = {\n",
    "        'accept': 'application/json',\n",
    "        'Authorization': 'Bearer {}'.format(get_token2()),\n",
    "        'Content-Type': 'text/json',\n",
    "    }\n",
    "\n",
    "    pt_name = row['pt']   # \"heart valve operation\"\n",
    "\n",
    "    data = '{\"bview\":\"SOC\",\"rsview\":\"release\",\"language\":\"English\",\"stype\":1,\"addlangs\":[],\"filters\":[],\"version\":24,\"searchterms\":[{\"searchtype\":0,\"searchterm\":\"' \\\n",
    "           + pt_name + '\",\"searchlogic\":0}],\"kana\":false,\"idiacritical\":true,\"synonym\":false,\"contains\":false,\"soc\":false,\"hlgt\":false,\"hlt\":false,\"pt\":true,\"llt\":false,\"smq\":false,\"skip\":0,\"take\":0,\"separator\":2}'\n",
    "    \n",
    "    try:\n",
    "        response = requests.post('https://gxpmapiprod.meddra.org/api/search', headers=headers, data=data)\n",
    "        #print(response.json())\n",
    "        ##(2) detail: search soc name & code using pt_code\n",
    "        pt_code = response.json()[0]['pcode']\n",
    "    \n",
    "        data = '{\"bview\":\"SOC\",\"rsview\":\"release\",\"code\":' + str(pt_code) + \\\n",
    "               ',\"pcode\":0,\"syncode\":0,\"lltcode\":0,\"ptcode\":0,\"hltcode\":0,\"hlgtcode\":0,\"soccode\":0,\"smqcode\":0,\"type\":\"PT\",\"addlangs\":[],\"rtype\":\"P\",\"lang\":\"English\",\"ver\":24,\"kana\":false,\"separator\":2}'\n",
    "    \n",
    "        response = requests.post('https://gxpmapiprod.meddra.org/api/detail', headers=headers, data=data)\n",
    "        soc_name = ''\n",
    "        soc_code = -1\n",
    "    \n",
    "        for item in response.json()['mds']:\n",
    "            #print(item)\n",
    "            if item['primarysocfg'] == 'Y':\n",
    "                soc_name = item['socname']\n",
    "                soc_code = item['soccode']\n",
    "                           \n",
    "        ## finally output results using dataframes\n",
    "        #return {'pt': pt_name, 'pt_code': pt_code, 'soc_name': soc_name, 'soc_code': soc_code}\n",
    "        return pd.Series([pt_name, pt_code, soc_name, soc_code], index=['pt_name', 'pt_code', 'soc_name', 'soc_code'])\n",
    "\n",
    "    except Exception as e:\n",
    "        print(\"error for: \" + pt_name)\n",
    "    finally:\n",
    "        pass\n"
   ],
   "outputs": [],
   "execution_count": 15
  },
  {
   "metadata": {
    "ExecuteTime": {
     "end_time": "2024-08-11T14:48:48.718656Z",
     "start_time": "2024-08-11T14:48:48.655556Z"
    }
   },
   "cell_type": "code",
   "source": [
    "#get_token()\n",
    "conn.close()"
   ],
   "id": "6a81d245dc6847da",
   "outputs": [
    {
     "ename": "NameError",
     "evalue": "name 'conn' is not defined",
     "output_type": "error",
     "traceback": [
      "\u001B[0;31m---------------------------------------------------------------------------\u001B[0m",
      "\u001B[0;31mNameError\u001B[0m                                 Traceback (most recent call last)",
      "Cell \u001B[0;32mIn[16], line 2\u001B[0m\n\u001B[1;32m      1\u001B[0m \u001B[38;5;66;03m#get_token()\u001B[39;00m\n\u001B[0;32m----> 2\u001B[0m conn\u001B[38;5;241m.\u001B[39mclose()\n",
      "\u001B[0;31mNameError\u001B[0m: name 'conn' is not defined"
     ]
    }
   ],
   "execution_count": 16
  },
  {
   "metadata": {},
   "cell_type": "code",
   "outputs": [],
   "execution_count": null,
   "source": [
    "conn = pymysql.connect(\n",
    "        host='localhost',\n",
    "        port=int(3306),\n",
    "        user=\"root\",\n",
    "        passwd='0921051011Liu',\n",
    "        db=\"faers\",\n",
    "        charset='utf8mb4')\n",
    "\n",
    "# 去除异常字符\n",
    "sql = '''   \n",
    "   SELECT \n",
    "        replace(coalesce(t2.pt,'not_found_pt'),'\\\\r', '') as pt,\n",
    "        COUNT(distinct t1.CASEID) AS caseid_cnt,\n",
    "        COUNT(distinct t1.PRIMARYID) AS primaryid_cnt\n",
    "    FROM faers.ribo_drug_usage t1\n",
    "    left join faers.faers_reac t2\n",
    "    on t1.primaryid = t2.primaryid and lower(t1.role_cod) = 'ps'\n",
    "    group by 1\n",
    "    order by 1;\n",
    "'''\n",
    "df_pt_stat = pd.read_sql_query(sql, conn)\n",
    "\n",
    "conn.close()"
   ],
   "id": "72c5067aba8cb889"
  },
  {
   "metadata": {
    "jupyter": {
     "is_executing": true
    },
    "ExecuteTime": {
     "start_time": "2024-08-11T14:49:41.122094Z"
    }
   },
   "cell_type": "code",
   "source": [
    "import tqdm\n",
    "from tqdm import tqdm\n",
    "tqdm.pandas(desc='apply')\n",
    "\n",
    "df_pt_stat=pd.read_csv('./ribo_pt.csv')\n",
    "pt_soc_mapping = df_pt_stat.progress_apply(get_soc, axis=1)\n",
    "#pt_soc_mapping = df_pt_stat.apply(get_soc, axis=1)\n",
    "\n",
    "#df_pt_stat[ df_pt_stat['caseid_cnt'] != df_pt_stat['primaryid_cnt']]"
   ],
   "id": "3c469dbedf4b1c9a",
   "outputs": [
    {
     "name": "stderr",
     "output_type": "stream",
     "text": [
      "apply:   0%|          | 2/3223 [02:20<62:59:13, 70.40s/it]"
     ]
    },
    {
     "name": "stdout",
     "output_type": "stream",
     "text": [
      "error for: abdominal adhesions\n"
     ]
    },
    {
     "name": "stderr",
     "output_type": "stream",
     "text": [
      "apply:   9%|▊         | 281/3223 [15:31<1:31:13,  1.86s/it]"
     ]
    },
    {
     "name": "stdout",
     "output_type": "stream",
     "text": [
      "error for: benign pancreatic hyperenzymaemia\n"
     ]
    },
    {
     "name": "stderr",
     "output_type": "stream",
     "text": [
      "apply:   9%|▉         | 283/3223 [15:34<1:22:29,  1.68s/it]"
     ]
    },
    {
     "name": "stdout",
     "output_type": "stream",
     "text": [
      "error for: bile duct obstruction\n"
     ]
    },
    {
     "name": "stderr",
     "output_type": "stream",
     "text": [
      "apply:  13%|█▎        | 418/3223 [21:27<1:40:48,  2.16s/it]"
     ]
    },
    {
     "name": "stdout",
     "output_type": "stream",
     "text": [
      "error for: bone demineralisation\n"
     ]
    },
    {
     "name": "stderr",
     "output_type": "stream",
     "text": [
      "apply:  14%|█▍        | 447/3223 [22:43<1:36:40,  2.09s/it]"
     ]
    },
    {
     "name": "stdout",
     "output_type": "stream",
     "text": [
      "error for: brain fog\n"
     ]
    },
    {
     "name": "stderr",
     "output_type": "stream",
     "text": [
      "apply:  16%|█▌        | 513/3223 [25:52<1:35:09,  2.11s/it]"
     ]
    },
    {
     "name": "stdout",
     "output_type": "stream",
     "text": [
      "error for: buttock claudication\n"
     ]
    },
    {
     "name": "stderr",
     "output_type": "stream",
     "text": [
      "apply:  19%|█▉        | 628/3223 [31:24<4:08:22,  5.74s/it]"
     ]
    }
   ],
   "execution_count": null
  },
  {
   "metadata": {},
   "cell_type": "code",
   "outputs": [],
   "execution_count": null,
   "source": [
    "error for: anal inflammation\n",
    "error for: anaphylactic shock\n",
    "error for: aneurysm\n",
    "error for: anger\n",
    "error for: aspartate aminotransferase abnormal\n",
    "error for: aspartate aminotransferase increased\n",
    "error for: benign pancreatic hyperenzymaemia\n",
    "error for: bile duct obstruction\n",
    "error for: biliary tract disorder\n",
    "error for: bilirubin conjugated abnormal\n",
    "error for: bilirubin conjugated increased\n",
    "error for: biopsy breast\n",
    "error for: blood viscosity decreased\n",
    "error for: body mass index abnormal\n",
    "error for: body mass index decreased\n",
    "error for: body mass index increased\n",
    "error for: bone demineralisation\n",
    "error for: bone pain\n",
    "error for: bone scan abnormal\n",
    "error for: brain fog\n",
    "error for: brca1 gene mutation\n",
    "error for: brca2 gene mutation\n",
    "error for: breast calcifications\n",
    "error for: breast cancer\n",
    "error for: breast cancer female\n",
    "error for: buttock claudication\n",
    "error for: calcification metastatic\n",
    "error for: calcinosis\n",
    "error for: calciphylaxis\n",
    "error for: calcium deficiency\n",
    "error for: cancer fatigue\n",
    "error for: cerebral ischaemia\n",
    "error for: cerebral microangiopathy\n",
    "error for: cholecystitis acute\n",
    "error for: cholecystitis chronic\n",
    "error for: cholelithiasis\n",
    "error for: congenital cystic kidney disease\n",
    "error for: congestive cardiomyopathy\n",
    "error for: conjunctival haemorrhage\n",
    "error for: conjunctivitis\n",
    "error for: connective tissue disorder\n",
    "error for: contraindicated product administered\n",
    "error for: contraindicated product prescribed\n",
    "error for: craniocerebral injury\n",
    "error for: creatinine renal clearance decreased\n",
    "error for: creatinine renal clearance increased\n",
    "error for: crepitations\n",
    "error for: creutzfeldt-jakob disease\n",
    "error for: device related sepsis\n",
    "error for: dilated cardiomyopathy\n",
    "error for: drug dose omission\n",
    "error for: drug effect incomplete"
   ],
   "id": "e9018ae21ad133cd"
  }
 ],
 "metadata": {
  "kernelspec": {
   "display_name": "Python 3",
   "language": "python",
   "name": "python3"
  },
  "language_info": {
   "codemirror_mode": {
    "name": "ipython",
    "version": 2
   },
   "file_extension": ".py",
   "mimetype": "text/x-python",
   "name": "python",
   "nbconvert_exporter": "python",
   "pygments_lexer": "ipython2",
   "version": "2.7.6"
  }
 },
 "nbformat": 4,
 "nbformat_minor": 5
}
