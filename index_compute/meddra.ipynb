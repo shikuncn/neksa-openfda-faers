{
 "cells": [
  {
   "cell_type": "code",
   "id": "initial_id",
   "metadata": {
    "collapsed": true,
    "ExecuteTime": {
     "end_time": "2024-08-13T01:55:50.004249Z",
     "start_time": "2024-08-13T01:55:49.989854Z"
    }
   },
   "source": [
    "import os\n",
    "import sys\n",
    "import requests\n",
    "from cachetools import cached, TTLCache\n",
    "import time\n",
    "import pandas as pd\n",
    "import tqdm\n",
    "\n",
    "g_token=''\n",
    "\n",
    "@cached(cache=TTLCache(maxsize=1, ttl=36000))\n",
    "def get_token():\n",
    "    # step 1:  using username='30007', password='2A4nFXhP' \n",
    "    ##         on https://mid.meddra.org/account/register for apikey\n",
    "    # step 2:  apply for grant\n",
    "    cmd = '''\n",
    "    curl \\\n",
    "        --request POST \\\n",
    "        --data \"grant_type=password\"  \\\n",
    "        --data \"username={username}\"  --data \"password={apikey}\" \\\n",
    "        --data \"scope=meddraapi\" \\\n",
    "        --data \"client_id=mspclient\" \\\n",
    "        \"https://mid.meddra.org/connect/token\"\n",
    "    '''.format(username='30007', apikey='4Lj68iPSy3jjti7hK2hM')\n",
    "    os.system(cmd)\n",
    "    # ref: https://cloud.tencent.com/developer/article/1908468\n",
    "    return auth['access_token']\n",
    "    # {\"access_token\":\"6acb65aaaa2eee65530de8e2521606b10051a5b8a5451bdf1227eb704bda080d\",\"expires_in\":36000,\"token_type\":\"Bearer\"}\n",
    "\n",
    "def get_token2():\n",
    "    return \"026fbb4fcd254ffdfe0ea227ac4be437dff38d5896cc9825e78a5166d865ff2e\"  #8-12 19:00\n",
    "\n",
    "def get_soc(row):\n",
    "    ## (1) search pt name for pt-code\n",
    "    # considering sleep 3s\n",
    "    time.sleep(1)\n",
    "    \n",
    "    headers = {\n",
    "        'accept': 'application/json',\n",
    "        'Authorization': 'Bearer {}'.format(get_token2()),\n",
    "        'Content-Type': 'text/json',\n",
    "    }\n",
    "    if type(row) == type('a'):\n",
    "        pt_name = row\n",
    "    else:\n",
    "        pt_name = row['pt']   # \"heart valve operation\"\n",
    "\n",
    "    data = '{\"bview\":\"SOC\",\"rsview\":\"release\",\"language\":\"English\",\"stype\":1,\"addlangs\":[],\"filters\":[],\"version\":24,\"searchterms\":[{\"searchtype\":0,\"searchterm\":\"' \\\n",
    "           + pt_name + '\",\"searchlogic\":0}],\"kana\":false,\"idiacritical\":true,\"synonym\":false,\"contains\":false,\"soc\":false,\"hlgt\":false,\"hlt\":false,\"pt\":true,\"llt\":false,\"smq\":false,\"skip\":0,\"take\":0,\"separator\":2}'\n",
    "    \n",
    "    try:\n",
    "        response = requests.post('https://gxpmapiprod.meddra.org/api/search', headers=headers, data=data)\n",
    "        #print(response.json())\n",
    "        ##(2) detail: search soc name & code using pt_code\n",
    "        pt_code = response.json()[0]['pcode']\n",
    "    \n",
    "        data = '{\"bview\":\"SOC\",\"rsview\":\"release\",\"code\":' + str(pt_code) + \\\n",
    "               ',\"pcode\":0,\"syncode\":0,\"lltcode\":0,\"ptcode\":0,\"hltcode\":0,\"hlgtcode\":0,\"soccode\":0,\"smqcode\":0,\"type\":\"PT\",\"addlangs\":[],\"rtype\":\"P\",\"lang\":\"English\",\"ver\":24,\"kana\":false,\"separator\":2}'\n",
    "    \n",
    "        response = requests.post('https://gxpmapiprod.meddra.org/api/detail', headers=headers, data=data)\n",
    "        soc_name = ''\n",
    "        soc_code = -1\n",
    "    \n",
    "        for item in response.json()['mds']:\n",
    "            #print(item)\n",
    "            if item['primarysocfg'] == 'Y':\n",
    "                soc_name = item['socname']\n",
    "                soc_code = item['soccode']\n",
    "                           \n",
    "        ## finally output results using dataframes\n",
    "        #return {'pt': pt_name, 'pt_code': pt_code, 'soc_name': soc_name, 'soc_code': soc_code}\n",
    "        return pd.Series([pt_name, pt_code, soc_name, soc_code], index=['pt_name', 'pt_code', 'soc_name', 'soc_code'])\n",
    "\n",
    "    except Exception as e:\n",
    "        # 查询不成功赋予默认值\n",
    "        return pd.Series([pt_name, '-', '-', '-'], index=['pt_name', 'pt_code', 'soc_name', 'soc_code'])\n",
    "    finally:\n",
    "        pass\n"
   ],
   "outputs": [],
   "execution_count": 39
  },
  {
   "metadata": {
    "ExecuteTime": {
     "end_time": "2024-08-13T01:56:08.534606Z",
     "start_time": "2024-08-13T01:56:02.852747Z"
    }
   },
   "cell_type": "code",
   "source": "get_soc('benign pancreatic hyperenzymaemia')",
   "id": "768ce88d49a17f8e",
   "outputs": [
    {
     "data": {
      "text/plain": [
       "pt_name     benign pancreatic hyperenzymaemia\n",
       "pt_code                                     -\n",
       "soc_name                                    -\n",
       "soc_code                                    -\n",
       "dtype: object"
      ]
     },
     "execution_count": 40,
     "metadata": {},
     "output_type": "execute_result"
    }
   ],
   "execution_count": 40
  },
  {
   "metadata": {
    "ExecuteTime": {
     "end_time": "2024-08-11T14:48:48.718656Z",
     "start_time": "2024-08-11T14:48:48.655556Z"
    }
   },
   "cell_type": "code",
   "source": [
    "#get_token()\n",
    "conn.close()"
   ],
   "id": "6a81d245dc6847da",
   "outputs": [
    {
     "ename": "NameError",
     "evalue": "name 'conn' is not defined",
     "output_type": "error",
     "traceback": [
      "\u001B[0;31m---------------------------------------------------------------------------\u001B[0m",
      "\u001B[0;31mNameError\u001B[0m                                 Traceback (most recent call last)",
      "Cell \u001B[0;32mIn[16], line 2\u001B[0m\n\u001B[1;32m      1\u001B[0m \u001B[38;5;66;03m#get_token()\u001B[39;00m\n\u001B[0;32m----> 2\u001B[0m conn\u001B[38;5;241m.\u001B[39mclose()\n",
      "\u001B[0;31mNameError\u001B[0m: name 'conn' is not defined"
     ]
    }
   ],
   "execution_count": 16
  },
  {
   "metadata": {},
   "cell_type": "code",
   "outputs": [],
   "execution_count": null,
   "source": [
    "conn = pymysql.connect(\n",
    "        host='localhost',\n",
    "        port=int(3306),\n",
    "        user=\"root\",\n",
    "        passwd='0921051011Liu',\n",
    "        db=\"faers\",\n",
    "        charset='utf8mb4')\n",
    "\n",
    "# 去除异常字符\n",
    "sql = '''   \n",
    "   SELECT \n",
    "        replace(coalesce(t2.pt,'not_found_pt'),'\\\\r', '') as pt,\n",
    "        COUNT(distinct t1.CASEID) AS caseid_cnt,\n",
    "        COUNT(distinct t1.PRIMARYID) AS primaryid_cnt\n",
    "    FROM faers.ribo_drug_usage t1\n",
    "    left join faers.faers_reac t2\n",
    "    on t1.primaryid = t2.primaryid and lower(t1.role_cod) = 'ps'\n",
    "    group by 1\n",
    "    order by 1;\n",
    "'''\n",
    "df_pt_stat = pd.read_sql_query(sql, conn)\n",
    "\n",
    "conn.close()"
   ],
   "id": "72c5067aba8cb889"
  },
  {
   "metadata": {
    "ExecuteTime": {
     "end_time": "2024-08-12T11:16:13.817999Z",
     "start_time": "2024-08-12T11:16:13.722310Z"
    }
   },
   "cell_type": "code",
   "source": "df_pt_stat.describe()",
   "id": "ea854cf7f3700e00",
   "outputs": [
    {
     "data": {
      "text/plain": [
       "        caseid_cnt  primaryid_cnt\n",
       "count  3223.000000    3223.000000\n",
       "mean     21.782811      33.657152\n",
       "std      94.176502     136.683128\n",
       "min       1.000000       1.000000\n",
       "25%       1.000000       2.000000\n",
       "50%       3.000000       4.000000\n",
       "75%       9.000000      15.000000\n",
       "max    2030.000000    2733.000000"
      ],
      "text/html": [
       "<div>\n",
       "<style scoped>\n",
       "    .dataframe tbody tr th:only-of-type {\n",
       "        vertical-align: middle;\n",
       "    }\n",
       "\n",
       "    .dataframe tbody tr th {\n",
       "        vertical-align: top;\n",
       "    }\n",
       "\n",
       "    .dataframe thead th {\n",
       "        text-align: right;\n",
       "    }\n",
       "</style>\n",
       "<table border=\"1\" class=\"dataframe\">\n",
       "  <thead>\n",
       "    <tr style=\"text-align: right;\">\n",
       "      <th></th>\n",
       "      <th>caseid_cnt</th>\n",
       "      <th>primaryid_cnt</th>\n",
       "    </tr>\n",
       "  </thead>\n",
       "  <tbody>\n",
       "    <tr>\n",
       "      <th>count</th>\n",
       "      <td>3223.000000</td>\n",
       "      <td>3223.000000</td>\n",
       "    </tr>\n",
       "    <tr>\n",
       "      <th>mean</th>\n",
       "      <td>21.782811</td>\n",
       "      <td>33.657152</td>\n",
       "    </tr>\n",
       "    <tr>\n",
       "      <th>std</th>\n",
       "      <td>94.176502</td>\n",
       "      <td>136.683128</td>\n",
       "    </tr>\n",
       "    <tr>\n",
       "      <th>min</th>\n",
       "      <td>1.000000</td>\n",
       "      <td>1.000000</td>\n",
       "    </tr>\n",
       "    <tr>\n",
       "      <th>25%</th>\n",
       "      <td>1.000000</td>\n",
       "      <td>2.000000</td>\n",
       "    </tr>\n",
       "    <tr>\n",
       "      <th>50%</th>\n",
       "      <td>3.000000</td>\n",
       "      <td>4.000000</td>\n",
       "    </tr>\n",
       "    <tr>\n",
       "      <th>75%</th>\n",
       "      <td>9.000000</td>\n",
       "      <td>15.000000</td>\n",
       "    </tr>\n",
       "    <tr>\n",
       "      <th>max</th>\n",
       "      <td>2030.000000</td>\n",
       "      <td>2733.000000</td>\n",
       "    </tr>\n",
       "  </tbody>\n",
       "</table>\n",
       "</div>"
      ]
     },
     "execution_count": 18,
     "metadata": {},
     "output_type": "execute_result"
    }
   ],
   "execution_count": 18
  },
  {
   "metadata": {
    "ExecuteTime": {
     "end_time": "2024-08-13T02:01:04.958512Z",
     "start_time": "2024-08-13T02:01:01.469711Z"
    }
   },
   "cell_type": "code",
   "source": "get_soc('buttock claudication')",
   "id": "d7fcddb4116111cb",
   "outputs": [
    {
     "data": {
      "text/plain": [
       "pt_name     buttock claudication\n",
       "pt_code                        -\n",
       "soc_name                       -\n",
       "soc_code                       -\n",
       "dtype: object"
      ]
     },
     "execution_count": 42,
     "metadata": {},
     "output_type": "execute_result"
    }
   ],
   "execution_count": 42
  },
  {
   "metadata": {
    "ExecuteTime": {
     "end_time": "2024-08-12T15:15:17.397609Z",
     "start_time": "2024-08-12T11:23:30.282470Z"
    }
   },
   "cell_type": "code",
   "source": [
    "import tqdm\n",
    "from tqdm import tqdm\n",
    "tqdm.pandas(desc='apply')\n",
    "\n",
    "df_pt_stat=pd.read_csv('./ribo_pt.csv')\n",
    "pt_soc_mapping = df_pt_stat.progress_apply(get_soc, axis=1)\n",
    "pt_soc_mapping.to_csv('./pt_soc_mapping.csv', index=False)\n",
    "#pt_soc_mapping = df_pt_stat.apply(get_soc, axis=1)\n",
    "\n"
   ],
   "id": "3c469dbedf4b1c9a",
   "outputs": [
    {
     "name": "stderr",
     "output_type": "stream",
     "text": [
      "apply:   9%|▊         | 281/3223 [19:48<3:06:09,  3.80s/it]"
     ]
    },
    {
     "name": "stdout",
     "output_type": "stream",
     "text": [
      "error for: benign pancreatic hyperenzymaemia\n"
     ]
    },
    {
     "name": "stderr",
     "output_type": "stream",
     "text": [
      "apply:   9%|▉         | 283/3223 [19:55<2:51:54,  3.51s/it]"
     ]
    },
    {
     "name": "stdout",
     "output_type": "stream",
     "text": [
      "error for: bile duct obstruction\n"
     ]
    },
    {
     "name": "stderr",
     "output_type": "stream",
     "text": [
      "apply:  13%|█▎        | 418/3223 [29:33<2:46:14,  3.56s/it]"
     ]
    },
    {
     "name": "stdout",
     "output_type": "stream",
     "text": [
      "error for: bone demineralisation\n"
     ]
    },
    {
     "name": "stderr",
     "output_type": "stream",
     "text": [
      "apply:  14%|█▍        | 447/3223 [31:26<2:40:16,  3.46s/it]"
     ]
    },
    {
     "name": "stdout",
     "output_type": "stream",
     "text": [
      "error for: brain fog\n"
     ]
    },
    {
     "name": "stderr",
     "output_type": "stream",
     "text": [
      "apply:  16%|█▌        | 513/3223 [35:57<2:39:19,  3.53s/it]"
     ]
    },
    {
     "name": "stdout",
     "output_type": "stream",
     "text": [
      "error for: buttock claudication\n"
     ]
    },
    {
     "name": "stderr",
     "output_type": "stream",
     "text": [
      "apply:  25%|██▌       | 817/3223 [57:09<2:22:22,  3.55s/it]"
     ]
    },
    {
     "name": "stdout",
     "output_type": "stream",
     "text": [
      "error for: dilated cardiomyopathy\n"
     ]
    },
    {
     "name": "stderr",
     "output_type": "stream",
     "text": [
      "apply:  26%|██▌       | 844/3223 [58:59<2:29:34,  3.77s/it]"
     ]
    },
    {
     "name": "stdout",
     "output_type": "stream",
     "text": [
      "error for: drug dose omission\n"
     ]
    },
    {
     "name": "stderr",
     "output_type": "stream",
     "text": [
      "apply:  26%|██▌       | 845/3223 [59:01<2:13:56,  3.38s/it]"
     ]
    },
    {
     "name": "stdout",
     "output_type": "stream",
     "text": [
      "error for: drug effect incomplete\n"
     ]
    },
    {
     "name": "stderr",
     "output_type": "stream",
     "text": [
      "apply:  28%|██▊       | 896/3223 [1:02:36<2:21:32,  3.65s/it]"
     ]
    },
    {
     "name": "stdout",
     "output_type": "stream",
     "text": [
      "error for: ear inflammation\n"
     ]
    },
    {
     "name": "stderr",
     "output_type": "stream",
     "text": [
      "apply:  31%|███       | 986/3223 [1:08:49<2:21:02,  3.78s/it]"
     ]
    },
    {
     "name": "stdout",
     "output_type": "stream",
     "text": [
      "error for: epiglottis dysfunction\n"
     ]
    },
    {
     "name": "stderr",
     "output_type": "stream",
     "text": [
      "apply:  35%|███▌      | 1137/3223 [1:19:33<2:04:50,  3.59s/it]"
     ]
    },
    {
     "name": "stdout",
     "output_type": "stream",
     "text": [
      "error for: fungal foot infection\n"
     ]
    },
    {
     "name": "stderr",
     "output_type": "stream",
     "text": [
      "apply:  37%|███▋      | 1195/3223 [1:23:46<2:04:47,  3.69s/it]"
     ]
    },
    {
     "name": "stdout",
     "output_type": "stream",
     "text": [
      "error for: general physical condition decreased\n"
     ]
    },
    {
     "name": "stderr",
     "output_type": "stream",
     "text": [
      "apply:  37%|███▋      | 1197/3223 [1:23:53<1:53:14,  3.35s/it]"
     ]
    },
    {
     "name": "stdout",
     "output_type": "stream",
     "text": [
      "error for: generalised erythema\n"
     ]
    },
    {
     "name": "stderr",
     "output_type": "stream",
     "text": [
      "apply:  39%|███▉      | 1257/3223 [1:28:17<1:56:54,  3.57s/it]"
     ]
    },
    {
     "name": "stdout",
     "output_type": "stream",
     "text": [
      "error for: haematological infection\n"
     ]
    },
    {
     "name": "stderr",
     "output_type": "stream",
     "text": [
      "apply:  43%|████▎     | 1400/3223 [1:38:29<1:49:13,  3.59s/it]"
     ]
    },
    {
     "name": "stdout",
     "output_type": "stream",
     "text": [
      "error for: human epididymis protein 4 increased\n"
     ]
    },
    {
     "name": "stderr",
     "output_type": "stream",
     "text": [
      "apply:  46%|████▋     | 1492/3223 [1:44:47<1:41:05,  3.50s/it]"
     ]
    },
    {
     "name": "stdout",
     "output_type": "stream",
     "text": [
      "error for: immune thrombocytopenic purpura\n"
     ]
    },
    {
     "name": "stderr",
     "output_type": "stream",
     "text": [
      "apply:  47%|████▋     | 1506/3223 [1:45:42<1:40:07,  3.50s/it]"
     ]
    },
    {
     "name": "stdout",
     "output_type": "stream",
     "text": [
      "error for: inappropriate schedule of drug administration\n"
     ]
    },
    {
     "name": "stderr",
     "output_type": "stream",
     "text": [
      "apply:  47%|████▋     | 1514/3223 [1:46:12<1:37:55,  3.44s/it]"
     ]
    },
    {
     "name": "stdout",
     "output_type": "stream",
     "text": [
      "error for: incorrect drug administration duration\n"
     ]
    },
    {
     "name": "stderr",
     "output_type": "stream",
     "text": [
      "apply:  47%|████▋     | 1521/3223 [1:46:41<1:53:01,  3.98s/it]"
     ]
    },
    {
     "name": "stdout",
     "output_type": "stream",
     "text": [
      "error for: increased need for sleep\n"
     ]
    },
    {
     "name": "stderr",
     "output_type": "stream",
     "text": [
      "apply:  54%|█████▍    | 1745/3223 [2:02:56<2:08:29,  5.22s/it]"
     ]
    },
    {
     "name": "stdout",
     "output_type": "stream",
     "text": [
      "error for: lung infection\n"
     ]
    },
    {
     "name": "stderr",
     "output_type": "stream",
     "text": [
      "apply:  56%|█████▌    | 1795/3223 [2:06:46<1:42:58,  4.33s/it]"
     ]
    },
    {
     "name": "stdout",
     "output_type": "stream",
     "text": [
      "error for: malignant neoplasm oligoprogression\n"
     ]
    },
    {
     "name": "stderr",
     "output_type": "stream",
     "text": [
      "apply:  62%|██████▏   | 1984/3223 [2:20:25<1:19:36,  3.85s/it]"
     ]
    },
    {
     "name": "stdout",
     "output_type": "stream",
     "text": [
      "error for: myocardial injury\n"
     ]
    },
    {
     "name": "stderr",
     "output_type": "stream",
     "text": [
      "apply:  62%|██████▏   | 1991/3223 [2:20:55<1:23:56,  4.09s/it]"
     ]
    },
    {
     "name": "stdout",
     "output_type": "stream",
     "text": [
      "error for: myopericarditis\n"
     ]
    },
    {
     "name": "stderr",
     "output_type": "stream",
     "text": [
      "apply:  65%|██████▍   | 2089/3223 [2:28:16<1:19:30,  4.21s/it]"
     ]
    },
    {
     "name": "stdout",
     "output_type": "stream",
     "text": [
      "error for: occipital lobe stroke\n"
     ]
    },
    {
     "name": "stderr",
     "output_type": "stream",
     "text": [
      "apply:  75%|███████▌  | 2424/3223 [2:52:46<53:55,  4.05s/it]  "
     ]
    },
    {
     "name": "stdout",
     "output_type": "stream",
     "text": [
      "error for: product after taste\n"
     ]
    },
    {
     "name": "stderr",
     "output_type": "stream",
     "text": [
      "apply:  75%|███████▌  | 2432/3223 [2:53:20<51:39,  3.92s/it]  "
     ]
    },
    {
     "name": "stdout",
     "output_type": "stream",
     "text": [
      "error for: product dose omission\n"
     ]
    },
    {
     "name": "stderr",
     "output_type": "stream",
     "text": [
      "apply:  77%|███████▋  | 2467/3223 [2:55:47<46:47,  3.71s/it]  "
     ]
    },
    {
     "name": "stdout",
     "output_type": "stream",
     "text": [
      "error for: pruritus generalised\n"
     ]
    },
    {
     "name": "stderr",
     "output_type": "stream",
     "text": [
      "apply:  77%|███████▋  | 2497/3223 [2:58:02<55:22,  4.58s/it]  "
     ]
    },
    {
     "name": "stdout",
     "output_type": "stream",
     "text": [
      "error for: pulmonary septal thickening\n"
     ]
    },
    {
     "name": "stderr",
     "output_type": "stream",
     "text": [
      "apply:  79%|███████▊  | 2536/3223 [3:00:49<44:27,  3.88s/it]"
     ]
    },
    {
     "name": "stdout",
     "output_type": "stream",
     "text": [
      "error for: rash generalised\n"
     ]
    },
    {
     "name": "stderr",
     "output_type": "stream",
     "text": [
      "apply:  82%|████████▏ | 2652/3223 [3:09:24<42:03,  4.42s/it]  "
     ]
    },
    {
     "name": "stdout",
     "output_type": "stream",
     "text": [
      "error for: sacral pain\n"
     ]
    },
    {
     "name": "stderr",
     "output_type": "stream",
     "text": [
      "apply:  84%|████████▍ | 2704/3223 [3:13:12<30:50,  3.57s/it]"
     ]
    },
    {
     "name": "stdout",
     "output_type": "stream",
     "text": [
      "error for: severe cutaneous adverse reaction\n"
     ]
    },
    {
     "name": "stderr",
     "output_type": "stream",
     "text": [
      "apply:  88%|████████▊ | 2850/3223 [3:24:09<22:51,  3.68s/it]"
     ]
    },
    {
     "name": "stdout",
     "output_type": "stream",
     "text": [
      "error for: subclavian vein embolism\n"
     ]
    },
    {
     "name": "stderr",
     "output_type": "stream",
     "text": [
      "apply:  89%|████████▉ | 2866/3223 [3:25:17<21:57,  3.69s/it]"
     ]
    },
    {
     "name": "stdout",
     "output_type": "stream",
     "text": [
      "error for: superficial inflammatory dermatosis\n"
     ]
    },
    {
     "name": "stderr",
     "output_type": "stream",
     "text": [
      "apply:  89%|████████▉ | 2867/3223 [3:25:19<19:31,  3.29s/it]"
     ]
    },
    {
     "name": "stdout",
     "output_type": "stream",
     "text": [
      "error for: superficial vein thrombosis\n"
     ]
    },
    {
     "name": "stderr",
     "output_type": "stream",
     "text": [
      "apply:  90%|█████████ | 2914/3223 [3:29:02<23:17,  4.52s/it]"
     ]
    },
    {
     "name": "stdout",
     "output_type": "stream",
     "text": [
      "error for: thalamic stroke\n"
     ]
    },
    {
     "name": "stderr",
     "output_type": "stream",
     "text": [
      "apply: 100%|██████████| 3223/3223 [3:51:47<00:00,  4.31s/it]\n"
     ]
    }
   ],
   "execution_count": 26
  },
  {
   "metadata": {
    "ExecuteTime": {
     "end_time": "2024-08-13T01:49:38.328931Z",
     "start_time": "2024-08-13T01:49:38.312257Z"
    }
   },
   "cell_type": "code",
   "source": "pt_soc_mapping[pt_soc_mapping['pt_name'] == 'benign pancreatic hyperenzymaemia']",
   "id": "2a2ac4e0072a9939",
   "outputs": [
    {
     "data": {
      "text/plain": [
       "Empty DataFrame\n",
       "Columns: [pt_name, pt_code, soc_name, soc_code]\n",
       "Index: []"
      ],
      "text/html": [
       "<div>\n",
       "<style scoped>\n",
       "    .dataframe tbody tr th:only-of-type {\n",
       "        vertical-align: middle;\n",
       "    }\n",
       "\n",
       "    .dataframe tbody tr th {\n",
       "        vertical-align: top;\n",
       "    }\n",
       "\n",
       "    .dataframe thead th {\n",
       "        text-align: right;\n",
       "    }\n",
       "</style>\n",
       "<table border=\"1\" class=\"dataframe\">\n",
       "  <thead>\n",
       "    <tr style=\"text-align: right;\">\n",
       "      <th></th>\n",
       "      <th>pt_name</th>\n",
       "      <th>pt_code</th>\n",
       "      <th>soc_name</th>\n",
       "      <th>soc_code</th>\n",
       "    </tr>\n",
       "  </thead>\n",
       "  <tbody>\n",
       "  </tbody>\n",
       "</table>\n",
       "</div>"
      ]
     },
     "execution_count": 30,
     "metadata": {},
     "output_type": "execute_result"
    }
   ],
   "execution_count": 30
  },
  {
   "metadata": {
    "ExecuteTime": {
     "end_time": "2024-08-13T01:51:39.858246Z",
     "start_time": "2024-08-13T01:51:39.829217Z"
    }
   },
   "cell_type": "code",
   "source": [
    "len(df_pt_stat)\n",
    "df_pt_stat[df_pt_stat['pt'] == 'benign pancreatic hyperenzymaemia']\n"
   ],
   "id": "45cd780d57b3c1cb",
   "outputs": [
    {
     "data": {
      "text/plain": [
       "                                    pt  caseid_cnt  primaryid_cnt\n",
       "279  benign pancreatic hyperenzymaemia           1              1"
      ],
      "text/html": [
       "<div>\n",
       "<style scoped>\n",
       "    .dataframe tbody tr th:only-of-type {\n",
       "        vertical-align: middle;\n",
       "    }\n",
       "\n",
       "    .dataframe tbody tr th {\n",
       "        vertical-align: top;\n",
       "    }\n",
       "\n",
       "    .dataframe thead th {\n",
       "        text-align: right;\n",
       "    }\n",
       "</style>\n",
       "<table border=\"1\" class=\"dataframe\">\n",
       "  <thead>\n",
       "    <tr style=\"text-align: right;\">\n",
       "      <th></th>\n",
       "      <th>pt</th>\n",
       "      <th>caseid_cnt</th>\n",
       "      <th>primaryid_cnt</th>\n",
       "    </tr>\n",
       "  </thead>\n",
       "  <tbody>\n",
       "    <tr>\n",
       "      <th>279</th>\n",
       "      <td>benign pancreatic hyperenzymaemia</td>\n",
       "      <td>1</td>\n",
       "      <td>1</td>\n",
       "    </tr>\n",
       "  </tbody>\n",
       "</table>\n",
       "</div>"
      ]
     },
     "execution_count": 33,
     "metadata": {},
     "output_type": "execute_result"
    }
   ],
   "execution_count": 33
  },
  {
   "metadata": {},
   "cell_type": "code",
   "outputs": [],
   "execution_count": null,
   "source": "",
   "id": "88d3b1049eb85dda"
  },
  {
   "metadata": {},
   "cell_type": "code",
   "outputs": [],
   "execution_count": null,
   "source": [
    "error for: anal inflammation\n",
    "error for: anaphylactic shock\n",
    "error for: aneurysm\n",
    "error for: anger\n",
    "error for: aspartate aminotransferase abnormal\n",
    "error for: aspartate aminotransferase increased\n",
    "error for: benign pancreatic hyperenzymaemia\n",
    "error for: bile duct obstruction\n",
    "error for: biliary tract disorder\n",
    "error for: bilirubin conjugated abnormal\n",
    "error for: bilirubin conjugated increased\n",
    "error for: biopsy breast\n",
    "error for: blood viscosity decreased\n",
    "error for: body mass index abnormal\n",
    "error for: body mass index decreased\n",
    "error for: body mass index increased\n",
    "error for: bone demineralisation\n",
    "error for: bone pain\n",
    "error for: bone scan abnormal\n",
    "error for: brain fog\n",
    "error for: brca1 gene mutation\n",
    "error for: brca2 gene mutation\n",
    "error for: breast calcifications\n",
    "error for: breast cancer\n",
    "error for: breast cancer female\n",
    "error for: buttock claudication\n",
    "error for: calcification metastatic\n",
    "error for: calcinosis\n",
    "error for: calciphylaxis\n",
    "error for: calcium deficiency\n",
    "error for: cancer fatigue\n",
    "error for: cerebral ischaemia\n",
    "error for: cerebral microangiopathy\n",
    "error for: cholecystitis acute\n",
    "error for: cholecystitis chronic\n",
    "error for: cholelithiasis\n",
    "error for: congenital cystic kidney disease\n",
    "error for: congestive cardiomyopathy\n",
    "error for: conjunctival haemorrhage\n",
    "error for: conjunctivitis\n",
    "error for: connective tissue disorder\n",
    "error for: contraindicated product administered\n",
    "error for: contraindicated product prescribed\n",
    "error for: craniocerebral injury\n",
    "error for: creatinine renal clearance decreased\n",
    "error for: creatinine renal clearance increased\n",
    "error for: crepitations\n",
    "error for: creutzfeldt-jakob disease\n",
    "error for: device related sepsis\n",
    "error for: dilated cardiomyopathy\n",
    "error for: drug dose omission\n",
    "error for: drug effect incomplete"
   ],
   "id": "e9018ae21ad133cd"
  }
 ],
 "metadata": {
  "kernelspec": {
   "display_name": "Python 3",
   "language": "python",
   "name": "python3"
  },
  "language_info": {
   "codemirror_mode": {
    "name": "ipython",
    "version": 2
   },
   "file_extension": ".py",
   "mimetype": "text/x-python",
   "name": "python",
   "nbconvert_exporter": "python",
   "pygments_lexer": "ipython2",
   "version": "2.7.6"
  }
 },
 "nbformat": 4,
 "nbformat_minor": 5
}
