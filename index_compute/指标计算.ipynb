{
 "cells": [
  {
   "cell_type": "markdown",
   "id": "480fca2da9d46183",
   "metadata": {},
   "source": []
  },
  {
   "cell_type": "markdown",
   "id": "ac7849edff4ff81c",
   "metadata": {},
   "source": [
    "# 获得药品的所有相关caseid"
   ]
  },
  {
   "cell_type": "code",
   "execution_count": 10,
   "id": "5338d68ea82f8031",
   "metadata": {
    "ExecuteTime": {
     "end_time": "2024-08-04T09:05:51.314633Z",
     "start_time": "2024-08-04T09:04:49.054414Z"
    }
   },
   "outputs": [
    {
     "name": "stdout",
     "output_type": "stream",
     "text": [
      "Requirement already satisfied: sqlalchemy in /opt/anaconda3/lib/python3.11/site-packages (2.0.25)\r\n",
      "Requirement already satisfied: typing-extensions>=4.6.0 in /opt/anaconda3/lib/python3.11/site-packages (from sqlalchemy) (4.9.0)\r\n",
      "Requirement already satisfied: greenlet!=0.4.17 in /opt/anaconda3/lib/python3.11/site-packages (from sqlalchemy) (3.0.1)\r\n",
      "Requirement already satisfied: mysql-connector-python in /opt/anaconda3/lib/python3.11/site-packages (9.0.0)\r\n",
      "Requirement already satisfied: pymysql in /opt/anaconda3/lib/python3.11/site-packages (1.1.1)\r\n",
      "Requirement already satisfied: sqlalchemy in /opt/anaconda3/lib/python3.11/site-packages (2.0.25)\r\n",
      "Requirement already satisfied: typing-extensions>=4.6.0 in /opt/anaconda3/lib/python3.11/site-packages (from sqlalchemy) (4.9.0)\r\n",
      "Requirement already satisfied: greenlet!=0.4.17 in /opt/anaconda3/lib/python3.11/site-packages (from sqlalchemy) (3.0.1)\r\n"
     ]
    }
   ],
   "source": [
    "!pip install sqlalchemy\n",
    "!pip install mysql-connector-python\n",
    "!pip install pymysql\n",
    "!pip install sqlalchemy"
   ]
  },
  {
   "cell_type": "code",
   "id": "bf1eaeaec0c3315d",
   "metadata": {
    "ExecuteTime": {
     "end_time": "2024-08-04T15:37:25.951660Z",
     "start_time": "2024-08-04T15:37:25.938659Z"
    }
   },
   "source": [
    "import os\n",
    "import pymysql\n",
    "import pandas as pd\n",
    "pd.set_option('display.max_rows', 1000)\n",
    "pd.set_option('display.max_columns', 500)\n",
    "\n",
    "conn = pymysql.connect(\n",
    "    host='localhost',\n",
    "    port=int(3306),\n",
    "    user=\"root\",\n",
    "    passwd='0921051011Liu',\n",
    "    db=\"faers\",\n",
    "    charset='utf8mb4')\n"
   ],
   "outputs": [],
   "execution_count": 36
  },
  {
   "cell_type": "code",
   "execution_count": null,
   "id": "e4579fce0a2b3f67",
   "metadata": {},
   "outputs": [],
   "source": [
    "## check data"
   ]
  },
  {
   "cell_type": "code",
   "execution_count": 14,
   "id": "d86357577cb50369",
   "metadata": {
    "ExecuteTime": {
     "end_time": "2024-08-04T11:22:18.923525Z",
     "start_time": "2024-08-04T11:19:04.484186Z"
    }
   },
   "outputs": [
    {
     "name": "stderr",
     "output_type": "stream",
     "text": [
      "/var/folders/7w/sgw5xk457ss20939d0n2_5600000gn/T/ipykernel_8244/2594427308.py:1: UserWarning: pandas only supports SQLAlchemy connectable (engine/connection) or database string URI or sqlite3 DBAPI2 connection. Other DBAPI2 objects are not tested. Please consider using SQLAlchemy.\n",
      "  df = pd.read_sql_query(\"select count(1),count(distinct primaryid),count(distinct caseid) from faers.faers_demo;\", conn)\n"
     ]
    },
    {
     "data": {
      "text/html": [
       "<div>\n",
       "<style scoped>\n",
       "    .dataframe tbody tr th:only-of-type {\n",
       "        vertical-align: middle;\n",
       "    }\n",
       "\n",
       "    .dataframe tbody tr th {\n",
       "        vertical-align: top;\n",
       "    }\n",
       "\n",
       "    .dataframe thead th {\n",
       "        text-align: right;\n",
       "    }\n",
       "</style>\n",
       "<table border=\"1\" class=\"dataframe\">\n",
       "  <thead>\n",
       "    <tr style=\"text-align: right;\">\n",
       "      <th></th>\n",
       "      <th>count(1)</th>\n",
       "      <th>count(distinct primaryid)</th>\n",
       "      <th>count(distinct caseid)</th>\n",
       "    </tr>\n",
       "  </thead>\n",
       "  <tbody>\n",
       "    <tr>\n",
       "      <th>0</th>\n",
       "      <td>11877243</td>\n",
       "      <td>11877243</td>\n",
       "      <td>10219652</td>\n",
       "    </tr>\n",
       "  </tbody>\n",
       "</table>\n",
       "</div>"
      ],
      "text/plain": [
       "   count(1)  count(distinct primaryid)  count(distinct caseid)\n",
       "0  11877243                   11877243                10219652"
      ]
     },
     "execution_count": 14,
     "metadata": {},
     "output_type": "execute_result"
    }
   ],
   "source": [
    "df = pd.read_sql_query(\"select count(1),count(distinct primaryid),count(distinct caseid) from faers.faers_demo;\", conn)\n",
    "df"
   ]
  },
  {
   "cell_type": "code",
   "execution_count": 12,
   "id": "c6e78e832b6413fd",
   "metadata": {
    "ExecuteTime": {
     "end_time": "2024-08-04T09:15:26.641965Z",
     "start_time": "2024-08-04T09:11:42.889046Z"
    }
   },
   "outputs": [
    {
     "name": "stderr",
     "output_type": "stream",
     "text": [
      "/var/folders/7w/sgw5xk457ss20939d0n2_5600000gn/T/ipykernel_8244/4200782247.py:1: UserWarning: pandas only supports SQLAlchemy connectable (engine/connection) or database string URI or sqlite3 DBAPI2 connection. Other DBAPI2 objects are not tested. Please consider using SQLAlchemy.\n",
      "  df = pd.read_sql_query(\"select count(1),count(distinct primaryid),count(distinct caseid) from faers.faers_drug;\", conn)\n"
     ]
    },
    {
     "data": {
      "text/html": [
       "<div>\n",
       "<style scoped>\n",
       "    .dataframe tbody tr th:only-of-type {\n",
       "        vertical-align: middle;\n",
       "    }\n",
       "\n",
       "    .dataframe tbody tr th {\n",
       "        vertical-align: top;\n",
       "    }\n",
       "\n",
       "    .dataframe thead th {\n",
       "        text-align: right;\n",
       "    }\n",
       "</style>\n",
       "<table border=\"1\" class=\"dataframe\">\n",
       "  <thead>\n",
       "    <tr style=\"text-align: right;\">\n",
       "      <th></th>\n",
       "      <th>count(1)</th>\n",
       "      <th>count(distinct primaryid)</th>\n",
       "      <th>count(distinct caseid)</th>\n",
       "    </tr>\n",
       "  </thead>\n",
       "  <tbody>\n",
       "    <tr>\n",
       "      <th>0</th>\n",
       "      <td>17223552</td>\n",
       "      <td>4362113</td>\n",
       "      <td>3895924</td>\n",
       "    </tr>\n",
       "  </tbody>\n",
       "</table>\n",
       "</div>"
      ],
      "text/plain": [
       "   count(1)  count(distinct primaryid)  count(distinct caseid)\n",
       "0  17223552                    4362113                 3895924"
      ]
     },
     "execution_count": 12,
     "metadata": {},
     "output_type": "execute_result"
    }
   ],
   "source": [
    "df = pd.read_sql_query(\"select count(1),count(distinct primaryid),count(distinct caseid) from faers.faers_drug;\", conn)\n",
    "df"
   ]
  },
  {
   "cell_type": "code",
   "id": "4a74cde057616a17",
   "metadata": {
    "ExecuteTime": {
     "end_time": "2024-08-04T16:16:00.044749Z",
     "start_time": "2024-08-04T16:15:59.905123Z"
    }
   },
   "source": [
    "sql = ''' \n",
    "--   获得药品相关的所有case\n",
    "DROP TABLE  if exists faers.ribo_drug;\n",
    "CREATE TABLE faers.ribo_drug as\n",
    "select primaryid, caseid, DRUG_SEQ, START_DT\n",
    "from faers.faers_drug d1\n",
    "where (lower(d1.drugname) like 'ribociclib%'\n",
    "        OR lower(d1.drugname) like '%kisqali%'\n",
    "        OR lower(d1.prod_ai) like '%ribociclib%'\n",
    "        OR lower(d1.prod_ai) like '%kisqali%'\n",
    "    ) and lower(d1.role_cod) = 'ps'\n",
    "; '''\n",
    "\n",
    "df = pd.read_sql_query(sql, conn)\n",
    "df.tail(10)"
   ],
   "outputs": [
    {
     "name": "stderr",
     "output_type": "stream",
     "text": [
      "/var/folders/7w/sgw5xk457ss20939d0n2_5600000gn/T/ipykernel_8244/2129124748.py:14: UserWarning: pandas only supports SQLAlchemy connectable (engine/connection) or database string URI or sqlite3 DBAPI2 connection. Other DBAPI2 objects are not tested. Please consider using SQLAlchemy.\n",
      "  df = pd.read_sql_query(sql, conn)\n"
     ]
    },
    {
     "ename": "DatabaseError",
     "evalue": "Execution failed on sql ' \n-- 获得药品相关的所有case\nDROP TABLE  if exists faers.ribo_caseid_tb;\nCREATE TABLE faers.ribo_caseid_tb as\nselect primaryid, caseid, DRUG_SEQ,START_DT\nfrom faers.faers_drug d1\nwhere (lower(d1.drugname) like 'ribociclib%'\n        OR lower(d1.drugname) like '%kisqali%'\n        OR lower(d1.prod_ai) like '%ribociclib%'\n        OR lower(d1.prod_ai) like '%kisqali%'\n    ) and lower(d1.role_cod) = 'ps'\n; ': (1064, \"You have an error in your SQL syntax; check the manual that corresponds to your MySQL server version for the right syntax to use near 'CREATE TABLE faers.ribo_caseid_tb as\\nselect primaryid, caseid, DRUG_SEQ,START_DT' at line 3\")",
     "output_type": "error",
     "traceback": [
      "\u001B[0;31m---------------------------------------------------------------------------\u001B[0m",
      "\u001B[0;31mProgrammingError\u001B[0m                          Traceback (most recent call last)",
      "File \u001B[0;32m/opt/anaconda3/lib/python3.11/site-packages/pandas/io/sql.py:2674\u001B[0m, in \u001B[0;36mSQLiteDatabase.execute\u001B[0;34m(self, sql, params)\u001B[0m\n\u001B[1;32m   2673\u001B[0m \u001B[38;5;28;01mtry\u001B[39;00m:\n\u001B[0;32m-> 2674\u001B[0m     cur\u001B[38;5;241m.\u001B[39mexecute(sql, \u001B[38;5;241m*\u001B[39margs)\n\u001B[1;32m   2675\u001B[0m     \u001B[38;5;28;01mreturn\u001B[39;00m cur\n",
      "File \u001B[0;32m/opt/anaconda3/lib/python3.11/site-packages/pymysql/cursors.py:153\u001B[0m, in \u001B[0;36mCursor.execute\u001B[0;34m(self, query, args)\u001B[0m\n\u001B[1;32m    151\u001B[0m query \u001B[38;5;241m=\u001B[39m \u001B[38;5;28mself\u001B[39m\u001B[38;5;241m.\u001B[39mmogrify(query, args)\n\u001B[0;32m--> 153\u001B[0m result \u001B[38;5;241m=\u001B[39m \u001B[38;5;28mself\u001B[39m\u001B[38;5;241m.\u001B[39m_query(query)\n\u001B[1;32m    154\u001B[0m \u001B[38;5;28mself\u001B[39m\u001B[38;5;241m.\u001B[39m_executed \u001B[38;5;241m=\u001B[39m query\n",
      "File \u001B[0;32m/opt/anaconda3/lib/python3.11/site-packages/pymysql/cursors.py:322\u001B[0m, in \u001B[0;36mCursor._query\u001B[0;34m(self, q)\u001B[0m\n\u001B[1;32m    321\u001B[0m \u001B[38;5;28mself\u001B[39m\u001B[38;5;241m.\u001B[39m_clear_result()\n\u001B[0;32m--> 322\u001B[0m conn\u001B[38;5;241m.\u001B[39mquery(q)\n\u001B[1;32m    323\u001B[0m \u001B[38;5;28mself\u001B[39m\u001B[38;5;241m.\u001B[39m_do_get_result()\n",
      "File \u001B[0;32m/opt/anaconda3/lib/python3.11/site-packages/pymysql/connections.py:563\u001B[0m, in \u001B[0;36mConnection.query\u001B[0;34m(self, sql, unbuffered)\u001B[0m\n\u001B[1;32m    562\u001B[0m \u001B[38;5;28mself\u001B[39m\u001B[38;5;241m.\u001B[39m_execute_command(COMMAND\u001B[38;5;241m.\u001B[39mCOM_QUERY, sql)\n\u001B[0;32m--> 563\u001B[0m \u001B[38;5;28mself\u001B[39m\u001B[38;5;241m.\u001B[39m_affected_rows \u001B[38;5;241m=\u001B[39m \u001B[38;5;28mself\u001B[39m\u001B[38;5;241m.\u001B[39m_read_query_result(unbuffered\u001B[38;5;241m=\u001B[39munbuffered)\n\u001B[1;32m    564\u001B[0m \u001B[38;5;28;01mreturn\u001B[39;00m \u001B[38;5;28mself\u001B[39m\u001B[38;5;241m.\u001B[39m_affected_rows\n",
      "File \u001B[0;32m/opt/anaconda3/lib/python3.11/site-packages/pymysql/connections.py:825\u001B[0m, in \u001B[0;36mConnection._read_query_result\u001B[0;34m(self, unbuffered)\u001B[0m\n\u001B[1;32m    824\u001B[0m     result \u001B[38;5;241m=\u001B[39m MySQLResult(\u001B[38;5;28mself\u001B[39m)\n\u001B[0;32m--> 825\u001B[0m     result\u001B[38;5;241m.\u001B[39mread()\n\u001B[1;32m    826\u001B[0m \u001B[38;5;28mself\u001B[39m\u001B[38;5;241m.\u001B[39m_result \u001B[38;5;241m=\u001B[39m result\n",
      "File \u001B[0;32m/opt/anaconda3/lib/python3.11/site-packages/pymysql/connections.py:1199\u001B[0m, in \u001B[0;36mMySQLResult.read\u001B[0;34m(self)\u001B[0m\n\u001B[1;32m   1198\u001B[0m \u001B[38;5;28;01mtry\u001B[39;00m:\n\u001B[0;32m-> 1199\u001B[0m     first_packet \u001B[38;5;241m=\u001B[39m \u001B[38;5;28mself\u001B[39m\u001B[38;5;241m.\u001B[39mconnection\u001B[38;5;241m.\u001B[39m_read_packet()\n\u001B[1;32m   1201\u001B[0m     \u001B[38;5;28;01mif\u001B[39;00m first_packet\u001B[38;5;241m.\u001B[39mis_ok_packet():\n",
      "File \u001B[0;32m/opt/anaconda3/lib/python3.11/site-packages/pymysql/connections.py:775\u001B[0m, in \u001B[0;36mConnection._read_packet\u001B[0;34m(self, packet_type)\u001B[0m\n\u001B[1;32m    774\u001B[0m         \u001B[38;5;28mself\u001B[39m\u001B[38;5;241m.\u001B[39m_result\u001B[38;5;241m.\u001B[39munbuffered_active \u001B[38;5;241m=\u001B[39m \u001B[38;5;28;01mFalse\u001B[39;00m\n\u001B[0;32m--> 775\u001B[0m     packet\u001B[38;5;241m.\u001B[39mraise_for_error()\n\u001B[1;32m    776\u001B[0m \u001B[38;5;28;01mreturn\u001B[39;00m packet\n",
      "File \u001B[0;32m/opt/anaconda3/lib/python3.11/site-packages/pymysql/protocol.py:219\u001B[0m, in \u001B[0;36mMysqlPacket.raise_for_error\u001B[0;34m(self)\u001B[0m\n\u001B[1;32m    218\u001B[0m     \u001B[38;5;28mprint\u001B[39m(\u001B[38;5;124m\"\u001B[39m\u001B[38;5;124merrno =\u001B[39m\u001B[38;5;124m\"\u001B[39m, errno)\n\u001B[0;32m--> 219\u001B[0m err\u001B[38;5;241m.\u001B[39mraise_mysql_exception(\u001B[38;5;28mself\u001B[39m\u001B[38;5;241m.\u001B[39m_data)\n",
      "File \u001B[0;32m/opt/anaconda3/lib/python3.11/site-packages/pymysql/err.py:150\u001B[0m, in \u001B[0;36mraise_mysql_exception\u001B[0;34m(data)\u001B[0m\n\u001B[1;32m    149\u001B[0m     errorclass \u001B[38;5;241m=\u001B[39m InternalError \u001B[38;5;28;01mif\u001B[39;00m errno \u001B[38;5;241m<\u001B[39m \u001B[38;5;241m1000\u001B[39m \u001B[38;5;28;01melse\u001B[39;00m OperationalError\n\u001B[0;32m--> 150\u001B[0m \u001B[38;5;28;01mraise\u001B[39;00m errorclass(errno, errval)\n",
      "\u001B[0;31mProgrammingError\u001B[0m: (1064, \"You have an error in your SQL syntax; check the manual that corresponds to your MySQL server version for the right syntax to use near 'CREATE TABLE faers.ribo_caseid_tb as\\nselect primaryid, caseid, DRUG_SEQ,START_DT' at line 3\")",
      "\nThe above exception was the direct cause of the following exception:\n",
      "\u001B[0;31mDatabaseError\u001B[0m                             Traceback (most recent call last)",
      "Cell \u001B[0;32mIn[42], line 14\u001B[0m\n\u001B[1;32m      1\u001B[0m sql \u001B[38;5;241m=\u001B[39m \u001B[38;5;124m'''\u001B[39m\u001B[38;5;124m \u001B[39m\n\u001B[1;32m      2\u001B[0m \u001B[38;5;124m-- 获得药品相关的所有case\u001B[39m\n\u001B[1;32m      3\u001B[0m \u001B[38;5;124mDROP TABLE  if exists faers.ribo_caseid_tb;\u001B[39m\n\u001B[0;32m   (...)\u001B[0m\n\u001B[1;32m     11\u001B[0m \u001B[38;5;124m    ) and lower(d1.role_cod) = \u001B[39m\u001B[38;5;124m'\u001B[39m\u001B[38;5;124mps\u001B[39m\u001B[38;5;124m'\u001B[39m\n\u001B[1;32m     12\u001B[0m \u001B[38;5;124m; \u001B[39m\u001B[38;5;124m'''\u001B[39m\n\u001B[0;32m---> 14\u001B[0m df \u001B[38;5;241m=\u001B[39m pd\u001B[38;5;241m.\u001B[39mread_sql_query(sql, conn)\n\u001B[1;32m     15\u001B[0m df\u001B[38;5;241m.\u001B[39mtail(\u001B[38;5;241m10\u001B[39m)\n",
      "File \u001B[0;32m/opt/anaconda3/lib/python3.11/site-packages/pandas/io/sql.py:526\u001B[0m, in \u001B[0;36mread_sql_query\u001B[0;34m(sql, con, index_col, coerce_float, params, parse_dates, chunksize, dtype, dtype_backend)\u001B[0m\n\u001B[1;32m    523\u001B[0m \u001B[38;5;28;01massert\u001B[39;00m dtype_backend \u001B[38;5;129;01mis\u001B[39;00m \u001B[38;5;129;01mnot\u001B[39;00m lib\u001B[38;5;241m.\u001B[39mno_default\n\u001B[1;32m    525\u001B[0m \u001B[38;5;28;01mwith\u001B[39;00m pandasSQL_builder(con) \u001B[38;5;28;01mas\u001B[39;00m pandas_sql:\n\u001B[0;32m--> 526\u001B[0m     \u001B[38;5;28;01mreturn\u001B[39;00m pandas_sql\u001B[38;5;241m.\u001B[39mread_query(\n\u001B[1;32m    527\u001B[0m         sql,\n\u001B[1;32m    528\u001B[0m         index_col\u001B[38;5;241m=\u001B[39mindex_col,\n\u001B[1;32m    529\u001B[0m         params\u001B[38;5;241m=\u001B[39mparams,\n\u001B[1;32m    530\u001B[0m         coerce_float\u001B[38;5;241m=\u001B[39mcoerce_float,\n\u001B[1;32m    531\u001B[0m         parse_dates\u001B[38;5;241m=\u001B[39mparse_dates,\n\u001B[1;32m    532\u001B[0m         chunksize\u001B[38;5;241m=\u001B[39mchunksize,\n\u001B[1;32m    533\u001B[0m         dtype\u001B[38;5;241m=\u001B[39mdtype,\n\u001B[1;32m    534\u001B[0m         dtype_backend\u001B[38;5;241m=\u001B[39mdtype_backend,\n\u001B[1;32m    535\u001B[0m     )\n",
      "File \u001B[0;32m/opt/anaconda3/lib/python3.11/site-packages/pandas/io/sql.py:2738\u001B[0m, in \u001B[0;36mSQLiteDatabase.read_query\u001B[0;34m(self, sql, index_col, coerce_float, parse_dates, params, chunksize, dtype, dtype_backend)\u001B[0m\n\u001B[1;32m   2727\u001B[0m \u001B[38;5;28;01mdef\u001B[39;00m \u001B[38;5;21mread_query\u001B[39m(\n\u001B[1;32m   2728\u001B[0m     \u001B[38;5;28mself\u001B[39m,\n\u001B[1;32m   2729\u001B[0m     sql,\n\u001B[0;32m   (...)\u001B[0m\n\u001B[1;32m   2736\u001B[0m     dtype_backend: DtypeBackend \u001B[38;5;241m|\u001B[39m Literal[\u001B[38;5;124m\"\u001B[39m\u001B[38;5;124mnumpy\u001B[39m\u001B[38;5;124m\"\u001B[39m] \u001B[38;5;241m=\u001B[39m \u001B[38;5;124m\"\u001B[39m\u001B[38;5;124mnumpy\u001B[39m\u001B[38;5;124m\"\u001B[39m,\n\u001B[1;32m   2737\u001B[0m ) \u001B[38;5;241m-\u001B[39m\u001B[38;5;241m>\u001B[39m DataFrame \u001B[38;5;241m|\u001B[39m Iterator[DataFrame]:\n\u001B[0;32m-> 2738\u001B[0m     cursor \u001B[38;5;241m=\u001B[39m \u001B[38;5;28mself\u001B[39m\u001B[38;5;241m.\u001B[39mexecute(sql, params)\n\u001B[1;32m   2739\u001B[0m     columns \u001B[38;5;241m=\u001B[39m [col_desc[\u001B[38;5;241m0\u001B[39m] \u001B[38;5;28;01mfor\u001B[39;00m col_desc \u001B[38;5;129;01min\u001B[39;00m cursor\u001B[38;5;241m.\u001B[39mdescription]\n\u001B[1;32m   2741\u001B[0m     \u001B[38;5;28;01mif\u001B[39;00m chunksize \u001B[38;5;129;01mis\u001B[39;00m \u001B[38;5;129;01mnot\u001B[39;00m \u001B[38;5;28;01mNone\u001B[39;00m:\n",
      "File \u001B[0;32m/opt/anaconda3/lib/python3.11/site-packages/pandas/io/sql.py:2686\u001B[0m, in \u001B[0;36mSQLiteDatabase.execute\u001B[0;34m(self, sql, params)\u001B[0m\n\u001B[1;32m   2683\u001B[0m     \u001B[38;5;28;01mraise\u001B[39;00m ex \u001B[38;5;28;01mfrom\u001B[39;00m \u001B[38;5;21;01minner_exc\u001B[39;00m\n\u001B[1;32m   2685\u001B[0m ex \u001B[38;5;241m=\u001B[39m DatabaseError(\u001B[38;5;124mf\u001B[39m\u001B[38;5;124m\"\u001B[39m\u001B[38;5;124mExecution failed on sql \u001B[39m\u001B[38;5;124m'\u001B[39m\u001B[38;5;132;01m{\u001B[39;00msql\u001B[38;5;132;01m}\u001B[39;00m\u001B[38;5;124m'\u001B[39m\u001B[38;5;124m: \u001B[39m\u001B[38;5;132;01m{\u001B[39;00mexc\u001B[38;5;132;01m}\u001B[39;00m\u001B[38;5;124m\"\u001B[39m)\n\u001B[0;32m-> 2686\u001B[0m \u001B[38;5;28;01mraise\u001B[39;00m ex \u001B[38;5;28;01mfrom\u001B[39;00m \u001B[38;5;21;01mexc\u001B[39;00m\n",
      "\u001B[0;31mDatabaseError\u001B[0m: Execution failed on sql ' \n-- 获得药品相关的所有case\nDROP TABLE  if exists faers.ribo_caseid_tb;\nCREATE TABLE faers.ribo_caseid_tb as\nselect primaryid, caseid, DRUG_SEQ,START_DT\nfrom faers.faers_drug d1\nwhere (lower(d1.drugname) like 'ribociclib%'\n        OR lower(d1.drugname) like '%kisqali%'\n        OR lower(d1.prod_ai) like '%ribociclib%'\n        OR lower(d1.prod_ai) like '%kisqali%'\n    ) and lower(d1.role_cod) = 'ps'\n; ': (1064, \"You have an error in your SQL syntax; check the manual that corresponds to your MySQL server version for the right syntax to use near 'CREATE TABLE faers.ribo_caseid_tb as\\nselect primaryid, caseid, DRUG_SEQ,START_DT' at line 3\")"
     ]
    }
   ],
   "execution_count": 42
  },
  {
   "cell_type": "code",
   "execution_count": null,
   "id": "3aef30a07b024ed3",
   "metadata": {},
   "outputs": [],
   "source": [
    "\n",
    "sql = '''\n",
    "SELECT  sex, COUNT(distinct tb1.caseid) AS caseid_count\n",
    "FROM\n",
    "(   select  caseid, max(sex) as sex\n",
    "    from faers.faers_demo\n",
    "    group by caseid\n",
    ") tb1\n",
    "join (\n",
    "        select distinct caseid\n",
    "        from faers.ribo_caseid_tb\n",
    ") tb2\n",
    "on tb1.caseid = tb2.caseid\n",
    "group by sex;\n",
    "'''"
   ]
  },
  {
   "cell_type": "markdown",
   "id": "a690134e6558652f",
   "metadata": {},
   "source": [
    "## Table1.1性别"
   ]
  },
  {
   "cell_type": "code",
   "execution_count": null,
   "id": "dd217cd13dc042e6",
   "metadata": {},
   "outputs": [],
   "source": [
    "## select * from faers_reac limit"
   ]
  },
  {
   "cell_type": "code",
   "execution_count": 16,
   "id": "9726e04abe0eb3a2",
   "metadata": {
    "ExecuteTime": {
     "end_time": "2024-08-04T13:43:16.033043Z",
     "start_time": "2024-08-04T13:39:38.615013Z"
    }
   },
   "outputs": [
    {
     "name": "stderr",
     "output_type": "stream",
     "text": [
      "/var/folders/7w/sgw5xk457ss20939d0n2_5600000gn/T/ipykernel_8244/2863254186.py:23: UserWarning: pandas only supports SQLAlchemy connectable (engine/connection) or database string URI or sqlite3 DBAPI2 connection. Other DBAPI2 objects are not tested. Please consider using SQLAlchemy.\n",
      "  df_sex = pd.read_sql_query(sql, conn)\n"
     ]
    },
    {
     "data": {
      "text/html": [
       "<div>\n",
       "<style scoped>\n",
       "    .dataframe tbody tr th:only-of-type {\n",
       "        vertical-align: middle;\n",
       "    }\n",
       "\n",
       "    .dataframe tbody tr th {\n",
       "        vertical-align: top;\n",
       "    }\n",
       "\n",
       "    .dataframe thead th {\n",
       "        text-align: right;\n",
       "    }\n",
       "</style>\n",
       "<table border=\"1\" class=\"dataframe\">\n",
       "  <thead>\n",
       "    <tr style=\"text-align: right;\">\n",
       "      <th></th>\n",
       "      <th>sex</th>\n",
       "      <th>caseid_count</th>\n",
       "    </tr>\n",
       "  </thead>\n",
       "  <tbody>\n",
       "    <tr>\n",
       "      <th>0</th>\n",
       "      <td>Female</td>\n",
       "      <td>14061</td>\n",
       "    </tr>\n",
       "    <tr>\n",
       "      <th>1</th>\n",
       "      <td>Male</td>\n",
       "      <td>274</td>\n",
       "    </tr>\n",
       "    <tr>\n",
       "      <th>2</th>\n",
       "      <td>Unknown</td>\n",
       "      <td>1124</td>\n",
       "    </tr>\n",
       "  </tbody>\n",
       "</table>\n",
       "</div>"
      ],
      "text/plain": [
       "       sex  caseid_count\n",
       "0   Female         14061\n",
       "1     Male           274\n",
       "2  Unknown          1124"
      ]
     },
     "execution_count": 16,
     "metadata": {},
     "output_type": "execute_result"
    }
   ],
   "source": [
    "sql = '''\n",
    "\n",
    "SELECT  \n",
    "    case \n",
    "        when sex in ('UNK','') then  'Unknown'\n",
    "        when sex = 'M' then  'Male'\n",
    "        when sex = 'F' then  'Female'\n",
    "        else sex\n",
    "    end as sex, COUNT(distinct tb1.caseid) AS caseid_count\n",
    "FROM\n",
    "(   select  caseid, max(sex) as sex\n",
    "    from faers.faers_demo\n",
    "    group by caseid\n",
    ") tb1\n",
    "join (\n",
    "        select distinct caseid\n",
    "        from faers.ribo_drug_usage\n",
    ") tb2\n",
    "on tb1.caseid = tb2.caseid\n",
    "group by 1 order by 1;\n",
    "\n",
    "'''\n",
    "df_sex = pd.read_sql_query(sql, conn)\n",
    "df_sex\n"
   ]
  },
  {
   "cell_type": "markdown",
   "id": "14998e325d87f59a",
   "metadata": {},
   "source": [
    "## Table1.2年龄\n"
   ]
  },
  {
   "cell_type": "code",
   "execution_count": 19,
   "id": "f205c008426f7508",
   "metadata": {
    "ExecuteTime": {
     "end_time": "2024-08-04T14:01:44.894210Z",
     "start_time": "2024-08-04T13:58:46.172804Z"
    }
   },
   "outputs": [
    {
     "name": "stderr",
     "output_type": "stream",
     "text": [
      "/var/folders/7w/sgw5xk457ss20939d0n2_5600000gn/T/ipykernel_8244/1031500877.py:31: UserWarning: pandas only supports SQLAlchemy connectable (engine/connection) or database string URI or sqlite3 DBAPI2 connection. Other DBAPI2 objects are not tested. Please consider using SQLAlchemy.\n",
      "  df_age = pd.read_sql_query(sql, conn)\n"
     ]
    },
    {
     "data": {
      "text/html": [
       "<div>\n",
       "<style scoped>\n",
       "    .dataframe tbody tr th:only-of-type {\n",
       "        vertical-align: middle;\n",
       "    }\n",
       "\n",
       "    .dataframe tbody tr th {\n",
       "        vertical-align: top;\n",
       "    }\n",
       "\n",
       "    .dataframe thead th {\n",
       "        text-align: right;\n",
       "    }\n",
       "</style>\n",
       "<table border=\"1\" class=\"dataframe\">\n",
       "  <thead>\n",
       "    <tr style=\"text-align: right;\">\n",
       "      <th></th>\n",
       "      <th>age</th>\n",
       "      <th>caseid_count</th>\n",
       "    </tr>\n",
       "  </thead>\n",
       "  <tbody>\n",
       "    <tr>\n",
       "      <th>0</th>\n",
       "      <td>＜18</td>\n",
       "      <td>2</td>\n",
       "    </tr>\n",
       "    <tr>\n",
       "      <th>1</th>\n",
       "      <td>30-49</td>\n",
       "      <td>1</td>\n",
       "    </tr>\n",
       "    <tr>\n",
       "      <th>2</th>\n",
       "      <td>50-64</td>\n",
       "      <td>4</td>\n",
       "    </tr>\n",
       "    <tr>\n",
       "      <th>3</th>\n",
       "      <td>65-74</td>\n",
       "      <td>1</td>\n",
       "    </tr>\n",
       "    <tr>\n",
       "      <th>4</th>\n",
       "      <td>75-84</td>\n",
       "      <td>1</td>\n",
       "    </tr>\n",
       "    <tr>\n",
       "      <th>5</th>\n",
       "      <td>Unknown</td>\n",
       "      <td>15450</td>\n",
       "    </tr>\n",
       "  </tbody>\n",
       "</table>\n",
       "</div>"
      ],
      "text/plain": [
       "       age  caseid_count\n",
       "0      ＜18             2\n",
       "1    30-49             1\n",
       "2    50-64             4\n",
       "3    65-74             1\n",
       "4    75-84             1\n",
       "5  Unknown         15450"
      ]
     },
     "execution_count": 19,
     "metadata": {},
     "output_type": "execute_result"
    }
   ],
   "source": [
    "sql = '''\n",
    "\n",
    "select\n",
    "    case\n",
    "            when age = '无' then 'Unknown'\n",
    "            when cast(age as signed) >= 0  and cast(age as signed) < 18 then '＜18'\n",
    "            when cast(age as signed) >= 18 and cast(age as signed) < 29 then '18-29'\n",
    "            when cast(age as signed) >= 30 and cast(age as signed) < 49 then '30-49'\n",
    "            when cast(age as signed) >= 50 and cast(age as signed) < 64 then '50-64'\n",
    "            when cast(age as signed) >= 65 and cast(age as signed) < 74 then '65-74'\n",
    "            when cast(age as signed) > 75  and cast(age as signed) < 84 then '75-84'\n",
    "            when cast(age as signed) > 75  and cast(age as signed) < 84 then '75-84'\n",
    "            else age\n",
    "    end as 'age',\n",
    "    COUNT(distinct tb1.caseid) AS caseid_count\n",
    "FROM\n",
    "(\n",
    "    select caseid, max(age) as age\n",
    "    from faers.faers_demo\n",
    "    group by caseid\n",
    ") tb1\n",
    "join (\n",
    "        select distinct caseid\n",
    "        from faers.ribo_drug_usage\n",
    ") tb2\n",
    "on tb1.caseid = tb2.caseid\n",
    "group by 1\n",
    "order by 1\n",
    ";\n",
    "'''\n",
    "df_age = pd.read_sql_query(sql, conn)\n",
    "df_age\n"
   ]
  },
  {
   "cell_type": "markdown",
   "id": "6eda3e7ed88db033",
   "metadata": {},
   "source": [
    "## 年龄的分位\n"
   ]
  },
  {
   "cell_type": "code",
   "execution_count": null,
   "id": "28bc0f4297f1db90",
   "metadata": {},
   "outputs": [],
   "source": [
    "sql = '''\n",
    "\n",
    "select \n",
    "    percentile_approx(age, 0.25) as q25,\n",
    "    percentile_approx(age, 0.5) as q50,\n",
    "    percentile_approx(age, 0.75) as q75\n",
    "FROM\n",
    "(\n",
    "    select caseid, max(age) as age\n",
    "    from faers.faers_demo\n",
    "    where age != '无'\n",
    "    group by caseid\n",
    ") tb1\n",
    "join (\n",
    "        select distinct caseid\n",
    "        from faers.ribo_drug_usage\n",
    ") tb2\n",
    "on tb1.caseid = tb2.caseid;\n",
    "\n",
    "'''\n",
    "\n",
    "df_age_q = pd.read_sql_query(sql, conn)\n",
    "df_age_q\n"
   ]
  },
  {
   "cell_type": "code",
   "execution_count": null,
   "id": "517d9acc567c149f",
   "metadata": {},
   "outputs": [],
   "source": []
  },
  {
   "cell_type": "markdown",
   "id": "b4ecb2320653d11d",
   "metadata": {},
   "source": [
    "# Table1.3体重\n"
   ]
  },
  {
   "cell_type": "markdown",
   "id": "a9f32d40caa0fa1a",
   "metadata": {},
   "source": [
    "## 体重的分桶计\n"
   ]
  },
  {
   "cell_type": "code",
   "execution_count": null,
   "id": "54b56c08b053a54",
   "metadata": {
    "ExecuteTime": {
     "end_time": "2024-08-04T14:24:32.757094Z",
     "start_time": "2024-08-04T14:24:32.208642Z"
    }
   },
   "outputs": [],
   "source": [
    "sql = '''\n",
    "\n",
    "select\n",
    "    case\n",
    "            when wt = '无' then 'Unknown'\n",
    "            when cast(wt as signed) >= 0  and cast(wt as signed) < 80 then '＜80'\n",
    "            when cast(wt as signed) >= 80 and cast(wt as signed) < 100 then '80-100'\n",
    "            when cast(wt as signed) >= 100 then '>100'\n",
    "            else wt\n",
    "    end as wt_bucket,\n",
    "    COUNT(distinct tb1.caseid) AS caseid_count\n",
    "FROM\n",
    "(\n",
    "    select caseid, max(wt) as wt\n",
    "    from faers.faers_demo\n",
    "    where upper(I_F_COD) = 'I'\n",
    "    group by caseid\n",
    ") tb1\n",
    "join (\n",
    "        select distinct caseid\n",
    "        from faers.ribo_drug_usage\n",
    ") tb2\n",
    "on tb1.caseid = tb2.caseid\n",
    "group by 1\n",
    "order by 1\n",
    ";\n",
    "'''\n",
    "df_wt = pd.read_sql_query(sql, conn)\n",
    "df_wt\n"
   ]
  },
  {
   "cell_type": "markdown",
   "id": "a5d452c5a439890",
   "metadata": {},
   "source": [
    "## 体重的分位点"
   ]
  },
  {
   "cell_type": "code",
   "execution_count": null,
   "id": "6108498c353a7d4c",
   "metadata": {},
   "outputs": [],
   "source": []
  },
  {
   "cell_type": "code",
   "execution_count": 26,
   "id": "3d09e068fe4f329a",
   "metadata": {
    "ExecuteTime": {
     "end_time": "2024-08-04T14:38:01.669524Z",
     "start_time": "2024-08-04T14:38:01.517830Z"
    }
   },
   "outputs": [
    {
     "name": "stderr",
     "output_type": "stream",
     "text": [
      "/var/folders/7w/sgw5xk457ss20939d0n2_5600000gn/T/ipykernel_8244/36466318.py:22: UserWarning: pandas only supports SQLAlchemy connectable (engine/connection) or database string URI or sqlite3 DBAPI2 connection. Other DBAPI2 objects are not tested. Please consider using SQLAlchemy.\n",
      "  df_wt_q = pd.read_sql_query(sql, conn)\n"
     ]
    },
    {
     "ename": "DatabaseError",
     "evalue": "Execution failed on sql '\n\nselect \n    percentile(wt, 0.25) as wt_q25,\n    percentile(wt, 0.5)  as wt_q50,\n    percentile(wt, 0.75) as wt_q75\nFROM\n(\n    select caseid, max(wt) as wt\n    from faers.faers_demo\n    where wt != '无' and upper(I_F_COD) = 'I'   \n    group by caseid\n) tb1\njoin (\n        select distinct caseid\n        from faers.ribo_caseid_tb\n) tb2\non tb1.caseid = tb2.caseid;\n\n': (1305, 'FUNCTION faers.percentile does not exist')",
     "output_type": "error",
     "traceback": [
      "\u001B[0;31m---------------------------------------------------------------------------\u001B[0m",
      "\u001B[0;31mOperationalError\u001B[0m                          Traceback (most recent call last)",
      "File \u001B[0;32m/opt/anaconda3/lib/python3.11/site-packages/pandas/io/sql.py:2674\u001B[0m, in \u001B[0;36mSQLiteDatabase.execute\u001B[0;34m(self, sql, params)\u001B[0m\n\u001B[1;32m   2673\u001B[0m \u001B[38;5;28;01mtry\u001B[39;00m:\n\u001B[0;32m-> 2674\u001B[0m     cur\u001B[38;5;241m.\u001B[39mexecute(sql, \u001B[38;5;241m*\u001B[39margs)\n\u001B[1;32m   2675\u001B[0m     \u001B[38;5;28;01mreturn\u001B[39;00m cur\n",
      "File \u001B[0;32m/opt/anaconda3/lib/python3.11/site-packages/pymysql/cursors.py:153\u001B[0m, in \u001B[0;36mCursor.execute\u001B[0;34m(self, query, args)\u001B[0m\n\u001B[1;32m    151\u001B[0m query \u001B[38;5;241m=\u001B[39m \u001B[38;5;28mself\u001B[39m\u001B[38;5;241m.\u001B[39mmogrify(query, args)\n\u001B[0;32m--> 153\u001B[0m result \u001B[38;5;241m=\u001B[39m \u001B[38;5;28mself\u001B[39m\u001B[38;5;241m.\u001B[39m_query(query)\n\u001B[1;32m    154\u001B[0m \u001B[38;5;28mself\u001B[39m\u001B[38;5;241m.\u001B[39m_executed \u001B[38;5;241m=\u001B[39m query\n",
      "File \u001B[0;32m/opt/anaconda3/lib/python3.11/site-packages/pymysql/cursors.py:322\u001B[0m, in \u001B[0;36mCursor._query\u001B[0;34m(self, q)\u001B[0m\n\u001B[1;32m    321\u001B[0m \u001B[38;5;28mself\u001B[39m\u001B[38;5;241m.\u001B[39m_clear_result()\n\u001B[0;32m--> 322\u001B[0m conn\u001B[38;5;241m.\u001B[39mquery(q)\n\u001B[1;32m    323\u001B[0m \u001B[38;5;28mself\u001B[39m\u001B[38;5;241m.\u001B[39m_do_get_result()\n",
      "File \u001B[0;32m/opt/anaconda3/lib/python3.11/site-packages/pymysql/connections.py:563\u001B[0m, in \u001B[0;36mConnection.query\u001B[0;34m(self, sql, unbuffered)\u001B[0m\n\u001B[1;32m    562\u001B[0m \u001B[38;5;28mself\u001B[39m\u001B[38;5;241m.\u001B[39m_execute_command(COMMAND\u001B[38;5;241m.\u001B[39mCOM_QUERY, sql)\n\u001B[0;32m--> 563\u001B[0m \u001B[38;5;28mself\u001B[39m\u001B[38;5;241m.\u001B[39m_affected_rows \u001B[38;5;241m=\u001B[39m \u001B[38;5;28mself\u001B[39m\u001B[38;5;241m.\u001B[39m_read_query_result(unbuffered\u001B[38;5;241m=\u001B[39munbuffered)\n\u001B[1;32m    564\u001B[0m \u001B[38;5;28;01mreturn\u001B[39;00m \u001B[38;5;28mself\u001B[39m\u001B[38;5;241m.\u001B[39m_affected_rows\n",
      "File \u001B[0;32m/opt/anaconda3/lib/python3.11/site-packages/pymysql/connections.py:825\u001B[0m, in \u001B[0;36mConnection._read_query_result\u001B[0;34m(self, unbuffered)\u001B[0m\n\u001B[1;32m    824\u001B[0m     result \u001B[38;5;241m=\u001B[39m MySQLResult(\u001B[38;5;28mself\u001B[39m)\n\u001B[0;32m--> 825\u001B[0m     result\u001B[38;5;241m.\u001B[39mread()\n\u001B[1;32m    826\u001B[0m \u001B[38;5;28mself\u001B[39m\u001B[38;5;241m.\u001B[39m_result \u001B[38;5;241m=\u001B[39m result\n",
      "File \u001B[0;32m/opt/anaconda3/lib/python3.11/site-packages/pymysql/connections.py:1199\u001B[0m, in \u001B[0;36mMySQLResult.read\u001B[0;34m(self)\u001B[0m\n\u001B[1;32m   1198\u001B[0m \u001B[38;5;28;01mtry\u001B[39;00m:\n\u001B[0;32m-> 1199\u001B[0m     first_packet \u001B[38;5;241m=\u001B[39m \u001B[38;5;28mself\u001B[39m\u001B[38;5;241m.\u001B[39mconnection\u001B[38;5;241m.\u001B[39m_read_packet()\n\u001B[1;32m   1201\u001B[0m     \u001B[38;5;28;01mif\u001B[39;00m first_packet\u001B[38;5;241m.\u001B[39mis_ok_packet():\n",
      "File \u001B[0;32m/opt/anaconda3/lib/python3.11/site-packages/pymysql/connections.py:775\u001B[0m, in \u001B[0;36mConnection._read_packet\u001B[0;34m(self, packet_type)\u001B[0m\n\u001B[1;32m    774\u001B[0m         \u001B[38;5;28mself\u001B[39m\u001B[38;5;241m.\u001B[39m_result\u001B[38;5;241m.\u001B[39munbuffered_active \u001B[38;5;241m=\u001B[39m \u001B[38;5;28;01mFalse\u001B[39;00m\n\u001B[0;32m--> 775\u001B[0m     packet\u001B[38;5;241m.\u001B[39mraise_for_error()\n\u001B[1;32m    776\u001B[0m \u001B[38;5;28;01mreturn\u001B[39;00m packet\n",
      "File \u001B[0;32m/opt/anaconda3/lib/python3.11/site-packages/pymysql/protocol.py:219\u001B[0m, in \u001B[0;36mMysqlPacket.raise_for_error\u001B[0;34m(self)\u001B[0m\n\u001B[1;32m    218\u001B[0m     \u001B[38;5;28mprint\u001B[39m(\u001B[38;5;124m\"\u001B[39m\u001B[38;5;124merrno =\u001B[39m\u001B[38;5;124m\"\u001B[39m, errno)\n\u001B[0;32m--> 219\u001B[0m err\u001B[38;5;241m.\u001B[39mraise_mysql_exception(\u001B[38;5;28mself\u001B[39m\u001B[38;5;241m.\u001B[39m_data)\n",
      "File \u001B[0;32m/opt/anaconda3/lib/python3.11/site-packages/pymysql/err.py:150\u001B[0m, in \u001B[0;36mraise_mysql_exception\u001B[0;34m(data)\u001B[0m\n\u001B[1;32m    149\u001B[0m     errorclass \u001B[38;5;241m=\u001B[39m InternalError \u001B[38;5;28;01mif\u001B[39;00m errno \u001B[38;5;241m<\u001B[39m \u001B[38;5;241m1000\u001B[39m \u001B[38;5;28;01melse\u001B[39;00m OperationalError\n\u001B[0;32m--> 150\u001B[0m \u001B[38;5;28;01mraise\u001B[39;00m errorclass(errno, errval)\n",
      "\u001B[0;31mOperationalError\u001B[0m: (1305, 'FUNCTION faers.percentile does not exist')",
      "\nThe above exception was the direct cause of the following exception:\n",
      "\u001B[0;31mDatabaseError\u001B[0m                             Traceback (most recent call last)",
      "Cell \u001B[0;32mIn[26], line 22\u001B[0m\n\u001B[1;32m      1\u001B[0m sql \u001B[38;5;241m=\u001B[39m \u001B[38;5;124m'''\u001B[39m\n\u001B[1;32m      2\u001B[0m \n\u001B[1;32m      3\u001B[0m \u001B[38;5;124mselect \u001B[39m\n\u001B[0;32m   (...)\u001B[0m\n\u001B[1;32m     19\u001B[0m \n\u001B[1;32m     20\u001B[0m \u001B[38;5;124m'''\u001B[39m\n\u001B[0;32m---> 22\u001B[0m df_wt_q \u001B[38;5;241m=\u001B[39m pd\u001B[38;5;241m.\u001B[39mread_sql_query(sql, conn)\n\u001B[1;32m     23\u001B[0m df_wt_q\n",
      "File \u001B[0;32m/opt/anaconda3/lib/python3.11/site-packages/pandas/io/sql.py:526\u001B[0m, in \u001B[0;36mread_sql_query\u001B[0;34m(sql, con, index_col, coerce_float, params, parse_dates, chunksize, dtype, dtype_backend)\u001B[0m\n\u001B[1;32m    523\u001B[0m \u001B[38;5;28;01massert\u001B[39;00m dtype_backend \u001B[38;5;129;01mis\u001B[39;00m \u001B[38;5;129;01mnot\u001B[39;00m lib\u001B[38;5;241m.\u001B[39mno_default\n\u001B[1;32m    525\u001B[0m \u001B[38;5;28;01mwith\u001B[39;00m pandasSQL_builder(con) \u001B[38;5;28;01mas\u001B[39;00m pandas_sql:\n\u001B[0;32m--> 526\u001B[0m     \u001B[38;5;28;01mreturn\u001B[39;00m pandas_sql\u001B[38;5;241m.\u001B[39mread_query(\n\u001B[1;32m    527\u001B[0m         sql,\n\u001B[1;32m    528\u001B[0m         index_col\u001B[38;5;241m=\u001B[39mindex_col,\n\u001B[1;32m    529\u001B[0m         params\u001B[38;5;241m=\u001B[39mparams,\n\u001B[1;32m    530\u001B[0m         coerce_float\u001B[38;5;241m=\u001B[39mcoerce_float,\n\u001B[1;32m    531\u001B[0m         parse_dates\u001B[38;5;241m=\u001B[39mparse_dates,\n\u001B[1;32m    532\u001B[0m         chunksize\u001B[38;5;241m=\u001B[39mchunksize,\n\u001B[1;32m    533\u001B[0m         dtype\u001B[38;5;241m=\u001B[39mdtype,\n\u001B[1;32m    534\u001B[0m         dtype_backend\u001B[38;5;241m=\u001B[39mdtype_backend,\n\u001B[1;32m    535\u001B[0m     )\n",
      "File \u001B[0;32m/opt/anaconda3/lib/python3.11/site-packages/pandas/io/sql.py:2738\u001B[0m, in \u001B[0;36mSQLiteDatabase.read_query\u001B[0;34m(self, sql, index_col, coerce_float, parse_dates, params, chunksize, dtype, dtype_backend)\u001B[0m\n\u001B[1;32m   2727\u001B[0m \u001B[38;5;28;01mdef\u001B[39;00m \u001B[38;5;21mread_query\u001B[39m(\n\u001B[1;32m   2728\u001B[0m     \u001B[38;5;28mself\u001B[39m,\n\u001B[1;32m   2729\u001B[0m     sql,\n\u001B[0;32m   (...)\u001B[0m\n\u001B[1;32m   2736\u001B[0m     dtype_backend: DtypeBackend \u001B[38;5;241m|\u001B[39m Literal[\u001B[38;5;124m\"\u001B[39m\u001B[38;5;124mnumpy\u001B[39m\u001B[38;5;124m\"\u001B[39m] \u001B[38;5;241m=\u001B[39m \u001B[38;5;124m\"\u001B[39m\u001B[38;5;124mnumpy\u001B[39m\u001B[38;5;124m\"\u001B[39m,\n\u001B[1;32m   2737\u001B[0m ) \u001B[38;5;241m-\u001B[39m\u001B[38;5;241m>\u001B[39m DataFrame \u001B[38;5;241m|\u001B[39m Iterator[DataFrame]:\n\u001B[0;32m-> 2738\u001B[0m     cursor \u001B[38;5;241m=\u001B[39m \u001B[38;5;28mself\u001B[39m\u001B[38;5;241m.\u001B[39mexecute(sql, params)\n\u001B[1;32m   2739\u001B[0m     columns \u001B[38;5;241m=\u001B[39m [col_desc[\u001B[38;5;241m0\u001B[39m] \u001B[38;5;28;01mfor\u001B[39;00m col_desc \u001B[38;5;129;01min\u001B[39;00m cursor\u001B[38;5;241m.\u001B[39mdescription]\n\u001B[1;32m   2741\u001B[0m     \u001B[38;5;28;01mif\u001B[39;00m chunksize \u001B[38;5;129;01mis\u001B[39;00m \u001B[38;5;129;01mnot\u001B[39;00m \u001B[38;5;28;01mNone\u001B[39;00m:\n",
      "File \u001B[0;32m/opt/anaconda3/lib/python3.11/site-packages/pandas/io/sql.py:2686\u001B[0m, in \u001B[0;36mSQLiteDatabase.execute\u001B[0;34m(self, sql, params)\u001B[0m\n\u001B[1;32m   2683\u001B[0m     \u001B[38;5;28;01mraise\u001B[39;00m ex \u001B[38;5;28;01mfrom\u001B[39;00m \u001B[38;5;21;01minner_exc\u001B[39;00m\n\u001B[1;32m   2685\u001B[0m ex \u001B[38;5;241m=\u001B[39m DatabaseError(\u001B[38;5;124mf\u001B[39m\u001B[38;5;124m\"\u001B[39m\u001B[38;5;124mExecution failed on sql \u001B[39m\u001B[38;5;124m'\u001B[39m\u001B[38;5;132;01m{\u001B[39;00msql\u001B[38;5;132;01m}\u001B[39;00m\u001B[38;5;124m'\u001B[39m\u001B[38;5;124m: \u001B[39m\u001B[38;5;132;01m{\u001B[39;00mexc\u001B[38;5;132;01m}\u001B[39;00m\u001B[38;5;124m\"\u001B[39m)\n\u001B[0;32m-> 2686\u001B[0m \u001B[38;5;28;01mraise\u001B[39;00m ex \u001B[38;5;28;01mfrom\u001B[39;00m \u001B[38;5;21;01mexc\u001B[39;00m\n",
      "\u001B[0;31mDatabaseError\u001B[0m: Execution failed on sql '\n\nselect \n    percentile(wt, 0.25) as wt_q25,\n    percentile(wt, 0.5)  as wt_q50,\n    percentile(wt, 0.75) as wt_q75\nFROM\n(\n    select caseid, max(wt) as wt\n    from faers.faers_demo\n    where wt != '无' and upper(I_F_COD) = 'I'   \n    group by caseid\n) tb1\njoin (\n        select distinct caseid\n        from faers.ribo_caseid_tb\n) tb2\non tb1.caseid = tb2.caseid;\n\n': (1305, 'FUNCTION faers.percentile does not exist')"
     ]
    }
   ],
   "source": [
    "sql = '''\n",
    "\n",
    "select \n",
    "    percentile(wt, 0.25) as wt_q25,\n",
    "    percentile(wt, 0.5)  as wt_q50,\n",
    "    percentile(wt, 0.75) as wt_q75\n",
    "FROM\n",
    "(\n",
    "    select caseid, max(wt) as wt\n",
    "    from faers.faers_demo\n",
    "    where wt != '无' and upper(I_F_COD) = 'I'   \n",
    "    group by caseid\n",
    ") tb1\n",
    "join (\n",
    "        select distinct caseid\n",
    "        from faers.ribo_drug_usage\n",
    ") tb2\n",
    "on tb1.caseid = tb2.caseid;\n",
    "\n",
    "'''\n",
    "\n",
    "df_wt_q = pd.read_sql_query(sql, conn)\n",
    "df_wt_q\n"
   ]
  },
  {
   "cell_type": "markdown",
   "id": "f156bdf3806a40be",
   "metadata": {},
   "source": [
    "# Table1.4上报者职业"
   ]
  },
  {
   "cell_type": "code",
   "execution_count": 27,
   "id": "75b667088ca7511b",
   "metadata": {
    "ExecuteTime": {
     "end_time": "2024-08-04T14:47:23.542871Z",
     "start_time": "2024-08-04T14:44:08.123831Z"
    }
   },
   "outputs": [
    {
     "name": "stderr",
     "output_type": "stream",
     "text": [
      "/var/folders/7w/sgw5xk457ss20939d0n2_5600000gn/T/ipykernel_8244/3593283355.py:21: UserWarning: pandas only supports SQLAlchemy connectable (engine/connection) or database string URI or sqlite3 DBAPI2 connection. Other DBAPI2 objects are not tested. Please consider using SQLAlchemy.\n",
      "  df_reporter = pd.read_sql_query(sql, conn)\n"
     ]
    },
    {
     "data": {
      "text/html": [
       "<div>\n",
       "<style scoped>\n",
       "    .dataframe tbody tr th:only-of-type {\n",
       "        vertical-align: middle;\n",
       "    }\n",
       "\n",
       "    .dataframe tbody tr th {\n",
       "        vertical-align: top;\n",
       "    }\n",
       "\n",
       "    .dataframe thead th {\n",
       "        text-align: right;\n",
       "    }\n",
       "</style>\n",
       "<table border=\"1\" class=\"dataframe\">\n",
       "  <thead>\n",
       "    <tr style=\"text-align: right;\">\n",
       "      <th></th>\n",
       "      <th>OCCP_COD</th>\n",
       "      <th>caseid_count</th>\n",
       "    </tr>\n",
       "  </thead>\n",
       "  <tbody>\n",
       "    <tr>\n",
       "      <th>0</th>\n",
       "      <td></td>\n",
       "      <td>316</td>\n",
       "    </tr>\n",
       "    <tr>\n",
       "      <th>1</th>\n",
       "      <td>CN</td>\n",
       "      <td>8032</td>\n",
       "    </tr>\n",
       "    <tr>\n",
       "      <th>2</th>\n",
       "      <td>HP</td>\n",
       "      <td>1616</td>\n",
       "    </tr>\n",
       "    <tr>\n",
       "      <th>3</th>\n",
       "      <td>MD</td>\n",
       "      <td>3964</td>\n",
       "    </tr>\n",
       "    <tr>\n",
       "      <th>4</th>\n",
       "      <td>OT</td>\n",
       "      <td>960</td>\n",
       "    </tr>\n",
       "    <tr>\n",
       "      <th>5</th>\n",
       "      <td>PH</td>\n",
       "      <td>571</td>\n",
       "    </tr>\n",
       "  </tbody>\n",
       "</table>\n",
       "</div>"
      ],
      "text/plain": [
       "  OCCP_COD  caseid_count\n",
       "0                    316\n",
       "1       CN          8032\n",
       "2       HP          1616\n",
       "3       MD          3964\n",
       "4       OT           960\n",
       "5       PH           571"
      ]
     },
     "execution_count": 27,
     "metadata": {},
     "output_type": "execute_result"
    }
   ],
   "source": [
    "sql = '''\n",
    "\n",
    "select\n",
    "    OCCP_COD,\n",
    "    COUNT(distinct tb1.caseid) AS caseid_count\n",
    "FROM\n",
    "(\n",
    "    select caseid, max(OCCP_COD) as OCCP_COD\n",
    "    from faers.faers_demo\n",
    "    group by caseid\n",
    ") tb1\n",
    "join (\n",
    "        select distinct caseid\n",
    "        from faers.ribo_drug_usage\n",
    ") tb2\n",
    "on tb1.caseid = tb2.caseid\n",
    "group by 1\n",
    "order by 1\n",
    ";\n",
    "'''\n",
    "df_reporter = pd.read_sql_query(sql, conn)\n",
    "df_reporter\n",
    "\n"
   ]
  },
  {
   "cell_type": "markdown",
   "id": "27649e590bba4c98",
   "metadata": {},
   "source": [
    "# Table1.5不良反应造成的结局"
   ]
  },
  {
   "cell_type": "code",
   "execution_count": 30,
   "id": "bc28d7c84bc18e48",
   "metadata": {
    "ExecuteTime": {
     "end_time": "2024-08-04T14:51:18.781335Z",
     "start_time": "2024-08-04T14:49:52.413880Z"
    }
   },
   "outputs": [
    {
     "name": "stderr",
     "output_type": "stream",
     "text": [
      "/var/folders/7w/sgw5xk457ss20939d0n2_5600000gn/T/ipykernel_8244/3888994451.py:21: UserWarning: pandas only supports SQLAlchemy connectable (engine/connection) or database string URI or sqlite3 DBAPI2 connection. Other DBAPI2 objects are not tested. Please consider using SQLAlchemy.\n",
      "  df_outcome = pd.read_sql_query(sql, conn)\n"
     ]
    },
    {
     "ename": "NameError",
     "evalue": "name 'df_outcom' is not defined",
     "output_type": "error",
     "traceback": [
      "\u001B[0;31m---------------------------------------------------------------------------\u001B[0m",
      "\u001B[0;31mNameError\u001B[0m                                 Traceback (most recent call last)",
      "Cell \u001B[0;32mIn[30], line 22\u001B[0m\n\u001B[1;32m      1\u001B[0m sql \u001B[38;5;241m=\u001B[39m \u001B[38;5;124m'''\u001B[39m\n\u001B[1;32m      2\u001B[0m \n\u001B[1;32m      3\u001B[0m \u001B[38;5;124mselect\u001B[39m\n\u001B[0;32m   (...)\u001B[0m\n\u001B[1;32m     19\u001B[0m \u001B[38;5;124m;\u001B[39m\n\u001B[1;32m     20\u001B[0m \u001B[38;5;124m'''\u001B[39m\n\u001B[1;32m     21\u001B[0m df_outcome \u001B[38;5;241m=\u001B[39m pd\u001B[38;5;241m.\u001B[39mread_sql_query(sql, conn)\n\u001B[0;32m---> 22\u001B[0m df_outcom\n",
      "\u001B[0;31mNameError\u001B[0m: name 'df_outcom' is not defined"
     ]
    }
   ],
   "source": [
    "sql = '''\n",
    "\n",
    "select\n",
    "    OUTC_COD,\n",
    "    COUNT(distinct tb1.caseid) AS caseid_count\n",
    "FROM\n",
    "(\n",
    "    select caseid, max(OUTC_COD) as OUTC_COD\n",
    "    from faers.faers_outc\n",
    "    group by caseid\n",
    ") tb1\n",
    "join (\n",
    "        select distinct caseid\n",
    "        from faers.ribo_drug_usage\n",
    ") tb2\n",
    "on tb1.caseid = tb2.caseid\n",
    "group by 1\n",
    "order by 1\n",
    ";\n",
    "'''\n",
    "df_outcome = pd.read_sql_query(sql, conn)\n",
    "df_outcome\n",
    "\n"
   ]
  },
  {
   "cell_type": "code",
   "execution_count": 31,
   "id": "52334bb933284547",
   "metadata": {
    "ExecuteTime": {
     "end_time": "2024-08-04T14:59:10.698889Z",
     "start_time": "2024-08-04T14:59:10.682827Z"
    }
   },
   "outputs": [
    {
     "data": {
      "text/html": [
       "<div>\n",
       "<style scoped>\n",
       "    .dataframe tbody tr th:only-of-type {\n",
       "        vertical-align: middle;\n",
       "    }\n",
       "\n",
       "    .dataframe tbody tr th {\n",
       "        vertical-align: top;\n",
       "    }\n",
       "\n",
       "    .dataframe thead th {\n",
       "        text-align: right;\n",
       "    }\n",
       "</style>\n",
       "<table border=\"1\" class=\"dataframe\">\n",
       "  <thead>\n",
       "    <tr style=\"text-align: right;\">\n",
       "      <th></th>\n",
       "      <th>OUTC_COD</th>\n",
       "      <th>caseid_count</th>\n",
       "    </tr>\n",
       "  </thead>\n",
       "  <tbody>\n",
       "    <tr>\n",
       "      <th>0</th>\n",
       "      <td>0</td>\n",
       "      <td>2034</td>\n",
       "    </tr>\n",
       "    <tr>\n",
       "      <th>1</th>\n",
       "      <td>1</td>\n",
       "      <td>82</td>\n",
       "    </tr>\n",
       "    <tr>\n",
       "      <th>2</th>\n",
       "      <td>2</td>\n",
       "      <td>1973</td>\n",
       "    </tr>\n",
       "    <tr>\n",
       "      <th>3</th>\n",
       "      <td>3</td>\n",
       "      <td>66</td>\n",
       "    </tr>\n",
       "    <tr>\n",
       "      <th>4</th>\n",
       "      <td>4</td>\n",
       "      <td>1</td>\n",
       "    </tr>\n",
       "    <tr>\n",
       "      <th>5</th>\n",
       "      <td>5</td>\n",
       "      <td>15</td>\n",
       "    </tr>\n",
       "    <tr>\n",
       "      <th>6</th>\n",
       "      <td>6</td>\n",
       "      <td>7270</td>\n",
       "    </tr>\n",
       "  </tbody>\n",
       "</table>\n",
       "</div>"
      ],
      "text/plain": [
       "  OUTC_COD  caseid_count\n",
       "0        0          2034\n",
       "1        1            82\n",
       "2        2          1973\n",
       "3        3            66\n",
       "4        4             1\n",
       "5        5            15\n",
       "6        6          7270"
      ]
     },
     "execution_count": 31,
     "metadata": {},
     "output_type": "execute_result"
    }
   ],
   "source": [
    "df_outcome\n"
   ]
  },
  {
   "cell_type": "markdown",
   "id": "ff7ca6b3505d6156",
   "metadata": {},
   "source": [
    "# Table1.6不良反应上报的国家"
   ]
  },
  {
   "cell_type": "code",
   "execution_count": null,
   "id": "2f035d34732bd6a8",
   "metadata": {},
   "outputs": [
    {
     "name": "stderr",
     "output_type": "stream",
     "text": [
      "/var/folders/7w/sgw5xk457ss20939d0n2_5600000gn/T/ipykernel_44459/2513200929.py:21: UserWarning: pandas only supports SQLAlchemy connectable (engine/connection) or database string URI or sqlite3 DBAPI2 connection. Other DBAPI2 objects are not tested. Please consider using SQLAlchemy.\n",
      "  df_reporter_country = pd.read_sql_query(sql, conn)\n"
     ]
    }
   ],
   "source": [
    "sql = '''\n",
    "\n",
    "select\n",
    "    REPORTER_COUNTRY,\n",
    "    COUNT(distinct tb1.caseid) AS caseid_count\n",
    "FROM\n",
    "(\n",
    "    select caseid, max(REPORTER_COUNTRY) as REPORTER_COUNTRY\n",
    "    from faers.faers_demo\n",
    "    group by caseid\n",
    ") tb1\n",
    "join (\n",
    "        select distinct caseid\n",
    "        from faers.ribo_drug_usage\n",
    ") tb2\n",
    "on tb1.caseid = tb2.caseid\n",
    "group by 1\n",
    "order by 1\n",
    ";\n",
    "'''\n",
    "df_reporter_country = pd.read_sql_query(sql, conn)\n",
    "df_reporter_country\n"
   ]
  },
  {
   "cell_type": "markdown",
   "id": "4048696a-e7c4-4ad3-a156-59b8711721e2",
   "metadata": {},
   "source": [
    "# Time of onset "
   ]
  },
  {
   "metadata": {},
   "cell_type": "code",
   "outputs": [],
   "execution_count": null,
   "source": "## drug usage show",
   "id": "95b86272d9fe4b6"
  },
  {
   "cell_type": "code",
   "id": "9d54afd9-628e-4f2f-a70f-a860e3d4cefe",
   "metadata": {
    "ExecuteTime": {
     "end_time": "2024-08-04T16:02:04.868688Z",
     "start_time": "2024-08-04T16:01:34.829535Z"
    }
   },
   "source": [
    "sql ='''\n",
    "DROP TABLE  if exists faers.drug_usage_with_ae;\n",
    "CREATE TABLE  faers.drug_usage_with_ae  as\n",
    "SELECT \n",
    "    D.CASEID,\n",
    "    D.PRIMARYID,\n",
    "    T.START_DT AS Ribociclib_StartDate,\n",
    "    D.EVENT_DT AS AdverseEvent_StartDate,\n",
    "    TIMESTAMPDIFF(DAY, T.START_DT, D.EVENT_DT) AS day_Interval\n",
    "FROM \n",
    "    faers.faers_ther T\n",
    "JOIN faers.ribo_drug_usage R  -- ribociclib usage\n",
    "    on  R.PRIMARYID = T.PRIMARYID and T.DSG_DRUG_SEQ = R.DRUG_SEQ\n",
    "JOIN \n",
    "    faers.faers_demo D ON T.PRIMARYID = D.PRIMARYID\n",
    "WHERE \n",
    "    T.START_DT IS NOT NULL  \n",
    "    AND D.EVENT_DT IS NOT NULL;\n",
    "'''\n",
    "\n",
    "df_time_onset = pd.read_sql_query(sql, conn)\n",
    "df_time_onset"
   ],
   "outputs": [
    {
     "name": "stderr",
     "output_type": "stream",
     "text": [
      "/var/folders/7w/sgw5xk457ss20939d0n2_5600000gn/T/ipykernel_8244/367895488.py:19: UserWarning: pandas only supports SQLAlchemy connectable (engine/connection) or database string URI or sqlite3 DBAPI2 connection. Other DBAPI2 objects are not tested. Please consider using SQLAlchemy.\n",
      "  df_time_onset = pd.read_sql_query(sql, conn)\n"
     ]
    },
    {
     "data": {
      "text/plain": [
       "         CASEID Ribociclib_StartDate AdverseEvent_StartDate  day_Interval\n",
       "0      13119314             20161117             20170103.0          47.0\n",
       "1      13119314             20161117             20170103.0          47.0\n",
       "2      13119314             20161117             20170103.0          47.0\n",
       "3      13119314             20161117             20170103.0          47.0\n",
       "4      13281834             20170126             20170224.0          29.0\n",
       "...         ...                  ...                    ...           ...\n",
       "39020  23684450               202112             20230501.0           NaN\n",
       "39021  23684450               202112             20230501.0           NaN\n",
       "39022  23685212             20220507                                  NaN\n",
       "39023  23685212             20220507                                  NaN\n",
       "39024  23686304             20240226             20240227.0           1.0\n",
       "\n",
       "[39025 rows x 4 columns]"
      ],
      "text/html": [
       "<div>\n",
       "<style scoped>\n",
       "    .dataframe tbody tr th:only-of-type {\n",
       "        vertical-align: middle;\n",
       "    }\n",
       "\n",
       "    .dataframe tbody tr th {\n",
       "        vertical-align: top;\n",
       "    }\n",
       "\n",
       "    .dataframe thead th {\n",
       "        text-align: right;\n",
       "    }\n",
       "</style>\n",
       "<table border=\"1\" class=\"dataframe\">\n",
       "  <thead>\n",
       "    <tr style=\"text-align: right;\">\n",
       "      <th></th>\n",
       "      <th>CASEID</th>\n",
       "      <th>Ribociclib_StartDate</th>\n",
       "      <th>AdverseEvent_StartDate</th>\n",
       "      <th>day_Interval</th>\n",
       "    </tr>\n",
       "  </thead>\n",
       "  <tbody>\n",
       "    <tr>\n",
       "      <th>0</th>\n",
       "      <td>13119314</td>\n",
       "      <td>20161117</td>\n",
       "      <td>20170103.0</td>\n",
       "      <td>47.0</td>\n",
       "    </tr>\n",
       "    <tr>\n",
       "      <th>1</th>\n",
       "      <td>13119314</td>\n",
       "      <td>20161117</td>\n",
       "      <td>20170103.0</td>\n",
       "      <td>47.0</td>\n",
       "    </tr>\n",
       "    <tr>\n",
       "      <th>2</th>\n",
       "      <td>13119314</td>\n",
       "      <td>20161117</td>\n",
       "      <td>20170103.0</td>\n",
       "      <td>47.0</td>\n",
       "    </tr>\n",
       "    <tr>\n",
       "      <th>3</th>\n",
       "      <td>13119314</td>\n",
       "      <td>20161117</td>\n",
       "      <td>20170103.0</td>\n",
       "      <td>47.0</td>\n",
       "    </tr>\n",
       "    <tr>\n",
       "      <th>4</th>\n",
       "      <td>13281834</td>\n",
       "      <td>20170126</td>\n",
       "      <td>20170224.0</td>\n",
       "      <td>29.0</td>\n",
       "    </tr>\n",
       "    <tr>\n",
       "      <th>...</th>\n",
       "      <td>...</td>\n",
       "      <td>...</td>\n",
       "      <td>...</td>\n",
       "      <td>...</td>\n",
       "    </tr>\n",
       "    <tr>\n",
       "      <th>39020</th>\n",
       "      <td>23684450</td>\n",
       "      <td>202112</td>\n",
       "      <td>20230501.0</td>\n",
       "      <td>NaN</td>\n",
       "    </tr>\n",
       "    <tr>\n",
       "      <th>39021</th>\n",
       "      <td>23684450</td>\n",
       "      <td>202112</td>\n",
       "      <td>20230501.0</td>\n",
       "      <td>NaN</td>\n",
       "    </tr>\n",
       "    <tr>\n",
       "      <th>39022</th>\n",
       "      <td>23685212</td>\n",
       "      <td>20220507</td>\n",
       "      <td></td>\n",
       "      <td>NaN</td>\n",
       "    </tr>\n",
       "    <tr>\n",
       "      <th>39023</th>\n",
       "      <td>23685212</td>\n",
       "      <td>20220507</td>\n",
       "      <td></td>\n",
       "      <td>NaN</td>\n",
       "    </tr>\n",
       "    <tr>\n",
       "      <th>39024</th>\n",
       "      <td>23686304</td>\n",
       "      <td>20240226</td>\n",
       "      <td>20240227.0</td>\n",
       "      <td>1.0</td>\n",
       "    </tr>\n",
       "  </tbody>\n",
       "</table>\n",
       "<p>39025 rows × 4 columns</p>\n",
       "</div>"
      ]
     },
     "execution_count": 38,
     "metadata": {},
     "output_type": "execute_result"
    }
   ],
   "execution_count": 38
  },
  {
   "metadata": {},
   "cell_type": "code",
   "outputs": [],
   "execution_count": null,
   "source": [
    "sql = '''\n",
    "    \n",
    "    select \n",
    "    if(START_DT IS NOT NULL AND EVENT_DT IS NOT NULL,\n",
    "        TIMESTAMPDIFF(DAY, T.START_DT, D.EVENT_DT) AS day_Interval,\n",
    "        'Unkown'\n",
    "    ) as time_of_onset,\n",
    "    count(distinct caseid) as caseid_count\n",
    "    from faers.drug_usage_with_ae\n",
    "    group by 1\n",
    "'''\n",
    "df_time_onset = pd.read_sql_query(sql, conn)\n",
    "df_time_onset"
   ],
   "id": "94e46e799b9e9fc7"
  },
  {
   "metadata": {},
   "cell_type": "markdown",
   "source": "# Table1.7上报年份",
   "id": "fbcbdd493060424c"
  },
  {
   "metadata": {},
   "cell_type": "code",
   "outputs": [],
   "execution_count": null,
   "source": "",
   "id": "ea3d6d6a670100ef"
  },
  {
   "metadata": {},
   "cell_type": "code",
   "outputs": [],
   "execution_count": null,
   "source": [
    "sql ='''\n",
    "    SELECT\n",
    "        YEAR(REPT_DT) AS report_year,\n",
    "        COUNT(distinct PRIMARYID) AS report_count\n",
    "    FROM\n",
    "        faers.faers_demo D\n",
    "    JOIN \n",
    "        faers.ribo_drug_usage R\n",
    "    ON D.PRIMARYID = R.PRIMARYID\n",
    "    GROUP BY\n",
    "        1\n",
    "    ORDER BY\n",
    "        1;\n",
    "'''\n",
    "\n",
    "df_rpt_year = pd.read_sql_query(sql, conn)\n",
    "df_rpt_year"
   ],
   "id": "de89691520dfab7b"
  }
 ],
 "metadata": {
  "kernelspec": {
   "display_name": "Python 3 (ipykernel)",
   "language": "python",
   "name": "python3"
  },
  "language_info": {
   "codemirror_mode": {
    "name": "ipython",
    "version": 3
   },
   "file_extension": ".py",
   "mimetype": "text/x-python",
   "name": "python",
   "nbconvert_exporter": "python",
   "pygments_lexer": "ipython3",
   "version": "3.11.7"
  }
 },
 "nbformat": 4,
 "nbformat_minor": 5
}
