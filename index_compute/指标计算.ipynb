{
 "cells": [
  {
   "cell_type": "markdown",
   "id": "480fca2da9d46183",
   "metadata": {},
   "source": []
  },
  {
   "cell_type": "markdown",
   "id": "ac7849edff4ff81c",
   "metadata": {},
   "source": "# 安装必须要包"
  },
  {
   "cell_type": "code",
   "id": "5338d68ea82f8031",
   "metadata": {
    "ExecuteTime": {
     "end_time": "2024-08-10T16:36:38.672827Z",
     "start_time": "2024-08-10T16:35:48.453639Z"
    }
   },
   "source": [
    "#### install third party libs\n",
    "#!pip install sqlalchemy\n",
    "#!pip install mysql-connector-python\n",
    "!pip install pymysql\n",
    "#!pip install sqlalchemy\n",
    "!pip install DBUtils\n",
    "\n",
    "import os\n",
    "import pandas as pd\n",
    "pd.set_option('display.max_rows', 1000)\n",
    "pd.set_option('display.max_columns', 500)\n",
    "\n",
    "import tqdm\n",
    "from tqdm import tqdm\n",
    "tqdm.pandas(desc='apply')\n",
    "import pymysql\n"
   ],
   "outputs": [
    {
     "name": "stdout",
     "output_type": "stream",
     "text": [
      "Requirement already satisfied: sqlalchemy in /opt/anaconda3/lib/python3.11/site-packages (2.0.25)\r\n",
      "Requirement already satisfied: typing-extensions>=4.6.0 in /opt/anaconda3/lib/python3.11/site-packages (from sqlalchemy) (4.9.0)\r\n",
      "Requirement already satisfied: greenlet!=0.4.17 in /opt/anaconda3/lib/python3.11/site-packages (from sqlalchemy) (3.0.1)\r\n",
      "Requirement already satisfied: mysql-connector-python in /opt/anaconda3/lib/python3.11/site-packages (9.0.0)\r\n",
      "Requirement already satisfied: pymysql in /opt/anaconda3/lib/python3.11/site-packages (1.1.1)\r\n",
      "Requirement already satisfied: sqlalchemy in /opt/anaconda3/lib/python3.11/site-packages (2.0.25)\r\n",
      "Requirement already satisfied: typing-extensions>=4.6.0 in /opt/anaconda3/lib/python3.11/site-packages (from sqlalchemy) (4.9.0)\r\n",
      "Requirement already satisfied: greenlet!=0.4.17 in /opt/anaconda3/lib/python3.11/site-packages (from sqlalchemy) (3.0.1)\r\n",
      "Requirement already satisfied: DBUtils in /opt/anaconda3/lib/python3.11/site-packages (1.2)\r\n"
     ]
    }
   ],
   "execution_count": 8
  },
  {
   "metadata": {},
   "cell_type": "markdown",
   "source": "# 本地mysql数据库连接",
   "id": "14661c9a7aa73685"
  },
  {
   "cell_type": "code",
   "id": "bf1eaeaec0c3315d",
   "metadata": {
    "ExecuteTime": {
     "end_time": "2024-08-10T16:09:37.299349Z",
     "start_time": "2024-08-10T16:09:37.292379Z"
    }
   },
   "source": [
    "import pymysql\n",
    "\n",
    "## 尝试关闭mysql connection\n",
    "def get_mysql_connection():\n",
    "    ''' try:\n",
    "        conn.close()\n",
    "    except Exception as e:\n",
    "        print(e) \n",
    "    finally:\n",
    "        print('mysql connection closed!')\n",
    "        pass\n",
    "    '''\n",
    "    \n",
    "    conn = pymysql.connect(\n",
    "        host='localhost',\n",
    "        port=int(3306),\n",
    "        user=\"root\",\n",
    "        passwd='0921051011Liu',\n",
    "        db=\"faers\",\n",
    "        charset='utf8mb4')\n",
    "    \n",
    "    return conn\n",
    "\n",
    "conn = get_mysql_connection()"
   ],
   "outputs": [],
   "execution_count": 13
  },
  {
   "metadata": {},
   "cell_type": "markdown",
   "source": "## mysql 数据库连接池",
   "id": "9dda99ace6798b75"
  },
  {
   "metadata": {
    "ExecuteTime": {
     "end_time": "2024-08-10T16:34:05.062581Z",
     "start_time": "2024-08-10T16:33:49.451773Z"
    }
   },
   "cell_type": "code",
   "source": [
    "!pip install DButils==1.2\n",
    "import DBUtils"
   ],
   "id": "ad497c15f5669a6e",
   "outputs": [
    {
     "name": "stdout",
     "output_type": "stream",
     "text": [
      "Collecting DButils==1.2\r\n",
      "  Downloading DBUtils-1.2.tar.gz (91 kB)\r\n",
      "\u001B[2K     \u001B[90m━━━━━━━━━━━━━━━━━━━━━━━━━━━━━━━━━━━━━━━\u001B[0m \u001B[32m91.2/91.2 kB\u001B[0m \u001B[31m134.3 kB/s\u001B[0m eta \u001B[36m0:00:00\u001B[0ma \u001B[36m0:00:01\u001B[0m\r\n",
      "\u001B[?25h  Preparing metadata (setup.py) ... \u001B[?25ldone\r\n",
      "\u001B[?25hBuilding wheels for collected packages: DButils\r\n",
      "  Building wheel for DButils (setup.py) ... \u001B[?25ldone\r\n",
      "\u001B[?25h  Created wheel for DButils: filename=DBUtils-1.2-py3-none-any.whl size=126476 sha256=4d36e7d61f7194dd799e2cdb8f5ae134a73cbab2119953dd657cd0229211ae79\r\n",
      "  Stored in directory: /Users/liuhaoran/Library/Caches/pip/wheels/c9/d7/41/92c5b5a10fb27b51b2b7437822390fcc8fe8ef1250fe0b4601\r\n",
      "Successfully built DButils\r\n",
      "Installing collected packages: DButils\r\n",
      "  Attempting uninstall: DButils\r\n",
      "    Found existing installation: DBUtils 3.0.3\r\n",
      "    Uninstalling DBUtils-3.0.3:\r\n",
      "      Successfully uninstalled DBUtils-3.0.3\r\n",
      "Successfully installed DButils-1.2\r\n"
     ]
    }
   ],
   "execution_count": 3
  },
  {
   "metadata": {
    "ExecuteTime": {
     "end_time": "2024-08-18T15:40:51.817332Z",
     "start_time": "2024-08-18T15:40:51.748115Z"
    }
   },
   "cell_type": "code",
   "source": [
    "import pymysql\n",
    "import DBUtils\n",
    "from timeit import default_timer\n",
    "from DBUtils.PooledDB import PooledDB\n",
    "# https://zhuanlan.zhihu.com/p/687472604\n",
    "\n",
    "class DMysqlConfig:\n",
    "    \"\"\"\n",
    "\n",
    "        :param mincached:连接池中空闲连接的初始数量\n",
    "        :param maxcached:连接池中空闲连接的最大数量\n",
    "        :param maxshared:共享连接的最大数量\n",
    "        :param maxconnections:创建连接池的最大数量\n",
    "        :param blocking:超过最大连接数量时候的表现，为True等待连接数量下降，为false直接报错处理\n",
    "        :param maxusage:单个连接的最大重复使用次数\n",
    "        :param setsession:optional list of SQL commands that may serve to prepare\n",
    "            the session, e.g. [\"set datestyle to ...\", \"set time zone ...\"]\n",
    "        :param reset:how connections should be reset when returned to the pool\n",
    "            (False or None to rollback transcations started with begin(),\n",
    "            True to always issue a rollback for safety's sake)\n",
    "        :param host:数据库ip地址\n",
    "        :param port:数据库端口\n",
    "        :param db:库名\n",
    "        :param user:用户名\n",
    "        :param passwd:密码\n",
    "        :param charset:字符编码\n",
    "    \"\"\"\n",
    "\n",
    "    def __init__(self, host, db, user, password, port=3306):\n",
    "        self.host = host\n",
    "        self.port = port\n",
    "        self.db = db\n",
    "        self.user = user\n",
    "        self.password = password\n",
    "\n",
    "        #self.charset = 'UTF8'  # 不能是 utf-8\n",
    "        self.minCached = 10\n",
    "        self.maxCached = 20\n",
    "        self.maxShared = 10\n",
    "        self.maxConnection = 100\n",
    "\n",
    "        self.blocking = True\n",
    "        self.maxUsage = 100\n",
    "        self.setSession = None\n",
    "        self.reset = True\n",
    "\n",
    "\n",
    "# ---- 用连接池来返回数据库连接\n",
    "class DMysqlPoolConn:\n",
    "\n",
    "    __pool = None\n",
    "\n",
    "    def __init__(self, config):\n",
    "\n",
    "        if not self.__pool:\n",
    "            self.__class__.__pool = PooledDB(creator=pymysql,\n",
    "                                             maxconnections=config.maxConnection,\n",
    "                                             mincached=config.minCached,\n",
    "                                             maxcached=config.maxCached,\n",
    "                                             maxshared=config.maxShared,\n",
    "                                             blocking=config.blocking,\n",
    "                                             maxusage=config.maxUsage,\n",
    "                                             setsession=config.setSession,\n",
    "                                             #charset=config.charset,\n",
    "                                             host=config.host,\n",
    "                                             port=config.port,\n",
    "                                             database=config.db,\n",
    "                                             user=config.user,\n",
    "                                             password=config.password,\n",
    "                                             )\n",
    "\n",
    "    def get_conn(self):\n",
    "        return self.__pool.connection()\n",
    "\n",
    "\n",
    "# ========== 在程序的开始初始化一个连接池\n",
    "host = 'localhost'\n",
    "port = 3306\n",
    "db = 'faers'\n",
    "user = 'root'\n",
    "password = '0921051011Liu'\n",
    "db_config = DMysqlConfig(host, db, user, password, port)\n",
    "g_pool_connection = DMysqlPoolConn(db_config)\n",
    "conn = g_pool_connection.get_conn()"
   ],
   "id": "26debc7cad6024e8",
   "outputs": [],
   "execution_count": 5
  },
  {
   "metadata": {},
   "cell_type": "code",
   "outputs": [],
   "execution_count": null,
   "source": "",
   "id": "103ae2871764ce91"
  },
  {
   "metadata": {},
   "cell_type": "markdown",
   "source": "# 基础数据检查 ",
   "id": "bf944ef7a7e33f60"
  },
  {
   "metadata": {},
   "cell_type": "markdown",
   "source": [
    "## 对demo表进行去重, \n",
    "sql 如下：\n",
    "`DROP TABLE if exists faers.demo_dedup;\n",
    "CREATE TABLE faers.demo_dedup as\n",
    "SELECT\n",
    "        *,\n",
    "        ROW_NUMBER() OVER (PARTITION BY CASEID ORDER BY FDA_DT DESC, PRIMARYID DESC) as rn\n",
    "    FROM faers.faers_demo\n",
    ";`"
   ],
   "id": "fa0643000ef46ab6"
  },
  {
   "metadata": {},
   "cell_type": "code",
   "outputs": [],
   "execution_count": null,
   "source": [
    "# https://www.nature.com/articles/s41598-024-58460-6\n",
    "# and then PRIMARYID. For reports with the same CASEID, we retain the one with the largest FDA_DT value. Secondly, for reports where both CASEID and FDA_DT are the same,\n",
    "# see faers.demo_dedup"
   ],
   "id": "ec4d1032f7b6e49"
  },
  {
   "cell_type": "code",
   "id": "d86357577cb50369",
   "metadata": {
    "ExecuteTime": {
     "end_time": "2024-08-18T15:46:17.628451Z",
     "start_time": "2024-08-18T15:40:55.816935Z"
    }
   },
   "source": [
    "import pandas as pd\n",
    "df = pd.read_sql_query(\"select rn,count(1),count(distinct primaryid),count(distinct caseid) from faers.demo_dedup group by rn order by rn;\", conn)\n",
    "df"
   ],
   "outputs": [
    {
     "name": "stderr",
     "output_type": "stream",
     "text": [
      "/var/folders/7w/sgw5xk457ss20939d0n2_5600000gn/T/ipykernel_38268/136583447.py:2: UserWarning: pandas only supports SQLAlchemy connectable (engine/connection) or database string URI or sqlite3 DBAPI2 connection. Other DBAPI2 objects are not tested. Please consider using SQLAlchemy.\n",
      "  df = pd.read_sql_query(\"select rn,count(1),count(distinct primaryid),count(distinct caseid) from faers.demo_dedup group by rn order by rn;\", conn)\n"
     ]
    },
    {
     "data": {
      "text/plain": [
       "    rn  count(1)  count(distinct primaryid)  count(distinct caseid)\n",
       "0    1  10219652                   10219652                10219652\n",
       "1    2   1225829                    1225829                 1225829\n",
       "2    3    262514                     262514                  262514\n",
       "3    4     90825                      90825                   90825\n",
       "4    5     38521                      38521                   38521\n",
       "5    6     18732                      18732                   18732\n",
       "6    7      9734                       9734                    9734\n",
       "7    8      5281                       5281                    5281\n",
       "8    9      2858                       2858                    2858\n",
       "9   10      1557                       1557                    1557\n",
       "10  11       830                        830                     830\n",
       "11  12       438                        438                     438\n",
       "12  13       240                        240                     240\n",
       "13  14       129                        129                     129\n",
       "14  15        63                         63                      63\n",
       "15  16        27                         27                      27\n",
       "16  17         8                          8                       8\n",
       "17  18         4                          4                       4\n",
       "18  19         1                          1                       1"
      ],
      "text/html": [
       "<div>\n",
       "<style scoped>\n",
       "    .dataframe tbody tr th:only-of-type {\n",
       "        vertical-align: middle;\n",
       "    }\n",
       "\n",
       "    .dataframe tbody tr th {\n",
       "        vertical-align: top;\n",
       "    }\n",
       "\n",
       "    .dataframe thead th {\n",
       "        text-align: right;\n",
       "    }\n",
       "</style>\n",
       "<table border=\"1\" class=\"dataframe\">\n",
       "  <thead>\n",
       "    <tr style=\"text-align: right;\">\n",
       "      <th></th>\n",
       "      <th>rn</th>\n",
       "      <th>count(1)</th>\n",
       "      <th>count(distinct primaryid)</th>\n",
       "      <th>count(distinct caseid)</th>\n",
       "    </tr>\n",
       "  </thead>\n",
       "  <tbody>\n",
       "    <tr>\n",
       "      <th>0</th>\n",
       "      <td>1</td>\n",
       "      <td>10219652</td>\n",
       "      <td>10219652</td>\n",
       "      <td>10219652</td>\n",
       "    </tr>\n",
       "    <tr>\n",
       "      <th>1</th>\n",
       "      <td>2</td>\n",
       "      <td>1225829</td>\n",
       "      <td>1225829</td>\n",
       "      <td>1225829</td>\n",
       "    </tr>\n",
       "    <tr>\n",
       "      <th>2</th>\n",
       "      <td>3</td>\n",
       "      <td>262514</td>\n",
       "      <td>262514</td>\n",
       "      <td>262514</td>\n",
       "    </tr>\n",
       "    <tr>\n",
       "      <th>3</th>\n",
       "      <td>4</td>\n",
       "      <td>90825</td>\n",
       "      <td>90825</td>\n",
       "      <td>90825</td>\n",
       "    </tr>\n",
       "    <tr>\n",
       "      <th>4</th>\n",
       "      <td>5</td>\n",
       "      <td>38521</td>\n",
       "      <td>38521</td>\n",
       "      <td>38521</td>\n",
       "    </tr>\n",
       "    <tr>\n",
       "      <th>5</th>\n",
       "      <td>6</td>\n",
       "      <td>18732</td>\n",
       "      <td>18732</td>\n",
       "      <td>18732</td>\n",
       "    </tr>\n",
       "    <tr>\n",
       "      <th>6</th>\n",
       "      <td>7</td>\n",
       "      <td>9734</td>\n",
       "      <td>9734</td>\n",
       "      <td>9734</td>\n",
       "    </tr>\n",
       "    <tr>\n",
       "      <th>7</th>\n",
       "      <td>8</td>\n",
       "      <td>5281</td>\n",
       "      <td>5281</td>\n",
       "      <td>5281</td>\n",
       "    </tr>\n",
       "    <tr>\n",
       "      <th>8</th>\n",
       "      <td>9</td>\n",
       "      <td>2858</td>\n",
       "      <td>2858</td>\n",
       "      <td>2858</td>\n",
       "    </tr>\n",
       "    <tr>\n",
       "      <th>9</th>\n",
       "      <td>10</td>\n",
       "      <td>1557</td>\n",
       "      <td>1557</td>\n",
       "      <td>1557</td>\n",
       "    </tr>\n",
       "    <tr>\n",
       "      <th>10</th>\n",
       "      <td>11</td>\n",
       "      <td>830</td>\n",
       "      <td>830</td>\n",
       "      <td>830</td>\n",
       "    </tr>\n",
       "    <tr>\n",
       "      <th>11</th>\n",
       "      <td>12</td>\n",
       "      <td>438</td>\n",
       "      <td>438</td>\n",
       "      <td>438</td>\n",
       "    </tr>\n",
       "    <tr>\n",
       "      <th>12</th>\n",
       "      <td>13</td>\n",
       "      <td>240</td>\n",
       "      <td>240</td>\n",
       "      <td>240</td>\n",
       "    </tr>\n",
       "    <tr>\n",
       "      <th>13</th>\n",
       "      <td>14</td>\n",
       "      <td>129</td>\n",
       "      <td>129</td>\n",
       "      <td>129</td>\n",
       "    </tr>\n",
       "    <tr>\n",
       "      <th>14</th>\n",
       "      <td>15</td>\n",
       "      <td>63</td>\n",
       "      <td>63</td>\n",
       "      <td>63</td>\n",
       "    </tr>\n",
       "    <tr>\n",
       "      <th>15</th>\n",
       "      <td>16</td>\n",
       "      <td>27</td>\n",
       "      <td>27</td>\n",
       "      <td>27</td>\n",
       "    </tr>\n",
       "    <tr>\n",
       "      <th>16</th>\n",
       "      <td>17</td>\n",
       "      <td>8</td>\n",
       "      <td>8</td>\n",
       "      <td>8</td>\n",
       "    </tr>\n",
       "    <tr>\n",
       "      <th>17</th>\n",
       "      <td>18</td>\n",
       "      <td>4</td>\n",
       "      <td>4</td>\n",
       "      <td>4</td>\n",
       "    </tr>\n",
       "    <tr>\n",
       "      <th>18</th>\n",
       "      <td>19</td>\n",
       "      <td>1</td>\n",
       "      <td>1</td>\n",
       "      <td>1</td>\n",
       "    </tr>\n",
       "  </tbody>\n",
       "</table>\n",
       "</div>"
      ]
     },
     "execution_count": 6,
     "metadata": {},
     "output_type": "execute_result"
    }
   ],
   "execution_count": 6
  },
  {
   "cell_type": "code",
   "execution_count": 12,
   "id": "c6e78e832b6413fd",
   "metadata": {
    "ExecuteTime": {
     "end_time": "2024-08-04T09:15:26.641965Z",
     "start_time": "2024-08-04T09:11:42.889046Z"
    }
   },
   "outputs": [
    {
     "name": "stderr",
     "output_type": "stream",
     "text": [
      "/var/folders/7w/sgw5xk457ss20939d0n2_5600000gn/T/ipykernel_8244/4200782247.py:1: UserWarning: pandas only supports SQLAlchemy connectable (engine/connection) or database string URI or sqlite3 DBAPI2 connection. Other DBAPI2 objects are not tested. Please consider using SQLAlchemy.\n",
      "  df = pd.read_sql_query(\"select count(1),count(distinct primaryid),count(distinct caseid) from faers.faers_drug;\", conn)\n"
     ]
    },
    {
     "data": {
      "text/html": [
       "<div>\n",
       "<style scoped>\n",
       "    .dataframe tbody tr th:only-of-type {\n",
       "        vertical-align: middle;\n",
       "    }\n",
       "\n",
       "    .dataframe tbody tr th {\n",
       "        vertical-align: top;\n",
       "    }\n",
       "\n",
       "    .dataframe thead th {\n",
       "        text-align: right;\n",
       "    }\n",
       "</style>\n",
       "<table border=\"1\" class=\"dataframe\">\n",
       "  <thead>\n",
       "    <tr style=\"text-align: right;\">\n",
       "      <th></th>\n",
       "      <th>count(1)</th>\n",
       "      <th>count(distinct primaryid)</th>\n",
       "      <th>count(distinct caseid)</th>\n",
       "    </tr>\n",
       "  </thead>\n",
       "  <tbody>\n",
       "    <tr>\n",
       "      <th>0</th>\n",
       "      <td>17223552</td>\n",
       "      <td>4362113</td>\n",
       "      <td>3895924</td>\n",
       "    </tr>\n",
       "  </tbody>\n",
       "</table>\n",
       "</div>"
      ],
      "text/plain": [
       "   count(1)  count(distinct primaryid)  count(distinct caseid)\n",
       "0  17223552                    4362113                 3895924"
      ]
     },
     "execution_count": 12,
     "metadata": {},
     "output_type": "execute_result"
    }
   ],
   "source": [
    "df = pd.read_sql_query(\"select count(1),count(distinct primaryid),count(distinct caseid) from faers.faers_drug;\", conn)\n",
    "df"
   ]
  },
  {
   "cell_type": "code",
   "id": "4a74cde057616a17",
   "metadata": {
    "ExecuteTime": {
     "end_time": "2024-08-04T16:16:00.044749Z",
     "start_time": "2024-08-04T16:15:59.905123Z"
    }
   },
   "source": [
    "sql = ''' \n",
    "--   获得药品相关的所有case\n",
    "DROP TABLE  if exists faers.ribo_drug_usage;\n",
    "CREATE TABLE faers.ribo_drug_usage as\n",
    "select *\n",
    "from faers.faers_drug d1\n",
    "where (lower(d1.drugname) like 'ribociclib%'\n",
    "        OR lower(d1.drugname) like '%kisqali%'\n",
    "        OR lower(d1.prod_ai) like '%ribociclib%'\n",
    "        OR lower(d1.prod_ai) like '%kisqali%'\n",
    "    ) and lower(d1.role_cod) = 'ps'\n",
    "    ;\n",
    "\n",
    "select count(1),count(distinct primaryid),count(distinct caseid) from faers.ribo_drug_usage;\n",
    " '''\n",
    "\n",
    "df = pd.read_sql_query(sql, conn)\n",
    "df.tail(10)"
   ],
   "outputs": [
    {
     "name": "stderr",
     "output_type": "stream",
     "text": [
      "/var/folders/7w/sgw5xk457ss20939d0n2_5600000gn/T/ipykernel_8244/2129124748.py:14: UserWarning: pandas only supports SQLAlchemy connectable (engine/connection) or database string URI or sqlite3 DBAPI2 connection. Other DBAPI2 objects are not tested. Please consider using SQLAlchemy.\n",
      "  df = pd.read_sql_query(sql, conn)\n"
     ]
    },
    {
     "ename": "DatabaseError",
     "evalue": "Execution failed on sql ' \n-- 获得药品相关的所有case\nDROP TABLE  if exists faers.ribo_caseid_tb;\nCREATE TABLE faers.ribo_caseid_tb as\nselect primaryid, caseid, DRUG_SEQ,START_DT\nfrom faers.faers_drug d1\nwhere (lower(d1.drugname) like 'ribociclib%'\n        OR lower(d1.drugname) like '%kisqali%'\n        OR lower(d1.prod_ai) like '%ribociclib%'\n        OR lower(d1.prod_ai) like '%kisqali%'\n    ) and lower(d1.role_cod) = 'ps'\n; ': (1064, \"You have an error in your SQL syntax; check the manual that corresponds to your MySQL server version for the right syntax to use near 'CREATE TABLE faers.ribo_caseid_tb as\\nselect primaryid, caseid, DRUG_SEQ,START_DT' at line 3\")",
     "output_type": "error",
     "traceback": [
      "\u001B[0;31m---------------------------------------------------------------------------\u001B[0m",
      "\u001B[0;31mProgrammingError\u001B[0m                          Traceback (most recent call last)",
      "File \u001B[0;32m/opt/anaconda3/lib/python3.11/site-packages/pandas/io/sql.py:2674\u001B[0m, in \u001B[0;36mSQLiteDatabase.execute\u001B[0;34m(self, sql, params)\u001B[0m\n\u001B[1;32m   2673\u001B[0m \u001B[38;5;28;01mtry\u001B[39;00m:\n\u001B[0;32m-> 2674\u001B[0m     cur\u001B[38;5;241m.\u001B[39mexecute(sql, \u001B[38;5;241m*\u001B[39margs)\n\u001B[1;32m   2675\u001B[0m     \u001B[38;5;28;01mreturn\u001B[39;00m cur\n",
      "File \u001B[0;32m/opt/anaconda3/lib/python3.11/site-packages/pymysql/cursors.py:153\u001B[0m, in \u001B[0;36mCursor.execute\u001B[0;34m(self, query, args)\u001B[0m\n\u001B[1;32m    151\u001B[0m query \u001B[38;5;241m=\u001B[39m \u001B[38;5;28mself\u001B[39m\u001B[38;5;241m.\u001B[39mmogrify(query, args)\n\u001B[0;32m--> 153\u001B[0m result \u001B[38;5;241m=\u001B[39m \u001B[38;5;28mself\u001B[39m\u001B[38;5;241m.\u001B[39m_query(query)\n\u001B[1;32m    154\u001B[0m \u001B[38;5;28mself\u001B[39m\u001B[38;5;241m.\u001B[39m_executed \u001B[38;5;241m=\u001B[39m query\n",
      "File \u001B[0;32m/opt/anaconda3/lib/python3.11/site-packages/pymysql/cursors.py:322\u001B[0m, in \u001B[0;36mCursor._query\u001B[0;34m(self, q)\u001B[0m\n\u001B[1;32m    321\u001B[0m \u001B[38;5;28mself\u001B[39m\u001B[38;5;241m.\u001B[39m_clear_result()\n\u001B[0;32m--> 322\u001B[0m conn\u001B[38;5;241m.\u001B[39mquery(q)\n\u001B[1;32m    323\u001B[0m \u001B[38;5;28mself\u001B[39m\u001B[38;5;241m.\u001B[39m_do_get_result()\n",
      "File \u001B[0;32m/opt/anaconda3/lib/python3.11/site-packages/pymysql/connections.py:563\u001B[0m, in \u001B[0;36mConnection.query\u001B[0;34m(self, sql, unbuffered)\u001B[0m\n\u001B[1;32m    562\u001B[0m \u001B[38;5;28mself\u001B[39m\u001B[38;5;241m.\u001B[39m_execute_command(COMMAND\u001B[38;5;241m.\u001B[39mCOM_QUERY, sql)\n\u001B[0;32m--> 563\u001B[0m \u001B[38;5;28mself\u001B[39m\u001B[38;5;241m.\u001B[39m_affected_rows \u001B[38;5;241m=\u001B[39m \u001B[38;5;28mself\u001B[39m\u001B[38;5;241m.\u001B[39m_read_query_result(unbuffered\u001B[38;5;241m=\u001B[39munbuffered)\n\u001B[1;32m    564\u001B[0m \u001B[38;5;28;01mreturn\u001B[39;00m \u001B[38;5;28mself\u001B[39m\u001B[38;5;241m.\u001B[39m_affected_rows\n",
      "File \u001B[0;32m/opt/anaconda3/lib/python3.11/site-packages/pymysql/connections.py:825\u001B[0m, in \u001B[0;36mConnection._read_query_result\u001B[0;34m(self, unbuffered)\u001B[0m\n\u001B[1;32m    824\u001B[0m     result \u001B[38;5;241m=\u001B[39m MySQLResult(\u001B[38;5;28mself\u001B[39m)\n\u001B[0;32m--> 825\u001B[0m     result\u001B[38;5;241m.\u001B[39mread()\n\u001B[1;32m    826\u001B[0m \u001B[38;5;28mself\u001B[39m\u001B[38;5;241m.\u001B[39m_result \u001B[38;5;241m=\u001B[39m result\n",
      "File \u001B[0;32m/opt/anaconda3/lib/python3.11/site-packages/pymysql/connections.py:1199\u001B[0m, in \u001B[0;36mMySQLResult.read\u001B[0;34m(self)\u001B[0m\n\u001B[1;32m   1198\u001B[0m \u001B[38;5;28;01mtry\u001B[39;00m:\n\u001B[0;32m-> 1199\u001B[0m     first_packet \u001B[38;5;241m=\u001B[39m \u001B[38;5;28mself\u001B[39m\u001B[38;5;241m.\u001B[39mconnection\u001B[38;5;241m.\u001B[39m_read_packet()\n\u001B[1;32m   1201\u001B[0m     \u001B[38;5;28;01mif\u001B[39;00m first_packet\u001B[38;5;241m.\u001B[39mis_ok_packet():\n",
      "File \u001B[0;32m/opt/anaconda3/lib/python3.11/site-packages/pymysql/connections.py:775\u001B[0m, in \u001B[0;36mConnection._read_packet\u001B[0;34m(self, packet_type)\u001B[0m\n\u001B[1;32m    774\u001B[0m         \u001B[38;5;28mself\u001B[39m\u001B[38;5;241m.\u001B[39m_result\u001B[38;5;241m.\u001B[39munbuffered_active \u001B[38;5;241m=\u001B[39m \u001B[38;5;28;01mFalse\u001B[39;00m\n\u001B[0;32m--> 775\u001B[0m     packet\u001B[38;5;241m.\u001B[39mraise_for_error()\n\u001B[1;32m    776\u001B[0m \u001B[38;5;28;01mreturn\u001B[39;00m packet\n",
      "File \u001B[0;32m/opt/anaconda3/lib/python3.11/site-packages/pymysql/protocol.py:219\u001B[0m, in \u001B[0;36mMysqlPacket.raise_for_error\u001B[0;34m(self)\u001B[0m\n\u001B[1;32m    218\u001B[0m     \u001B[38;5;28mprint\u001B[39m(\u001B[38;5;124m\"\u001B[39m\u001B[38;5;124merrno =\u001B[39m\u001B[38;5;124m\"\u001B[39m, errno)\n\u001B[0;32m--> 219\u001B[0m err\u001B[38;5;241m.\u001B[39mraise_mysql_exception(\u001B[38;5;28mself\u001B[39m\u001B[38;5;241m.\u001B[39m_data)\n",
      "File \u001B[0;32m/opt/anaconda3/lib/python3.11/site-packages/pymysql/err.py:150\u001B[0m, in \u001B[0;36mraise_mysql_exception\u001B[0;34m(data)\u001B[0m\n\u001B[1;32m    149\u001B[0m     errorclass \u001B[38;5;241m=\u001B[39m InternalError \u001B[38;5;28;01mif\u001B[39;00m errno \u001B[38;5;241m<\u001B[39m \u001B[38;5;241m1000\u001B[39m \u001B[38;5;28;01melse\u001B[39;00m OperationalError\n\u001B[0;32m--> 150\u001B[0m \u001B[38;5;28;01mraise\u001B[39;00m errorclass(errno, errval)\n",
      "\u001B[0;31mProgrammingError\u001B[0m: (1064, \"You have an error in your SQL syntax; check the manual that corresponds to your MySQL server version for the right syntax to use near 'CREATE TABLE faers.ribo_caseid_tb as\\nselect primaryid, caseid, DRUG_SEQ,START_DT' at line 3\")",
      "\nThe above exception was the direct cause of the following exception:\n",
      "\u001B[0;31mDatabaseError\u001B[0m                             Traceback (most recent call last)",
      "Cell \u001B[0;32mIn[42], line 14\u001B[0m\n\u001B[1;32m      1\u001B[0m sql \u001B[38;5;241m=\u001B[39m \u001B[38;5;124m'''\u001B[39m\u001B[38;5;124m \u001B[39m\n\u001B[1;32m      2\u001B[0m \u001B[38;5;124m-- 获得药品相关的所有case\u001B[39m\n\u001B[1;32m      3\u001B[0m \u001B[38;5;124mDROP TABLE  if exists faers.ribo_caseid_tb;\u001B[39m\n\u001B[0;32m   (...)\u001B[0m\n\u001B[1;32m     11\u001B[0m \u001B[38;5;124m    ) and lower(d1.role_cod) = \u001B[39m\u001B[38;5;124m'\u001B[39m\u001B[38;5;124mps\u001B[39m\u001B[38;5;124m'\u001B[39m\n\u001B[1;32m     12\u001B[0m \u001B[38;5;124m; \u001B[39m\u001B[38;5;124m'''\u001B[39m\n\u001B[0;32m---> 14\u001B[0m df \u001B[38;5;241m=\u001B[39m pd\u001B[38;5;241m.\u001B[39mread_sql_query(sql, conn)\n\u001B[1;32m     15\u001B[0m df\u001B[38;5;241m.\u001B[39mtail(\u001B[38;5;241m10\u001B[39m)\n",
      "File \u001B[0;32m/opt/anaconda3/lib/python3.11/site-packages/pandas/io/sql.py:526\u001B[0m, in \u001B[0;36mread_sql_query\u001B[0;34m(sql, con, index_col, coerce_float, params, parse_dates, chunksize, dtype, dtype_backend)\u001B[0m\n\u001B[1;32m    523\u001B[0m \u001B[38;5;28;01massert\u001B[39;00m dtype_backend \u001B[38;5;129;01mis\u001B[39;00m \u001B[38;5;129;01mnot\u001B[39;00m lib\u001B[38;5;241m.\u001B[39mno_default\n\u001B[1;32m    525\u001B[0m \u001B[38;5;28;01mwith\u001B[39;00m pandasSQL_builder(con) \u001B[38;5;28;01mas\u001B[39;00m pandas_sql:\n\u001B[0;32m--> 526\u001B[0m     \u001B[38;5;28;01mreturn\u001B[39;00m pandas_sql\u001B[38;5;241m.\u001B[39mread_query(\n\u001B[1;32m    527\u001B[0m         sql,\n\u001B[1;32m    528\u001B[0m         index_col\u001B[38;5;241m=\u001B[39mindex_col,\n\u001B[1;32m    529\u001B[0m         params\u001B[38;5;241m=\u001B[39mparams,\n\u001B[1;32m    530\u001B[0m         coerce_float\u001B[38;5;241m=\u001B[39mcoerce_float,\n\u001B[1;32m    531\u001B[0m         parse_dates\u001B[38;5;241m=\u001B[39mparse_dates,\n\u001B[1;32m    532\u001B[0m         chunksize\u001B[38;5;241m=\u001B[39mchunksize,\n\u001B[1;32m    533\u001B[0m         dtype\u001B[38;5;241m=\u001B[39mdtype,\n\u001B[1;32m    534\u001B[0m         dtype_backend\u001B[38;5;241m=\u001B[39mdtype_backend,\n\u001B[1;32m    535\u001B[0m     )\n",
      "File \u001B[0;32m/opt/anaconda3/lib/python3.11/site-packages/pandas/io/sql.py:2738\u001B[0m, in \u001B[0;36mSQLiteDatabase.read_query\u001B[0;34m(self, sql, index_col, coerce_float, parse_dates, params, chunksize, dtype, dtype_backend)\u001B[0m\n\u001B[1;32m   2727\u001B[0m \u001B[38;5;28;01mdef\u001B[39;00m \u001B[38;5;21mread_query\u001B[39m(\n\u001B[1;32m   2728\u001B[0m     \u001B[38;5;28mself\u001B[39m,\n\u001B[1;32m   2729\u001B[0m     sql,\n\u001B[0;32m   (...)\u001B[0m\n\u001B[1;32m   2736\u001B[0m     dtype_backend: DtypeBackend \u001B[38;5;241m|\u001B[39m Literal[\u001B[38;5;124m\"\u001B[39m\u001B[38;5;124mnumpy\u001B[39m\u001B[38;5;124m\"\u001B[39m] \u001B[38;5;241m=\u001B[39m \u001B[38;5;124m\"\u001B[39m\u001B[38;5;124mnumpy\u001B[39m\u001B[38;5;124m\"\u001B[39m,\n\u001B[1;32m   2737\u001B[0m ) \u001B[38;5;241m-\u001B[39m\u001B[38;5;241m>\u001B[39m DataFrame \u001B[38;5;241m|\u001B[39m Iterator[DataFrame]:\n\u001B[0;32m-> 2738\u001B[0m     cursor \u001B[38;5;241m=\u001B[39m \u001B[38;5;28mself\u001B[39m\u001B[38;5;241m.\u001B[39mexecute(sql, params)\n\u001B[1;32m   2739\u001B[0m     columns \u001B[38;5;241m=\u001B[39m [col_desc[\u001B[38;5;241m0\u001B[39m] \u001B[38;5;28;01mfor\u001B[39;00m col_desc \u001B[38;5;129;01min\u001B[39;00m cursor\u001B[38;5;241m.\u001B[39mdescription]\n\u001B[1;32m   2741\u001B[0m     \u001B[38;5;28;01mif\u001B[39;00m chunksize \u001B[38;5;129;01mis\u001B[39;00m \u001B[38;5;129;01mnot\u001B[39;00m \u001B[38;5;28;01mNone\u001B[39;00m:\n",
      "File \u001B[0;32m/opt/anaconda3/lib/python3.11/site-packages/pandas/io/sql.py:2686\u001B[0m, in \u001B[0;36mSQLiteDatabase.execute\u001B[0;34m(self, sql, params)\u001B[0m\n\u001B[1;32m   2683\u001B[0m     \u001B[38;5;28;01mraise\u001B[39;00m ex \u001B[38;5;28;01mfrom\u001B[39;00m \u001B[38;5;21;01minner_exc\u001B[39;00m\n\u001B[1;32m   2685\u001B[0m ex \u001B[38;5;241m=\u001B[39m DatabaseError(\u001B[38;5;124mf\u001B[39m\u001B[38;5;124m\"\u001B[39m\u001B[38;5;124mExecution failed on sql \u001B[39m\u001B[38;5;124m'\u001B[39m\u001B[38;5;132;01m{\u001B[39;00msql\u001B[38;5;132;01m}\u001B[39;00m\u001B[38;5;124m'\u001B[39m\u001B[38;5;124m: \u001B[39m\u001B[38;5;132;01m{\u001B[39;00mexc\u001B[38;5;132;01m}\u001B[39;00m\u001B[38;5;124m\"\u001B[39m)\n\u001B[0;32m-> 2686\u001B[0m \u001B[38;5;28;01mraise\u001B[39;00m ex \u001B[38;5;28;01mfrom\u001B[39;00m \u001B[38;5;21;01mexc\u001B[39;00m\n",
      "\u001B[0;31mDatabaseError\u001B[0m: Execution failed on sql ' \n-- 获得药品相关的所有case\nDROP TABLE  if exists faers.ribo_caseid_tb;\nCREATE TABLE faers.ribo_caseid_tb as\nselect primaryid, caseid, DRUG_SEQ,START_DT\nfrom faers.faers_drug d1\nwhere (lower(d1.drugname) like 'ribociclib%'\n        OR lower(d1.drugname) like '%kisqali%'\n        OR lower(d1.prod_ai) like '%ribociclib%'\n        OR lower(d1.prod_ai) like '%kisqali%'\n    ) and lower(d1.role_cod) = 'ps'\n; ': (1064, \"You have an error in your SQL syntax; check the manual that corresponds to your MySQL server version for the right syntax to use near 'CREATE TABLE faers.ribo_caseid_tb as\\nselect primaryid, caseid, DRUG_SEQ,START_DT' at line 3\")"
     ]
    }
   ],
   "execution_count": 42
  },
  {
   "metadata": {
    "ExecuteTime": {
     "end_time": "2024-08-10T09:11:59.812139Z",
     "start_time": "2024-08-10T09:08:27.124186Z"
    }
   },
   "cell_type": "code",
   "source": [
    "sql = ''' \n",
    "    -- DROP TABLE faers.ribo_related_caseid_primary_tb;\n",
    "    CREATE TABLE faers.ribo_related_caseid_primary_tb as\n",
    "    select  d1.caseid, d1.primaryid\n",
    "    from faers.faers_drug d1\n",
    "    where (lower(d1.drugname) like 'ribociclib%'\n",
    "            OR lower(d1.drugname) like '%kisqali%'\n",
    "            OR lower(d1.prod_ai) like '%ribociclib%'\n",
    "            OR lower(d1.prod_ai) like '%kisqali%'\n",
    "        ) and caseid is not null and caseid not in ('', '0')\n",
    "        and primaryid is not null and primaryid not in ('', '0')\n",
    "    group by 1,2;\n",
    "    '''\n",
    "\n",
    "df = pd.read_sql_query(sql, conn)\n",
    "df.tail(10)"
   ],
   "id": "1436786c82911da1",
   "outputs": [
    {
     "name": "stderr",
     "output_type": "stream",
     "text": [
      "/var/folders/7w/sgw5xk457ss20939d0n2_5600000gn/T/ipykernel_61625/223975595.py:15: UserWarning: pandas only supports SQLAlchemy connectable (engine/connection) or database string URI or sqlite3 DBAPI2 connection. Other DBAPI2 objects are not tested. Please consider using SQLAlchemy.\n",
      "  df = pd.read_sql_query(sql, conn)\n"
     ]
    },
    {
     "ename": "TypeError",
     "evalue": "'NoneType' object is not iterable",
     "output_type": "error",
     "traceback": [
      "\u001B[0;31m---------------------------------------------------------------------------\u001B[0m",
      "\u001B[0;31mTypeError\u001B[0m                                 Traceback (most recent call last)",
      "Cell \u001B[0;32mIn[39], line 15\u001B[0m\n\u001B[1;32m      1\u001B[0m sql \u001B[38;5;241m=\u001B[39m \u001B[38;5;124m'''\u001B[39m\u001B[38;5;124m \u001B[39m\n\u001B[1;32m      2\u001B[0m \u001B[38;5;124m    -- DROP TABLE faers.ribo_related_caseid_primary_tb;\u001B[39m\n\u001B[1;32m      3\u001B[0m \u001B[38;5;124m    CREATE TABLE faers.ribo_related_caseid_primary_tb as\u001B[39m\n\u001B[0;32m   (...)\u001B[0m\n\u001B[1;32m     12\u001B[0m \u001B[38;5;124m    group by 1,2;\u001B[39m\n\u001B[1;32m     13\u001B[0m \u001B[38;5;124m    \u001B[39m\u001B[38;5;124m'''\u001B[39m\n\u001B[0;32m---> 15\u001B[0m df \u001B[38;5;241m=\u001B[39m pd\u001B[38;5;241m.\u001B[39mread_sql_query(sql, conn)\n\u001B[1;32m     16\u001B[0m df\u001B[38;5;241m.\u001B[39mtail(\u001B[38;5;241m10\u001B[39m)\n",
      "File \u001B[0;32m/opt/anaconda3/lib/python3.11/site-packages/pandas/io/sql.py:526\u001B[0m, in \u001B[0;36mread_sql_query\u001B[0;34m(sql, con, index_col, coerce_float, params, parse_dates, chunksize, dtype, dtype_backend)\u001B[0m\n\u001B[1;32m    523\u001B[0m \u001B[38;5;28;01massert\u001B[39;00m dtype_backend \u001B[38;5;129;01mis\u001B[39;00m \u001B[38;5;129;01mnot\u001B[39;00m lib\u001B[38;5;241m.\u001B[39mno_default\n\u001B[1;32m    525\u001B[0m \u001B[38;5;28;01mwith\u001B[39;00m pandasSQL_builder(con) \u001B[38;5;28;01mas\u001B[39;00m pandas_sql:\n\u001B[0;32m--> 526\u001B[0m     \u001B[38;5;28;01mreturn\u001B[39;00m pandas_sql\u001B[38;5;241m.\u001B[39mread_query(\n\u001B[1;32m    527\u001B[0m         sql,\n\u001B[1;32m    528\u001B[0m         index_col\u001B[38;5;241m=\u001B[39mindex_col,\n\u001B[1;32m    529\u001B[0m         params\u001B[38;5;241m=\u001B[39mparams,\n\u001B[1;32m    530\u001B[0m         coerce_float\u001B[38;5;241m=\u001B[39mcoerce_float,\n\u001B[1;32m    531\u001B[0m         parse_dates\u001B[38;5;241m=\u001B[39mparse_dates,\n\u001B[1;32m    532\u001B[0m         chunksize\u001B[38;5;241m=\u001B[39mchunksize,\n\u001B[1;32m    533\u001B[0m         dtype\u001B[38;5;241m=\u001B[39mdtype,\n\u001B[1;32m    534\u001B[0m         dtype_backend\u001B[38;5;241m=\u001B[39mdtype_backend,\n\u001B[1;32m    535\u001B[0m     )\n",
      "File \u001B[0;32m/opt/anaconda3/lib/python3.11/site-packages/pandas/io/sql.py:2739\u001B[0m, in \u001B[0;36mSQLiteDatabase.read_query\u001B[0;34m(self, sql, index_col, coerce_float, parse_dates, params, chunksize, dtype, dtype_backend)\u001B[0m\n\u001B[1;32m   2727\u001B[0m \u001B[38;5;28;01mdef\u001B[39;00m \u001B[38;5;21mread_query\u001B[39m(\n\u001B[1;32m   2728\u001B[0m     \u001B[38;5;28mself\u001B[39m,\n\u001B[1;32m   2729\u001B[0m     sql,\n\u001B[0;32m   (...)\u001B[0m\n\u001B[1;32m   2736\u001B[0m     dtype_backend: DtypeBackend \u001B[38;5;241m|\u001B[39m Literal[\u001B[38;5;124m\"\u001B[39m\u001B[38;5;124mnumpy\u001B[39m\u001B[38;5;124m\"\u001B[39m] \u001B[38;5;241m=\u001B[39m \u001B[38;5;124m\"\u001B[39m\u001B[38;5;124mnumpy\u001B[39m\u001B[38;5;124m\"\u001B[39m,\n\u001B[1;32m   2737\u001B[0m ) \u001B[38;5;241m-\u001B[39m\u001B[38;5;241m>\u001B[39m DataFrame \u001B[38;5;241m|\u001B[39m Iterator[DataFrame]:\n\u001B[1;32m   2738\u001B[0m     cursor \u001B[38;5;241m=\u001B[39m \u001B[38;5;28mself\u001B[39m\u001B[38;5;241m.\u001B[39mexecute(sql, params)\n\u001B[0;32m-> 2739\u001B[0m     columns \u001B[38;5;241m=\u001B[39m [col_desc[\u001B[38;5;241m0\u001B[39m] \u001B[38;5;28;01mfor\u001B[39;00m col_desc \u001B[38;5;129;01min\u001B[39;00m cursor\u001B[38;5;241m.\u001B[39mdescription]\n\u001B[1;32m   2741\u001B[0m     \u001B[38;5;28;01mif\u001B[39;00m chunksize \u001B[38;5;129;01mis\u001B[39;00m \u001B[38;5;129;01mnot\u001B[39;00m \u001B[38;5;28;01mNone\u001B[39;00m:\n\u001B[1;32m   2742\u001B[0m         \u001B[38;5;28;01mreturn\u001B[39;00m \u001B[38;5;28mself\u001B[39m\u001B[38;5;241m.\u001B[39m_query_iterator(\n\u001B[1;32m   2743\u001B[0m             cursor,\n\u001B[1;32m   2744\u001B[0m             chunksize,\n\u001B[0;32m   (...)\u001B[0m\n\u001B[1;32m   2750\u001B[0m             dtype_backend\u001B[38;5;241m=\u001B[39mdtype_backend,\n\u001B[1;32m   2751\u001B[0m         )\n",
      "\u001B[0;31mTypeError\u001B[0m: 'NoneType' object is not iterable"
     ]
    }
   ],
   "execution_count": 39
  },
  {
   "cell_type": "code",
   "execution_count": null,
   "id": "3aef30a07b024ed3",
   "metadata": {},
   "outputs": [],
   "source": [
    "\n",
    "sql = '''\n",
    "SELECT  sex, COUNT(distinct tb1.caseid) AS caseid_count\n",
    "FROM\n",
    "(   select  primaryid, sex\n",
    "    from faers.demo_dedup\n",
    "    where rn = 1\n",
    ") tb1\n",
    "join (\n",
    "        select distinct caseid\n",
    "        from faers.ribo_related_caseid_primary_tb\n",
    ") tb2\n",
    "on tb1.caseid = tb2.caseid\n",
    "group by sex;\n",
    "'''"
   ]
  },
  {
   "metadata": {},
   "cell_type": "markdown",
   "source": "## 比较 faers.ribo_drug_usage_non_ps 和 faers.ribo_drug_usage",
   "id": "930142e7a4a16ac1"
  },
  {
   "metadata": {
    "ExecuteTime": {
     "end_time": "2024-08-10T07:15:39.007109Z",
     "start_time": "2024-08-10T07:15:38.680718Z"
    }
   },
   "cell_type": "code",
   "source": [
    "sql = ''' \n",
    "    select  t1.caseid as caseid, t1.primaryid, \n",
    "            t2.primaryid as non_ps_primaryid, t2.role_cod as non_ps_role_cod\n",
    "    from (\n",
    "    select caseid,primaryid\n",
    "    from faers.ribo_drug_usage\n",
    "    group by caseid,primaryid\n",
    "    ) t1\n",
    "    join \n",
    "    (\n",
    "        select caseid,primaryid,role_cod\n",
    "        from faers.ribo_drug_usage_non_ps\n",
    "        group by caseid,primaryid,role_cod\n",
    "    ) t2\n",
    "    on t1.caseid = t2.caseid \n",
    "    '''\n",
    "# 结论：存在这样的caseid:同时包含 PS 和 非PS作用\n",
    "df = pd.read_sql_query(sql, conn)\n",
    "df.tail(10)"
   ],
   "id": "773026cca4cbb181",
   "outputs": [
    {
     "name": "stderr",
     "output_type": "stream",
     "text": [
      "/var/folders/7w/sgw5xk457ss20939d0n2_5600000gn/T/ipykernel_61625/2390358115.py:18: UserWarning: pandas only supports SQLAlchemy connectable (engine/connection) or database string URI or sqlite3 DBAPI2 connection. Other DBAPI2 objects are not tested. Please consider using SQLAlchemy.\n",
      "  df = pd.read_sql_query(sql, conn)\n"
     ]
    },
    {
     "data": {
      "text/plain": [
       "         caseid  primaryid non_ps_primaryid non_ps_role_cod\n",
       "17229  23513272  235132721        235132721              SS\n",
       "17230  23519209  235192091        235192091              SS\n",
       "17231  23530507  235305072        235305072              SS\n",
       "17232  23560238  235602384        235602384              SS\n",
       "17233  23566852  235668522        235668522              SS\n",
       "17234  23637234  236372341        236372341              SS\n",
       "17235  23649427  236494271        236494271              SS\n",
       "17236  23659698  236596981        236596981              SS\n",
       "17237  23673471  236734712        236734712              SS\n",
       "17238  23681982  236819821        236819821              SS"
      ],
      "text/html": [
       "<div>\n",
       "<style scoped>\n",
       "    .dataframe tbody tr th:only-of-type {\n",
       "        vertical-align: middle;\n",
       "    }\n",
       "\n",
       "    .dataframe tbody tr th {\n",
       "        vertical-align: top;\n",
       "    }\n",
       "\n",
       "    .dataframe thead th {\n",
       "        text-align: right;\n",
       "    }\n",
       "</style>\n",
       "<table border=\"1\" class=\"dataframe\">\n",
       "  <thead>\n",
       "    <tr style=\"text-align: right;\">\n",
       "      <th></th>\n",
       "      <th>caseid</th>\n",
       "      <th>primaryid</th>\n",
       "      <th>non_ps_primaryid</th>\n",
       "      <th>non_ps_role_cod</th>\n",
       "    </tr>\n",
       "  </thead>\n",
       "  <tbody>\n",
       "    <tr>\n",
       "      <th>17229</th>\n",
       "      <td>23513272</td>\n",
       "      <td>235132721</td>\n",
       "      <td>235132721</td>\n",
       "      <td>SS</td>\n",
       "    </tr>\n",
       "    <tr>\n",
       "      <th>17230</th>\n",
       "      <td>23519209</td>\n",
       "      <td>235192091</td>\n",
       "      <td>235192091</td>\n",
       "      <td>SS</td>\n",
       "    </tr>\n",
       "    <tr>\n",
       "      <th>17231</th>\n",
       "      <td>23530507</td>\n",
       "      <td>235305072</td>\n",
       "      <td>235305072</td>\n",
       "      <td>SS</td>\n",
       "    </tr>\n",
       "    <tr>\n",
       "      <th>17232</th>\n",
       "      <td>23560238</td>\n",
       "      <td>235602384</td>\n",
       "      <td>235602384</td>\n",
       "      <td>SS</td>\n",
       "    </tr>\n",
       "    <tr>\n",
       "      <th>17233</th>\n",
       "      <td>23566852</td>\n",
       "      <td>235668522</td>\n",
       "      <td>235668522</td>\n",
       "      <td>SS</td>\n",
       "    </tr>\n",
       "    <tr>\n",
       "      <th>17234</th>\n",
       "      <td>23637234</td>\n",
       "      <td>236372341</td>\n",
       "      <td>236372341</td>\n",
       "      <td>SS</td>\n",
       "    </tr>\n",
       "    <tr>\n",
       "      <th>17235</th>\n",
       "      <td>23649427</td>\n",
       "      <td>236494271</td>\n",
       "      <td>236494271</td>\n",
       "      <td>SS</td>\n",
       "    </tr>\n",
       "    <tr>\n",
       "      <th>17236</th>\n",
       "      <td>23659698</td>\n",
       "      <td>236596981</td>\n",
       "      <td>236596981</td>\n",
       "      <td>SS</td>\n",
       "    </tr>\n",
       "    <tr>\n",
       "      <th>17237</th>\n",
       "      <td>23673471</td>\n",
       "      <td>236734712</td>\n",
       "      <td>236734712</td>\n",
       "      <td>SS</td>\n",
       "    </tr>\n",
       "    <tr>\n",
       "      <th>17238</th>\n",
       "      <td>23681982</td>\n",
       "      <td>236819821</td>\n",
       "      <td>236819821</td>\n",
       "      <td>SS</td>\n",
       "    </tr>\n",
       "  </tbody>\n",
       "</table>\n",
       "</div>"
      ]
     },
     "execution_count": 16,
     "metadata": {},
     "output_type": "execute_result"
    }
   ],
   "execution_count": 16
  },
  {
   "cell_type": "markdown",
   "id": "a690134e6558652f",
   "metadata": {},
   "source": "# Table1.1性别"
  },
  {
   "cell_type": "code",
   "execution_count": null,
   "id": "dd217cd13dc042e6",
   "metadata": {},
   "outputs": [],
   "source": [
    "## select * from faers_reac limit"
   ]
  },
  {
   "cell_type": "code",
   "id": "9726e04abe0eb3a2",
   "metadata": {
    "ExecuteTime": {
     "end_time": "2024-08-18T15:52:10.217183Z",
     "start_time": "2024-08-18T15:51:54.990490Z"
    }
   },
   "source": [
    "sql = '''\n",
    "\n",
    "SELECT  \n",
    "    case \n",
    "        when sex in ('UNK','') then  'Unknown'\n",
    "        when sex = 'M' then  'Male'\n",
    "        when sex = 'F' then  'Female'\n",
    "        else sex\n",
    "    end as sex, COUNT(distinct tb1.primaryid) AS primaryid_count\n",
    "FROM\n",
    "(   select  primaryid,  sex\n",
    "    from faers.demo_dedup\n",
    "    where rn = 1\n",
    ") tb1\n",
    "join (\n",
    "        select distinct primaryid\n",
    "        from faers.ribo_drug_usage\n",
    ") tb2\n",
    "on tb1.primaryid = tb2.primaryid\n",
    "group by 1 order by 1;\n",
    "\n",
    "'''\n",
    "df_sex = pd.read_sql_query(sql, conn)\n",
    "df_sex\n"
   ],
   "outputs": [
    {
     "name": "stderr",
     "output_type": "stream",
     "text": [
      "/var/folders/7w/sgw5xk457ss20939d0n2_5600000gn/T/ipykernel_38268/1246684853.py:23: UserWarning: pandas only supports SQLAlchemy connectable (engine/connection) or database string URI or sqlite3 DBAPI2 connection. Other DBAPI2 objects are not tested. Please consider using SQLAlchemy.\n",
      "  df_sex = pd.read_sql_query(sql, conn)\n"
     ]
    },
    {
     "data": {
      "text/plain": [
       "       sex  primaryid_count\n",
       "0   Female            13932\n",
       "1     Male              269\n",
       "2  Unknown             1124"
      ],
      "text/html": [
       "<div>\n",
       "<style scoped>\n",
       "    .dataframe tbody tr th:only-of-type {\n",
       "        vertical-align: middle;\n",
       "    }\n",
       "\n",
       "    .dataframe tbody tr th {\n",
       "        vertical-align: top;\n",
       "    }\n",
       "\n",
       "    .dataframe thead th {\n",
       "        text-align: right;\n",
       "    }\n",
       "</style>\n",
       "<table border=\"1\" class=\"dataframe\">\n",
       "  <thead>\n",
       "    <tr style=\"text-align: right;\">\n",
       "      <th></th>\n",
       "      <th>sex</th>\n",
       "      <th>primaryid_count</th>\n",
       "    </tr>\n",
       "  </thead>\n",
       "  <tbody>\n",
       "    <tr>\n",
       "      <th>0</th>\n",
       "      <td>Female</td>\n",
       "      <td>13932</td>\n",
       "    </tr>\n",
       "    <tr>\n",
       "      <th>1</th>\n",
       "      <td>Male</td>\n",
       "      <td>269</td>\n",
       "    </tr>\n",
       "    <tr>\n",
       "      <th>2</th>\n",
       "      <td>Unknown</td>\n",
       "      <td>1124</td>\n",
       "    </tr>\n",
       "  </tbody>\n",
       "</table>\n",
       "</div>"
      ]
     },
     "execution_count": 7,
     "metadata": {},
     "output_type": "execute_result"
    }
   ],
   "execution_count": 7
  },
  {
   "cell_type": "markdown",
   "id": "14998e325d87f59a",
   "metadata": {},
   "source": "# Table1.2年龄\n"
  },
  {
   "cell_type": "code",
   "id": "f205c008426f7508",
   "metadata": {
    "ExecuteTime": {
     "end_time": "2024-08-18T15:56:15.554725Z",
     "start_time": "2024-08-18T15:55:58.450642Z"
    }
   },
   "source": [
    "sql = '''\n",
    "\n",
    "select\n",
    "    case\n",
    "            when age = '无' or cast(age as signed) < 0 then 'Unknown'\n",
    "            when cast(age as signed) >= 0  and cast(age as signed) < 18 then '＜18'\n",
    "            when cast(age as signed) >= 18 and cast(age as signed) < 29 then '18-29'\n",
    "            when cast(age as signed) >= 30 and cast(age as signed) < 49 then '30-49'\n",
    "            when cast(age as signed) >= 50 and cast(age as signed) < 64 then '50-64'\n",
    "            when cast(age as signed) >= 65 and cast(age as signed) < 74 then '65-74'\n",
    "            when cast(age as signed) > 75  and cast(age as signed) < 84 then '75-84'\n",
    "            when cast(age as signed) > 75  and cast(age as signed) < 84 then '75-84'\n",
    "            else '>=85'\n",
    "    end as age_group,\n",
    "    COUNT(distinct tb1.primaryid) AS primaryid_count\n",
    "FROM\n",
    "(\n",
    "    select primaryid, age\n",
    "    from faers.demo_dedup\n",
    "    where rn = 1\n",
    ") tb1\n",
    "join (\n",
    "        select distinct primaryid\n",
    "        from faers.ribo_drug_usage\n",
    ") tb2\n",
    "on tb1.primaryid = tb2.primaryid\n",
    "group by 1\n",
    "order by 1\n",
    ";\n",
    "'''\n",
    "df_age = pd.read_sql_query(sql, conn)\n",
    "df_age\n"
   ],
   "outputs": [
    {
     "name": "stderr",
     "output_type": "stream",
     "text": [
      "/var/folders/7w/sgw5xk457ss20939d0n2_5600000gn/T/ipykernel_38268/1584813064.py:31: UserWarning: pandas only supports SQLAlchemy connectable (engine/connection) or database string URI or sqlite3 DBAPI2 connection. Other DBAPI2 objects are not tested. Please consider using SQLAlchemy.\n",
      "  df_age = pd.read_sql_query(sql, conn)\n"
     ]
    },
    {
     "data": {
      "text/plain": [
       "       age  primaryid_count\n",
       "0      ＜18               19\n",
       "1     >=85              803\n",
       "2    18-29               39\n",
       "3    30-49             1391\n",
       "4    50-64             2307\n",
       "5    65-74             1663\n",
       "6    75-84              756\n",
       "7  Unknown             8347"
      ],
      "text/html": [
       "<div>\n",
       "<style scoped>\n",
       "    .dataframe tbody tr th:only-of-type {\n",
       "        vertical-align: middle;\n",
       "    }\n",
       "\n",
       "    .dataframe tbody tr th {\n",
       "        vertical-align: top;\n",
       "    }\n",
       "\n",
       "    .dataframe thead th {\n",
       "        text-align: right;\n",
       "    }\n",
       "</style>\n",
       "<table border=\"1\" class=\"dataframe\">\n",
       "  <thead>\n",
       "    <tr style=\"text-align: right;\">\n",
       "      <th></th>\n",
       "      <th>age</th>\n",
       "      <th>primaryid_count</th>\n",
       "    </tr>\n",
       "  </thead>\n",
       "  <tbody>\n",
       "    <tr>\n",
       "      <th>0</th>\n",
       "      <td>＜18</td>\n",
       "      <td>19</td>\n",
       "    </tr>\n",
       "    <tr>\n",
       "      <th>1</th>\n",
       "      <td>&gt;=85</td>\n",
       "      <td>803</td>\n",
       "    </tr>\n",
       "    <tr>\n",
       "      <th>2</th>\n",
       "      <td>18-29</td>\n",
       "      <td>39</td>\n",
       "    </tr>\n",
       "    <tr>\n",
       "      <th>3</th>\n",
       "      <td>30-49</td>\n",
       "      <td>1391</td>\n",
       "    </tr>\n",
       "    <tr>\n",
       "      <th>4</th>\n",
       "      <td>50-64</td>\n",
       "      <td>2307</td>\n",
       "    </tr>\n",
       "    <tr>\n",
       "      <th>5</th>\n",
       "      <td>65-74</td>\n",
       "      <td>1663</td>\n",
       "    </tr>\n",
       "    <tr>\n",
       "      <th>6</th>\n",
       "      <td>75-84</td>\n",
       "      <td>756</td>\n",
       "    </tr>\n",
       "    <tr>\n",
       "      <th>7</th>\n",
       "      <td>Unknown</td>\n",
       "      <td>8347</td>\n",
       "    </tr>\n",
       "  </tbody>\n",
       "</table>\n",
       "</div>"
      ]
     },
     "execution_count": 8,
     "metadata": {},
     "output_type": "execute_result"
    }
   ],
   "execution_count": 8
  },
  {
   "cell_type": "markdown",
   "id": "6eda3e7ed88db033",
   "metadata": {},
   "source": [
    "## 年龄的分位\n"
   ]
  },
  {
   "cell_type": "code",
   "id": "28bc0f4297f1db90",
   "metadata": {
    "ExecuteTime": {
     "end_time": "2024-08-18T16:00:45.843626Z",
     "start_time": "2024-08-18T16:00:45.326903Z"
    }
   },
   "source": [
    "sql = '''\n",
    "\n",
    "select \n",
    "    percentile_cont(0.5) within group (order by age) as IQR\n",
    "FROM\n",
    "(\n",
    "    select primaryid, age\n",
    "    from faers.demo_dedup\n",
    "    where age not in ('Unknown','无') and cast(age as signed) >= 0\n",
    ") tb1\n",
    "join (\n",
    "        select distinct primaryid\n",
    "        from faers.ribo_drug_usage\n",
    ") tb2\n",
    "on tb1.primaryid = tb2.primaryid;\n",
    "\n",
    "'''\n",
    "\n",
    "df_age_q = pd.read_sql_query(sql, conn)\n",
    "df_age_q\n"
   ],
   "outputs": [
    {
     "name": "stderr",
     "output_type": "stream",
     "text": [
      "/var/folders/7w/sgw5xk457ss20939d0n2_5600000gn/T/ipykernel_38268/282076065.py:19: UserWarning: pandas only supports SQLAlchemy connectable (engine/connection) or database string URI or sqlite3 DBAPI2 connection. Other DBAPI2 objects are not tested. Please consider using SQLAlchemy.\n",
      "  df_age_q = pd.read_sql_query(sql, conn)\n"
     ]
    },
    {
     "ename": "DatabaseError",
     "evalue": "Execution failed on sql '\n\nselect \n    percentile_cont(0.5) within group (order by age) as IQR\nFROM\n(\n    select primaryid, age\n    from faers.faers_demo\n    where age not in ('Unknown','无') and cast(age as signed) >= 0\n) tb1\njoin (\n        select distinct primaryid\n        from faers.ribo_drug_usage\n) tb2\non tb1.primaryid = tb2.primaryid;\n\n': (1064, \"You have an error in your SQL syntax; check the manual that corresponds to your MySQL server version for the right syntax to use near '(order by age) as IQR\\nFROM\\n(\\n    select primaryid, age\\n    from faers.faers_demo' at line 2\")",
     "output_type": "error",
     "traceback": [
      "\u001B[0;31m---------------------------------------------------------------------------\u001B[0m",
      "\u001B[0;31mProgrammingError\u001B[0m                          Traceback (most recent call last)",
      "File \u001B[0;32m/opt/anaconda3/lib/python3.11/site-packages/pandas/io/sql.py:2674\u001B[0m, in \u001B[0;36mSQLiteDatabase.execute\u001B[0;34m(self, sql, params)\u001B[0m\n\u001B[1;32m   2673\u001B[0m \u001B[38;5;28;01mtry\u001B[39;00m:\n\u001B[0;32m-> 2674\u001B[0m     cur\u001B[38;5;241m.\u001B[39mexecute(sql, \u001B[38;5;241m*\u001B[39margs)\n\u001B[1;32m   2675\u001B[0m     \u001B[38;5;28;01mreturn\u001B[39;00m cur\n",
      "File \u001B[0;32m/opt/anaconda3/lib/python3.11/site-packages/DBUtils/SteadyDB.py:580\u001B[0m, in \u001B[0;36mSteadyDBCursor._get_tough_method.<locals>.tough_method\u001B[0;34m(*args, **kwargs)\u001B[0m\n\u001B[1;32m    579\u001B[0m method \u001B[38;5;241m=\u001B[39m \u001B[38;5;28mgetattr\u001B[39m(\u001B[38;5;28mself\u001B[39m\u001B[38;5;241m.\u001B[39m_cursor, name)\n\u001B[0;32m--> 580\u001B[0m result \u001B[38;5;241m=\u001B[39m method(\u001B[38;5;241m*\u001B[39margs, \u001B[38;5;241m*\u001B[39m\u001B[38;5;241m*\u001B[39mkwargs)  \u001B[38;5;66;03m# try to execute\u001B[39;00m\n\u001B[1;32m    581\u001B[0m \u001B[38;5;28;01mif\u001B[39;00m execute:\n",
      "File \u001B[0;32m/opt/anaconda3/lib/python3.11/site-packages/pymysql/cursors.py:153\u001B[0m, in \u001B[0;36mCursor.execute\u001B[0;34m(self, query, args)\u001B[0m\n\u001B[1;32m    151\u001B[0m query \u001B[38;5;241m=\u001B[39m \u001B[38;5;28mself\u001B[39m\u001B[38;5;241m.\u001B[39mmogrify(query, args)\n\u001B[0;32m--> 153\u001B[0m result \u001B[38;5;241m=\u001B[39m \u001B[38;5;28mself\u001B[39m\u001B[38;5;241m.\u001B[39m_query(query)\n\u001B[1;32m    154\u001B[0m \u001B[38;5;28mself\u001B[39m\u001B[38;5;241m.\u001B[39m_executed \u001B[38;5;241m=\u001B[39m query\n",
      "File \u001B[0;32m/opt/anaconda3/lib/python3.11/site-packages/pymysql/cursors.py:322\u001B[0m, in \u001B[0;36mCursor._query\u001B[0;34m(self, q)\u001B[0m\n\u001B[1;32m    321\u001B[0m \u001B[38;5;28mself\u001B[39m\u001B[38;5;241m.\u001B[39m_clear_result()\n\u001B[0;32m--> 322\u001B[0m conn\u001B[38;5;241m.\u001B[39mquery(q)\n\u001B[1;32m    323\u001B[0m \u001B[38;5;28mself\u001B[39m\u001B[38;5;241m.\u001B[39m_do_get_result()\n",
      "File \u001B[0;32m/opt/anaconda3/lib/python3.11/site-packages/pymysql/connections.py:563\u001B[0m, in \u001B[0;36mConnection.query\u001B[0;34m(self, sql, unbuffered)\u001B[0m\n\u001B[1;32m    562\u001B[0m \u001B[38;5;28mself\u001B[39m\u001B[38;5;241m.\u001B[39m_execute_command(COMMAND\u001B[38;5;241m.\u001B[39mCOM_QUERY, sql)\n\u001B[0;32m--> 563\u001B[0m \u001B[38;5;28mself\u001B[39m\u001B[38;5;241m.\u001B[39m_affected_rows \u001B[38;5;241m=\u001B[39m \u001B[38;5;28mself\u001B[39m\u001B[38;5;241m.\u001B[39m_read_query_result(unbuffered\u001B[38;5;241m=\u001B[39munbuffered)\n\u001B[1;32m    564\u001B[0m \u001B[38;5;28;01mreturn\u001B[39;00m \u001B[38;5;28mself\u001B[39m\u001B[38;5;241m.\u001B[39m_affected_rows\n",
      "File \u001B[0;32m/opt/anaconda3/lib/python3.11/site-packages/pymysql/connections.py:825\u001B[0m, in \u001B[0;36mConnection._read_query_result\u001B[0;34m(self, unbuffered)\u001B[0m\n\u001B[1;32m    824\u001B[0m     result \u001B[38;5;241m=\u001B[39m MySQLResult(\u001B[38;5;28mself\u001B[39m)\n\u001B[0;32m--> 825\u001B[0m     result\u001B[38;5;241m.\u001B[39mread()\n\u001B[1;32m    826\u001B[0m \u001B[38;5;28mself\u001B[39m\u001B[38;5;241m.\u001B[39m_result \u001B[38;5;241m=\u001B[39m result\n",
      "File \u001B[0;32m/opt/anaconda3/lib/python3.11/site-packages/pymysql/connections.py:1199\u001B[0m, in \u001B[0;36mMySQLResult.read\u001B[0;34m(self)\u001B[0m\n\u001B[1;32m   1198\u001B[0m \u001B[38;5;28;01mtry\u001B[39;00m:\n\u001B[0;32m-> 1199\u001B[0m     first_packet \u001B[38;5;241m=\u001B[39m \u001B[38;5;28mself\u001B[39m\u001B[38;5;241m.\u001B[39mconnection\u001B[38;5;241m.\u001B[39m_read_packet()\n\u001B[1;32m   1201\u001B[0m     \u001B[38;5;28;01mif\u001B[39;00m first_packet\u001B[38;5;241m.\u001B[39mis_ok_packet():\n",
      "File \u001B[0;32m/opt/anaconda3/lib/python3.11/site-packages/pymysql/connections.py:775\u001B[0m, in \u001B[0;36mConnection._read_packet\u001B[0;34m(self, packet_type)\u001B[0m\n\u001B[1;32m    774\u001B[0m         \u001B[38;5;28mself\u001B[39m\u001B[38;5;241m.\u001B[39m_result\u001B[38;5;241m.\u001B[39munbuffered_active \u001B[38;5;241m=\u001B[39m \u001B[38;5;28;01mFalse\u001B[39;00m\n\u001B[0;32m--> 775\u001B[0m     packet\u001B[38;5;241m.\u001B[39mraise_for_error()\n\u001B[1;32m    776\u001B[0m \u001B[38;5;28;01mreturn\u001B[39;00m packet\n",
      "File \u001B[0;32m/opt/anaconda3/lib/python3.11/site-packages/pymysql/protocol.py:219\u001B[0m, in \u001B[0;36mMysqlPacket.raise_for_error\u001B[0;34m(self)\u001B[0m\n\u001B[1;32m    218\u001B[0m     \u001B[38;5;28mprint\u001B[39m(\u001B[38;5;124m\"\u001B[39m\u001B[38;5;124merrno =\u001B[39m\u001B[38;5;124m\"\u001B[39m, errno)\n\u001B[0;32m--> 219\u001B[0m err\u001B[38;5;241m.\u001B[39mraise_mysql_exception(\u001B[38;5;28mself\u001B[39m\u001B[38;5;241m.\u001B[39m_data)\n",
      "File \u001B[0;32m/opt/anaconda3/lib/python3.11/site-packages/pymysql/err.py:150\u001B[0m, in \u001B[0;36mraise_mysql_exception\u001B[0;34m(data)\u001B[0m\n\u001B[1;32m    149\u001B[0m     errorclass \u001B[38;5;241m=\u001B[39m InternalError \u001B[38;5;28;01mif\u001B[39;00m errno \u001B[38;5;241m<\u001B[39m \u001B[38;5;241m1000\u001B[39m \u001B[38;5;28;01melse\u001B[39;00m OperationalError\n\u001B[0;32m--> 150\u001B[0m \u001B[38;5;28;01mraise\u001B[39;00m errorclass(errno, errval)\n",
      "\u001B[0;31mProgrammingError\u001B[0m: (1064, \"You have an error in your SQL syntax; check the manual that corresponds to your MySQL server version for the right syntax to use near '(order by age) as IQR\\nFROM\\n(\\n    select primaryid, age\\n    from faers.faers_demo' at line 2\")",
      "\nThe above exception was the direct cause of the following exception:\n",
      "\u001B[0;31mDatabaseError\u001B[0m                             Traceback (most recent call last)",
      "Cell \u001B[0;32mIn[9], line 19\u001B[0m\n\u001B[1;32m      1\u001B[0m sql \u001B[38;5;241m=\u001B[39m \u001B[38;5;124m'''\u001B[39m\n\u001B[1;32m      2\u001B[0m \n\u001B[1;32m      3\u001B[0m \u001B[38;5;124mselect \u001B[39m\n\u001B[0;32m   (...)\u001B[0m\n\u001B[1;32m     16\u001B[0m \n\u001B[1;32m     17\u001B[0m \u001B[38;5;124m'''\u001B[39m\n\u001B[0;32m---> 19\u001B[0m df_age_q \u001B[38;5;241m=\u001B[39m pd\u001B[38;5;241m.\u001B[39mread_sql_query(sql, conn)\n\u001B[1;32m     20\u001B[0m df_age_q\n",
      "File \u001B[0;32m/opt/anaconda3/lib/python3.11/site-packages/pandas/io/sql.py:526\u001B[0m, in \u001B[0;36mread_sql_query\u001B[0;34m(sql, con, index_col, coerce_float, params, parse_dates, chunksize, dtype, dtype_backend)\u001B[0m\n\u001B[1;32m    523\u001B[0m \u001B[38;5;28;01massert\u001B[39;00m dtype_backend \u001B[38;5;129;01mis\u001B[39;00m \u001B[38;5;129;01mnot\u001B[39;00m lib\u001B[38;5;241m.\u001B[39mno_default\n\u001B[1;32m    525\u001B[0m \u001B[38;5;28;01mwith\u001B[39;00m pandasSQL_builder(con) \u001B[38;5;28;01mas\u001B[39;00m pandas_sql:\n\u001B[0;32m--> 526\u001B[0m     \u001B[38;5;28;01mreturn\u001B[39;00m pandas_sql\u001B[38;5;241m.\u001B[39mread_query(\n\u001B[1;32m    527\u001B[0m         sql,\n\u001B[1;32m    528\u001B[0m         index_col\u001B[38;5;241m=\u001B[39mindex_col,\n\u001B[1;32m    529\u001B[0m         params\u001B[38;5;241m=\u001B[39mparams,\n\u001B[1;32m    530\u001B[0m         coerce_float\u001B[38;5;241m=\u001B[39mcoerce_float,\n\u001B[1;32m    531\u001B[0m         parse_dates\u001B[38;5;241m=\u001B[39mparse_dates,\n\u001B[1;32m    532\u001B[0m         chunksize\u001B[38;5;241m=\u001B[39mchunksize,\n\u001B[1;32m    533\u001B[0m         dtype\u001B[38;5;241m=\u001B[39mdtype,\n\u001B[1;32m    534\u001B[0m         dtype_backend\u001B[38;5;241m=\u001B[39mdtype_backend,\n\u001B[1;32m    535\u001B[0m     )\n",
      "File \u001B[0;32m/opt/anaconda3/lib/python3.11/site-packages/pandas/io/sql.py:2738\u001B[0m, in \u001B[0;36mSQLiteDatabase.read_query\u001B[0;34m(self, sql, index_col, coerce_float, parse_dates, params, chunksize, dtype, dtype_backend)\u001B[0m\n\u001B[1;32m   2727\u001B[0m \u001B[38;5;28;01mdef\u001B[39;00m \u001B[38;5;21mread_query\u001B[39m(\n\u001B[1;32m   2728\u001B[0m     \u001B[38;5;28mself\u001B[39m,\n\u001B[1;32m   2729\u001B[0m     sql,\n\u001B[0;32m   (...)\u001B[0m\n\u001B[1;32m   2736\u001B[0m     dtype_backend: DtypeBackend \u001B[38;5;241m|\u001B[39m Literal[\u001B[38;5;124m\"\u001B[39m\u001B[38;5;124mnumpy\u001B[39m\u001B[38;5;124m\"\u001B[39m] \u001B[38;5;241m=\u001B[39m \u001B[38;5;124m\"\u001B[39m\u001B[38;5;124mnumpy\u001B[39m\u001B[38;5;124m\"\u001B[39m,\n\u001B[1;32m   2737\u001B[0m ) \u001B[38;5;241m-\u001B[39m\u001B[38;5;241m>\u001B[39m DataFrame \u001B[38;5;241m|\u001B[39m Iterator[DataFrame]:\n\u001B[0;32m-> 2738\u001B[0m     cursor \u001B[38;5;241m=\u001B[39m \u001B[38;5;28mself\u001B[39m\u001B[38;5;241m.\u001B[39mexecute(sql, params)\n\u001B[1;32m   2739\u001B[0m     columns \u001B[38;5;241m=\u001B[39m [col_desc[\u001B[38;5;241m0\u001B[39m] \u001B[38;5;28;01mfor\u001B[39;00m col_desc \u001B[38;5;129;01min\u001B[39;00m cursor\u001B[38;5;241m.\u001B[39mdescription]\n\u001B[1;32m   2741\u001B[0m     \u001B[38;5;28;01mif\u001B[39;00m chunksize \u001B[38;5;129;01mis\u001B[39;00m \u001B[38;5;129;01mnot\u001B[39;00m \u001B[38;5;28;01mNone\u001B[39;00m:\n",
      "File \u001B[0;32m/opt/anaconda3/lib/python3.11/site-packages/pandas/io/sql.py:2686\u001B[0m, in \u001B[0;36mSQLiteDatabase.execute\u001B[0;34m(self, sql, params)\u001B[0m\n\u001B[1;32m   2683\u001B[0m     \u001B[38;5;28;01mraise\u001B[39;00m ex \u001B[38;5;28;01mfrom\u001B[39;00m \u001B[38;5;21;01minner_exc\u001B[39;00m\n\u001B[1;32m   2685\u001B[0m ex \u001B[38;5;241m=\u001B[39m DatabaseError(\u001B[38;5;124mf\u001B[39m\u001B[38;5;124m\"\u001B[39m\u001B[38;5;124mExecution failed on sql \u001B[39m\u001B[38;5;124m'\u001B[39m\u001B[38;5;132;01m{\u001B[39;00msql\u001B[38;5;132;01m}\u001B[39;00m\u001B[38;5;124m'\u001B[39m\u001B[38;5;124m: \u001B[39m\u001B[38;5;132;01m{\u001B[39;00mexc\u001B[38;5;132;01m}\u001B[39;00m\u001B[38;5;124m\"\u001B[39m)\n\u001B[0;32m-> 2686\u001B[0m \u001B[38;5;28;01mraise\u001B[39;00m ex \u001B[38;5;28;01mfrom\u001B[39;00m \u001B[38;5;21;01mexc\u001B[39;00m\n",
      "\u001B[0;31mDatabaseError\u001B[0m: Execution failed on sql '\n\nselect \n    percentile_cont(0.5) within group (order by age) as IQR\nFROM\n(\n    select primaryid, age\n    from faers.faers_demo\n    where age not in ('Unknown','无') and cast(age as signed) >= 0\n) tb1\njoin (\n        select distinct primaryid\n        from faers.ribo_drug_usage\n) tb2\non tb1.primaryid = tb2.primaryid;\n\n': (1064, \"You have an error in your SQL syntax; check the manual that corresponds to your MySQL server version for the right syntax to use near '(order by age) as IQR\\nFROM\\n(\\n    select primaryid, age\\n    from faers.faers_demo' at line 2\")"
     ]
    }
   ],
   "execution_count": 9
  },
  {
   "cell_type": "code",
   "execution_count": null,
   "id": "517d9acc567c149f",
   "metadata": {},
   "outputs": [],
   "source": []
  },
  {
   "cell_type": "markdown",
   "id": "b4ecb2320653d11d",
   "metadata": {},
   "source": [
    "# Table1.3体重\n"
   ]
  },
  {
   "cell_type": "markdown",
   "id": "a9f32d40caa0fa1a",
   "metadata": {},
   "source": [
    "## 体重的分桶计\n"
   ]
  },
  {
   "cell_type": "code",
   "id": "54b56c08b053a54",
   "metadata": {
    "ExecuteTime": {
     "end_time": "2024-08-18T16:22:49.076221Z",
     "start_time": "2024-08-18T16:22:34.022450Z"
    }
   },
   "source": [
    "sql = '''\n",
    "\n",
    "select\n",
    "    case\n",
    "            when wt in ('无','wt_convert_fail') then 'Unknown'\n",
    "            when cast(wt as signed) >= 0  and cast(wt as signed) < 80 then '＜80'\n",
    "            when cast(wt as signed) >= 80 and cast(wt as signed) < 100 then '80-100'\n",
    "            when cast(wt as signed) >= 100 then '>100'\n",
    "            else wt\n",
    "    end as wt_bucket,\n",
    "    COUNT(distinct tb1.primaryid) AS primaryid_count\n",
    "FROM\n",
    "(\n",
    "    select primaryid, wt\n",
    "    from faers.demo_dedup\n",
    "    where rn = 1\n",
    ") tb1\n",
    "join (\n",
    "        select distinct primaryid\n",
    "        from faers.ribo_drug_usage\n",
    ") tb2\n",
    "on tb1.primaryid = tb2.primaryid\n",
    "group by 1\n",
    "order by 1\n",
    ";\n",
    "'''\n",
    "df_wt = pd.read_sql_query(sql, conn)\n",
    "df_wt\n"
   ],
   "outputs": [
    {
     "name": "stderr",
     "output_type": "stream",
     "text": [
      "/var/folders/7w/sgw5xk457ss20939d0n2_5600000gn/T/ipykernel_38268/1127711843.py:27: UserWarning: pandas only supports SQLAlchemy connectable (engine/connection) or database string URI or sqlite3 DBAPI2 connection. Other DBAPI2 objects are not tested. Please consider using SQLAlchemy.\n",
      "  df_wt = pd.read_sql_query(sql, conn)\n"
     ]
    },
    {
     "data": {
      "text/plain": [
       "  wt_bucket  primaryid_count\n",
       "0       ＜80             2231\n",
       "1      >100              168\n",
       "2    80-100              567\n",
       "3   Unknown            12359"
      ],
      "text/html": [
       "<div>\n",
       "<style scoped>\n",
       "    .dataframe tbody tr th:only-of-type {\n",
       "        vertical-align: middle;\n",
       "    }\n",
       "\n",
       "    .dataframe tbody tr th {\n",
       "        vertical-align: top;\n",
       "    }\n",
       "\n",
       "    .dataframe thead th {\n",
       "        text-align: right;\n",
       "    }\n",
       "</style>\n",
       "<table border=\"1\" class=\"dataframe\">\n",
       "  <thead>\n",
       "    <tr style=\"text-align: right;\">\n",
       "      <th></th>\n",
       "      <th>wt_bucket</th>\n",
       "      <th>primaryid_count</th>\n",
       "    </tr>\n",
       "  </thead>\n",
       "  <tbody>\n",
       "    <tr>\n",
       "      <th>0</th>\n",
       "      <td>＜80</td>\n",
       "      <td>2231</td>\n",
       "    </tr>\n",
       "    <tr>\n",
       "      <th>1</th>\n",
       "      <td>&gt;100</td>\n",
       "      <td>168</td>\n",
       "    </tr>\n",
       "    <tr>\n",
       "      <th>2</th>\n",
       "      <td>80-100</td>\n",
       "      <td>567</td>\n",
       "    </tr>\n",
       "    <tr>\n",
       "      <th>3</th>\n",
       "      <td>Unknown</td>\n",
       "      <td>12359</td>\n",
       "    </tr>\n",
       "  </tbody>\n",
       "</table>\n",
       "</div>"
      ]
     },
     "execution_count": 13,
     "metadata": {},
     "output_type": "execute_result"
    }
   ],
   "execution_count": 13
  },
  {
   "cell_type": "markdown",
   "id": "a5d452c5a439890",
   "metadata": {},
   "source": [
    "## 体重的分位点"
   ]
  },
  {
   "cell_type": "code",
   "execution_count": null,
   "id": "6108498c353a7d4c",
   "metadata": {},
   "outputs": [],
   "source": []
  },
  {
   "cell_type": "code",
   "id": "3d09e068fe4f329a",
   "metadata": {
    "ExecuteTime": {
     "end_time": "2024-08-17T16:12:17.417171Z",
     "start_time": "2024-08-17T16:12:16.305072Z"
    }
   },
   "source": [
    "sql = '''\n",
    "\n",
    "select \n",
    "    percentile(wt, 0.25) as wt_q25,\n",
    "    percentile(wt, 0.5)  as wt_q50,\n",
    "    percentile(wt, 0.75) as wt_q75\n",
    "FROM\n",
    "(\n",
    "    select caseid, max(wt) as wt\n",
    "    from faers.faers_demo\n",
    "    where upper(I_F_COD) = 'I'   \n",
    "    group by caseid\n",
    ") tb1\n",
    "join (\n",
    "        select distinct caseid\n",
    "        from faers.ribo_drug_usage\n",
    ") tb2\n",
    "on tb1.caseid = tb2.caseid;\n",
    "\n",
    "'''\n",
    "\n",
    "df_wt_q = pd.read_sql_query(sql, conn)\n",
    "df_wt_q\n"
   ],
   "outputs": [
    {
     "name": "stderr",
     "output_type": "stream",
     "text": [
      "/var/folders/7w/sgw5xk457ss20939d0n2_5600000gn/T/ipykernel_24540/2231694097.py:22: UserWarning: pandas only supports SQLAlchemy connectable (engine/connection) or database string URI or sqlite3 DBAPI2 connection. Other DBAPI2 objects are not tested. Please consider using SQLAlchemy.\n",
      "  df_wt_q = pd.read_sql_query(sql, conn)\n"
     ]
    },
    {
     "ename": "DatabaseError",
     "evalue": "Execution failed on sql '\n\nselect \n    percentile(wt, 0.25) as wt_q25,\n    percentile(wt, 0.5)  as wt_q50,\n    percentile(wt, 0.75) as wt_q75\nFROM\n(\n    select caseid, max(wt) as wt\n    from faers.faers_demo\n    where upper(I_F_COD) = 'I'   \n    group by caseid\n) tb1\njoin (\n        select distinct caseid\n        from faers.ribo_drug_usage\n) tb2\non tb1.caseid = tb2.caseid;\n\n': (1305, 'FUNCTION faers.percentile does not exist')",
     "output_type": "error",
     "traceback": [
      "\u001B[0;31m---------------------------------------------------------------------------\u001B[0m",
      "\u001B[0;31mOperationalError\u001B[0m                          Traceback (most recent call last)",
      "File \u001B[0;32m/opt/anaconda3/lib/python3.11/site-packages/pandas/io/sql.py:2674\u001B[0m, in \u001B[0;36mSQLiteDatabase.execute\u001B[0;34m(self, sql, params)\u001B[0m\n\u001B[1;32m   2673\u001B[0m \u001B[38;5;28;01mtry\u001B[39;00m:\n\u001B[0;32m-> 2674\u001B[0m     cur\u001B[38;5;241m.\u001B[39mexecute(sql, \u001B[38;5;241m*\u001B[39margs)\n\u001B[1;32m   2675\u001B[0m     \u001B[38;5;28;01mreturn\u001B[39;00m cur\n",
      "File \u001B[0;32m/opt/anaconda3/lib/python3.11/site-packages/DBUtils/SteadyDB.py:661\u001B[0m, in \u001B[0;36mSteadyDBCursor._get_tough_method.<locals>.tough_method\u001B[0;34m(*args, **kwargs)\u001B[0m\n\u001B[1;32m    660\u001B[0m         \u001B[38;5;28mself\u001B[39m\u001B[38;5;241m.\u001B[39m_transaction \u001B[38;5;241m=\u001B[39m \u001B[38;5;28;01mFalse\u001B[39;00m\n\u001B[0;32m--> 661\u001B[0m     \u001B[38;5;28;01mraise\u001B[39;00m error  \u001B[38;5;66;03m# reraise the original error again\u001B[39;00m\n\u001B[1;32m    662\u001B[0m \u001B[38;5;28;01melse\u001B[39;00m:\n",
      "File \u001B[0;32m/opt/anaconda3/lib/python3.11/site-packages/DBUtils/SteadyDB.py:580\u001B[0m, in \u001B[0;36mSteadyDBCursor._get_tough_method.<locals>.tough_method\u001B[0;34m(*args, **kwargs)\u001B[0m\n\u001B[1;32m    579\u001B[0m method \u001B[38;5;241m=\u001B[39m \u001B[38;5;28mgetattr\u001B[39m(\u001B[38;5;28mself\u001B[39m\u001B[38;5;241m.\u001B[39m_cursor, name)\n\u001B[0;32m--> 580\u001B[0m result \u001B[38;5;241m=\u001B[39m method(\u001B[38;5;241m*\u001B[39margs, \u001B[38;5;241m*\u001B[39m\u001B[38;5;241m*\u001B[39mkwargs)  \u001B[38;5;66;03m# try to execute\u001B[39;00m\n\u001B[1;32m    581\u001B[0m \u001B[38;5;28;01mif\u001B[39;00m execute:\n",
      "File \u001B[0;32m/opt/anaconda3/lib/python3.11/site-packages/pymysql/cursors.py:153\u001B[0m, in \u001B[0;36mCursor.execute\u001B[0;34m(self, query, args)\u001B[0m\n\u001B[1;32m    151\u001B[0m query \u001B[38;5;241m=\u001B[39m \u001B[38;5;28mself\u001B[39m\u001B[38;5;241m.\u001B[39mmogrify(query, args)\n\u001B[0;32m--> 153\u001B[0m result \u001B[38;5;241m=\u001B[39m \u001B[38;5;28mself\u001B[39m\u001B[38;5;241m.\u001B[39m_query(query)\n\u001B[1;32m    154\u001B[0m \u001B[38;5;28mself\u001B[39m\u001B[38;5;241m.\u001B[39m_executed \u001B[38;5;241m=\u001B[39m query\n",
      "File \u001B[0;32m/opt/anaconda3/lib/python3.11/site-packages/pymysql/cursors.py:322\u001B[0m, in \u001B[0;36mCursor._query\u001B[0;34m(self, q)\u001B[0m\n\u001B[1;32m    321\u001B[0m \u001B[38;5;28mself\u001B[39m\u001B[38;5;241m.\u001B[39m_clear_result()\n\u001B[0;32m--> 322\u001B[0m conn\u001B[38;5;241m.\u001B[39mquery(q)\n\u001B[1;32m    323\u001B[0m \u001B[38;5;28mself\u001B[39m\u001B[38;5;241m.\u001B[39m_do_get_result()\n",
      "File \u001B[0;32m/opt/anaconda3/lib/python3.11/site-packages/pymysql/connections.py:563\u001B[0m, in \u001B[0;36mConnection.query\u001B[0;34m(self, sql, unbuffered)\u001B[0m\n\u001B[1;32m    562\u001B[0m \u001B[38;5;28mself\u001B[39m\u001B[38;5;241m.\u001B[39m_execute_command(COMMAND\u001B[38;5;241m.\u001B[39mCOM_QUERY, sql)\n\u001B[0;32m--> 563\u001B[0m \u001B[38;5;28mself\u001B[39m\u001B[38;5;241m.\u001B[39m_affected_rows \u001B[38;5;241m=\u001B[39m \u001B[38;5;28mself\u001B[39m\u001B[38;5;241m.\u001B[39m_read_query_result(unbuffered\u001B[38;5;241m=\u001B[39munbuffered)\n\u001B[1;32m    564\u001B[0m \u001B[38;5;28;01mreturn\u001B[39;00m \u001B[38;5;28mself\u001B[39m\u001B[38;5;241m.\u001B[39m_affected_rows\n",
      "File \u001B[0;32m/opt/anaconda3/lib/python3.11/site-packages/pymysql/connections.py:825\u001B[0m, in \u001B[0;36mConnection._read_query_result\u001B[0;34m(self, unbuffered)\u001B[0m\n\u001B[1;32m    824\u001B[0m     result \u001B[38;5;241m=\u001B[39m MySQLResult(\u001B[38;5;28mself\u001B[39m)\n\u001B[0;32m--> 825\u001B[0m     result\u001B[38;5;241m.\u001B[39mread()\n\u001B[1;32m    826\u001B[0m \u001B[38;5;28mself\u001B[39m\u001B[38;5;241m.\u001B[39m_result \u001B[38;5;241m=\u001B[39m result\n",
      "File \u001B[0;32m/opt/anaconda3/lib/python3.11/site-packages/pymysql/connections.py:1199\u001B[0m, in \u001B[0;36mMySQLResult.read\u001B[0;34m(self)\u001B[0m\n\u001B[1;32m   1198\u001B[0m \u001B[38;5;28;01mtry\u001B[39;00m:\n\u001B[0;32m-> 1199\u001B[0m     first_packet \u001B[38;5;241m=\u001B[39m \u001B[38;5;28mself\u001B[39m\u001B[38;5;241m.\u001B[39mconnection\u001B[38;5;241m.\u001B[39m_read_packet()\n\u001B[1;32m   1201\u001B[0m     \u001B[38;5;28;01mif\u001B[39;00m first_packet\u001B[38;5;241m.\u001B[39mis_ok_packet():\n",
      "File \u001B[0;32m/opt/anaconda3/lib/python3.11/site-packages/pymysql/connections.py:775\u001B[0m, in \u001B[0;36mConnection._read_packet\u001B[0;34m(self, packet_type)\u001B[0m\n\u001B[1;32m    774\u001B[0m         \u001B[38;5;28mself\u001B[39m\u001B[38;5;241m.\u001B[39m_result\u001B[38;5;241m.\u001B[39munbuffered_active \u001B[38;5;241m=\u001B[39m \u001B[38;5;28;01mFalse\u001B[39;00m\n\u001B[0;32m--> 775\u001B[0m     packet\u001B[38;5;241m.\u001B[39mraise_for_error()\n\u001B[1;32m    776\u001B[0m \u001B[38;5;28;01mreturn\u001B[39;00m packet\n",
      "File \u001B[0;32m/opt/anaconda3/lib/python3.11/site-packages/pymysql/protocol.py:219\u001B[0m, in \u001B[0;36mMysqlPacket.raise_for_error\u001B[0;34m(self)\u001B[0m\n\u001B[1;32m    218\u001B[0m     \u001B[38;5;28mprint\u001B[39m(\u001B[38;5;124m\"\u001B[39m\u001B[38;5;124merrno =\u001B[39m\u001B[38;5;124m\"\u001B[39m, errno)\n\u001B[0;32m--> 219\u001B[0m err\u001B[38;5;241m.\u001B[39mraise_mysql_exception(\u001B[38;5;28mself\u001B[39m\u001B[38;5;241m.\u001B[39m_data)\n",
      "File \u001B[0;32m/opt/anaconda3/lib/python3.11/site-packages/pymysql/err.py:150\u001B[0m, in \u001B[0;36mraise_mysql_exception\u001B[0;34m(data)\u001B[0m\n\u001B[1;32m    149\u001B[0m     errorclass \u001B[38;5;241m=\u001B[39m InternalError \u001B[38;5;28;01mif\u001B[39;00m errno \u001B[38;5;241m<\u001B[39m \u001B[38;5;241m1000\u001B[39m \u001B[38;5;28;01melse\u001B[39;00m OperationalError\n\u001B[0;32m--> 150\u001B[0m \u001B[38;5;28;01mraise\u001B[39;00m errorclass(errno, errval)\n",
      "\u001B[0;31mOperationalError\u001B[0m: (1305, 'FUNCTION faers.percentile does not exist')",
      "\nThe above exception was the direct cause of the following exception:\n",
      "\u001B[0;31mDatabaseError\u001B[0m                             Traceback (most recent call last)",
      "Cell \u001B[0;32mIn[100], line 22\u001B[0m\n\u001B[1;32m      1\u001B[0m sql \u001B[38;5;241m=\u001B[39m \u001B[38;5;124m'''\u001B[39m\n\u001B[1;32m      2\u001B[0m \n\u001B[1;32m      3\u001B[0m \u001B[38;5;124mselect \u001B[39m\n\u001B[0;32m   (...)\u001B[0m\n\u001B[1;32m     19\u001B[0m \n\u001B[1;32m     20\u001B[0m \u001B[38;5;124m'''\u001B[39m\n\u001B[0;32m---> 22\u001B[0m df_wt_q \u001B[38;5;241m=\u001B[39m pd\u001B[38;5;241m.\u001B[39mread_sql_query(sql, conn)\n\u001B[1;32m     23\u001B[0m df_wt_q\n",
      "File \u001B[0;32m/opt/anaconda3/lib/python3.11/site-packages/pandas/io/sql.py:526\u001B[0m, in \u001B[0;36mread_sql_query\u001B[0;34m(sql, con, index_col, coerce_float, params, parse_dates, chunksize, dtype, dtype_backend)\u001B[0m\n\u001B[1;32m    523\u001B[0m \u001B[38;5;28;01massert\u001B[39;00m dtype_backend \u001B[38;5;129;01mis\u001B[39;00m \u001B[38;5;129;01mnot\u001B[39;00m lib\u001B[38;5;241m.\u001B[39mno_default\n\u001B[1;32m    525\u001B[0m \u001B[38;5;28;01mwith\u001B[39;00m pandasSQL_builder(con) \u001B[38;5;28;01mas\u001B[39;00m pandas_sql:\n\u001B[0;32m--> 526\u001B[0m     \u001B[38;5;28;01mreturn\u001B[39;00m pandas_sql\u001B[38;5;241m.\u001B[39mread_query(\n\u001B[1;32m    527\u001B[0m         sql,\n\u001B[1;32m    528\u001B[0m         index_col\u001B[38;5;241m=\u001B[39mindex_col,\n\u001B[1;32m    529\u001B[0m         params\u001B[38;5;241m=\u001B[39mparams,\n\u001B[1;32m    530\u001B[0m         coerce_float\u001B[38;5;241m=\u001B[39mcoerce_float,\n\u001B[1;32m    531\u001B[0m         parse_dates\u001B[38;5;241m=\u001B[39mparse_dates,\n\u001B[1;32m    532\u001B[0m         chunksize\u001B[38;5;241m=\u001B[39mchunksize,\n\u001B[1;32m    533\u001B[0m         dtype\u001B[38;5;241m=\u001B[39mdtype,\n\u001B[1;32m    534\u001B[0m         dtype_backend\u001B[38;5;241m=\u001B[39mdtype_backend,\n\u001B[1;32m    535\u001B[0m     )\n",
      "File \u001B[0;32m/opt/anaconda3/lib/python3.11/site-packages/pandas/io/sql.py:2738\u001B[0m, in \u001B[0;36mSQLiteDatabase.read_query\u001B[0;34m(self, sql, index_col, coerce_float, parse_dates, params, chunksize, dtype, dtype_backend)\u001B[0m\n\u001B[1;32m   2727\u001B[0m \u001B[38;5;28;01mdef\u001B[39;00m \u001B[38;5;21mread_query\u001B[39m(\n\u001B[1;32m   2728\u001B[0m     \u001B[38;5;28mself\u001B[39m,\n\u001B[1;32m   2729\u001B[0m     sql,\n\u001B[0;32m   (...)\u001B[0m\n\u001B[1;32m   2736\u001B[0m     dtype_backend: DtypeBackend \u001B[38;5;241m|\u001B[39m Literal[\u001B[38;5;124m\"\u001B[39m\u001B[38;5;124mnumpy\u001B[39m\u001B[38;5;124m\"\u001B[39m] \u001B[38;5;241m=\u001B[39m \u001B[38;5;124m\"\u001B[39m\u001B[38;5;124mnumpy\u001B[39m\u001B[38;5;124m\"\u001B[39m,\n\u001B[1;32m   2737\u001B[0m ) \u001B[38;5;241m-\u001B[39m\u001B[38;5;241m>\u001B[39m DataFrame \u001B[38;5;241m|\u001B[39m Iterator[DataFrame]:\n\u001B[0;32m-> 2738\u001B[0m     cursor \u001B[38;5;241m=\u001B[39m \u001B[38;5;28mself\u001B[39m\u001B[38;5;241m.\u001B[39mexecute(sql, params)\n\u001B[1;32m   2739\u001B[0m     columns \u001B[38;5;241m=\u001B[39m [col_desc[\u001B[38;5;241m0\u001B[39m] \u001B[38;5;28;01mfor\u001B[39;00m col_desc \u001B[38;5;129;01min\u001B[39;00m cursor\u001B[38;5;241m.\u001B[39mdescription]\n\u001B[1;32m   2741\u001B[0m     \u001B[38;5;28;01mif\u001B[39;00m chunksize \u001B[38;5;129;01mis\u001B[39;00m \u001B[38;5;129;01mnot\u001B[39;00m \u001B[38;5;28;01mNone\u001B[39;00m:\n",
      "File \u001B[0;32m/opt/anaconda3/lib/python3.11/site-packages/pandas/io/sql.py:2686\u001B[0m, in \u001B[0;36mSQLiteDatabase.execute\u001B[0;34m(self, sql, params)\u001B[0m\n\u001B[1;32m   2683\u001B[0m     \u001B[38;5;28;01mraise\u001B[39;00m ex \u001B[38;5;28;01mfrom\u001B[39;00m \u001B[38;5;21;01minner_exc\u001B[39;00m\n\u001B[1;32m   2685\u001B[0m ex \u001B[38;5;241m=\u001B[39m DatabaseError(\u001B[38;5;124mf\u001B[39m\u001B[38;5;124m\"\u001B[39m\u001B[38;5;124mExecution failed on sql \u001B[39m\u001B[38;5;124m'\u001B[39m\u001B[38;5;132;01m{\u001B[39;00msql\u001B[38;5;132;01m}\u001B[39;00m\u001B[38;5;124m'\u001B[39m\u001B[38;5;124m: \u001B[39m\u001B[38;5;132;01m{\u001B[39;00mexc\u001B[38;5;132;01m}\u001B[39;00m\u001B[38;5;124m\"\u001B[39m)\n\u001B[0;32m-> 2686\u001B[0m \u001B[38;5;28;01mraise\u001B[39;00m ex \u001B[38;5;28;01mfrom\u001B[39;00m \u001B[38;5;21;01mexc\u001B[39;00m\n",
      "\u001B[0;31mDatabaseError\u001B[0m: Execution failed on sql '\n\nselect \n    percentile(wt, 0.25) as wt_q25,\n    percentile(wt, 0.5)  as wt_q50,\n    percentile(wt, 0.75) as wt_q75\nFROM\n(\n    select caseid, max(wt) as wt\n    from faers.faers_demo\n    where upper(I_F_COD) = 'I'   \n    group by caseid\n) tb1\njoin (\n        select distinct caseid\n        from faers.ribo_drug_usage\n) tb2\non tb1.caseid = tb2.caseid;\n\n': (1305, 'FUNCTION faers.percentile does not exist')"
     ]
    }
   ],
   "execution_count": 100
  },
  {
   "cell_type": "markdown",
   "id": "f156bdf3806a40be",
   "metadata": {},
   "source": [
    "# Table1.4上报者职业"
   ]
  },
  {
   "cell_type": "code",
   "id": "75b667088ca7511b",
   "metadata": {
    "ExecuteTime": {
     "end_time": "2024-08-18T16:31:40.514793Z",
     "start_time": "2024-08-18T16:31:25.873696Z"
    }
   },
   "source": [
    "sql = '''\n",
    "\n",
    "select\n",
    "    OCCP_COD,\n",
    "    COUNT(distinct tb1.primaryid) AS primaryid_count\n",
    "FROM\n",
    "(\n",
    "    select primaryid, OCCP_COD\n",
    "    from faers.demo_dedup\n",
    "    where rn = 1\n",
    ") tb1\n",
    "join (\n",
    "        select distinct primaryid\n",
    "        from faers.ribo_drug_usage\n",
    ") tb2\n",
    "on tb1.primaryid = tb2.primaryid\n",
    "group by 1\n",
    "order by 1\n",
    ";\n",
    "'''\n",
    "df_reporter = pd.read_sql_query(sql, conn)\n",
    "df_reporter\n",
    "\n"
   ],
   "outputs": [
    {
     "name": "stderr",
     "output_type": "stream",
     "text": [
      "/var/folders/7w/sgw5xk457ss20939d0n2_5600000gn/T/ipykernel_38268/3694848735.py:21: UserWarning: pandas only supports SQLAlchemy connectable (engine/connection) or database string URI or sqlite3 DBAPI2 connection. Other DBAPI2 objects are not tested. Please consider using SQLAlchemy.\n",
      "  df_reporter = pd.read_sql_query(sql, conn)\n"
     ]
    },
    {
     "data": {
      "text/plain": [
       "  OCCP_COD  primaryid_count\n",
       "0                       316\n",
       "1       CN             8115\n",
       "2       HP             1701\n",
       "3       MD             3835\n",
       "4       OT              792\n",
       "5       PH              566"
      ],
      "text/html": [
       "<div>\n",
       "<style scoped>\n",
       "    .dataframe tbody tr th:only-of-type {\n",
       "        vertical-align: middle;\n",
       "    }\n",
       "\n",
       "    .dataframe tbody tr th {\n",
       "        vertical-align: top;\n",
       "    }\n",
       "\n",
       "    .dataframe thead th {\n",
       "        text-align: right;\n",
       "    }\n",
       "</style>\n",
       "<table border=\"1\" class=\"dataframe\">\n",
       "  <thead>\n",
       "    <tr style=\"text-align: right;\">\n",
       "      <th></th>\n",
       "      <th>OCCP_COD</th>\n",
       "      <th>primaryid_count</th>\n",
       "    </tr>\n",
       "  </thead>\n",
       "  <tbody>\n",
       "    <tr>\n",
       "      <th>0</th>\n",
       "      <td></td>\n",
       "      <td>316</td>\n",
       "    </tr>\n",
       "    <tr>\n",
       "      <th>1</th>\n",
       "      <td>CN</td>\n",
       "      <td>8115</td>\n",
       "    </tr>\n",
       "    <tr>\n",
       "      <th>2</th>\n",
       "      <td>HP</td>\n",
       "      <td>1701</td>\n",
       "    </tr>\n",
       "    <tr>\n",
       "      <th>3</th>\n",
       "      <td>MD</td>\n",
       "      <td>3835</td>\n",
       "    </tr>\n",
       "    <tr>\n",
       "      <th>4</th>\n",
       "      <td>OT</td>\n",
       "      <td>792</td>\n",
       "    </tr>\n",
       "    <tr>\n",
       "      <th>5</th>\n",
       "      <td>PH</td>\n",
       "      <td>566</td>\n",
       "    </tr>\n",
       "  </tbody>\n",
       "</table>\n",
       "</div>"
      ]
     },
     "execution_count": 14,
     "metadata": {},
     "output_type": "execute_result"
    }
   ],
   "execution_count": 14
  },
  {
   "cell_type": "markdown",
   "id": "27649e590bba4c98",
   "metadata": {},
   "source": [
    "# Table1.5不良反应造成的结局"
   ]
  },
  {
   "cell_type": "code",
   "id": "bc28d7c84bc18e48",
   "metadata": {
    "ExecuteTime": {
     "end_time": "2024-08-18T16:46:35.548635Z",
     "start_time": "2024-08-18T16:43:53.660997Z"
    }
   },
   "source": [
    "sql = '''\n",
    "\n",
    "select\n",
    "    OUTC_COD,\n",
    "    COUNT(distinct tb1.primaryid) AS primaryid_count\n",
    "FROM\n",
    "(\n",
    "    select primaryid, max(OUTC_COD) as OUTC_COD\n",
    "    from faers.faers_outc\n",
    "    group by primaryid\n",
    ") tb1\n",
    "join (\n",
    "        select distinct primaryid\n",
    "        from faers.ribo_drug_usage\n",
    ") tb2\n",
    "on tb1.primaryid = tb2.primaryid\n",
    "join (\n",
    "    select primaryid\n",
    "    from faers.demo_dedup\n",
    "    where rn = 1\n",
    ") tb3 on tb2.primaryid = tb3.primaryid\n",
    "group by 1\n",
    "order by 1\n",
    ";\n",
    "'''\n",
    "df_outcome = pd.read_sql_query(sql, conn)\n",
    "df_outcome\n",
    "\n"
   ],
   "outputs": [
    {
     "name": "stderr",
     "output_type": "stream",
     "text": [
      "/var/folders/7w/sgw5xk457ss20939d0n2_5600000gn/T/ipykernel_38268/4220415200.py:26: UserWarning: pandas only supports SQLAlchemy connectable (engine/connection) or database string URI or sqlite3 DBAPI2 connection. Other DBAPI2 objects are not tested. Please consider using SQLAlchemy.\n",
      "  df_outcome = pd.read_sql_query(sql, conn)\n"
     ]
    },
    {
     "data": {
      "text/plain": [
       "  OUTC_COD  primaryid_count\n",
       "0        0             2036\n",
       "1        1               81\n",
       "2        2             1972\n",
       "3        3               67\n",
       "4        4                1\n",
       "5        5               15\n",
       "6        6             7105"
      ],
      "text/html": [
       "<div>\n",
       "<style scoped>\n",
       "    .dataframe tbody tr th:only-of-type {\n",
       "        vertical-align: middle;\n",
       "    }\n",
       "\n",
       "    .dataframe tbody tr th {\n",
       "        vertical-align: top;\n",
       "    }\n",
       "\n",
       "    .dataframe thead th {\n",
       "        text-align: right;\n",
       "    }\n",
       "</style>\n",
       "<table border=\"1\" class=\"dataframe\">\n",
       "  <thead>\n",
       "    <tr style=\"text-align: right;\">\n",
       "      <th></th>\n",
       "      <th>OUTC_COD</th>\n",
       "      <th>primaryid_count</th>\n",
       "    </tr>\n",
       "  </thead>\n",
       "  <tbody>\n",
       "    <tr>\n",
       "      <th>0</th>\n",
       "      <td>0</td>\n",
       "      <td>2036</td>\n",
       "    </tr>\n",
       "    <tr>\n",
       "      <th>1</th>\n",
       "      <td>1</td>\n",
       "      <td>81</td>\n",
       "    </tr>\n",
       "    <tr>\n",
       "      <th>2</th>\n",
       "      <td>2</td>\n",
       "      <td>1972</td>\n",
       "    </tr>\n",
       "    <tr>\n",
       "      <th>3</th>\n",
       "      <td>3</td>\n",
       "      <td>67</td>\n",
       "    </tr>\n",
       "    <tr>\n",
       "      <th>4</th>\n",
       "      <td>4</td>\n",
       "      <td>1</td>\n",
       "    </tr>\n",
       "    <tr>\n",
       "      <th>5</th>\n",
       "      <td>5</td>\n",
       "      <td>15</td>\n",
       "    </tr>\n",
       "    <tr>\n",
       "      <th>6</th>\n",
       "      <td>6</td>\n",
       "      <td>7105</td>\n",
       "    </tr>\n",
       "  </tbody>\n",
       "</table>\n",
       "</div>"
      ]
     },
     "execution_count": 15,
     "metadata": {},
     "output_type": "execute_result"
    }
   ],
   "execution_count": 15
  },
  {
   "cell_type": "code",
   "execution_count": 31,
   "id": "52334bb933284547",
   "metadata": {
    "ExecuteTime": {
     "end_time": "2024-08-04T14:59:10.698889Z",
     "start_time": "2024-08-04T14:59:10.682827Z"
    }
   },
   "outputs": [
    {
     "data": {
      "text/html": [
       "<div>\n",
       "<style scoped>\n",
       "    .dataframe tbody tr th:only-of-type {\n",
       "        vertical-align: middle;\n",
       "    }\n",
       "\n",
       "    .dataframe tbody tr th {\n",
       "        vertical-align: top;\n",
       "    }\n",
       "\n",
       "    .dataframe thead th {\n",
       "        text-align: right;\n",
       "    }\n",
       "</style>\n",
       "<table border=\"1\" class=\"dataframe\">\n",
       "  <thead>\n",
       "    <tr style=\"text-align: right;\">\n",
       "      <th></th>\n",
       "      <th>OUTC_COD</th>\n",
       "      <th>caseid_count</th>\n",
       "    </tr>\n",
       "  </thead>\n",
       "  <tbody>\n",
       "    <tr>\n",
       "      <th>0</th>\n",
       "      <td>0</td>\n",
       "      <td>2034</td>\n",
       "    </tr>\n",
       "    <tr>\n",
       "      <th>1</th>\n",
       "      <td>1</td>\n",
       "      <td>82</td>\n",
       "    </tr>\n",
       "    <tr>\n",
       "      <th>2</th>\n",
       "      <td>2</td>\n",
       "      <td>1973</td>\n",
       "    </tr>\n",
       "    <tr>\n",
       "      <th>3</th>\n",
       "      <td>3</td>\n",
       "      <td>66</td>\n",
       "    </tr>\n",
       "    <tr>\n",
       "      <th>4</th>\n",
       "      <td>4</td>\n",
       "      <td>1</td>\n",
       "    </tr>\n",
       "    <tr>\n",
       "      <th>5</th>\n",
       "      <td>5</td>\n",
       "      <td>15</td>\n",
       "    </tr>\n",
       "    <tr>\n",
       "      <th>6</th>\n",
       "      <td>6</td>\n",
       "      <td>7270</td>\n",
       "    </tr>\n",
       "  </tbody>\n",
       "</table>\n",
       "</div>"
      ],
      "text/plain": [
       "  OUTC_COD  caseid_count\n",
       "0        0          2034\n",
       "1        1            82\n",
       "2        2          1973\n",
       "3        3            66\n",
       "4        4             1\n",
       "5        5            15\n",
       "6        6          7270"
      ]
     },
     "execution_count": 31,
     "metadata": {},
     "output_type": "execute_result"
    }
   ],
   "source": [
    "df_outcome\n"
   ]
  },
  {
   "cell_type": "markdown",
   "id": "ff7ca6b3505d6156",
   "metadata": {},
   "source": [
    "# Table1.6不良反应上报的国家"
   ]
  },
  {
   "metadata": {
    "ExecuteTime": {
     "end_time": "2024-08-18T17:05:13.142084Z",
     "start_time": "2024-08-18T17:05:13.106132Z"
    }
   },
   "cell_type": "code",
   "source": "",
   "id": "5819e4026e00be70",
   "outputs": [
    {
     "data": {
      "text/plain": [
       "               primaryid_count\n",
       "continent                     \n",
       "Africa                     339\n",
       "Asia/Japan                1749\n",
       "Europe                    3050\n",
       "Missing                   2101\n",
       "North America             6371\n",
       "Oceania                    183\n",
       "South America             1532"
      ],
      "text/html": [
       "<div>\n",
       "<style scoped>\n",
       "    .dataframe tbody tr th:only-of-type {\n",
       "        vertical-align: middle;\n",
       "    }\n",
       "\n",
       "    .dataframe tbody tr th {\n",
       "        vertical-align: top;\n",
       "    }\n",
       "\n",
       "    .dataframe thead th {\n",
       "        text-align: right;\n",
       "    }\n",
       "</style>\n",
       "<table border=\"1\" class=\"dataframe\">\n",
       "  <thead>\n",
       "    <tr style=\"text-align: right;\">\n",
       "      <th></th>\n",
       "      <th>primaryid_count</th>\n",
       "    </tr>\n",
       "    <tr>\n",
       "      <th>continent</th>\n",
       "      <th></th>\n",
       "    </tr>\n",
       "  </thead>\n",
       "  <tbody>\n",
       "    <tr>\n",
       "      <th>Africa</th>\n",
       "      <td>339</td>\n",
       "    </tr>\n",
       "    <tr>\n",
       "      <th>Asia/Japan</th>\n",
       "      <td>1749</td>\n",
       "    </tr>\n",
       "    <tr>\n",
       "      <th>Europe</th>\n",
       "      <td>3050</td>\n",
       "    </tr>\n",
       "    <tr>\n",
       "      <th>Missing</th>\n",
       "      <td>2101</td>\n",
       "    </tr>\n",
       "    <tr>\n",
       "      <th>North America</th>\n",
       "      <td>6371</td>\n",
       "    </tr>\n",
       "    <tr>\n",
       "      <th>Oceania</th>\n",
       "      <td>183</td>\n",
       "    </tr>\n",
       "    <tr>\n",
       "      <th>South America</th>\n",
       "      <td>1532</td>\n",
       "    </tr>\n",
       "  </tbody>\n",
       "</table>\n",
       "</div>"
      ]
     },
     "execution_count": 19,
     "metadata": {},
     "output_type": "execute_result"
    }
   ],
   "execution_count": 19
  },
  {
   "cell_type": "code",
   "id": "2f035d34732bd6a8",
   "metadata": {
    "ExecuteTime": {
     "end_time": "2024-08-18T16:46:52.356369Z",
     "start_time": "2024-08-18T16:46:35.554329Z"
    }
   },
   "source": [
    "sql = '''\n",
    "\n",
    "select\n",
    "    REPORTER_COUNTRY,\n",
    "    COUNT(distinct tb1.primaryid) AS primaryid_count\n",
    "FROM\n",
    "(\n",
    "    select primaryid, REPORTER_COUNTRY\n",
    "    from faers.demo_dedup\n",
    "    where rn = 1\n",
    ") tb1\n",
    "join (\n",
    "        select distinct primaryid\n",
    "        from faers.ribo_drug_usage\n",
    ") tb2\n",
    "on tb1.primaryid = tb2.primaryid\n",
    "group by 1\n",
    "order by 1\n",
    ";\n",
    "'''\n",
    "df_reporter_country = pd.read_sql_query(sql, conn)\n",
    "\n"
   ],
   "outputs": [
    {
     "name": "stderr",
     "output_type": "stream",
     "text": [
      "/var/folders/7w/sgw5xk457ss20939d0n2_5600000gn/T/ipykernel_38268/2444512671.py:21: UserWarning: pandas only supports SQLAlchemy connectable (engine/connection) or database string URI or sqlite3 DBAPI2 connection. Other DBAPI2 objects are not tested. Please consider using SQLAlchemy.\n",
      "  df_reporter_country = pd.read_sql_query(sql, conn)\n"
     ]
    },
    {
     "data": {
      "text/plain": [
       "   REPORTER_COUNTRY  primaryid_count\n",
       "0                AE               29\n",
       "1                AR              348\n",
       "2                AT               84\n",
       "3                AU              183\n",
       "4                BA                4\n",
       "..              ...              ...\n",
       "78               US             5683\n",
       "79               UY                2\n",
       "80               UZ                1\n",
       "81               VN               12\n",
       "82               ZA               69\n",
       "\n",
       "[83 rows x 2 columns]"
      ],
      "text/html": [
       "<div>\n",
       "<style scoped>\n",
       "    .dataframe tbody tr th:only-of-type {\n",
       "        vertical-align: middle;\n",
       "    }\n",
       "\n",
       "    .dataframe tbody tr th {\n",
       "        vertical-align: top;\n",
       "    }\n",
       "\n",
       "    .dataframe thead th {\n",
       "        text-align: right;\n",
       "    }\n",
       "</style>\n",
       "<table border=\"1\" class=\"dataframe\">\n",
       "  <thead>\n",
       "    <tr style=\"text-align: right;\">\n",
       "      <th></th>\n",
       "      <th>REPORTER_COUNTRY</th>\n",
       "      <th>primaryid_count</th>\n",
       "    </tr>\n",
       "  </thead>\n",
       "  <tbody>\n",
       "    <tr>\n",
       "      <th>0</th>\n",
       "      <td>AE</td>\n",
       "      <td>29</td>\n",
       "    </tr>\n",
       "    <tr>\n",
       "      <th>1</th>\n",
       "      <td>AR</td>\n",
       "      <td>348</td>\n",
       "    </tr>\n",
       "    <tr>\n",
       "      <th>2</th>\n",
       "      <td>AT</td>\n",
       "      <td>84</td>\n",
       "    </tr>\n",
       "    <tr>\n",
       "      <th>3</th>\n",
       "      <td>AU</td>\n",
       "      <td>183</td>\n",
       "    </tr>\n",
       "    <tr>\n",
       "      <th>4</th>\n",
       "      <td>BA</td>\n",
       "      <td>4</td>\n",
       "    </tr>\n",
       "    <tr>\n",
       "      <th>...</th>\n",
       "      <td>...</td>\n",
       "      <td>...</td>\n",
       "    </tr>\n",
       "    <tr>\n",
       "      <th>78</th>\n",
       "      <td>US</td>\n",
       "      <td>5683</td>\n",
       "    </tr>\n",
       "    <tr>\n",
       "      <th>79</th>\n",
       "      <td>UY</td>\n",
       "      <td>2</td>\n",
       "    </tr>\n",
       "    <tr>\n",
       "      <th>80</th>\n",
       "      <td>UZ</td>\n",
       "      <td>1</td>\n",
       "    </tr>\n",
       "    <tr>\n",
       "      <th>81</th>\n",
       "      <td>VN</td>\n",
       "      <td>12</td>\n",
       "    </tr>\n",
       "    <tr>\n",
       "      <th>82</th>\n",
       "      <td>ZA</td>\n",
       "      <td>69</td>\n",
       "    </tr>\n",
       "  </tbody>\n",
       "</table>\n",
       "<p>83 rows × 2 columns</p>\n",
       "</div>"
      ]
     },
     "execution_count": 16,
     "metadata": {},
     "output_type": "execute_result"
    }
   ],
   "execution_count": 16
  },
  {
   "metadata": {
    "ExecuteTime": {
     "end_time": "2024-08-18T17:06:57.129565Z",
     "start_time": "2024-08-18T17:06:57.102184Z"
    }
   },
   "cell_type": "code",
   "source": [
    "# https://www.cnblogs.com/pine007/p/16904126.html\n",
    "def get_con_by_country_code(country):\n",
    "    if country.upper() in [\n",
    "        'AX', 'AL', 'AD', 'AT', 'BY', 'BE', 'BA', 'BG', 'HR', 'CZ', 'DK', 'EE', 'FO', 'FI', 'FR', 'DE', 'GI', 'GR', 'GG', 'VA', 'HU', 'IS', 'IE', 'IM', 'IT', 'JE', 'LV', 'LI', 'LT', 'LU', 'MK', 'MT', 'MD', 'MC', 'ME', 'NL', 'NO', 'PL', 'PT', 'RO', 'RU', 'SM', 'RS', 'SK', 'SI', 'ES', 'SJ', 'SE', 'CH', 'UA', 'GB']:\n",
    "        return 'Europe'\n",
    "    elif country.upper() in ['AF', 'AM', 'AZ', 'BH', 'BD', 'BT', 'BN', 'KH', 'CN', 'CC', 'CY', 'GE', 'HK', 'IN', 'ID', 'IR', 'IQ', 'IL', 'JP', 'JO', 'KZ', 'KP', 'KR', 'KW', 'KG', 'LA', 'LB', 'MO', 'MY', 'MV', 'MN', 'MM', 'NP', 'OM', 'PK', 'PS', 'PH', 'QA', 'SA', 'SG', 'LK', 'SY', 'TW', 'TJ', 'TH', 'TL', 'TR', 'TM', 'AE', 'UZ', 'VN', 'YE']:\n",
    "        return 'Asia/Japan'\n",
    "    elif country.upper() in ['DZ', 'AO', 'BJ', 'BW', 'IO', 'BF', 'BI', 'CM', 'CV', 'CF', 'TD', 'KM', 'CG', 'CD', 'CI', 'DJ', 'EG', 'GQ', 'ER', 'ET', 'TF', 'GA', 'GM', 'GH', 'GN', 'GW', 'KE', 'LS', 'LR', 'LY', 'MG', 'MW', 'ML', 'MR', 'MU', 'YT', 'MA', 'MZ', 'NA', 'NE', 'NG', 'RE', 'RW', 'SH', 'ST', 'SN', 'SC', 'SL', 'SO', 'ZA', 'SD', 'SZ', 'TZ', 'TG', 'TN', 'UG', 'EH', 'ZM', 'ZW']:\n",
    "        return 'Africa'\n",
    "    elif country.upper() in ['AI', 'AG', 'AW', 'BS', 'BB', 'BZ', 'BM', 'CA', 'KY', 'CR', 'CU', 'DM', 'DO', 'SV', 'GL', 'GD', 'GP', 'GT', 'HT', 'HN', 'JM', 'MQ', 'MX', 'MS', 'AN', 'NI', 'PA', 'PR', 'KN', 'LCA', 'PM', 'VC', 'TTO', 'TC', 'US', 'VG', 'VI']:\n",
    "        return 'North America'\n",
    "    elif country.upper() in ['AR', 'BO', 'BR', 'CL', 'CO', 'EC', 'FK', 'GF', 'GY', 'PY', 'PE', 'SR', 'UY', 'VE']:\n",
    "        return 'South America'\n",
    "    elif country.upper() in ['AS', 'AU', 'CX', 'CK', 'FJ', 'PF', 'GU', 'KI', 'MH', 'FM', 'NR', 'NC', 'NZ', 'NU', 'NF', 'MP', 'PW', 'PG', 'PN', 'WS', 'SB', 'TK', 'TO', 'TV', 'UM', 'VU', 'WF']:\n",
    "        return 'Oceania'\n",
    "    elif country.upper() in ['BV', 'HM', 'GS']:\n",
    "        return 'Antarctica'\n",
    "    \n",
    "    return 'Missing'\n",
    "        \n",
    "df_reporter_country['continent'] = df_reporter_country['REPORTER_COUNTRY'].map(get_con_by_country_code)\n",
    "df_reporter_country.groupby(['continent',]).sum('primaryid_count')"
   ],
   "id": "43fb9a9ffb7ef331",
   "outputs": [
    {
     "data": {
      "text/plain": [
       "               primaryid_count\n",
       "continent                     \n",
       "Africa                     339\n",
       "Asia/Japan                1749\n",
       "Europe                    3050\n",
       "Missing                   2101\n",
       "North America             6371\n",
       "Oceania                    183\n",
       "South America             1532"
      ],
      "text/html": [
       "<div>\n",
       "<style scoped>\n",
       "    .dataframe tbody tr th:only-of-type {\n",
       "        vertical-align: middle;\n",
       "    }\n",
       "\n",
       "    .dataframe tbody tr th {\n",
       "        vertical-align: top;\n",
       "    }\n",
       "\n",
       "    .dataframe thead th {\n",
       "        text-align: right;\n",
       "    }\n",
       "</style>\n",
       "<table border=\"1\" class=\"dataframe\">\n",
       "  <thead>\n",
       "    <tr style=\"text-align: right;\">\n",
       "      <th></th>\n",
       "      <th>primaryid_count</th>\n",
       "    </tr>\n",
       "    <tr>\n",
       "      <th>continent</th>\n",
       "      <th></th>\n",
       "    </tr>\n",
       "  </thead>\n",
       "  <tbody>\n",
       "    <tr>\n",
       "      <th>Africa</th>\n",
       "      <td>339</td>\n",
       "    </tr>\n",
       "    <tr>\n",
       "      <th>Asia/Japan</th>\n",
       "      <td>1749</td>\n",
       "    </tr>\n",
       "    <tr>\n",
       "      <th>Europe</th>\n",
       "      <td>3050</td>\n",
       "    </tr>\n",
       "    <tr>\n",
       "      <th>Missing</th>\n",
       "      <td>2101</td>\n",
       "    </tr>\n",
       "    <tr>\n",
       "      <th>North America</th>\n",
       "      <td>6371</td>\n",
       "    </tr>\n",
       "    <tr>\n",
       "      <th>Oceania</th>\n",
       "      <td>183</td>\n",
       "    </tr>\n",
       "    <tr>\n",
       "      <th>South America</th>\n",
       "      <td>1532</td>\n",
       "    </tr>\n",
       "  </tbody>\n",
       "</table>\n",
       "</div>"
      ]
     },
     "execution_count": 20,
     "metadata": {},
     "output_type": "execute_result"
    }
   ],
   "execution_count": 20
  },
  {
   "metadata": {},
   "cell_type": "code",
   "outputs": [],
   "execution_count": null,
   "source": "",
   "id": "21896839c71c33bd"
  },
  {
   "cell_type": "markdown",
   "id": "4048696a-e7c4-4ad3-a156-59b8711721e2",
   "metadata": {},
   "source": "## Time of onset "
  },
  {
   "metadata": {},
   "cell_type": "code",
   "outputs": [],
   "execution_count": null,
   "source": "## drug usage show",
   "id": "95b86272d9fe4b6"
  },
  {
   "cell_type": "code",
   "id": "9d54afd9-628e-4f2f-a70f-a860e3d4cefe",
   "metadata": {
    "ExecuteTime": {
     "end_time": "2024-08-18T17:15:47.319123Z",
     "start_time": "2024-08-18T17:14:57.105930Z"
    }
   },
   "source": [
    "## DROP TABLE  if exists faers.drug_usage_with_ae;\n",
    "\n",
    "sql ='''\n",
    "DROP TABLE  if exists faers.drug_usage_with_ae;\n",
    "CREATE TABLE  faers.drug_usage_with_ae  as\n",
    "SELECT \n",
    "    D.CASEID,\n",
    "    D.PRIMARYID,\n",
    "    R.DRUG_SEQ,\n",
    "    coalesce(T.START_DT,'000000') as START_DT,\n",
    "    D.EVENT_DT,\n",
    "    T.PRIMARYID as ther_primaryid,\n",
    "    T.DSG_DRUG_SEQ as ther_DSG_DRUG_SEQ\n",
    "FROM (  -- caseid 下取最后一次primaryid\n",
    "        select CASEID, PRIMARYID, max(EVENT_DT) as EVENT_DT\n",
    "        from faers.demo_dedup\n",
    "        where rn = 1\n",
    "        group by 1,2\n",
    ") D JOIN faers.ribo_drug_usage R    -- 该份报告记录了 ribocilicib\n",
    "    on  D.PRIMARYID = R.PRIMARYID        \n",
    "left JOIN faers.faers_ther T ON T.PRIMARYID = R.PRIMARYID\n",
    "     and T.DSG_DRUG_SEQ = R.DRUG_SEQ    \n",
    "-- WHERE T.START_DT IS NOT NULL  AND D.EVENT_DT IS NOT NULL;\n",
    "'''\n",
    "\n",
    "df_time_onset = pd.read_sql_query(sql, conn)\n",
    "df_time_onset"
   ],
   "outputs": [
    {
     "name": "stderr",
     "output_type": "stream",
     "text": [
      "/var/folders/7w/sgw5xk457ss20939d0n2_5600000gn/T/ipykernel_38268/1702952119.py:23: UserWarning: pandas only supports SQLAlchemy connectable (engine/connection) or database string URI or sqlite3 DBAPI2 connection. Other DBAPI2 objects are not tested. Please consider using SQLAlchemy.\n",
      "  df_time_onset = pd.read_sql_query(sql, conn)\n"
     ]
    },
    {
     "ename": "TypeError",
     "evalue": "'NoneType' object is not iterable",
     "output_type": "error",
     "traceback": [
      "\u001B[0;31m---------------------------------------------------------------------------\u001B[0m",
      "\u001B[0;31mTypeError\u001B[0m                                 Traceback (most recent call last)",
      "Cell \u001B[0;32mIn[28], line 23\u001B[0m\n\u001B[1;32m      1\u001B[0m \u001B[38;5;66;03m## DROP TABLE  if exists faers.drug_usage_with_ae;\u001B[39;00m\n\u001B[1;32m      3\u001B[0m sql \u001B[38;5;241m=\u001B[39m\u001B[38;5;124m'''\u001B[39m\n\u001B[1;32m      4\u001B[0m \u001B[38;5;124mCREATE TABLE  faers.drug_usage_with_ae  as\u001B[39m\n\u001B[1;32m      5\u001B[0m \u001B[38;5;124mSELECT \u001B[39m\n\u001B[0;32m   (...)\u001B[0m\n\u001B[1;32m     20\u001B[0m \u001B[38;5;124m-- WHERE T.START_DT IS NOT NULL  AND D.EVENT_DT IS NOT NULL;\u001B[39m\n\u001B[1;32m     21\u001B[0m \u001B[38;5;124m'''\u001B[39m\n\u001B[0;32m---> 23\u001B[0m df_time_onset \u001B[38;5;241m=\u001B[39m pd\u001B[38;5;241m.\u001B[39mread_sql_query(sql, conn)\n\u001B[1;32m     24\u001B[0m df_time_onset\n",
      "File \u001B[0;32m/opt/anaconda3/lib/python3.11/site-packages/pandas/io/sql.py:526\u001B[0m, in \u001B[0;36mread_sql_query\u001B[0;34m(sql, con, index_col, coerce_float, params, parse_dates, chunksize, dtype, dtype_backend)\u001B[0m\n\u001B[1;32m    523\u001B[0m \u001B[38;5;28;01massert\u001B[39;00m dtype_backend \u001B[38;5;129;01mis\u001B[39;00m \u001B[38;5;129;01mnot\u001B[39;00m lib\u001B[38;5;241m.\u001B[39mno_default\n\u001B[1;32m    525\u001B[0m \u001B[38;5;28;01mwith\u001B[39;00m pandasSQL_builder(con) \u001B[38;5;28;01mas\u001B[39;00m pandas_sql:\n\u001B[0;32m--> 526\u001B[0m     \u001B[38;5;28;01mreturn\u001B[39;00m pandas_sql\u001B[38;5;241m.\u001B[39mread_query(\n\u001B[1;32m    527\u001B[0m         sql,\n\u001B[1;32m    528\u001B[0m         index_col\u001B[38;5;241m=\u001B[39mindex_col,\n\u001B[1;32m    529\u001B[0m         params\u001B[38;5;241m=\u001B[39mparams,\n\u001B[1;32m    530\u001B[0m         coerce_float\u001B[38;5;241m=\u001B[39mcoerce_float,\n\u001B[1;32m    531\u001B[0m         parse_dates\u001B[38;5;241m=\u001B[39mparse_dates,\n\u001B[1;32m    532\u001B[0m         chunksize\u001B[38;5;241m=\u001B[39mchunksize,\n\u001B[1;32m    533\u001B[0m         dtype\u001B[38;5;241m=\u001B[39mdtype,\n\u001B[1;32m    534\u001B[0m         dtype_backend\u001B[38;5;241m=\u001B[39mdtype_backend,\n\u001B[1;32m    535\u001B[0m     )\n",
      "File \u001B[0;32m/opt/anaconda3/lib/python3.11/site-packages/pandas/io/sql.py:2739\u001B[0m, in \u001B[0;36mSQLiteDatabase.read_query\u001B[0;34m(self, sql, index_col, coerce_float, parse_dates, params, chunksize, dtype, dtype_backend)\u001B[0m\n\u001B[1;32m   2727\u001B[0m \u001B[38;5;28;01mdef\u001B[39;00m \u001B[38;5;21mread_query\u001B[39m(\n\u001B[1;32m   2728\u001B[0m     \u001B[38;5;28mself\u001B[39m,\n\u001B[1;32m   2729\u001B[0m     sql,\n\u001B[0;32m   (...)\u001B[0m\n\u001B[1;32m   2736\u001B[0m     dtype_backend: DtypeBackend \u001B[38;5;241m|\u001B[39m Literal[\u001B[38;5;124m\"\u001B[39m\u001B[38;5;124mnumpy\u001B[39m\u001B[38;5;124m\"\u001B[39m] \u001B[38;5;241m=\u001B[39m \u001B[38;5;124m\"\u001B[39m\u001B[38;5;124mnumpy\u001B[39m\u001B[38;5;124m\"\u001B[39m,\n\u001B[1;32m   2737\u001B[0m ) \u001B[38;5;241m-\u001B[39m\u001B[38;5;241m>\u001B[39m DataFrame \u001B[38;5;241m|\u001B[39m Iterator[DataFrame]:\n\u001B[1;32m   2738\u001B[0m     cursor \u001B[38;5;241m=\u001B[39m \u001B[38;5;28mself\u001B[39m\u001B[38;5;241m.\u001B[39mexecute(sql, params)\n\u001B[0;32m-> 2739\u001B[0m     columns \u001B[38;5;241m=\u001B[39m [col_desc[\u001B[38;5;241m0\u001B[39m] \u001B[38;5;28;01mfor\u001B[39;00m col_desc \u001B[38;5;129;01min\u001B[39;00m cursor\u001B[38;5;241m.\u001B[39mdescription]\n\u001B[1;32m   2741\u001B[0m     \u001B[38;5;28;01mif\u001B[39;00m chunksize \u001B[38;5;129;01mis\u001B[39;00m \u001B[38;5;129;01mnot\u001B[39;00m \u001B[38;5;28;01mNone\u001B[39;00m:\n\u001B[1;32m   2742\u001B[0m         \u001B[38;5;28;01mreturn\u001B[39;00m \u001B[38;5;28mself\u001B[39m\u001B[38;5;241m.\u001B[39m_query_iterator(\n\u001B[1;32m   2743\u001B[0m             cursor,\n\u001B[1;32m   2744\u001B[0m             chunksize,\n\u001B[0;32m   (...)\u001B[0m\n\u001B[1;32m   2750\u001B[0m             dtype_backend\u001B[38;5;241m=\u001B[39mdtype_backend,\n\u001B[1;32m   2751\u001B[0m         )\n",
      "\u001B[0;31mTypeError\u001B[0m: 'NoneType' object is not iterable"
     ]
    }
   ],
   "execution_count": 28
  },
  {
   "metadata": {
    "ExecuteTime": {
     "end_time": "2024-08-18T17:20:39.962835Z",
     "start_time": "2024-08-18T17:20:39.906360Z"
    }
   },
   "cell_type": "code",
   "source": [
    "sql = '''\n",
    "    \n",
    "    select \n",
    "    if(START_DT IS NOT NULL AND EVENT_DT IS NOT NULL,\n",
    "        TIMESTAMPDIFF(DAY, START_DT, EVENT_DT),\n",
    "        'Unknown'\n",
    "    ) as time_of_onset,\n",
    "    count(distinct primaryid) as primaryid_count\n",
    "    from faers.drug_usage_with_ae\n",
    "    group by 1 order by 1\n",
    "'''\n",
    "df_time_onset = pd.read_sql_query(sql, conn)\n",
    "df_time_onset"
   ],
   "id": "94e46e799b9e9fc7",
   "outputs": [
    {
     "name": "stderr",
     "output_type": "stream",
     "text": [
      "/var/folders/7w/sgw5xk457ss20939d0n2_5600000gn/T/ipykernel_38268/1389168013.py:12: UserWarning: pandas only supports SQLAlchemy connectable (engine/connection) or database string URI or sqlite3 DBAPI2 connection. Other DBAPI2 objects are not tested. Please consider using SQLAlchemy.\n",
      "  df_time_onset = pd.read_sql_query(sql, conn)\n"
     ]
    },
    {
     "data": {
      "text/plain": [
       "     time_of_onset  primaryid_count\n",
       "0             None             3170\n",
       "1               -1               12\n",
       "2              -10                8\n",
       "3             -102                1\n",
       "4             -105                1\n",
       "...            ...              ...\n",
       "1031            99                5\n",
       "1032           990                2\n",
       "1033           994                1\n",
       "1034           995                1\n",
       "1035           999                1\n",
       "\n",
       "[1036 rows x 2 columns]"
      ],
      "text/html": [
       "<div>\n",
       "<style scoped>\n",
       "    .dataframe tbody tr th:only-of-type {\n",
       "        vertical-align: middle;\n",
       "    }\n",
       "\n",
       "    .dataframe tbody tr th {\n",
       "        vertical-align: top;\n",
       "    }\n",
       "\n",
       "    .dataframe thead th {\n",
       "        text-align: right;\n",
       "    }\n",
       "</style>\n",
       "<table border=\"1\" class=\"dataframe\">\n",
       "  <thead>\n",
       "    <tr style=\"text-align: right;\">\n",
       "      <th></th>\n",
       "      <th>time_of_onset</th>\n",
       "      <th>primaryid_count</th>\n",
       "    </tr>\n",
       "  </thead>\n",
       "  <tbody>\n",
       "    <tr>\n",
       "      <th>0</th>\n",
       "      <td>None</td>\n",
       "      <td>3170</td>\n",
       "    </tr>\n",
       "    <tr>\n",
       "      <th>1</th>\n",
       "      <td>-1</td>\n",
       "      <td>12</td>\n",
       "    </tr>\n",
       "    <tr>\n",
       "      <th>2</th>\n",
       "      <td>-10</td>\n",
       "      <td>8</td>\n",
       "    </tr>\n",
       "    <tr>\n",
       "      <th>3</th>\n",
       "      <td>-102</td>\n",
       "      <td>1</td>\n",
       "    </tr>\n",
       "    <tr>\n",
       "      <th>4</th>\n",
       "      <td>-105</td>\n",
       "      <td>1</td>\n",
       "    </tr>\n",
       "    <tr>\n",
       "      <th>...</th>\n",
       "      <td>...</td>\n",
       "      <td>...</td>\n",
       "    </tr>\n",
       "    <tr>\n",
       "      <th>1031</th>\n",
       "      <td>99</td>\n",
       "      <td>5</td>\n",
       "    </tr>\n",
       "    <tr>\n",
       "      <th>1032</th>\n",
       "      <td>990</td>\n",
       "      <td>2</td>\n",
       "    </tr>\n",
       "    <tr>\n",
       "      <th>1033</th>\n",
       "      <td>994</td>\n",
       "      <td>1</td>\n",
       "    </tr>\n",
       "    <tr>\n",
       "      <th>1034</th>\n",
       "      <td>995</td>\n",
       "      <td>1</td>\n",
       "    </tr>\n",
       "    <tr>\n",
       "      <th>1035</th>\n",
       "      <td>999</td>\n",
       "      <td>1</td>\n",
       "    </tr>\n",
       "  </tbody>\n",
       "</table>\n",
       "<p>1036 rows × 2 columns</p>\n",
       "</div>"
      ]
     },
     "execution_count": 34,
     "metadata": {},
     "output_type": "execute_result"
    }
   ],
   "execution_count": 34
  },
  {
   "metadata": {},
   "cell_type": "markdown",
   "source": "# Table1.7上报年份",
   "id": "fbcbdd493060424c"
  },
  {
   "metadata": {
    "ExecuteTime": {
     "end_time": "2024-08-18T17:40:17.701710Z",
     "start_time": "2024-08-18T17:39:57.303425Z"
    }
   },
   "cell_type": "code",
   "source": [
    "##  REPT_DT 存在异常数据, 否则取：INIT_FDA_DT\n",
    "sql =''' \n",
    "    SELECT\n",
    "        YEAR(if(length(D.REPT_DT)<4, D.INIT_FDA_DT,D.REPT_DT)) AS report_year,\n",
    "        COUNT(distinct D.PRIMARYID) AS report_count\n",
    "    FROM\n",
    "        faers.demo_dedup D\n",
    "    JOIN \n",
    "        faers.ribo_drug_usage R\n",
    "    ON D.rn = 1 and D.PRIMARYID = R.PRIMARYID\n",
    "    GROUP BY\n",
    "        1\n",
    "    ORDER BY\n",
    "        1;\n",
    "'''\n",
    "\n",
    "df_rpt_year = pd.read_sql_query(sql, conn)\n",
    "df_rpt_year"
   ],
   "id": "de89691520dfab7b",
   "outputs": [
    {
     "name": "stderr",
     "output_type": "stream",
     "text": [
      "/var/folders/7w/sgw5xk457ss20939d0n2_5600000gn/T/ipykernel_38268/2273248669.py:17: UserWarning: pandas only supports SQLAlchemy connectable (engine/connection) or database string URI or sqlite3 DBAPI2 connection. Other DBAPI2 objects are not tested. Please consider using SQLAlchemy.\n",
      "  df_rpt_year = pd.read_sql_query(sql, conn)\n"
     ]
    },
    {
     "data": {
      "text/plain": [
       "   report_year  report_count\n",
       "0         2017           473\n",
       "1         2018          1161\n",
       "2         2019          1575\n",
       "3         2020          1490\n",
       "4         2021          2222\n",
       "5         2022          2958\n",
       "6         2023          4547\n",
       "7         2024           899"
      ],
      "text/html": [
       "<div>\n",
       "<style scoped>\n",
       "    .dataframe tbody tr th:only-of-type {\n",
       "        vertical-align: middle;\n",
       "    }\n",
       "\n",
       "    .dataframe tbody tr th {\n",
       "        vertical-align: top;\n",
       "    }\n",
       "\n",
       "    .dataframe thead th {\n",
       "        text-align: right;\n",
       "    }\n",
       "</style>\n",
       "<table border=\"1\" class=\"dataframe\">\n",
       "  <thead>\n",
       "    <tr style=\"text-align: right;\">\n",
       "      <th></th>\n",
       "      <th>report_year</th>\n",
       "      <th>report_count</th>\n",
       "    </tr>\n",
       "  </thead>\n",
       "  <tbody>\n",
       "    <tr>\n",
       "      <th>0</th>\n",
       "      <td>2017</td>\n",
       "      <td>473</td>\n",
       "    </tr>\n",
       "    <tr>\n",
       "      <th>1</th>\n",
       "      <td>2018</td>\n",
       "      <td>1161</td>\n",
       "    </tr>\n",
       "    <tr>\n",
       "      <th>2</th>\n",
       "      <td>2019</td>\n",
       "      <td>1575</td>\n",
       "    </tr>\n",
       "    <tr>\n",
       "      <th>3</th>\n",
       "      <td>2020</td>\n",
       "      <td>1490</td>\n",
       "    </tr>\n",
       "    <tr>\n",
       "      <th>4</th>\n",
       "      <td>2021</td>\n",
       "      <td>2222</td>\n",
       "    </tr>\n",
       "    <tr>\n",
       "      <th>5</th>\n",
       "      <td>2022</td>\n",
       "      <td>2958</td>\n",
       "    </tr>\n",
       "    <tr>\n",
       "      <th>6</th>\n",
       "      <td>2023</td>\n",
       "      <td>4547</td>\n",
       "    </tr>\n",
       "    <tr>\n",
       "      <th>7</th>\n",
       "      <td>2024</td>\n",
       "      <td>899</td>\n",
       "    </tr>\n",
       "  </tbody>\n",
       "</table>\n",
       "</div>"
      ]
     },
     "execution_count": 38,
     "metadata": {},
     "output_type": "execute_result"
    }
   ],
   "execution_count": 38
  },
  {
   "metadata": {},
   "cell_type": "markdown",
   "source": "# Table2 适应症及同用药品",
   "id": "caf61070e309adeb"
  },
  {
   "metadata": {},
   "cell_type": "markdown",
   "source": "## 联用药物",
   "id": "42237eea8a20141c"
  },
  {
   "metadata": {
    "ExecuteTime": {
     "end_time": "2024-08-10T09:43:07.392451Z",
     "start_time": "2024-08-10T09:43:04.206570Z"
    }
   },
   "cell_type": "code",
   "source": [
    "# 同一个primaryid下\n",
    "sql = '''\n",
    "\n",
    "    SELECT \n",
    "        concat(d1.prod_ai) as drug_info,\n",
    "        COUNT(d1.CASEID) AS concomitant_medications_caseid_count,\n",
    "        COUNT(d1.primaryid) AS concomitant_medications_primaryid_count\n",
    "    FROM \n",
    "        faers.faers_drug d1\n",
    "    join faers.ribo_drug_usage  d2\n",
    "    on d1.primaryid = d2.primaryid and  d1.caseid = d2.caseid\n",
    "    where lower(d1.role_cod) != 'ps' and d1.drug_seq != d2.drug_seq\n",
    "    group by 1\n",
    "    ;\n",
    "'''\n",
    "df_concomitant = pd.read_sql_query(sql, conn)\n",
    "df_concomitant"
   ],
   "id": "68cb1233c81b02df",
   "outputs": [
    {
     "name": "stderr",
     "output_type": "stream",
     "text": [
      "/var/folders/7w/sgw5xk457ss20939d0n2_5600000gn/T/ipykernel_61625/1735953897.py:16: UserWarning: pandas only supports SQLAlchemy connectable (engine/connection) or database string URI or sqlite3 DBAPI2 connection. Other DBAPI2 objects are not tested. Please consider using SQLAlchemy.\n",
      "  df_concomitant = pd.read_sql_query(sql, conn)\n"
     ]
    },
    {
     "data": {
      "text/plain": [
       "                                    drug_info  \\\n",
       "0                                  RIBOCICLIB   \n",
       "1                                   LETROZOLE   \n",
       "2                                  PREGABALIN   \n",
       "3                                   IBUPROFEN   \n",
       "4                     METHADONE HYDROCHLORIDE   \n",
       "...                                       ...   \n",
       "1226               FENFLURAMINE HYDROCHLORIDE   \n",
       "1227           INDAPAMIDEPERINDOPRIL ERBUMINE   \n",
       "1228                                 ITOPRIDE   \n",
       "1229  DICLOFENAC SODIUMTRAMADOL HYDROCHLORIDE   \n",
       "1230                              ALBENDAZOLE   \n",
       "\n",
       "      concomitant_medications_caseid_count  \\\n",
       "0                                    15446   \n",
       "1                                     6319   \n",
       "2                                      141   \n",
       "3                                      200   \n",
       "4                                       18   \n",
       "...                                    ...   \n",
       "1226                                     1   \n",
       "1227                                     1   \n",
       "1228                                     1   \n",
       "1229                                     1   \n",
       "1230                                     1   \n",
       "\n",
       "      concomitant_medications_primaryid_count  \n",
       "0                                       15446  \n",
       "1                                        6319  \n",
       "2                                         141  \n",
       "3                                         200  \n",
       "4                                          18  \n",
       "...                                       ...  \n",
       "1226                                        1  \n",
       "1227                                        1  \n",
       "1228                                        1  \n",
       "1229                                        1  \n",
       "1230                                        1  \n",
       "\n",
       "[1231 rows x 3 columns]"
      ],
      "text/html": [
       "<div>\n",
       "<style scoped>\n",
       "    .dataframe tbody tr th:only-of-type {\n",
       "        vertical-align: middle;\n",
       "    }\n",
       "\n",
       "    .dataframe tbody tr th {\n",
       "        vertical-align: top;\n",
       "    }\n",
       "\n",
       "    .dataframe thead th {\n",
       "        text-align: right;\n",
       "    }\n",
       "</style>\n",
       "<table border=\"1\" class=\"dataframe\">\n",
       "  <thead>\n",
       "    <tr style=\"text-align: right;\">\n",
       "      <th></th>\n",
       "      <th>drug_info</th>\n",
       "      <th>concomitant_medications_caseid_count</th>\n",
       "      <th>concomitant_medications_primaryid_count</th>\n",
       "    </tr>\n",
       "  </thead>\n",
       "  <tbody>\n",
       "    <tr>\n",
       "      <th>0</th>\n",
       "      <td>RIBOCICLIB</td>\n",
       "      <td>15446</td>\n",
       "      <td>15446</td>\n",
       "    </tr>\n",
       "    <tr>\n",
       "      <th>1</th>\n",
       "      <td>LETROZOLE</td>\n",
       "      <td>6319</td>\n",
       "      <td>6319</td>\n",
       "    </tr>\n",
       "    <tr>\n",
       "      <th>2</th>\n",
       "      <td>PREGABALIN</td>\n",
       "      <td>141</td>\n",
       "      <td>141</td>\n",
       "    </tr>\n",
       "    <tr>\n",
       "      <th>3</th>\n",
       "      <td>IBUPROFEN</td>\n",
       "      <td>200</td>\n",
       "      <td>200</td>\n",
       "    </tr>\n",
       "    <tr>\n",
       "      <th>4</th>\n",
       "      <td>METHADONE HYDROCHLORIDE</td>\n",
       "      <td>18</td>\n",
       "      <td>18</td>\n",
       "    </tr>\n",
       "    <tr>\n",
       "      <th>...</th>\n",
       "      <td>...</td>\n",
       "      <td>...</td>\n",
       "      <td>...</td>\n",
       "    </tr>\n",
       "    <tr>\n",
       "      <th>1226</th>\n",
       "      <td>FENFLURAMINE HYDROCHLORIDE</td>\n",
       "      <td>1</td>\n",
       "      <td>1</td>\n",
       "    </tr>\n",
       "    <tr>\n",
       "      <th>1227</th>\n",
       "      <td>INDAPAMIDEPERINDOPRIL ERBUMINE</td>\n",
       "      <td>1</td>\n",
       "      <td>1</td>\n",
       "    </tr>\n",
       "    <tr>\n",
       "      <th>1228</th>\n",
       "      <td>ITOPRIDE</td>\n",
       "      <td>1</td>\n",
       "      <td>1</td>\n",
       "    </tr>\n",
       "    <tr>\n",
       "      <th>1229</th>\n",
       "      <td>DICLOFENAC SODIUMTRAMADOL HYDROCHLORIDE</td>\n",
       "      <td>1</td>\n",
       "      <td>1</td>\n",
       "    </tr>\n",
       "    <tr>\n",
       "      <th>1230</th>\n",
       "      <td>ALBENDAZOLE</td>\n",
       "      <td>1</td>\n",
       "      <td>1</td>\n",
       "    </tr>\n",
       "  </tbody>\n",
       "</table>\n",
       "<p>1231 rows × 3 columns</p>\n",
       "</div>"
      ]
     },
     "execution_count": 47,
     "metadata": {},
     "output_type": "execute_result"
    }
   ],
   "execution_count": 47
  },
  {
   "metadata": {
    "ExecuteTime": {
     "end_time": "2024-08-10T09:39:43.819614Z",
     "start_time": "2024-08-10T09:39:43.795400Z"
    }
   },
   "cell_type": "code",
   "source": "len(df_concomitant)",
   "id": "b691982615fa7a55",
   "outputs": [
    {
     "data": {
      "text/plain": [
       "3566"
      ]
     },
     "execution_count": 46,
     "metadata": {},
     "output_type": "execute_result"
    }
   ],
   "execution_count": 46
  },
  {
   "metadata": {},
   "cell_type": "markdown",
   "source": "## 适应症",
   "id": "9ed0c22ca8fac783"
  },
  {
   "metadata": {},
   "cell_type": "markdown",
   "source": "",
   "id": "fbedd7defc6a5b69"
  },
  {
   "metadata": {
    "ExecuteTime": {
     "end_time": "2024-08-10T12:26:47.044901Z",
     "start_time": "2024-08-10T12:26:46.882352Z"
    }
   },
   "cell_type": "code",
   "source": [
    "# 同一个primaryid下\n",
    "# todo: INDI_PT 格式较为混乱，需要继续处理\n",
    "sql = '''\n",
    "\n",
    "    SELECT \n",
    "        concat(trim(d1.INDI_PT) as INDI_PT,\n",
    "        COUNT(d1.CASEID) AS INDI_PT_caseid_count,\n",
    "        COUNT(d1.primaryid) AS INDI_PT_primaryid_count\n",
    "    FROM \n",
    "        faers.faers_indi d1\n",
    "    join faers.ribo_drug_usage  d2\n",
    "    on d1.primaryid = d2.primaryid \n",
    "        and d1.INDI_DRUG_SEQ = d2.drug_seq\n",
    "    group by 1\n",
    "    order by 1\n",
    "    ;\n",
    "'''\n",
    "df_indi = pd.read_sql_query(sql, conn)\n",
    "df_indi"
   ],
   "id": "df84590a347b0a6d",
   "outputs": [
    {
     "name": "stderr",
     "output_type": "stream",
     "text": [
      "/var/folders/7w/sgw5xk457ss20939d0n2_5600000gn/T/ipykernel_61625/507644697.py:18: UserWarning: pandas only supports SQLAlchemy connectable (engine/connection) or database string URI or sqlite3 DBAPI2 connection. Other DBAPI2 objects are not tested. Please consider using SQLAlchemy.\n",
      "  df_indi = pd.read_sql_query(sql, conn)\n"
     ]
    },
    {
     "ename": "DatabaseError",
     "evalue": "Execution failed on sql '\n\n    SELECT \n        concat(trim(d1.INDI_PT, '\\r') as INDI_PT,\n        COUNT(d1.CASEID) AS INDI_PT_caseid_count,\n        COUNT(d1.primaryid) AS INDI_PT_primaryid_count\n    FROM \n        faers.faers_indi d1\n    join faers.ribo_drug_usage  d2\n    on d1.primaryid = d2.primaryid \n        and d1.INDI_DRUG_SEQ = d2.drug_seq\n    group by 1\n    order by 1\n    ;\n': (1064, \"You have an error in your SQL syntax; check the manual that corresponds to your MySQL server version for the right syntax to use near ', '\\\\r') as INDI_PT,\\n        COUNT(d1.CASEID) AS INDI_PT_caseid_count,\\n        CO' at line 2\")",
     "output_type": "error",
     "traceback": [
      "\u001B[0;31m---------------------------------------------------------------------------\u001B[0m",
      "\u001B[0;31mProgrammingError\u001B[0m                          Traceback (most recent call last)",
      "File \u001B[0;32m/opt/anaconda3/lib/python3.11/site-packages/pandas/io/sql.py:2674\u001B[0m, in \u001B[0;36mSQLiteDatabase.execute\u001B[0;34m(self, sql, params)\u001B[0m\n\u001B[1;32m   2673\u001B[0m \u001B[38;5;28;01mtry\u001B[39;00m:\n\u001B[0;32m-> 2674\u001B[0m     cur\u001B[38;5;241m.\u001B[39mexecute(sql, \u001B[38;5;241m*\u001B[39margs)\n\u001B[1;32m   2675\u001B[0m     \u001B[38;5;28;01mreturn\u001B[39;00m cur\n",
      "File \u001B[0;32m/opt/anaconda3/lib/python3.11/site-packages/pymysql/cursors.py:153\u001B[0m, in \u001B[0;36mCursor.execute\u001B[0;34m(self, query, args)\u001B[0m\n\u001B[1;32m    151\u001B[0m query \u001B[38;5;241m=\u001B[39m \u001B[38;5;28mself\u001B[39m\u001B[38;5;241m.\u001B[39mmogrify(query, args)\n\u001B[0;32m--> 153\u001B[0m result \u001B[38;5;241m=\u001B[39m \u001B[38;5;28mself\u001B[39m\u001B[38;5;241m.\u001B[39m_query(query)\n\u001B[1;32m    154\u001B[0m \u001B[38;5;28mself\u001B[39m\u001B[38;5;241m.\u001B[39m_executed \u001B[38;5;241m=\u001B[39m query\n",
      "File \u001B[0;32m/opt/anaconda3/lib/python3.11/site-packages/pymysql/cursors.py:322\u001B[0m, in \u001B[0;36mCursor._query\u001B[0;34m(self, q)\u001B[0m\n\u001B[1;32m    321\u001B[0m \u001B[38;5;28mself\u001B[39m\u001B[38;5;241m.\u001B[39m_clear_result()\n\u001B[0;32m--> 322\u001B[0m conn\u001B[38;5;241m.\u001B[39mquery(q)\n\u001B[1;32m    323\u001B[0m \u001B[38;5;28mself\u001B[39m\u001B[38;5;241m.\u001B[39m_do_get_result()\n",
      "File \u001B[0;32m/opt/anaconda3/lib/python3.11/site-packages/pymysql/connections.py:563\u001B[0m, in \u001B[0;36mConnection.query\u001B[0;34m(self, sql, unbuffered)\u001B[0m\n\u001B[1;32m    562\u001B[0m \u001B[38;5;28mself\u001B[39m\u001B[38;5;241m.\u001B[39m_execute_command(COMMAND\u001B[38;5;241m.\u001B[39mCOM_QUERY, sql)\n\u001B[0;32m--> 563\u001B[0m \u001B[38;5;28mself\u001B[39m\u001B[38;5;241m.\u001B[39m_affected_rows \u001B[38;5;241m=\u001B[39m \u001B[38;5;28mself\u001B[39m\u001B[38;5;241m.\u001B[39m_read_query_result(unbuffered\u001B[38;5;241m=\u001B[39munbuffered)\n\u001B[1;32m    564\u001B[0m \u001B[38;5;28;01mreturn\u001B[39;00m \u001B[38;5;28mself\u001B[39m\u001B[38;5;241m.\u001B[39m_affected_rows\n",
      "File \u001B[0;32m/opt/anaconda3/lib/python3.11/site-packages/pymysql/connections.py:825\u001B[0m, in \u001B[0;36mConnection._read_query_result\u001B[0;34m(self, unbuffered)\u001B[0m\n\u001B[1;32m    824\u001B[0m     result \u001B[38;5;241m=\u001B[39m MySQLResult(\u001B[38;5;28mself\u001B[39m)\n\u001B[0;32m--> 825\u001B[0m     result\u001B[38;5;241m.\u001B[39mread()\n\u001B[1;32m    826\u001B[0m \u001B[38;5;28mself\u001B[39m\u001B[38;5;241m.\u001B[39m_result \u001B[38;5;241m=\u001B[39m result\n",
      "File \u001B[0;32m/opt/anaconda3/lib/python3.11/site-packages/pymysql/connections.py:1199\u001B[0m, in \u001B[0;36mMySQLResult.read\u001B[0;34m(self)\u001B[0m\n\u001B[1;32m   1198\u001B[0m \u001B[38;5;28;01mtry\u001B[39;00m:\n\u001B[0;32m-> 1199\u001B[0m     first_packet \u001B[38;5;241m=\u001B[39m \u001B[38;5;28mself\u001B[39m\u001B[38;5;241m.\u001B[39mconnection\u001B[38;5;241m.\u001B[39m_read_packet()\n\u001B[1;32m   1201\u001B[0m     \u001B[38;5;28;01mif\u001B[39;00m first_packet\u001B[38;5;241m.\u001B[39mis_ok_packet():\n",
      "File \u001B[0;32m/opt/anaconda3/lib/python3.11/site-packages/pymysql/connections.py:775\u001B[0m, in \u001B[0;36mConnection._read_packet\u001B[0;34m(self, packet_type)\u001B[0m\n\u001B[1;32m    774\u001B[0m         \u001B[38;5;28mself\u001B[39m\u001B[38;5;241m.\u001B[39m_result\u001B[38;5;241m.\u001B[39munbuffered_active \u001B[38;5;241m=\u001B[39m \u001B[38;5;28;01mFalse\u001B[39;00m\n\u001B[0;32m--> 775\u001B[0m     packet\u001B[38;5;241m.\u001B[39mraise_for_error()\n\u001B[1;32m    776\u001B[0m \u001B[38;5;28;01mreturn\u001B[39;00m packet\n",
      "File \u001B[0;32m/opt/anaconda3/lib/python3.11/site-packages/pymysql/protocol.py:219\u001B[0m, in \u001B[0;36mMysqlPacket.raise_for_error\u001B[0;34m(self)\u001B[0m\n\u001B[1;32m    218\u001B[0m     \u001B[38;5;28mprint\u001B[39m(\u001B[38;5;124m\"\u001B[39m\u001B[38;5;124merrno =\u001B[39m\u001B[38;5;124m\"\u001B[39m, errno)\n\u001B[0;32m--> 219\u001B[0m err\u001B[38;5;241m.\u001B[39mraise_mysql_exception(\u001B[38;5;28mself\u001B[39m\u001B[38;5;241m.\u001B[39m_data)\n",
      "File \u001B[0;32m/opt/anaconda3/lib/python3.11/site-packages/pymysql/err.py:150\u001B[0m, in \u001B[0;36mraise_mysql_exception\u001B[0;34m(data)\u001B[0m\n\u001B[1;32m    149\u001B[0m     errorclass \u001B[38;5;241m=\u001B[39m InternalError \u001B[38;5;28;01mif\u001B[39;00m errno \u001B[38;5;241m<\u001B[39m \u001B[38;5;241m1000\u001B[39m \u001B[38;5;28;01melse\u001B[39;00m OperationalError\n\u001B[0;32m--> 150\u001B[0m \u001B[38;5;28;01mraise\u001B[39;00m errorclass(errno, errval)\n",
      "\u001B[0;31mProgrammingError\u001B[0m: (1064, \"You have an error in your SQL syntax; check the manual that corresponds to your MySQL server version for the right syntax to use near ', '\\\\r') as INDI_PT,\\n        COUNT(d1.CASEID) AS INDI_PT_caseid_count,\\n        CO' at line 2\")",
      "\nThe above exception was the direct cause of the following exception:\n",
      "\u001B[0;31mDatabaseError\u001B[0m                             Traceback (most recent call last)",
      "Cell \u001B[0;32mIn[63], line 18\u001B[0m\n\u001B[1;32m      1\u001B[0m \u001B[38;5;66;03m# 同一个primaryid下\u001B[39;00m\n\u001B[1;32m      2\u001B[0m \u001B[38;5;66;03m# todo: INDI_PT 格式较为混乱，需要继续处理\u001B[39;00m\n\u001B[1;32m      3\u001B[0m sql \u001B[38;5;241m=\u001B[39m \u001B[38;5;124m'''\u001B[39m\n\u001B[1;32m      4\u001B[0m \n\u001B[1;32m      5\u001B[0m \u001B[38;5;124m    SELECT \u001B[39m\n\u001B[0;32m   (...)\u001B[0m\n\u001B[1;32m     16\u001B[0m \u001B[38;5;124m    ;\u001B[39m\n\u001B[1;32m     17\u001B[0m \u001B[38;5;124m'''\u001B[39m\n\u001B[0;32m---> 18\u001B[0m df_indi \u001B[38;5;241m=\u001B[39m pd\u001B[38;5;241m.\u001B[39mread_sql_query(sql, conn)\n\u001B[1;32m     19\u001B[0m df_indi\n",
      "File \u001B[0;32m/opt/anaconda3/lib/python3.11/site-packages/pandas/io/sql.py:526\u001B[0m, in \u001B[0;36mread_sql_query\u001B[0;34m(sql, con, index_col, coerce_float, params, parse_dates, chunksize, dtype, dtype_backend)\u001B[0m\n\u001B[1;32m    523\u001B[0m \u001B[38;5;28;01massert\u001B[39;00m dtype_backend \u001B[38;5;129;01mis\u001B[39;00m \u001B[38;5;129;01mnot\u001B[39;00m lib\u001B[38;5;241m.\u001B[39mno_default\n\u001B[1;32m    525\u001B[0m \u001B[38;5;28;01mwith\u001B[39;00m pandasSQL_builder(con) \u001B[38;5;28;01mas\u001B[39;00m pandas_sql:\n\u001B[0;32m--> 526\u001B[0m     \u001B[38;5;28;01mreturn\u001B[39;00m pandas_sql\u001B[38;5;241m.\u001B[39mread_query(\n\u001B[1;32m    527\u001B[0m         sql,\n\u001B[1;32m    528\u001B[0m         index_col\u001B[38;5;241m=\u001B[39mindex_col,\n\u001B[1;32m    529\u001B[0m         params\u001B[38;5;241m=\u001B[39mparams,\n\u001B[1;32m    530\u001B[0m         coerce_float\u001B[38;5;241m=\u001B[39mcoerce_float,\n\u001B[1;32m    531\u001B[0m         parse_dates\u001B[38;5;241m=\u001B[39mparse_dates,\n\u001B[1;32m    532\u001B[0m         chunksize\u001B[38;5;241m=\u001B[39mchunksize,\n\u001B[1;32m    533\u001B[0m         dtype\u001B[38;5;241m=\u001B[39mdtype,\n\u001B[1;32m    534\u001B[0m         dtype_backend\u001B[38;5;241m=\u001B[39mdtype_backend,\n\u001B[1;32m    535\u001B[0m     )\n",
      "File \u001B[0;32m/opt/anaconda3/lib/python3.11/site-packages/pandas/io/sql.py:2738\u001B[0m, in \u001B[0;36mSQLiteDatabase.read_query\u001B[0;34m(self, sql, index_col, coerce_float, parse_dates, params, chunksize, dtype, dtype_backend)\u001B[0m\n\u001B[1;32m   2727\u001B[0m \u001B[38;5;28;01mdef\u001B[39;00m \u001B[38;5;21mread_query\u001B[39m(\n\u001B[1;32m   2728\u001B[0m     \u001B[38;5;28mself\u001B[39m,\n\u001B[1;32m   2729\u001B[0m     sql,\n\u001B[0;32m   (...)\u001B[0m\n\u001B[1;32m   2736\u001B[0m     dtype_backend: DtypeBackend \u001B[38;5;241m|\u001B[39m Literal[\u001B[38;5;124m\"\u001B[39m\u001B[38;5;124mnumpy\u001B[39m\u001B[38;5;124m\"\u001B[39m] \u001B[38;5;241m=\u001B[39m \u001B[38;5;124m\"\u001B[39m\u001B[38;5;124mnumpy\u001B[39m\u001B[38;5;124m\"\u001B[39m,\n\u001B[1;32m   2737\u001B[0m ) \u001B[38;5;241m-\u001B[39m\u001B[38;5;241m>\u001B[39m DataFrame \u001B[38;5;241m|\u001B[39m Iterator[DataFrame]:\n\u001B[0;32m-> 2738\u001B[0m     cursor \u001B[38;5;241m=\u001B[39m \u001B[38;5;28mself\u001B[39m\u001B[38;5;241m.\u001B[39mexecute(sql, params)\n\u001B[1;32m   2739\u001B[0m     columns \u001B[38;5;241m=\u001B[39m [col_desc[\u001B[38;5;241m0\u001B[39m] \u001B[38;5;28;01mfor\u001B[39;00m col_desc \u001B[38;5;129;01min\u001B[39;00m cursor\u001B[38;5;241m.\u001B[39mdescription]\n\u001B[1;32m   2741\u001B[0m     \u001B[38;5;28;01mif\u001B[39;00m chunksize \u001B[38;5;129;01mis\u001B[39;00m \u001B[38;5;129;01mnot\u001B[39;00m \u001B[38;5;28;01mNone\u001B[39;00m:\n",
      "File \u001B[0;32m/opt/anaconda3/lib/python3.11/site-packages/pandas/io/sql.py:2686\u001B[0m, in \u001B[0;36mSQLiteDatabase.execute\u001B[0;34m(self, sql, params)\u001B[0m\n\u001B[1;32m   2683\u001B[0m     \u001B[38;5;28;01mraise\u001B[39;00m ex \u001B[38;5;28;01mfrom\u001B[39;00m \u001B[38;5;21;01minner_exc\u001B[39;00m\n\u001B[1;32m   2685\u001B[0m ex \u001B[38;5;241m=\u001B[39m DatabaseError(\u001B[38;5;124mf\u001B[39m\u001B[38;5;124m\"\u001B[39m\u001B[38;5;124mExecution failed on sql \u001B[39m\u001B[38;5;124m'\u001B[39m\u001B[38;5;132;01m{\u001B[39;00msql\u001B[38;5;132;01m}\u001B[39;00m\u001B[38;5;124m'\u001B[39m\u001B[38;5;124m: \u001B[39m\u001B[38;5;132;01m{\u001B[39;00mexc\u001B[38;5;132;01m}\u001B[39;00m\u001B[38;5;124m\"\u001B[39m)\n\u001B[0;32m-> 2686\u001B[0m \u001B[38;5;28;01mraise\u001B[39;00m ex \u001B[38;5;28;01mfrom\u001B[39;00m \u001B[38;5;21;01mexc\u001B[39;00m\n",
      "\u001B[0;31mDatabaseError\u001B[0m: Execution failed on sql '\n\n    SELECT \n        concat(trim(d1.INDI_PT, '\\r') as INDI_PT,\n        COUNT(d1.CASEID) AS INDI_PT_caseid_count,\n        COUNT(d1.primaryid) AS INDI_PT_primaryid_count\n    FROM \n        faers.faers_indi d1\n    join faers.ribo_drug_usage  d2\n    on d1.primaryid = d2.primaryid \n        and d1.INDI_DRUG_SEQ = d2.drug_seq\n    group by 1\n    order by 1\n    ;\n': (1064, \"You have an error in your SQL syntax; check the manual that corresponds to your MySQL server version for the right syntax to use near ', '\\\\r') as INDI_PT,\\n        COUNT(d1.CASEID) AS INDI_PT_caseid_count,\\n        CO' at line 2\")"
     ]
    }
   ],
   "execution_count": 63
  },
  {
   "metadata": {
    "ExecuteTime": {
     "end_time": "2024-08-10T10:09:04.759349Z",
     "start_time": "2024-08-10T10:09:04.754341Z"
    }
   },
   "cell_type": "code",
   "source": "sum(df_indi['concomitant_medications_primaryid_count'])",
   "id": "eb2f644b32a8283a",
   "outputs": [
    {
     "data": {
      "text/plain": [
       "19801"
      ]
     },
     "execution_count": 54,
     "metadata": {},
     "output_type": "execute_result"
    }
   ],
   "execution_count": 54
  },
  {
   "metadata": {},
   "cell_type": "markdown",
   "source": "#  Table 3,4,5 ROR分析数据准备",
   "id": "6af473cb8541004e"
  },
  {
   "metadata": {},
   "cell_type": "markdown",
   "source": "## 导出 和 ribociclib 相关的 pt ",
   "id": "7280ef83c1e3e4fc"
  },
  {
   "metadata": {
    "ExecuteTime": {
     "end_time": "2024-08-11T08:29:38.605572Z",
     "start_time": "2024-08-11T08:28:52.422266Z"
    }
   },
   "cell_type": "code",
   "source": [
    "# 去除异常字符\n",
    "sql = '''   \n",
    "   SELECT \n",
    "        replace(coalesce(t2.pt,'not_found_pt'),'\\\\r', '') as pt,\n",
    "        COUNT(distinct t1.CASEID) AS caseid_cnt,\n",
    "        COUNT(distinct t1.PRIMARYID) AS primaryid_cnt\n",
    "    FROM faers.ribo_drug_usage t1\n",
    "    left join faers.faers_reac t2\n",
    "    on t1.primaryid = t2.primaryid and lower(t1.role_cod) = 'ps'\n",
    "    group by 1\n",
    "    order by 1;\n",
    "'''\n",
    "df_pt_stat = pd.read_sql_query(sql, conn)"
   ],
   "id": "f095f4371a28af4",
   "outputs": [
    {
     "name": "stderr",
     "output_type": "stream",
     "text": [
      "/var/folders/7w/sgw5xk457ss20939d0n2_5600000gn/T/ipykernel_24540/1334817465.py:13: UserWarning: pandas only supports SQLAlchemy connectable (engine/connection) or database string URI or sqlite3 DBAPI2 connection. Other DBAPI2 objects are not tested. Please consider using SQLAlchemy.\n",
      "  df_pt_stat = pd.read_sql_query(sql, conn)\n"
     ]
    },
    {
     "ename": "KeyError",
     "evalue": "False",
     "output_type": "error",
     "traceback": [
      "\u001B[0;31m---------------------------------------------------------------------------\u001B[0m",
      "\u001B[0;31mKeyError\u001B[0m                                  Traceback (most recent call last)",
      "File \u001B[0;32m/opt/anaconda3/lib/python3.11/site-packages/pandas/core/indexes/base.py:3805\u001B[0m, in \u001B[0;36mIndex.get_loc\u001B[0;34m(self, key)\u001B[0m\n\u001B[1;32m   3804\u001B[0m \u001B[38;5;28;01mtry\u001B[39;00m:\n\u001B[0;32m-> 3805\u001B[0m     \u001B[38;5;28;01mreturn\u001B[39;00m \u001B[38;5;28mself\u001B[39m\u001B[38;5;241m.\u001B[39m_engine\u001B[38;5;241m.\u001B[39mget_loc(casted_key)\n\u001B[1;32m   3806\u001B[0m \u001B[38;5;28;01mexcept\u001B[39;00m \u001B[38;5;167;01mKeyError\u001B[39;00m \u001B[38;5;28;01mas\u001B[39;00m err:\n",
      "File \u001B[0;32mindex.pyx:167\u001B[0m, in \u001B[0;36mpandas._libs.index.IndexEngine.get_loc\u001B[0;34m()\u001B[0m\n",
      "File \u001B[0;32mindex.pyx:196\u001B[0m, in \u001B[0;36mpandas._libs.index.IndexEngine.get_loc\u001B[0;34m()\u001B[0m\n",
      "File \u001B[0;32mpandas/_libs/hashtable_class_helper.pxi:7081\u001B[0m, in \u001B[0;36mpandas._libs.hashtable.PyObjectHashTable.get_item\u001B[0;34m()\u001B[0m\n",
      "File \u001B[0;32mpandas/_libs/hashtable_class_helper.pxi:7089\u001B[0m, in \u001B[0;36mpandas._libs.hashtable.PyObjectHashTable.get_item\u001B[0;34m()\u001B[0m\n",
      "\u001B[0;31mKeyError\u001B[0m: False",
      "\nThe above exception was the direct cause of the following exception:\n",
      "\u001B[0;31mKeyError\u001B[0m                                  Traceback (most recent call last)",
      "Cell \u001B[0;32mIn[25], line 14\u001B[0m\n\u001B[1;32m      2\u001B[0m sql \u001B[38;5;241m=\u001B[39m \u001B[38;5;124m'''\u001B[39m\u001B[38;5;124m   \u001B[39m\n\u001B[1;32m      3\u001B[0m \u001B[38;5;124m   SELECT \u001B[39m\n\u001B[1;32m      4\u001B[0m \u001B[38;5;124m        replace(coalesce(t2.pt,\u001B[39m\u001B[38;5;124m'\u001B[39m\u001B[38;5;124mnot_found_pt\u001B[39m\u001B[38;5;124m'\u001B[39m\u001B[38;5;124m),\u001B[39m\u001B[38;5;124m'\u001B[39m\u001B[38;5;130;01m\\\\\u001B[39;00m\u001B[38;5;124mr\u001B[39m\u001B[38;5;124m'\u001B[39m\u001B[38;5;124m, \u001B[39m\u001B[38;5;124m'\u001B[39m\u001B[38;5;124m'\u001B[39m\u001B[38;5;124m) as pt,\u001B[39m\n\u001B[0;32m   (...)\u001B[0m\n\u001B[1;32m     11\u001B[0m \u001B[38;5;124m    order by 1;\u001B[39m\n\u001B[1;32m     12\u001B[0m \u001B[38;5;124m'''\u001B[39m\n\u001B[1;32m     13\u001B[0m df_pt_stat \u001B[38;5;241m=\u001B[39m pd\u001B[38;5;241m.\u001B[39mread_sql_query(sql, conn)\n\u001B[0;32m---> 14\u001B[0m df_pt_stat[\u001B[38;5;124m'\u001B[39m\u001B[38;5;124mpt\u001B[39m\u001B[38;5;124m'\u001B[39m\u001B[38;5;241m==\u001B[39m\u001B[38;5;124m'\u001B[39m\u001B[38;5;124mnot_found_pt\u001B[39m\u001B[38;5;124m'\u001B[39m]\n",
      "File \u001B[0;32m/opt/anaconda3/lib/python3.11/site-packages/pandas/core/frame.py:4102\u001B[0m, in \u001B[0;36mDataFrame.__getitem__\u001B[0;34m(self, key)\u001B[0m\n\u001B[1;32m   4100\u001B[0m \u001B[38;5;28;01mif\u001B[39;00m \u001B[38;5;28mself\u001B[39m\u001B[38;5;241m.\u001B[39mcolumns\u001B[38;5;241m.\u001B[39mnlevels \u001B[38;5;241m>\u001B[39m \u001B[38;5;241m1\u001B[39m:\n\u001B[1;32m   4101\u001B[0m     \u001B[38;5;28;01mreturn\u001B[39;00m \u001B[38;5;28mself\u001B[39m\u001B[38;5;241m.\u001B[39m_getitem_multilevel(key)\n\u001B[0;32m-> 4102\u001B[0m indexer \u001B[38;5;241m=\u001B[39m \u001B[38;5;28mself\u001B[39m\u001B[38;5;241m.\u001B[39mcolumns\u001B[38;5;241m.\u001B[39mget_loc(key)\n\u001B[1;32m   4103\u001B[0m \u001B[38;5;28;01mif\u001B[39;00m is_integer(indexer):\n\u001B[1;32m   4104\u001B[0m     indexer \u001B[38;5;241m=\u001B[39m [indexer]\n",
      "File \u001B[0;32m/opt/anaconda3/lib/python3.11/site-packages/pandas/core/indexes/base.py:3812\u001B[0m, in \u001B[0;36mIndex.get_loc\u001B[0;34m(self, key)\u001B[0m\n\u001B[1;32m   3807\u001B[0m     \u001B[38;5;28;01mif\u001B[39;00m \u001B[38;5;28misinstance\u001B[39m(casted_key, \u001B[38;5;28mslice\u001B[39m) \u001B[38;5;129;01mor\u001B[39;00m (\n\u001B[1;32m   3808\u001B[0m         \u001B[38;5;28misinstance\u001B[39m(casted_key, abc\u001B[38;5;241m.\u001B[39mIterable)\n\u001B[1;32m   3809\u001B[0m         \u001B[38;5;129;01mand\u001B[39;00m \u001B[38;5;28many\u001B[39m(\u001B[38;5;28misinstance\u001B[39m(x, \u001B[38;5;28mslice\u001B[39m) \u001B[38;5;28;01mfor\u001B[39;00m x \u001B[38;5;129;01min\u001B[39;00m casted_key)\n\u001B[1;32m   3810\u001B[0m     ):\n\u001B[1;32m   3811\u001B[0m         \u001B[38;5;28;01mraise\u001B[39;00m InvalidIndexError(key)\n\u001B[0;32m-> 3812\u001B[0m     \u001B[38;5;28;01mraise\u001B[39;00m \u001B[38;5;167;01mKeyError\u001B[39;00m(key) \u001B[38;5;28;01mfrom\u001B[39;00m \u001B[38;5;21;01merr\u001B[39;00m\n\u001B[1;32m   3813\u001B[0m \u001B[38;5;28;01mexcept\u001B[39;00m \u001B[38;5;167;01mTypeError\u001B[39;00m:\n\u001B[1;32m   3814\u001B[0m     \u001B[38;5;66;03m# If we have a listlike key, _check_indexing_error will raise\u001B[39;00m\n\u001B[1;32m   3815\u001B[0m     \u001B[38;5;66;03m#  InvalidIndexError. Otherwise we fall through and re-raise\u001B[39;00m\n\u001B[1;32m   3816\u001B[0m     \u001B[38;5;66;03m#  the TypeError.\u001B[39;00m\n\u001B[1;32m   3817\u001B[0m     \u001B[38;5;28mself\u001B[39m\u001B[38;5;241m.\u001B[39m_check_indexing_error(key)\n",
      "\u001B[0;31mKeyError\u001B[0m: False"
     ]
    }
   ],
   "execution_count": 25
  },
  {
   "metadata": {
    "ExecuteTime": {
     "end_time": "2024-08-11T08:36:16.488713Z",
     "start_time": "2024-08-11T08:36:16.483293Z"
    }
   },
   "cell_type": "code",
   "source": "len(df_pt_stat.pt)\n",
   "id": "b84d423f8d38f4b5",
   "outputs": [
    {
     "data": {
      "text/plain": [
       "3223"
      ]
     },
     "execution_count": 31,
     "metadata": {},
     "output_type": "execute_result"
    }
   ],
   "execution_count": 31
  },
  {
   "metadata": {},
   "cell_type": "markdown",
   "source": "## 并查找其 smq 和 pt",
   "id": "9c07ee76c82d537"
  },
  {
   "metadata": {
    "ExecuteTime": {
     "end_time": "2024-08-11T08:41:53.408022Z",
     "start_time": "2024-08-11T08:41:53.389128Z"
    }
   },
   "cell_type": "code",
   "source": "df_pt_stat.to_csv('ribo_pt.csv', index=False)\n",
   "id": "50c06953005b86a3",
   "outputs": [],
   "execution_count": 37
  },
  {
   "metadata": {},
   "cell_type": "markdown",
   "source": "## 获取相关pt 到 smq & soc的映射",
   "id": "3aeee65f5e8f68ce"
  },
  {
   "metadata": {
    "ExecuteTime": {
     "end_time": "2024-08-11T08:39:32.148611Z",
     "start_time": "2024-08-11T08:39:32.138875Z"
    }
   },
   "cell_type": "code",
   "source": [
    "import os\n",
    "import sys\n",
    "import requests\n",
    "from cachetools import cached, TTLCache\n",
    "import time\n",
    "import pandas as pd\n",
    "import tqdm\n",
    "g_token=''\n",
    "\n",
    "@cached(cache=TTLCache(maxsize=1, ttl=36000))\n",
    "def get_token():\n",
    "    # step 1:  using username='30007'  password='2A4nFXhP' on https://mid.meddra.org/account/register for apikey\n",
    "    # step 2:  apply for grant\n",
    "    cmd = '''\n",
    "    curl \\\n",
    "        --request POST \\\n",
    "        --data \"grant_type=password\"  \\\n",
    "        --data \"username={username}\"  --data \"password={apikey}\" \\\n",
    "        --data \"scope=meddraapi\" \\\n",
    "        --data \"client_id=mspclient\" \\\n",
    "        \"https://mid.meddra.org/connect/token\"\n",
    "    '''.format(username='30007', apikey='4Lj68iPSy3jjti7hK2hM')\n",
    "    os.system(cmd)\n",
    "    # ref: https://cloud.tencent.com/developer/article/1908468\n",
    "    return auth['access_token']\n",
    "    # {\"access_token\":\"6acb65aaaa2eee65530de8e2521606b10051a5b8a5451bdf1227eb704bda080d\",\"expires_in\":36000,\"token_type\":\"Bearer\"}\n",
    "\n",
    "def get_token2():\n",
    "    return \"0ee4891cc555c08327623cf1e37697aca59bba27744b0006e138d2f0e6a47fc7\"\n",
    "\n",
    "def get_soc(row):\n",
    "    ## (1) search pt name for pt-code\n",
    "    headers = {\n",
    "        'accept': 'application/json',\n",
    "        'Authorization': 'Bearer {}'.format(get_token2()),\n",
    "        'Content-Type': 'text/json',\n",
    "    }\n",
    "\n",
    "    pt_name = row['pt']   # \"heart valve operation\"\n",
    "\n",
    "    data = '{\"bview\":\"SOC\",\"rsview\":\"release\",\"language\":\"English\",\"stype\":1,\"addlangs\":[],\"filters\":[],\"version\":24,\"searchterms\":[{\"searchtype\":0,\"searchterm\":\"' \\\n",
    "           + pt_name + '\",\"searchlogic\":0}],\"kana\":false,\"idiacritical\":true,\"synonym\":false,\"contains\":false,\"soc\":false,\"hlgt\":false,\"hlt\":false,\"pt\":true,\"llt\":false,\"smq\":false,\"skip\":0,\"take\":0,\"separator\":2}'\n",
    "    \n",
    "    try:\n",
    "        response = requests.post('https://gxpmapiprod.meddra.org/api/search', headers=headers, data=data)\n",
    "        #print(response.json())\n",
    "        ##(2) detail: search soc name & code using pt_code\n",
    "        pt_code = response.json()[0]['pcode']\n",
    "    \n",
    "        data = '{\"bview\":\"SOC\",\"rsview\":\"release\",\"code\":' + str(pt_code) + \\\n",
    "               ',\"pcode\":0,\"syncode\":0,\"lltcode\":0,\"ptcode\":0,\"hltcode\":0,\"hlgtcode\":0,\"soccode\":0,\"smqcode\":0,\"type\":\"PT\",\"addlangs\":[],\"rtype\":\"P\",\"lang\":\"English\",\"ver\":24,\"kana\":false,\"separator\":2}'\n",
    "    \n",
    "        response = requests.post('https://gxpmapiprod.meddra.org/api/detail', headers=headers, data=data)\n",
    "        soc_name = ''\n",
    "        soc_code = -1\n",
    "    \n",
    "        for item in response.json()['mds']:\n",
    "            #print(item)\n",
    "            if item['primarysocfg'] == 'Y':\n",
    "                soc_name = item['socname']\n",
    "                soc_code = item['soccode']\n",
    "                           \n",
    "        ## finally output results using dataframes\n",
    "        #return {'pt': pt_name, 'pt_code': pt_code, 'soc_name': soc_name, 'soc_code': soc_code}\n",
    "        return pd.Series([pt_name, pt_code, soc_name, soc_code], index=['pt_name', 'pt_code', 'soc_name', 'soc_code'])\n",
    "\n",
    "    except Exception as e:\n",
    "        print(\"error for\" + pt_name)\n",
    "    finally:\n",
    "        pass\n"
   ],
   "id": "5c9e1ed9eaa2dbac",
   "outputs": [],
   "execution_count": 34
  },
  {
   "metadata": {
    "ExecuteTime": {
     "end_time": "2024-08-11T08:27:02.371478Z",
     "start_time": "2024-08-11T08:27:00.093886Z"
    }
   },
   "cell_type": "code",
   "source": "get_token()",
   "id": "e94838b85c995090",
   "outputs": [
    {
     "name": "stderr",
     "output_type": "stream",
     "text": [
      "  % Total    % Received % Xferd  Average Speed   Time    Time     Time  Current\n",
      "                                 Dload  Upload   Total   Spent    Left  Speed\n",
      "  0     0    0     0    0     0      0      0 --:--:--  0:00:01 --:--:--     0"
     ]
    },
    {
     "name": "stdout",
     "output_type": "stream",
     "text": [
      "{\"access_token\":\"0ee4891cc555c08327623cf1e37697aca59bba27744b0006e138d2f0e6a47fc7\",\"expires_in\":36000,\"token_type\":\"Bearer\"}"
     ]
    },
    {
     "name": "stderr",
     "output_type": "stream",
     "text": [
      "100   224    0   124  100   100     65     52  0:00:01  0:00:01 --:--:--   117\n"
     ]
    },
    {
     "ename": "NameError",
     "evalue": "name 'auth' is not defined",
     "output_type": "error",
     "traceback": [
      "\u001B[0;31m---------------------------------------------------------------------------\u001B[0m",
      "\u001B[0;31mNameError\u001B[0m                                 Traceback (most recent call last)",
      "Cell \u001B[0;32mIn[23], line 1\u001B[0m\n\u001B[0;32m----> 1\u001B[0m get_token()\n",
      "File \u001B[0;32m/opt/anaconda3/lib/python3.11/site-packages/cachetools/decorators.py:26\u001B[0m, in \u001B[0;36mcached.<locals>.decorator.<locals>.wrapper\u001B[0;34m(*args, **kwargs)\u001B[0m\n\u001B[1;32m     24\u001B[0m \u001B[38;5;28;01mexcept\u001B[39;00m \u001B[38;5;167;01mKeyError\u001B[39;00m:\n\u001B[1;32m     25\u001B[0m     \u001B[38;5;28;01mpass\u001B[39;00m  \u001B[38;5;66;03m# key not found\u001B[39;00m\n\u001B[0;32m---> 26\u001B[0m v \u001B[38;5;241m=\u001B[39m func(\u001B[38;5;241m*\u001B[39margs, \u001B[38;5;241m*\u001B[39m\u001B[38;5;241m*\u001B[39mkwargs)\n\u001B[1;32m     27\u001B[0m \u001B[38;5;28;01mtry\u001B[39;00m:\n\u001B[1;32m     28\u001B[0m     cache[k] \u001B[38;5;241m=\u001B[39m v\n",
      "Cell \u001B[0;32mIn[22], line 24\u001B[0m, in \u001B[0;36mget_token\u001B[0;34m()\u001B[0m\n\u001B[1;32m     22\u001B[0m os\u001B[38;5;241m.\u001B[39msystem(cmd)\n\u001B[1;32m     23\u001B[0m \u001B[38;5;66;03m# ref: https://cloud.tencent.com/developer/article/1908468\u001B[39;00m\n\u001B[0;32m---> 24\u001B[0m \u001B[38;5;28;01mreturn\u001B[39;00m auth[\u001B[38;5;124m'\u001B[39m\u001B[38;5;124maccess_token\u001B[39m\u001B[38;5;124m'\u001B[39m]\n",
      "\u001B[0;31mNameError\u001B[0m: name 'auth' is not defined"
     ]
    }
   ],
   "execution_count": 23
  },
  {
   "metadata": {
    "ExecuteTime": {
     "end_time": "2024-08-11T08:41:07.200788Z",
     "start_time": "2024-08-11T08:39:36.950362Z"
    }
   },
   "cell_type": "code",
   "source": [
    "import tqdm\n",
    "from tqdm import tqdm\n",
    "tqdm.pandas(desc='apply')\n",
    "pt_soc_mapping = df_pt_stat.progress_apply(get_soc, axis=1)\n"
   ],
   "id": "f4e60eb5928d0198",
   "outputs": [
    {
     "name": "stderr",
     "output_type": "stream",
     "text": [
      "apply:   1%|          | 39/3223 [01:29<2:02:27,  2.31s/it]\n"
     ]
    },
    {
     "ename": "KeyboardInterrupt",
     "evalue": "",
     "output_type": "error",
     "traceback": [
      "\u001B[0;31m---------------------------------------------------------------------------\u001B[0m",
      "\u001B[0;31mKeyboardInterrupt\u001B[0m                         Traceback (most recent call last)",
      "Cell \u001B[0;32mIn[35], line 4\u001B[0m\n\u001B[1;32m      2\u001B[0m \u001B[38;5;28;01mfrom\u001B[39;00m \u001B[38;5;21;01mtqdm\u001B[39;00m \u001B[38;5;28;01mimport\u001B[39;00m tqdm\n\u001B[1;32m      3\u001B[0m tqdm\u001B[38;5;241m.\u001B[39mpandas(desc\u001B[38;5;241m=\u001B[39m\u001B[38;5;124m'\u001B[39m\u001B[38;5;124mapply\u001B[39m\u001B[38;5;124m'\u001B[39m)\n\u001B[0;32m----> 4\u001B[0m pt_soc_mapping \u001B[38;5;241m=\u001B[39m df_pt_stat\u001B[38;5;241m.\u001B[39mprogress_apply(get_soc, axis\u001B[38;5;241m=\u001B[39m\u001B[38;5;241m1\u001B[39m)\n",
      "File \u001B[0;32m/opt/anaconda3/lib/python3.11/site-packages/tqdm/std.py:805\u001B[0m, in \u001B[0;36mtqdm.pandas.<locals>.inner_generator.<locals>.inner\u001B[0;34m(df, func, *args, **kwargs)\u001B[0m\n\u001B[1;32m    802\u001B[0m \u001B[38;5;66;03m# Apply the provided function (in **kwargs)\u001B[39;00m\n\u001B[1;32m    803\u001B[0m \u001B[38;5;66;03m# on the df using our wrapper (which provides bar updating)\u001B[39;00m\n\u001B[1;32m    804\u001B[0m \u001B[38;5;28;01mtry\u001B[39;00m:\n\u001B[0;32m--> 805\u001B[0m     \u001B[38;5;28;01mreturn\u001B[39;00m \u001B[38;5;28mgetattr\u001B[39m(df, df_function)(wrapper, \u001B[38;5;241m*\u001B[39m\u001B[38;5;241m*\u001B[39mkwargs)\n\u001B[1;32m    806\u001B[0m \u001B[38;5;28;01mfinally\u001B[39;00m:\n\u001B[1;32m    807\u001B[0m     t\u001B[38;5;241m.\u001B[39mclose()\n",
      "File \u001B[0;32m/opt/anaconda3/lib/python3.11/site-packages/pandas/core/frame.py:10374\u001B[0m, in \u001B[0;36mDataFrame.apply\u001B[0;34m(self, func, axis, raw, result_type, args, by_row, engine, engine_kwargs, **kwargs)\u001B[0m\n\u001B[1;32m  10360\u001B[0m \u001B[38;5;28;01mfrom\u001B[39;00m \u001B[38;5;21;01mpandas\u001B[39;00m\u001B[38;5;21;01m.\u001B[39;00m\u001B[38;5;21;01mcore\u001B[39;00m\u001B[38;5;21;01m.\u001B[39;00m\u001B[38;5;21;01mapply\u001B[39;00m \u001B[38;5;28;01mimport\u001B[39;00m frame_apply\n\u001B[1;32m  10362\u001B[0m op \u001B[38;5;241m=\u001B[39m frame_apply(\n\u001B[1;32m  10363\u001B[0m     \u001B[38;5;28mself\u001B[39m,\n\u001B[1;32m  10364\u001B[0m     func\u001B[38;5;241m=\u001B[39mfunc,\n\u001B[0;32m   (...)\u001B[0m\n\u001B[1;32m  10372\u001B[0m     kwargs\u001B[38;5;241m=\u001B[39mkwargs,\n\u001B[1;32m  10373\u001B[0m )\n\u001B[0;32m> 10374\u001B[0m \u001B[38;5;28;01mreturn\u001B[39;00m op\u001B[38;5;241m.\u001B[39mapply()\u001B[38;5;241m.\u001B[39m__finalize__(\u001B[38;5;28mself\u001B[39m, method\u001B[38;5;241m=\u001B[39m\u001B[38;5;124m\"\u001B[39m\u001B[38;5;124mapply\u001B[39m\u001B[38;5;124m\"\u001B[39m)\n",
      "File \u001B[0;32m/opt/anaconda3/lib/python3.11/site-packages/pandas/core/apply.py:916\u001B[0m, in \u001B[0;36mFrameApply.apply\u001B[0;34m(self)\u001B[0m\n\u001B[1;32m    913\u001B[0m \u001B[38;5;28;01melif\u001B[39;00m \u001B[38;5;28mself\u001B[39m\u001B[38;5;241m.\u001B[39mraw:\n\u001B[1;32m    914\u001B[0m     \u001B[38;5;28;01mreturn\u001B[39;00m \u001B[38;5;28mself\u001B[39m\u001B[38;5;241m.\u001B[39mapply_raw(engine\u001B[38;5;241m=\u001B[39m\u001B[38;5;28mself\u001B[39m\u001B[38;5;241m.\u001B[39mengine, engine_kwargs\u001B[38;5;241m=\u001B[39m\u001B[38;5;28mself\u001B[39m\u001B[38;5;241m.\u001B[39mengine_kwargs)\n\u001B[0;32m--> 916\u001B[0m \u001B[38;5;28;01mreturn\u001B[39;00m \u001B[38;5;28mself\u001B[39m\u001B[38;5;241m.\u001B[39mapply_standard()\n",
      "File \u001B[0;32m/opt/anaconda3/lib/python3.11/site-packages/pandas/core/apply.py:1063\u001B[0m, in \u001B[0;36mFrameApply.apply_standard\u001B[0;34m(self)\u001B[0m\n\u001B[1;32m   1061\u001B[0m \u001B[38;5;28;01mdef\u001B[39;00m \u001B[38;5;21mapply_standard\u001B[39m(\u001B[38;5;28mself\u001B[39m):\n\u001B[1;32m   1062\u001B[0m     \u001B[38;5;28;01mif\u001B[39;00m \u001B[38;5;28mself\u001B[39m\u001B[38;5;241m.\u001B[39mengine \u001B[38;5;241m==\u001B[39m \u001B[38;5;124m\"\u001B[39m\u001B[38;5;124mpython\u001B[39m\u001B[38;5;124m\"\u001B[39m:\n\u001B[0;32m-> 1063\u001B[0m         results, res_index \u001B[38;5;241m=\u001B[39m \u001B[38;5;28mself\u001B[39m\u001B[38;5;241m.\u001B[39mapply_series_generator()\n\u001B[1;32m   1064\u001B[0m     \u001B[38;5;28;01melse\u001B[39;00m:\n\u001B[1;32m   1065\u001B[0m         results, res_index \u001B[38;5;241m=\u001B[39m \u001B[38;5;28mself\u001B[39m\u001B[38;5;241m.\u001B[39mapply_series_numba()\n",
      "File \u001B[0;32m/opt/anaconda3/lib/python3.11/site-packages/pandas/core/apply.py:1081\u001B[0m, in \u001B[0;36mFrameApply.apply_series_generator\u001B[0;34m(self)\u001B[0m\n\u001B[1;32m   1078\u001B[0m \u001B[38;5;28;01mwith\u001B[39;00m option_context(\u001B[38;5;124m\"\u001B[39m\u001B[38;5;124mmode.chained_assignment\u001B[39m\u001B[38;5;124m\"\u001B[39m, \u001B[38;5;28;01mNone\u001B[39;00m):\n\u001B[1;32m   1079\u001B[0m     \u001B[38;5;28;01mfor\u001B[39;00m i, v \u001B[38;5;129;01min\u001B[39;00m \u001B[38;5;28menumerate\u001B[39m(series_gen):\n\u001B[1;32m   1080\u001B[0m         \u001B[38;5;66;03m# ignore SettingWithCopy here in case the user mutates\u001B[39;00m\n\u001B[0;32m-> 1081\u001B[0m         results[i] \u001B[38;5;241m=\u001B[39m \u001B[38;5;28mself\u001B[39m\u001B[38;5;241m.\u001B[39mfunc(v, \u001B[38;5;241m*\u001B[39m\u001B[38;5;28mself\u001B[39m\u001B[38;5;241m.\u001B[39margs, \u001B[38;5;241m*\u001B[39m\u001B[38;5;241m*\u001B[39m\u001B[38;5;28mself\u001B[39m\u001B[38;5;241m.\u001B[39mkwargs)\n\u001B[1;32m   1082\u001B[0m         \u001B[38;5;28;01mif\u001B[39;00m \u001B[38;5;28misinstance\u001B[39m(results[i], ABCSeries):\n\u001B[1;32m   1083\u001B[0m             \u001B[38;5;66;03m# If we have a view on v, we need to make a copy because\u001B[39;00m\n\u001B[1;32m   1084\u001B[0m             \u001B[38;5;66;03m#  series_generator will swap out the underlying data\u001B[39;00m\n\u001B[1;32m   1085\u001B[0m             results[i] \u001B[38;5;241m=\u001B[39m results[i]\u001B[38;5;241m.\u001B[39mcopy(deep\u001B[38;5;241m=\u001B[39m\u001B[38;5;28;01mFalse\u001B[39;00m)\n",
      "File \u001B[0;32m/opt/anaconda3/lib/python3.11/site-packages/tqdm/std.py:800\u001B[0m, in \u001B[0;36mtqdm.pandas.<locals>.inner_generator.<locals>.inner.<locals>.wrapper\u001B[0;34m(*args, **kwargs)\u001B[0m\n\u001B[1;32m    794\u001B[0m \u001B[38;5;28;01mdef\u001B[39;00m \u001B[38;5;21mwrapper\u001B[39m(\u001B[38;5;241m*\u001B[39margs, \u001B[38;5;241m*\u001B[39m\u001B[38;5;241m*\u001B[39mkwargs):\n\u001B[1;32m    795\u001B[0m     \u001B[38;5;66;03m# update tbar correctly\u001B[39;00m\n\u001B[1;32m    796\u001B[0m     \u001B[38;5;66;03m# it seems `pandas apply` calls `func` twice\u001B[39;00m\n\u001B[1;32m    797\u001B[0m     \u001B[38;5;66;03m# on the first column/row to decide whether it can\u001B[39;00m\n\u001B[1;32m    798\u001B[0m     \u001B[38;5;66;03m# take a fast or slow code path; so stop when t.total==t.n\u001B[39;00m\n\u001B[1;32m    799\u001B[0m     t\u001B[38;5;241m.\u001B[39mupdate(n\u001B[38;5;241m=\u001B[39m\u001B[38;5;241m1\u001B[39m \u001B[38;5;28;01mif\u001B[39;00m \u001B[38;5;129;01mnot\u001B[39;00m t\u001B[38;5;241m.\u001B[39mtotal \u001B[38;5;129;01mor\u001B[39;00m t\u001B[38;5;241m.\u001B[39mn \u001B[38;5;241m<\u001B[39m t\u001B[38;5;241m.\u001B[39mtotal \u001B[38;5;28;01melse\u001B[39;00m \u001B[38;5;241m0\u001B[39m)\n\u001B[0;32m--> 800\u001B[0m     \u001B[38;5;28;01mreturn\u001B[39;00m func(\u001B[38;5;241m*\u001B[39margs, \u001B[38;5;241m*\u001B[39m\u001B[38;5;241m*\u001B[39mkwargs)\n",
      "Cell \u001B[0;32mIn[34], line 45\u001B[0m, in \u001B[0;36mget_soc\u001B[0;34m(row)\u001B[0m\n\u001B[1;32m     41\u001B[0m data \u001B[38;5;241m=\u001B[39m \u001B[38;5;124m'\u001B[39m\u001B[38;5;124m{\u001B[39m\u001B[38;5;124m\"\u001B[39m\u001B[38;5;124mbview\u001B[39m\u001B[38;5;124m\"\u001B[39m\u001B[38;5;124m:\u001B[39m\u001B[38;5;124m\"\u001B[39m\u001B[38;5;124mSOC\u001B[39m\u001B[38;5;124m\"\u001B[39m\u001B[38;5;124m,\u001B[39m\u001B[38;5;124m\"\u001B[39m\u001B[38;5;124mrsview\u001B[39m\u001B[38;5;124m\"\u001B[39m\u001B[38;5;124m:\u001B[39m\u001B[38;5;124m\"\u001B[39m\u001B[38;5;124mrelease\u001B[39m\u001B[38;5;124m\"\u001B[39m\u001B[38;5;124m,\u001B[39m\u001B[38;5;124m\"\u001B[39m\u001B[38;5;124mlanguage\u001B[39m\u001B[38;5;124m\"\u001B[39m\u001B[38;5;124m:\u001B[39m\u001B[38;5;124m\"\u001B[39m\u001B[38;5;124mEnglish\u001B[39m\u001B[38;5;124m\"\u001B[39m\u001B[38;5;124m,\u001B[39m\u001B[38;5;124m\"\u001B[39m\u001B[38;5;124mstype\u001B[39m\u001B[38;5;124m\"\u001B[39m\u001B[38;5;124m:1,\u001B[39m\u001B[38;5;124m\"\u001B[39m\u001B[38;5;124maddlangs\u001B[39m\u001B[38;5;124m\"\u001B[39m\u001B[38;5;124m:[],\u001B[39m\u001B[38;5;124m\"\u001B[39m\u001B[38;5;124mfilters\u001B[39m\u001B[38;5;124m\"\u001B[39m\u001B[38;5;124m:[],\u001B[39m\u001B[38;5;124m\"\u001B[39m\u001B[38;5;124mversion\u001B[39m\u001B[38;5;124m\"\u001B[39m\u001B[38;5;124m:24,\u001B[39m\u001B[38;5;124m\"\u001B[39m\u001B[38;5;124msearchterms\u001B[39m\u001B[38;5;124m\"\u001B[39m\u001B[38;5;124m:[\u001B[39m\u001B[38;5;124m{\u001B[39m\u001B[38;5;124m\"\u001B[39m\u001B[38;5;124msearchtype\u001B[39m\u001B[38;5;124m\"\u001B[39m\u001B[38;5;124m:0,\u001B[39m\u001B[38;5;124m\"\u001B[39m\u001B[38;5;124msearchterm\u001B[39m\u001B[38;5;124m\"\u001B[39m\u001B[38;5;124m:\u001B[39m\u001B[38;5;124m\"\u001B[39m\u001B[38;5;124m'\u001B[39m \\\n\u001B[1;32m     42\u001B[0m        \u001B[38;5;241m+\u001B[39m pt_name \u001B[38;5;241m+\u001B[39m \u001B[38;5;124m'\u001B[39m\u001B[38;5;124m\"\u001B[39m\u001B[38;5;124m,\u001B[39m\u001B[38;5;124m\"\u001B[39m\u001B[38;5;124msearchlogic\u001B[39m\u001B[38;5;124m\"\u001B[39m\u001B[38;5;124m:0}],\u001B[39m\u001B[38;5;124m\"\u001B[39m\u001B[38;5;124mkana\u001B[39m\u001B[38;5;124m\"\u001B[39m\u001B[38;5;124m:false,\u001B[39m\u001B[38;5;124m\"\u001B[39m\u001B[38;5;124midiacritical\u001B[39m\u001B[38;5;124m\"\u001B[39m\u001B[38;5;124m:true,\u001B[39m\u001B[38;5;124m\"\u001B[39m\u001B[38;5;124msynonym\u001B[39m\u001B[38;5;124m\"\u001B[39m\u001B[38;5;124m:false,\u001B[39m\u001B[38;5;124m\"\u001B[39m\u001B[38;5;124mcontains\u001B[39m\u001B[38;5;124m\"\u001B[39m\u001B[38;5;124m:false,\u001B[39m\u001B[38;5;124m\"\u001B[39m\u001B[38;5;124msoc\u001B[39m\u001B[38;5;124m\"\u001B[39m\u001B[38;5;124m:false,\u001B[39m\u001B[38;5;124m\"\u001B[39m\u001B[38;5;124mhlgt\u001B[39m\u001B[38;5;124m\"\u001B[39m\u001B[38;5;124m:false,\u001B[39m\u001B[38;5;124m\"\u001B[39m\u001B[38;5;124mhlt\u001B[39m\u001B[38;5;124m\"\u001B[39m\u001B[38;5;124m:false,\u001B[39m\u001B[38;5;124m\"\u001B[39m\u001B[38;5;124mpt\u001B[39m\u001B[38;5;124m\"\u001B[39m\u001B[38;5;124m:true,\u001B[39m\u001B[38;5;124m\"\u001B[39m\u001B[38;5;124mllt\u001B[39m\u001B[38;5;124m\"\u001B[39m\u001B[38;5;124m:false,\u001B[39m\u001B[38;5;124m\"\u001B[39m\u001B[38;5;124msmq\u001B[39m\u001B[38;5;124m\"\u001B[39m\u001B[38;5;124m:false,\u001B[39m\u001B[38;5;124m\"\u001B[39m\u001B[38;5;124mskip\u001B[39m\u001B[38;5;124m\"\u001B[39m\u001B[38;5;124m:0,\u001B[39m\u001B[38;5;124m\"\u001B[39m\u001B[38;5;124mtake\u001B[39m\u001B[38;5;124m\"\u001B[39m\u001B[38;5;124m:0,\u001B[39m\u001B[38;5;124m\"\u001B[39m\u001B[38;5;124mseparator\u001B[39m\u001B[38;5;124m\"\u001B[39m\u001B[38;5;124m:2}\u001B[39m\u001B[38;5;124m'\u001B[39m\n\u001B[1;32m     44\u001B[0m \u001B[38;5;28;01mtry\u001B[39;00m:\n\u001B[0;32m---> 45\u001B[0m     response \u001B[38;5;241m=\u001B[39m requests\u001B[38;5;241m.\u001B[39mpost(\u001B[38;5;124m'\u001B[39m\u001B[38;5;124mhttps://gxpmapiprod.meddra.org/api/search\u001B[39m\u001B[38;5;124m'\u001B[39m, headers\u001B[38;5;241m=\u001B[39mheaders, data\u001B[38;5;241m=\u001B[39mdata)\n\u001B[1;32m     46\u001B[0m     \u001B[38;5;66;03m#print(response.json())\u001B[39;00m\n\u001B[1;32m     47\u001B[0m     \u001B[38;5;66;03m##(2) detail: search soc name & code using pt_code\u001B[39;00m\n\u001B[1;32m     48\u001B[0m     pt_code \u001B[38;5;241m=\u001B[39m response\u001B[38;5;241m.\u001B[39mjson()[\u001B[38;5;241m0\u001B[39m][\u001B[38;5;124m'\u001B[39m\u001B[38;5;124mpcode\u001B[39m\u001B[38;5;124m'\u001B[39m]\n",
      "File \u001B[0;32m/opt/anaconda3/lib/python3.11/site-packages/requests/api.py:115\u001B[0m, in \u001B[0;36mpost\u001B[0;34m(url, data, json, **kwargs)\u001B[0m\n\u001B[1;32m    103\u001B[0m \u001B[38;5;28;01mdef\u001B[39;00m \u001B[38;5;21mpost\u001B[39m(url, data\u001B[38;5;241m=\u001B[39m\u001B[38;5;28;01mNone\u001B[39;00m, json\u001B[38;5;241m=\u001B[39m\u001B[38;5;28;01mNone\u001B[39;00m, \u001B[38;5;241m*\u001B[39m\u001B[38;5;241m*\u001B[39mkwargs):\n\u001B[1;32m    104\u001B[0m \u001B[38;5;250m    \u001B[39m\u001B[38;5;124mr\u001B[39m\u001B[38;5;124;03m\"\"\"Sends a POST request.\u001B[39;00m\n\u001B[1;32m    105\u001B[0m \n\u001B[1;32m    106\u001B[0m \u001B[38;5;124;03m    :param url: URL for the new :class:`Request` object.\u001B[39;00m\n\u001B[0;32m   (...)\u001B[0m\n\u001B[1;32m    112\u001B[0m \u001B[38;5;124;03m    :rtype: requests.Response\u001B[39;00m\n\u001B[1;32m    113\u001B[0m \u001B[38;5;124;03m    \"\"\"\u001B[39;00m\n\u001B[0;32m--> 115\u001B[0m     \u001B[38;5;28;01mreturn\u001B[39;00m request(\u001B[38;5;124m\"\u001B[39m\u001B[38;5;124mpost\u001B[39m\u001B[38;5;124m\"\u001B[39m, url, data\u001B[38;5;241m=\u001B[39mdata, json\u001B[38;5;241m=\u001B[39mjson, \u001B[38;5;241m*\u001B[39m\u001B[38;5;241m*\u001B[39mkwargs)\n",
      "File \u001B[0;32m/opt/anaconda3/lib/python3.11/site-packages/requests/api.py:59\u001B[0m, in \u001B[0;36mrequest\u001B[0;34m(method, url, **kwargs)\u001B[0m\n\u001B[1;32m     55\u001B[0m \u001B[38;5;66;03m# By using the 'with' statement we are sure the session is closed, thus we\u001B[39;00m\n\u001B[1;32m     56\u001B[0m \u001B[38;5;66;03m# avoid leaving sockets open which can trigger a ResourceWarning in some\u001B[39;00m\n\u001B[1;32m     57\u001B[0m \u001B[38;5;66;03m# cases, and look like a memory leak in others.\u001B[39;00m\n\u001B[1;32m     58\u001B[0m \u001B[38;5;28;01mwith\u001B[39;00m sessions\u001B[38;5;241m.\u001B[39mSession() \u001B[38;5;28;01mas\u001B[39;00m session:\n\u001B[0;32m---> 59\u001B[0m     \u001B[38;5;28;01mreturn\u001B[39;00m session\u001B[38;5;241m.\u001B[39mrequest(method\u001B[38;5;241m=\u001B[39mmethod, url\u001B[38;5;241m=\u001B[39murl, \u001B[38;5;241m*\u001B[39m\u001B[38;5;241m*\u001B[39mkwargs)\n",
      "File \u001B[0;32m/opt/anaconda3/lib/python3.11/site-packages/requests/sessions.py:589\u001B[0m, in \u001B[0;36mSession.request\u001B[0;34m(self, method, url, params, data, headers, cookies, files, auth, timeout, allow_redirects, proxies, hooks, stream, verify, cert, json)\u001B[0m\n\u001B[1;32m    584\u001B[0m send_kwargs \u001B[38;5;241m=\u001B[39m {\n\u001B[1;32m    585\u001B[0m     \u001B[38;5;124m\"\u001B[39m\u001B[38;5;124mtimeout\u001B[39m\u001B[38;5;124m\"\u001B[39m: timeout,\n\u001B[1;32m    586\u001B[0m     \u001B[38;5;124m\"\u001B[39m\u001B[38;5;124mallow_redirects\u001B[39m\u001B[38;5;124m\"\u001B[39m: allow_redirects,\n\u001B[1;32m    587\u001B[0m }\n\u001B[1;32m    588\u001B[0m send_kwargs\u001B[38;5;241m.\u001B[39mupdate(settings)\n\u001B[0;32m--> 589\u001B[0m resp \u001B[38;5;241m=\u001B[39m \u001B[38;5;28mself\u001B[39m\u001B[38;5;241m.\u001B[39msend(prep, \u001B[38;5;241m*\u001B[39m\u001B[38;5;241m*\u001B[39msend_kwargs)\n\u001B[1;32m    591\u001B[0m \u001B[38;5;28;01mreturn\u001B[39;00m resp\n",
      "File \u001B[0;32m/opt/anaconda3/lib/python3.11/site-packages/requests/sessions.py:703\u001B[0m, in \u001B[0;36mSession.send\u001B[0;34m(self, request, **kwargs)\u001B[0m\n\u001B[1;32m    700\u001B[0m start \u001B[38;5;241m=\u001B[39m preferred_clock()\n\u001B[1;32m    702\u001B[0m \u001B[38;5;66;03m# Send the request\u001B[39;00m\n\u001B[0;32m--> 703\u001B[0m r \u001B[38;5;241m=\u001B[39m adapter\u001B[38;5;241m.\u001B[39msend(request, \u001B[38;5;241m*\u001B[39m\u001B[38;5;241m*\u001B[39mkwargs)\n\u001B[1;32m    705\u001B[0m \u001B[38;5;66;03m# Total elapsed time of the request (approximately)\u001B[39;00m\n\u001B[1;32m    706\u001B[0m elapsed \u001B[38;5;241m=\u001B[39m preferred_clock() \u001B[38;5;241m-\u001B[39m start\n",
      "File \u001B[0;32m/opt/anaconda3/lib/python3.11/site-packages/requests/adapters.py:486\u001B[0m, in \u001B[0;36mHTTPAdapter.send\u001B[0;34m(self, request, stream, timeout, verify, cert, proxies)\u001B[0m\n\u001B[1;32m    483\u001B[0m     timeout \u001B[38;5;241m=\u001B[39m TimeoutSauce(connect\u001B[38;5;241m=\u001B[39mtimeout, read\u001B[38;5;241m=\u001B[39mtimeout)\n\u001B[1;32m    485\u001B[0m \u001B[38;5;28;01mtry\u001B[39;00m:\n\u001B[0;32m--> 486\u001B[0m     resp \u001B[38;5;241m=\u001B[39m conn\u001B[38;5;241m.\u001B[39murlopen(\n\u001B[1;32m    487\u001B[0m         method\u001B[38;5;241m=\u001B[39mrequest\u001B[38;5;241m.\u001B[39mmethod,\n\u001B[1;32m    488\u001B[0m         url\u001B[38;5;241m=\u001B[39murl,\n\u001B[1;32m    489\u001B[0m         body\u001B[38;5;241m=\u001B[39mrequest\u001B[38;5;241m.\u001B[39mbody,\n\u001B[1;32m    490\u001B[0m         headers\u001B[38;5;241m=\u001B[39mrequest\u001B[38;5;241m.\u001B[39mheaders,\n\u001B[1;32m    491\u001B[0m         redirect\u001B[38;5;241m=\u001B[39m\u001B[38;5;28;01mFalse\u001B[39;00m,\n\u001B[1;32m    492\u001B[0m         assert_same_host\u001B[38;5;241m=\u001B[39m\u001B[38;5;28;01mFalse\u001B[39;00m,\n\u001B[1;32m    493\u001B[0m         preload_content\u001B[38;5;241m=\u001B[39m\u001B[38;5;28;01mFalse\u001B[39;00m,\n\u001B[1;32m    494\u001B[0m         decode_content\u001B[38;5;241m=\u001B[39m\u001B[38;5;28;01mFalse\u001B[39;00m,\n\u001B[1;32m    495\u001B[0m         retries\u001B[38;5;241m=\u001B[39m\u001B[38;5;28mself\u001B[39m\u001B[38;5;241m.\u001B[39mmax_retries,\n\u001B[1;32m    496\u001B[0m         timeout\u001B[38;5;241m=\u001B[39mtimeout,\n\u001B[1;32m    497\u001B[0m         chunked\u001B[38;5;241m=\u001B[39mchunked,\n\u001B[1;32m    498\u001B[0m     )\n\u001B[1;32m    500\u001B[0m \u001B[38;5;28;01mexcept\u001B[39;00m (ProtocolError, \u001B[38;5;167;01mOSError\u001B[39;00m) \u001B[38;5;28;01mas\u001B[39;00m err:\n\u001B[1;32m    501\u001B[0m     \u001B[38;5;28;01mraise\u001B[39;00m \u001B[38;5;167;01mConnectionError\u001B[39;00m(err, request\u001B[38;5;241m=\u001B[39mrequest)\n",
      "File \u001B[0;32m/opt/anaconda3/lib/python3.11/site-packages/urllib3/connectionpool.py:791\u001B[0m, in \u001B[0;36mHTTPConnectionPool.urlopen\u001B[0;34m(self, method, url, body, headers, retries, redirect, assert_same_host, timeout, pool_timeout, release_conn, chunked, body_pos, preload_content, decode_content, **response_kw)\u001B[0m\n\u001B[1;32m    788\u001B[0m response_conn \u001B[38;5;241m=\u001B[39m conn \u001B[38;5;28;01mif\u001B[39;00m \u001B[38;5;129;01mnot\u001B[39;00m release_conn \u001B[38;5;28;01melse\u001B[39;00m \u001B[38;5;28;01mNone\u001B[39;00m\n\u001B[1;32m    790\u001B[0m \u001B[38;5;66;03m# Make the request on the HTTPConnection object\u001B[39;00m\n\u001B[0;32m--> 791\u001B[0m response \u001B[38;5;241m=\u001B[39m \u001B[38;5;28mself\u001B[39m\u001B[38;5;241m.\u001B[39m_make_request(\n\u001B[1;32m    792\u001B[0m     conn,\n\u001B[1;32m    793\u001B[0m     method,\n\u001B[1;32m    794\u001B[0m     url,\n\u001B[1;32m    795\u001B[0m     timeout\u001B[38;5;241m=\u001B[39mtimeout_obj,\n\u001B[1;32m    796\u001B[0m     body\u001B[38;5;241m=\u001B[39mbody,\n\u001B[1;32m    797\u001B[0m     headers\u001B[38;5;241m=\u001B[39mheaders,\n\u001B[1;32m    798\u001B[0m     chunked\u001B[38;5;241m=\u001B[39mchunked,\n\u001B[1;32m    799\u001B[0m     retries\u001B[38;5;241m=\u001B[39mretries,\n\u001B[1;32m    800\u001B[0m     response_conn\u001B[38;5;241m=\u001B[39mresponse_conn,\n\u001B[1;32m    801\u001B[0m     preload_content\u001B[38;5;241m=\u001B[39mpreload_content,\n\u001B[1;32m    802\u001B[0m     decode_content\u001B[38;5;241m=\u001B[39mdecode_content,\n\u001B[1;32m    803\u001B[0m     \u001B[38;5;241m*\u001B[39m\u001B[38;5;241m*\u001B[39mresponse_kw,\n\u001B[1;32m    804\u001B[0m )\n\u001B[1;32m    806\u001B[0m \u001B[38;5;66;03m# Everything went great!\u001B[39;00m\n\u001B[1;32m    807\u001B[0m clean_exit \u001B[38;5;241m=\u001B[39m \u001B[38;5;28;01mTrue\u001B[39;00m\n",
      "File \u001B[0;32m/opt/anaconda3/lib/python3.11/site-packages/urllib3/connectionpool.py:537\u001B[0m, in \u001B[0;36mHTTPConnectionPool._make_request\u001B[0;34m(self, conn, method, url, body, headers, retries, timeout, chunked, response_conn, preload_content, decode_content, enforce_content_length)\u001B[0m\n\u001B[1;32m    535\u001B[0m \u001B[38;5;66;03m# Receive the response from the server\u001B[39;00m\n\u001B[1;32m    536\u001B[0m \u001B[38;5;28;01mtry\u001B[39;00m:\n\u001B[0;32m--> 537\u001B[0m     response \u001B[38;5;241m=\u001B[39m conn\u001B[38;5;241m.\u001B[39mgetresponse()\n\u001B[1;32m    538\u001B[0m \u001B[38;5;28;01mexcept\u001B[39;00m (BaseSSLError, \u001B[38;5;167;01mOSError\u001B[39;00m) \u001B[38;5;28;01mas\u001B[39;00m e:\n\u001B[1;32m    539\u001B[0m     \u001B[38;5;28mself\u001B[39m\u001B[38;5;241m.\u001B[39m_raise_timeout(err\u001B[38;5;241m=\u001B[39me, url\u001B[38;5;241m=\u001B[39murl, timeout_value\u001B[38;5;241m=\u001B[39mread_timeout)\n",
      "File \u001B[0;32m/opt/anaconda3/lib/python3.11/site-packages/urllib3/connection.py:461\u001B[0m, in \u001B[0;36mHTTPConnection.getresponse\u001B[0;34m(self)\u001B[0m\n\u001B[1;32m    458\u001B[0m \u001B[38;5;28;01mfrom\u001B[39;00m \u001B[38;5;21;01m.\u001B[39;00m\u001B[38;5;21;01mresponse\u001B[39;00m \u001B[38;5;28;01mimport\u001B[39;00m HTTPResponse\n\u001B[1;32m    460\u001B[0m \u001B[38;5;66;03m# Get the response from http.client.HTTPConnection\u001B[39;00m\n\u001B[0;32m--> 461\u001B[0m httplib_response \u001B[38;5;241m=\u001B[39m \u001B[38;5;28msuper\u001B[39m()\u001B[38;5;241m.\u001B[39mgetresponse()\n\u001B[1;32m    463\u001B[0m \u001B[38;5;28;01mtry\u001B[39;00m:\n\u001B[1;32m    464\u001B[0m     assert_header_parsing(httplib_response\u001B[38;5;241m.\u001B[39mmsg)\n",
      "File \u001B[0;32m/opt/anaconda3/lib/python3.11/http/client.py:1386\u001B[0m, in \u001B[0;36mHTTPConnection.getresponse\u001B[0;34m(self)\u001B[0m\n\u001B[1;32m   1384\u001B[0m \u001B[38;5;28;01mtry\u001B[39;00m:\n\u001B[1;32m   1385\u001B[0m     \u001B[38;5;28;01mtry\u001B[39;00m:\n\u001B[0;32m-> 1386\u001B[0m         response\u001B[38;5;241m.\u001B[39mbegin()\n\u001B[1;32m   1387\u001B[0m     \u001B[38;5;28;01mexcept\u001B[39;00m \u001B[38;5;167;01mConnectionError\u001B[39;00m:\n\u001B[1;32m   1388\u001B[0m         \u001B[38;5;28mself\u001B[39m\u001B[38;5;241m.\u001B[39mclose()\n",
      "File \u001B[0;32m/opt/anaconda3/lib/python3.11/http/client.py:325\u001B[0m, in \u001B[0;36mHTTPResponse.begin\u001B[0;34m(self)\u001B[0m\n\u001B[1;32m    323\u001B[0m \u001B[38;5;66;03m# read until we get a non-100 response\u001B[39;00m\n\u001B[1;32m    324\u001B[0m \u001B[38;5;28;01mwhile\u001B[39;00m \u001B[38;5;28;01mTrue\u001B[39;00m:\n\u001B[0;32m--> 325\u001B[0m     version, status, reason \u001B[38;5;241m=\u001B[39m \u001B[38;5;28mself\u001B[39m\u001B[38;5;241m.\u001B[39m_read_status()\n\u001B[1;32m    326\u001B[0m     \u001B[38;5;28;01mif\u001B[39;00m status \u001B[38;5;241m!=\u001B[39m CONTINUE:\n\u001B[1;32m    327\u001B[0m         \u001B[38;5;28;01mbreak\u001B[39;00m\n",
      "File \u001B[0;32m/opt/anaconda3/lib/python3.11/http/client.py:286\u001B[0m, in \u001B[0;36mHTTPResponse._read_status\u001B[0;34m(self)\u001B[0m\n\u001B[1;32m    285\u001B[0m \u001B[38;5;28;01mdef\u001B[39;00m \u001B[38;5;21m_read_status\u001B[39m(\u001B[38;5;28mself\u001B[39m):\n\u001B[0;32m--> 286\u001B[0m     line \u001B[38;5;241m=\u001B[39m \u001B[38;5;28mstr\u001B[39m(\u001B[38;5;28mself\u001B[39m\u001B[38;5;241m.\u001B[39mfp\u001B[38;5;241m.\u001B[39mreadline(_MAXLINE \u001B[38;5;241m+\u001B[39m \u001B[38;5;241m1\u001B[39m), \u001B[38;5;124m\"\u001B[39m\u001B[38;5;124miso-8859-1\u001B[39m\u001B[38;5;124m\"\u001B[39m)\n\u001B[1;32m    287\u001B[0m     \u001B[38;5;28;01mif\u001B[39;00m \u001B[38;5;28mlen\u001B[39m(line) \u001B[38;5;241m>\u001B[39m _MAXLINE:\n\u001B[1;32m    288\u001B[0m         \u001B[38;5;28;01mraise\u001B[39;00m LineTooLong(\u001B[38;5;124m\"\u001B[39m\u001B[38;5;124mstatus line\u001B[39m\u001B[38;5;124m\"\u001B[39m)\n",
      "File \u001B[0;32m/opt/anaconda3/lib/python3.11/socket.py:706\u001B[0m, in \u001B[0;36mSocketIO.readinto\u001B[0;34m(self, b)\u001B[0m\n\u001B[1;32m    704\u001B[0m \u001B[38;5;28;01mwhile\u001B[39;00m \u001B[38;5;28;01mTrue\u001B[39;00m:\n\u001B[1;32m    705\u001B[0m     \u001B[38;5;28;01mtry\u001B[39;00m:\n\u001B[0;32m--> 706\u001B[0m         \u001B[38;5;28;01mreturn\u001B[39;00m \u001B[38;5;28mself\u001B[39m\u001B[38;5;241m.\u001B[39m_sock\u001B[38;5;241m.\u001B[39mrecv_into(b)\n\u001B[1;32m    707\u001B[0m     \u001B[38;5;28;01mexcept\u001B[39;00m timeout:\n\u001B[1;32m    708\u001B[0m         \u001B[38;5;28mself\u001B[39m\u001B[38;5;241m.\u001B[39m_timeout_occurred \u001B[38;5;241m=\u001B[39m \u001B[38;5;28;01mTrue\u001B[39;00m\n",
      "File \u001B[0;32m/opt/anaconda3/lib/python3.11/ssl.py:1315\u001B[0m, in \u001B[0;36mSSLSocket.recv_into\u001B[0;34m(self, buffer, nbytes, flags)\u001B[0m\n\u001B[1;32m   1311\u001B[0m     \u001B[38;5;28;01mif\u001B[39;00m flags \u001B[38;5;241m!=\u001B[39m \u001B[38;5;241m0\u001B[39m:\n\u001B[1;32m   1312\u001B[0m         \u001B[38;5;28;01mraise\u001B[39;00m \u001B[38;5;167;01mValueError\u001B[39;00m(\n\u001B[1;32m   1313\u001B[0m           \u001B[38;5;124m\"\u001B[39m\u001B[38;5;124mnon-zero flags not allowed in calls to recv_into() on \u001B[39m\u001B[38;5;132;01m%s\u001B[39;00m\u001B[38;5;124m\"\u001B[39m \u001B[38;5;241m%\u001B[39m\n\u001B[1;32m   1314\u001B[0m           \u001B[38;5;28mself\u001B[39m\u001B[38;5;241m.\u001B[39m\u001B[38;5;18m__class__\u001B[39m)\n\u001B[0;32m-> 1315\u001B[0m     \u001B[38;5;28;01mreturn\u001B[39;00m \u001B[38;5;28mself\u001B[39m\u001B[38;5;241m.\u001B[39mread(nbytes, buffer)\n\u001B[1;32m   1316\u001B[0m \u001B[38;5;28;01melse\u001B[39;00m:\n\u001B[1;32m   1317\u001B[0m     \u001B[38;5;28;01mreturn\u001B[39;00m \u001B[38;5;28msuper\u001B[39m()\u001B[38;5;241m.\u001B[39mrecv_into(buffer, nbytes, flags)\n",
      "File \u001B[0;32m/opt/anaconda3/lib/python3.11/ssl.py:1167\u001B[0m, in \u001B[0;36mSSLSocket.read\u001B[0;34m(self, len, buffer)\u001B[0m\n\u001B[1;32m   1165\u001B[0m \u001B[38;5;28;01mtry\u001B[39;00m:\n\u001B[1;32m   1166\u001B[0m     \u001B[38;5;28;01mif\u001B[39;00m buffer \u001B[38;5;129;01mis\u001B[39;00m \u001B[38;5;129;01mnot\u001B[39;00m \u001B[38;5;28;01mNone\u001B[39;00m:\n\u001B[0;32m-> 1167\u001B[0m         \u001B[38;5;28;01mreturn\u001B[39;00m \u001B[38;5;28mself\u001B[39m\u001B[38;5;241m.\u001B[39m_sslobj\u001B[38;5;241m.\u001B[39mread(\u001B[38;5;28mlen\u001B[39m, buffer)\n\u001B[1;32m   1168\u001B[0m     \u001B[38;5;28;01melse\u001B[39;00m:\n\u001B[1;32m   1169\u001B[0m         \u001B[38;5;28;01mreturn\u001B[39;00m \u001B[38;5;28mself\u001B[39m\u001B[38;5;241m.\u001B[39m_sslobj\u001B[38;5;241m.\u001B[39mread(\u001B[38;5;28mlen\u001B[39m)\n",
      "\u001B[0;31mKeyboardInterrupt\u001B[0m: "
     ]
    }
   ],
   "execution_count": 35
  },
  {
   "metadata": {
    "ExecuteTime": {
     "end_time": "2024-08-10T13:23:01.194366Z",
     "start_time": "2024-08-10T13:23:01.177776Z"
    }
   },
   "cell_type": "code",
   "source": "pt_soc_mapping\n",
   "id": "8efeee41efb0a06",
   "outputs": [
    {
     "data": {
      "text/plain": [
       "                      pt_name   pt_code                     soc_name  soc_code\n",
       "0         abdominal adhesions  10000050   Gastrointestinal disorders  10017947\n",
       "1        abdominal discomfort  10000059   Gastrointestinal disorders  10017947\n",
       "2        abdominal distension  10000060   Gastrointestinal disorders  10017947\n",
       "3            abdominal hernia  10060954   Gastrointestinal disorders  10017947\n",
       "4  abdominal hernia infection  10077232  Infections and infestations  10021881"
      ],
      "text/html": [
       "<div>\n",
       "<style scoped>\n",
       "    .dataframe tbody tr th:only-of-type {\n",
       "        vertical-align: middle;\n",
       "    }\n",
       "\n",
       "    .dataframe tbody tr th {\n",
       "        vertical-align: top;\n",
       "    }\n",
       "\n",
       "    .dataframe thead th {\n",
       "        text-align: right;\n",
       "    }\n",
       "</style>\n",
       "<table border=\"1\" class=\"dataframe\">\n",
       "  <thead>\n",
       "    <tr style=\"text-align: right;\">\n",
       "      <th></th>\n",
       "      <th>pt_name</th>\n",
       "      <th>pt_code</th>\n",
       "      <th>soc_name</th>\n",
       "      <th>soc_code</th>\n",
       "    </tr>\n",
       "  </thead>\n",
       "  <tbody>\n",
       "    <tr>\n",
       "      <th>0</th>\n",
       "      <td>abdominal adhesions</td>\n",
       "      <td>10000050</td>\n",
       "      <td>Gastrointestinal disorders</td>\n",
       "      <td>10017947</td>\n",
       "    </tr>\n",
       "    <tr>\n",
       "      <th>1</th>\n",
       "      <td>abdominal discomfort</td>\n",
       "      <td>10000059</td>\n",
       "      <td>Gastrointestinal disorders</td>\n",
       "      <td>10017947</td>\n",
       "    </tr>\n",
       "    <tr>\n",
       "      <th>2</th>\n",
       "      <td>abdominal distension</td>\n",
       "      <td>10000060</td>\n",
       "      <td>Gastrointestinal disorders</td>\n",
       "      <td>10017947</td>\n",
       "    </tr>\n",
       "    <tr>\n",
       "      <th>3</th>\n",
       "      <td>abdominal hernia</td>\n",
       "      <td>10060954</td>\n",
       "      <td>Gastrointestinal disorders</td>\n",
       "      <td>10017947</td>\n",
       "    </tr>\n",
       "    <tr>\n",
       "      <th>4</th>\n",
       "      <td>abdominal hernia infection</td>\n",
       "      <td>10077232</td>\n",
       "      <td>Infections and infestations</td>\n",
       "      <td>10021881</td>\n",
       "    </tr>\n",
       "  </tbody>\n",
       "</table>\n",
       "</div>"
      ]
     },
     "execution_count": 98,
     "metadata": {},
     "output_type": "execute_result"
    }
   ],
   "execution_count": 98
  },
  {
   "metadata": {},
   "cell_type": "markdown",
   "source": "",
   "id": "a2b5653e0c32c188"
  },
  {
   "metadata": {},
   "cell_type": "markdown",
   "source": "",
   "id": "7ce0c8c8ebef2018"
  },
  {
   "metadata": {},
   "cell_type": "code",
   "outputs": [],
   "execution_count": null,
   "source": [
    "# 一个primaryid \n",
    "# check select count(1),count(distinct caseid),count(distinct primaryid) from faers_reac;\n",
    "\n",
    "sql = '''\n",
    "\n",
    "    SELECT \n",
    "        concat(d1.INDI_PT) as INDI_PT,\n",
    "        COUNT(d1.CASEID) AS INDI_PT_caseid_count,\n",
    "        COUNT(d1.primaryid) AS INDI_PT_primaryid_count\n",
    "    FROM \n",
    "        faers.faers_reac d1\n",
    "    join faers.ribo_drug_usage  d2\n",
    "    on d1.primaryid = d2.primaryid \n",
    "        and d1.INDI_DRUG_SEQ = d2.drug_seq\n",
    "    group by 1\n",
    "    order by 1\n",
    "    ;\n",
    "'''\n",
    "df_indi = pd.read_sql_query(sql, conn)\n",
    "df_indi"
   ],
   "id": "3d73d2214c71de27"
  },
  {
   "metadata": {},
   "cell_type": "code",
   "outputs": [],
   "execution_count": null,
   "source": "# faers.faers_reac:    PRIMARYID,CASEID,PT, SOC_NAME",
   "id": "e85f622e61b28180"
  },
  {
   "metadata": {},
   "cell_type": "markdown",
   "source": "## 计算ror矩阵中的 a,b,c,d",
   "id": "6cf0dd169c83e701"
  },
  {
   "metadata": {
    "ExecuteTime": {
     "end_time": "2024-08-10T17:02:24.685351Z",
     "start_time": "2024-08-10T17:02:24.669553Z"
    }
   },
   "cell_type": "code",
   "source": "ALTER table faers.ror_pt_a_b  modify drug varchar(255) character set utf8mb3 collate utf8mb3_bin;",
   "id": "522f2271d1c0aa8b",
   "outputs": [
    {
     "data": {
      "text/plain": [
       "0"
      ]
     },
     "execution_count": 21,
     "metadata": {},
     "output_type": "execute_result"
    }
   ],
   "execution_count": 21
  },
  {
   "metadata": {},
   "cell_type": "code",
   "outputs": [],
   "execution_count": null,
   "source": [
    "sql = '''   \n",
    "      DROP TABLE  if exists faers.ror_stats;\n",
    "      CREATE TABLE faers.ror_stats as\n",
    "      select t1.drug, t1.pt, \n",
    "             t1.drug_event_cnt,  \n",
    "             coalesce(t2.drug_cnt,0) - t1.drug_event_cnt as drug_otherevent_cnt\n",
    "      from faers.ror_pt_a_b t1\n",
    "      left join faers.ror_pt_D_d t2\n",
    "      on t1.drug = t2.drug\n",
    "      ;\n",
    "'''\n",
    "df_ror_stats = pd.read_sql_query(sql, conn)"
   ],
   "id": "d056e5cc336d9df1"
  },
  {
   "metadata": {},
   "cell_type": "code",
   "outputs": [],
   "execution_count": null,
   "source": [
    "sql = '''   \n",
    "      DROP TABLE  if exists faers.ror_stats;\n",
    "      CREATE TABLE faers.ror_stats as\n",
    "      select t1.drug, t1.pt, \n",
    "             t1.drug_event_cnt,  \n",
    "             coalesce(t2.drug_cnt,0) - t1.drug_event_cnt as drug_otherevent_cnt\n",
    "      from faers.ror_pt_a_b t1\n",
    "      left join faers.ror_pt_D_d t2\n",
    "      on t1.drug = t2.drug\n",
    "      ;\n",
    "'''\n",
    "df_ror_stats = pd.read_sql_query(sql, conn)"
   ],
   "id": "22adaab4b8f51e53"
  },
  {
   "metadata": {},
   "cell_type": "code",
   "outputs": [],
   "execution_count": null,
   "source": [
    "## generation: pt, a,b,c,d\n",
    "sql = '''   \n",
    "      DROP TABLE  if exists faers.ror_pt_stats;\n",
    "      CREATE TABLE faers.ror_pt_stats as\n",
    "      select t1.drug, t1.pt, \n",
    "             t1.drug_event_cnt,  \n",
    "             coalesce(t2.drug_cnt,0) - t1.drug_event_cnt as drug_otherevent_cnt\n",
    "      from faers.ror_pt_a_b t1\n",
    "      left join faers.ror_pt_D_d t2\n",
    "      on t1.drug = t2.drug\n",
    "      ;\n",
    "'''\n",
    "df_ror_pt_stats = pd.read_sql_query(sql, conn)"
   ],
   "id": "bc2bcd8c61e5caa8"
  },
  {
   "metadata": {},
   "cell_type": "code",
   "outputs": [],
   "execution_count": null,
   "source": [
    "## generation: pt, a,b,c,d\n",
    "sql = '''   \n",
    "      DROP TABLE  if exists faers.ror_pt_abcd;\n",
    "      CREATE TABLE faers.ror_pt_abcd as\n",
    "      \n",
    "      select pt, drug_event_cnt as DE, 0 as dE,  drug_otherevent_cnt as De, 0 as de\n",
    "          from faers.ror_pt_stats where drug = 'D'\n",
    "          \n",
    "      union all \n",
    "    \n",
    "      select pt, 0 as DE, drug_event_cnt as dE, 0  as De, drug_otherevent_cnt as de\n",
    "          from faers.ror_pt_stats where drug = 'd'\n",
    "        \n",
    "      ;\n",
    "'''\n",
    "df_ror_pt_abcd = pd.read_sql_query(sql, conn)"
   ],
   "id": "e6371bb634a15b37"
  },
  {
   "metadata": {},
   "cell_type": "markdown",
   "source": "# TABLE 3,4,5 指标计算",
   "id": "2697cc39946c59d6"
  },
  {
   "metadata": {},
   "cell_type": "markdown",
   "source": "## python指标算子",
   "id": "157eb689f44cf2ed"
  },
  {
   "metadata": {
    "ExecuteTime": {
     "end_time": "2024-08-11T13:03:03.441136Z",
     "start_time": "2024-08-11T13:03:03.418171Z"
    }
   },
   "cell_type": "code",
   "source": [
    "import math\n",
    "# 定义相关指标的计算 python函数\n",
    "## https://www.jianshu.com/p/69dfbcceef9b\n",
    "def get_ROR(row):\n",
    "    import math\n",
    "    a = row['DE']\n",
    "    b = row['De']\n",
    "    c = row['dE']\n",
    "    d = row['de']    \n",
    "    ror = a/c/(b/d)\n",
    "    ci_lower = math.log(ror) - 1.96 * math.sqrt(1/a + 1/b + 1/c + 1/d)\n",
    "    ci_upper = math.log(ror) + 1.96 * math.sqrt(1/a + 1/b + 1/c + 1/d)\n",
    "    return a/c/(b/d), math.exp(ci_lower), math.exp(ci_upper)\n",
    "\n",
    "def get_PRR(row):\n",
    "\n",
    "    a = row['DE']\n",
    "    b = row['De']\n",
    "    c = row['dE']\n",
    "    d = row['de']    \n",
    "    prr = a/(a+b)/(c/(c+d))\n",
    "    ci_lower = math.log(prr) - 1.96 * math.sqrt(1/a - 1/(a+b) + 1/c - 1/(c+d))\n",
    "    ci_upper = math.log(prr) + 1.96 * math.sqrt(1/a - 1/(a+b) + 1/c - 1/(c+d))\n",
    "    return prr, math.exp(ci_lower), math.exp(ci_upper)\n",
    "\n",
    "def get_MHRA(row):\n",
    "\n",
    "    a = row['DE']\n",
    "    b = row['De']\n",
    "    c = row['dE']\n",
    "    d = row['de']    \n",
    "    \n",
    "    chi_squared = math.pow( (a*d - b*c), 2) * (a+b+c+d) / ((a+b)*(c+d)*(a+c)*(b+d))\n",
    "    return chi_squared\n",
    "\n",
    "\n",
    "def get_EBGM(row):\n",
    "\n",
    "    a = row['DE']\n",
    "    b = row['De']\n",
    "    c = row['dE']\n",
    "    d = row['de']    \n",
    "    \n",
    "    EBGM = a*(a+b+c+d)/(a+b)/(a+c)\n",
    "    ci_lower = math.log(EBGM) - 1.96 * math.sqrt(1/a + 1/b + 1/c + 1/d)\n",
    "    ci_upper = math.log(EBGM) + 1.96 * math.sqrt(1/a + 1/b + 1/c + 1/d)\n",
    "    \n",
    "    return EBGM,  math.exp(ci_lower), math.exp(ci_upper)\n",
    "\n",
    "\n",
    "def get_BCPNN(row):\n",
    "    "
   ],
   "id": "9eb195048ad8aa97",
   "outputs": [],
   "execution_count": 40
  },
  {
   "metadata": {
    "ExecuteTime": {
     "end_time": "2024-08-13T15:52:01.987910Z",
     "start_time": "2024-08-13T15:52:01.645100Z"
    }
   },
   "cell_type": "code",
   "source": [
    "## reads: pt, a,b,c,d\n",
    "sql = '''   \n",
    "      select * from faers.ror_pt_abcd where a>0;\n",
    "'''\n",
    "df_ror_pt_abcd = pd.read_sql_query(sql, conn)\n"
   ],
   "id": "79871e2d057fb52a",
   "outputs": [
    {
     "name": "stderr",
     "output_type": "stream",
     "text": [
      "/var/folders/7w/sgw5xk457ss20939d0n2_5600000gn/T/ipykernel_24540/305480428.py:5: UserWarning: pandas only supports SQLAlchemy connectable (engine/connection) or database string URI or sqlite3 DBAPI2 connection. Other DBAPI2 objects are not tested. Please consider using SQLAlchemy.\n",
      "  df_ror_pt_abcd = pd.read_sql_query(sql, conn)\n"
     ]
    }
   ],
   "execution_count": 70
  },
  {
   "metadata": {
    "ExecuteTime": {
     "end_time": "2024-08-11T13:10:51.600173Z",
     "start_time": "2024-08-11T13:10:49.459749Z"
    }
   },
   "cell_type": "code",
   "source": "df_ror_pt_abcd.to_excel('pt_abcd.xlsx', index=False)",
   "id": "19510cb249c45c89",
   "outputs": [],
   "execution_count": 42
  },
  {
   "metadata": {
    "ExecuteTime": {
     "end_time": "2024-08-11T13:02:59.247633Z",
     "start_time": "2024-08-11T13:02:59.143569Z"
    }
   },
   "cell_type": "code",
   "source": "",
   "id": "c2c7cfe457834064",
   "outputs": [
    {
     "ename": "NameError",
     "evalue": "name 'get_ROR' is not defined",
     "output_type": "error",
     "traceback": [
      "\u001B[0;31m---------------------------------------------------------------------------\u001B[0m",
      "\u001B[0;31mNameError\u001B[0m                                 Traceback (most recent call last)",
      "Cell \u001B[0;32mIn[39], line 1\u001B[0m\n\u001B[0;32m----> 1\u001B[0m df_ror_pt_abcd[\u001B[38;5;124m'\u001B[39m\u001B[38;5;124mror\u001B[39m\u001B[38;5;124m'\u001B[39m,\u001B[38;5;124m'\u001B[39m\u001B[38;5;124m95\u001B[39m\u001B[38;5;124m%\u001B[39m\u001B[38;5;124mCI_upper\u001B[39m\u001B[38;5;124m'\u001B[39m, \u001B[38;5;124m'\u001B[39m\u001B[38;5;124m95\u001B[39m\u001B[38;5;124m%\u001B[39m\u001B[38;5;124mCI_lower\u001B[39m\u001B[38;5;124m'\u001B[39m] \u001B[38;5;241m=\u001B[39m  df_ror_pt_abcd\u001B[38;5;241m.\u001B[39mapply(get_ROR, axis \u001B[38;5;241m=\u001B[39m \u001B[38;5;241m1\u001B[39m)\n",
      "\u001B[0;31mNameError\u001B[0m: name 'get_ROR' is not defined"
     ]
    }
   ],
   "execution_count": 39
  },
  {
   "metadata": {
    "ExecuteTime": {
     "end_time": "2024-08-13T15:28:23.997212Z",
     "start_time": "2024-08-13T15:28:23.960377Z"
    }
   },
   "cell_type": "code",
   "source": "df_ror_pt_abcd.head()",
   "id": "fb037969c4ae0c2c",
   "outputs": [
    {
     "data": {
      "text/plain": [
       "                           pt      a         b        c           d\n",
       "0         abdominal adhesions    2.0    1912.0  20157.0  11855172.0\n",
       "1        abdominal discomfort  555.0  114630.0  19604.0  11742454.0\n",
       "2        abdominal distension  216.0   60888.0  19943.0  11796196.0\n",
       "3            abdominal hernia    6.0    3160.0  20153.0  11853924.0\n",
       "4  abdominal hernia infection    1.0      36.0  20158.0  11857048.0"
      ],
      "text/html": [
       "<div>\n",
       "<style scoped>\n",
       "    .dataframe tbody tr th:only-of-type {\n",
       "        vertical-align: middle;\n",
       "    }\n",
       "\n",
       "    .dataframe tbody tr th {\n",
       "        vertical-align: top;\n",
       "    }\n",
       "\n",
       "    .dataframe thead th {\n",
       "        text-align: right;\n",
       "    }\n",
       "</style>\n",
       "<table border=\"1\" class=\"dataframe\">\n",
       "  <thead>\n",
       "    <tr style=\"text-align: right;\">\n",
       "      <th></th>\n",
       "      <th>pt</th>\n",
       "      <th>a</th>\n",
       "      <th>b</th>\n",
       "      <th>c</th>\n",
       "      <th>d</th>\n",
       "    </tr>\n",
       "  </thead>\n",
       "  <tbody>\n",
       "    <tr>\n",
       "      <th>0</th>\n",
       "      <td>abdominal adhesions</td>\n",
       "      <td>2.0</td>\n",
       "      <td>1912.0</td>\n",
       "      <td>20157.0</td>\n",
       "      <td>11855172.0</td>\n",
       "    </tr>\n",
       "    <tr>\n",
       "      <th>1</th>\n",
       "      <td>abdominal discomfort</td>\n",
       "      <td>555.0</td>\n",
       "      <td>114630.0</td>\n",
       "      <td>19604.0</td>\n",
       "      <td>11742454.0</td>\n",
       "    </tr>\n",
       "    <tr>\n",
       "      <th>2</th>\n",
       "      <td>abdominal distension</td>\n",
       "      <td>216.0</td>\n",
       "      <td>60888.0</td>\n",
       "      <td>19943.0</td>\n",
       "      <td>11796196.0</td>\n",
       "    </tr>\n",
       "    <tr>\n",
       "      <th>3</th>\n",
       "      <td>abdominal hernia</td>\n",
       "      <td>6.0</td>\n",
       "      <td>3160.0</td>\n",
       "      <td>20153.0</td>\n",
       "      <td>11853924.0</td>\n",
       "    </tr>\n",
       "    <tr>\n",
       "      <th>4</th>\n",
       "      <td>abdominal hernia infection</td>\n",
       "      <td>1.0</td>\n",
       "      <td>36.0</td>\n",
       "      <td>20158.0</td>\n",
       "      <td>11857048.0</td>\n",
       "    </tr>\n",
       "  </tbody>\n",
       "</table>\n",
       "</div>"
      ]
     },
     "execution_count": 45,
     "metadata": {},
     "output_type": "execute_result"
    }
   ],
   "execution_count": 45
  },
  {
   "metadata": {
    "ExecuteTime": {
     "end_time": "2024-08-13T15:29:16.521872Z",
     "start_time": "2024-08-13T15:29:16.515940Z"
    }
   },
   "cell_type": "code",
   "source": "len(df_ror_pt_abcd)",
   "id": "c355ea78fdd40bc9",
   "outputs": [
    {
     "data": {
      "text/plain": [
       "3223"
      ]
     },
     "execution_count": 49,
     "metadata": {},
     "output_type": "execute_result"
    }
   ],
   "execution_count": 49
  },
  {
   "metadata": {
    "ExecuteTime": {
     "end_time": "2024-08-13T16:31:04.846491Z",
     "start_time": "2024-08-13T16:31:02.448501Z"
    }
   },
   "cell_type": "code",
   "source": [
    "import math\n",
    "# 定义相关指标的计算 python函数\n",
    "## https://www.jianshu.com/p/69dfbcceef9b\n",
    "def get_ROR(row):\n",
    "    import math\n",
    "\n",
    "    a = row['a']\n",
    "    b = row['b']\n",
    "    c = row['c']\n",
    "    d = row['d']\n",
    "    \n",
    "    if a*b*c*d == 0:\n",
    "        return -1,-1,-1\n",
    "    \n",
    "    ror = a/c/(b/d)\n",
    "    ci_lower = math.log(ror) - 1.96 * math.sqrt(1/a + 1/b + 1/c + 1/d)\n",
    "    ci_upper = math.log(ror) + 1.96 * math.sqrt(1/a + 1/b + 1/c + 1/d)\n",
    "    return a/c/(b/d), math.exp(ci_lower), math.exp(ci_upper)\n",
    "\n",
    "def get_PRR(row):\n",
    "\n",
    "    a = row['a']\n",
    "    b = row['b']\n",
    "    c = row['c']\n",
    "    d = row['d']    \n",
    "    \n",
    "    if a * (a+b) * (c+d) * (b+d) * (a+c) * c == 0:\n",
    "        return -1,-1,-1,-1\n",
    "    \n",
    "    \n",
    "    prr = a/(a+b)/(c/(c+d))\n",
    "    ci_lower = math.log(prr) - 1.96 * math.sqrt(1/a - 1/(a+b) + 1/c - 1/(c+d))\n",
    "    ci_upper = math.log(prr) + 1.96 * math.sqrt(1/a - 1/(a+b) + 1/c - 1/(c+d))\n",
    "    chi_squared = math.pow( (a*d - b*c), 2) * (a+b+c+d) / ((a+b)*(c+d)*(a+c)*(b+d))  # get_MHRA\n",
    "\n",
    "    return prr, math.exp(ci_lower), math.exp(ci_upper),chi_squared\n",
    "\n",
    "def get_BCPNN(row):\n",
    "\n",
    "    a = row['a']\n",
    "    b = row['b']\n",
    "    c = row['c']\n",
    "    d = row['d'] \n",
    "    \n",
    "    C = a+b+c+d\n",
    "    Cx = a + b\n",
    "    Cy = a + c\n",
    "    Cxy = a\n",
    "    \n",
    "    α1 = 1\n",
    "    β1 = 1\n",
    "    α = 2\n",
    "    β = 1\n",
    "    γ11 = 1\n",
    "    \n",
    "    if True: \n",
    "        γ = γ11 * (C + α) * ( C + β) / (Cx + α1) / (Cy + β1)        \n",
    "        IC = math.log2(a*(a+b+c+d)*(a+c)*(a+b))\n",
    "        E_IC = math.log2( (Cxy+γ11) * (C+α) * (C+β) / (C+γ) / (Cx+α1) / (Cy+β1) )\n",
    "        V_IC = ( (C-Cxy+γ-γ11)/(Cxy+γ11)/(1+C+γ) + (C-Cx+α-α1)/(Cx+α1)/(1+C+α) + (C-Cy+β-β1)/(Cy+β1)/(1+C+β) ) / (math.log(2) * math.log(2))\n",
    "        CI_lower = E_IC - 2 * math.sqrt(V_IC)\n",
    "        CI_upper = E_IC + 2 * math.sqrt(V_IC)\n",
    "               \n",
    "        return IC, E_IC, V_IC, CI_lower, CI_upper\n",
    "    \n",
    "    #except Exception as e:\n",
    "    #    print('error for {}'.format(row))\n",
    "    #    return -1,-1,-1,-1,-1\n",
    "    #finally:\n",
    "    #    pass\n",
    "\n",
    "def get_MPGS(row):\n",
    "\n",
    "    a = row['a']\n",
    "    b = row['b']\n",
    "    c = row['c']\n",
    "    d = row['d']    \n",
    "    \n",
    "    if a*b*c*d*(a+c)*(a+b) == 0:\n",
    "        return -1,-1,-1\n",
    "    \n",
    "    EBGM = a*(a+b+c+d)/(a+c)/(a+b)\n",
    "    ci_lower = math.log(EBGM) - 1.96 * math.sqrt(1/a + 1/b + 1/c + 1/d)\n",
    "    ci_upper = math.log(EBGM) + 1.96 * math.sqrt(1/a + 1/b + 1/c + 1/d)\n",
    "    \n",
    "    return EBGM,  math.exp(ci_lower), math.exp(ci_upper)\n",
    "\n",
    "\n",
    "sql = '''   \n",
    "      select * from faers.ror_pt_abcd where a>0;\n",
    "'''\n",
    "df_ror_pt_abcd = pd.read_sql_query(sql, conn)\n",
    "\n",
    "\n",
    "df_ror_pt_abcd[[\"ROR\", \"ROR_95%CI_lower\", \"ROR_95%CI_upper\"]] =  df_ror_pt_abcd.apply(get_ROR, axis = 1, result_type = \"expand\")\n",
    "df_ror_pt_abcd[[\"PRR\", \"PRR_95%CI_lower\", \"PRR_95%CI_upper\", \"χ2\"]] =  df_ror_pt_abcd.apply(get_PRR, axis = 1, result_type = \"expand\")\n",
    "df_ror_pt_abcd[[\"BCPNN_IC\",\"BCPNN_E(IC)\", \"BCPNN_V(IC)\", \"BCPNN_CI_lower\", \"BCPNN_CI_upper\"]] =  df_ror_pt_abcd.apply(get_BCPNN, axis = 1, result_type = \"expand\")\n",
    "df_ror_pt_abcd[[\"EBGM\", \"EBGM_CI_lower\", \"EBGM_CI_upper\"]] =  df_ror_pt_abcd.apply(get_MPGS, axis = 1, result_type = \"expand\")\n",
    "df_ror_pt_abcd.to_excel('ror_result.xlsx', index=False)\n",
    "os.system('open ror_result.xlsx')"
   ],
   "id": "cd929d2e900f21df",
   "outputs": [
    {
     "name": "stderr",
     "output_type": "stream",
     "text": [
      "/var/folders/7w/sgw5xk457ss20939d0n2_5600000gn/T/ipykernel_24540/3978857261.py:95: UserWarning: pandas only supports SQLAlchemy connectable (engine/connection) or database string URI or sqlite3 DBAPI2 connection. Other DBAPI2 objects are not tested. Please consider using SQLAlchemy.\n",
      "  df_ror_pt_abcd = pd.read_sql_query(sql, conn)\n"
     ]
    },
    {
     "data": {
      "text/plain": [
       "0"
      ]
     },
     "execution_count": 90,
     "metadata": {},
     "output_type": "execute_result"
    }
   ],
   "execution_count": 90
  },
  {
   "metadata": {
    "ExecuteTime": {
     "end_time": "2024-08-13T16:20:14.791772Z",
     "start_time": "2024-08-13T16:20:09.285957Z"
    }
   },
   "cell_type": "code",
   "source": "",
   "id": "ddef5ecfbeb97ac",
   "outputs": [],
   "execution_count": 81
  }
 ],
 "metadata": {
  "kernelspec": {
   "display_name": "Python 3 (ipykernel)",
   "language": "python",
   "name": "python3"
  },
  "language_info": {
   "codemirror_mode": {
    "name": "ipython",
    "version": 3
   },
   "file_extension": ".py",
   "mimetype": "text/x-python",
   "name": "python",
   "nbconvert_exporter": "python",
   "pygments_lexer": "ipython3",
   "version": "3.11.7"
  }
 },
 "nbformat": 4,
 "nbformat_minor": 5
}
