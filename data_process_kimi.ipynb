{
 "cells": [
  {
   "metadata": {},
   "cell_type": "markdown",
   "source": [
    "### Promotion:\n",
    "帮我用macos 下的jupyter写一下代码：\n",
    "第一步：将文件夹'/Users/liuhaoran/PycharmProjects/Faers/data/FAERS_DATA' 下的所有 zip文件解压缩\n",
    "第二步：递归遍历 文件夹'/Users/liuhaoran/PycharmProjects/Faers/data/FAERS_DATA' 下所有的 文件名包含\n",
    " 'THER' （不区分大小写）的txt文件，它们都是以$ 分隔了字段的文件，读取后新增一个字段，其名称是 filename, 取值是 该文件名，并将所有结果合并生成一个 dataframe对象，且所有列都转换为 字符串类型"
   ],
   "id": "d339d692133d7408"
  },
  {
   "metadata": {
    "ExecuteTime": {
     "end_time": "2024-07-16T15:35:08.496203Z",
     "start_time": "2024-07-16T15:32:28.188821Z"
    }
   },
   "cell_type": "code",
   "source": [
    "import zipfile\n",
    "import pandas as pd\n",
    "import os\n",
    "\n",
    "# 定义文件夹路径\n",
    "folder_path = '/Users/liuhaoran/PycharmProjects/Faers/data/FAERS_DATA'\n",
    "\n",
    "# 第一步：解压缩所有zip文件\n",
    "def unzip_files(directory):\n",
    "    for filename in os.listdir(directory):\n",
    "        file_path = os.path.join(directory, filename)\n",
    "        if os.path.isfile(file_path) and filename.endswith('.zip'):\n",
    "            with zipfile.ZipFile(file_path, 'r') as zip_ref:\n",
    "                directory_name = os.path.dirname(file_path)\n",
    "                folder_name = os.path.splitext(os.path.basename(file_path))[0]\n",
    "                output_folder = os.path.join(directory_name, folder_name)\n",
    "                # 如果文件夹不存在，创建它\n",
    "                if not os.path.exists(output_folder):\n",
    "                    os.makedirs(output_folder)\n",
    "                else:\n",
    "                    os.rmdir(output_folder)\n",
    "                    \n",
    "                zip_ref.extractall(output_folder)\n",
    "                print(f\"Unzipped {filename}\")\n",
    "\n",
    "# 解压缩文件夹中的所有zip文件\n",
    "unzip_files(folder_path)"
   ],
   "id": "b0cee1eec496dcea",
   "outputs": [
    {
     "name": "stdout",
     "output_type": "stream",
     "text": [
      "Unzipped faers_ascii_2017Q4.zip\n",
      "Unzipped faers_ascii_2017Q1.zip\n",
      "Unzipped faers_ascii_2017Q2.zip\n",
      "Unzipped faers_ascii_2017Q3.zip\n",
      "Unzipped faers_ascii_2019Q1.zip\n",
      "Unzipped faers_ascii_2024Q1.zip\n",
      "Unzipped faers_ascii_2020Q4.zip\n",
      "Unzipped faers_ascii_2022Q4.zip\n",
      "Unzipped faers_ascii_2019Q2.zip\n",
      "Unzipped faers_ascii_2019Q3.zip\n",
      "Unzipped faers_ascii_2020Q3.zip\n",
      "Unzipped faers_ascii_2022Q1.zip\n",
      "Unzipped faers_ascii_2020Q2.zip\n",
      "Unzipped faers_ascii_2022Q2.zip\n",
      "Unzipped faers_ascii_2019Q4.zip\n",
      "Unzipped faers_ascii_2022Q3.zip\n",
      "Unzipped faers_ascii_2020Q1.zip\n",
      "Unzipped faers_ascii_2023Q4.zip\n",
      "Unzipped faers_ascii_2018Q2.zip\n",
      "Unzipped faers_ascii_2018Q3.zip\n",
      "Unzipped faers_ascii_2018Q1.zip\n",
      "Unzipped faers_ascii_2021Q4.zip\n",
      "Unzipped faers_ascii_2023Q2.zip\n",
      "Unzipped faers_ascii_2018Q4.zip\n",
      "Unzipped faers_ascii_2021Q1.zip\n",
      "Unzipped faers_ascii_2023Q3.zip\n",
      "Unzipped faers_ascii_2023Q1.zip\n",
      "Unzipped faers_ascii_2021Q3.zip\n",
      "Unzipped faers_ascii_2021Q2.zip\n",
      "          primaryid    caseid dsg_drug_seq  start_dt    end_dt  dur dur_cod  \\\n",
      "0         100052112  10005211            1      2013       NaN  NaN     NaN   \n",
      "1         100052112  10005211            3  20130612       NaN  NaN     NaN   \n",
      "2         100052112  10005211            4      2013      2013  NaN     NaN   \n",
      "3         100052112  10005211            5      2013       NaN  NaN     NaN   \n",
      "4         100062493  10006249            1  20120105  20120109  NaN     NaN   \n",
      "...             ...       ...          ...       ...       ...  ...     ...   \n",
      "18968330  999913119   9999131            7  20130326       NaN  NaN     NaN   \n",
      "18968331  999913119   9999131            8  20131030       NaN  NaN     NaN   \n",
      "18968332  999913119   9999131            9  20130121       NaN  NaN     NaN   \n",
      "18968333  999913119   9999131           11  20100604  20130326  NaN     NaN   \n",
      "18968334  999913119   9999131           12  20090930  20121023  NaN     NaN   \n",
      "\n",
      "              filename  \n",
      "0         THER17Q2.txt  \n",
      "1         THER17Q2.txt  \n",
      "2         THER17Q2.txt  \n",
      "3         THER17Q2.txt  \n",
      "4         THER17Q2.txt  \n",
      "...                ...  \n",
      "18968330  THER21Q1.txt  \n",
      "18968331  THER21Q1.txt  \n",
      "18968332  THER21Q1.txt  \n",
      "18968333  THER21Q1.txt  \n",
      "18968334  THER21Q1.txt  \n",
      "\n",
      "[18968335 rows x 8 columns]\n"
     ]
    }
   ],
   "execution_count": 2
  },
  {
   "metadata": {
    "ExecuteTime": {
     "end_time": "2024-07-16T15:55:18.374926Z",
     "start_time": "2024-07-16T15:54:31.640091Z"
    }
   },
   "cell_type": "code",
   "source": [
    "import os\n",
    "import pandas as pd\n",
    "# 第二步：递归遍历文件夹，读取并合并txt文件\n",
    "folder_path = '/Users/liuhaoran/PycharmProjects/Faers/data/FAERS_DATA'\n",
    "\n",
    "def read_and_combine_files(directory):\n",
    "    dataframes = []\n",
    "    for root, dirs, files in os.walk(directory):\n",
    "        for filename in files:\n",
    "            if filename.lower().endswith('.txt') and 'ther' in filename.lower():\n",
    "                file_path = os.path.join(root, filename)\n",
    "                df = pd.read_csv(file_path, sep='$', dtype=str)\n",
    "                # 新增一个字段filename，值为文件名\n",
    "                df['filename'] = filename\n",
    "                dataframes.append(df)\n",
    "    return dataframes\n",
    "\n",
    "# 读取并合并所有符合条件的txt文件\n",
    "dataframes = read_and_combine_files(folder_path)\n",
    "combined_df = pd.concat(dataframes, ignore_index=True)\n"
   ],
   "id": "43ca07873d7c9cba",
   "outputs": [],
   "execution_count": 5
  },
  {
   "metadata": {
    "ExecuteTime": {
     "end_time": "2024-07-16T15:55:27.410750Z",
     "start_time": "2024-07-16T15:55:27.385799Z"
    }
   },
   "cell_type": "code",
   "source": [
    "# 显示合并后的DataFrame\n",
    "len(combined_df)"
   ],
   "id": "c1cafb42d33ac229",
   "outputs": [
    {
     "data": {
      "text/plain": [
       "18968335"
      ]
     },
     "execution_count": 6,
     "metadata": {},
     "output_type": "execute_result"
    }
   ],
   "execution_count": 6
  },
  {
   "metadata": {},
   "cell_type": "markdown",
   "source": [
    "### Promotion:\n",
    "给定一个dataframe 对象 combined_df, 各列为， 遍历每一行执行以下操作生成一个新的dataframe 对象，名为 cleaned_df\n",
    "如果 start_dt 为空或者null, 则 填充为 '19700101'，\n",
    "如果 start_dt 长度为6位数, 则 在尾部填充01\n",
    "如果 start_dt 长度为4位数, 则 在尾部填充'0101'"
   ],
   "id": "7f8c77067ba99c30"
  },
  {
   "metadata": {
    "ExecuteTime": {
     "end_time": "2024-07-16T15:55:59.017722Z",
     "start_time": "2024-07-16T15:55:45.757600Z"
    }
   },
   "cell_type": "code",
   "source": [
    "import pandas as pd\n",
    "\n",
    "# 假设 combined_df 是已经存在的 DataFrame\n",
    "# combined_df = pd.read_csv('your_file.csv')  # 例如从文件读取\n",
    "\n",
    "# 定义一个函数来处理 start_dt 列\n",
    "def process_start_dt(start_dt):\n",
    "    if pd.isnull(start_dt) or start_dt == '':\n",
    "        return '19700101'\n",
    "    elif len(start_dt) == 6:\n",
    "        return start_dt + '01'\n",
    "    elif len(start_dt) == 4:\n",
    "        return start_dt + '0101'\n",
    "    else:\n",
    "        return start_dt\n",
    "\n",
    "# 应用这个函数到 start_dt 列\n",
    "combined_df['start_dt'] = combined_df['start_dt'].apply(process_start_dt)\n",
    "\n",
    "# 显示处理后的 DataFrame\n",
    "combined_df.head()"
   ],
   "id": "722cb7391aff46f5",
   "outputs": [
    {
     "data": {
      "text/plain": [
       "   primaryid    caseid dsg_drug_seq  start_dt    end_dt  dur dur_cod  \\\n",
       "0  100052112  10005211            1  20130101       NaN  NaN     NaN   \n",
       "1  100052112  10005211            3  20130612       NaN  NaN     NaN   \n",
       "2  100052112  10005211            4  20130101      2013  NaN     NaN   \n",
       "3  100052112  10005211            5  20130101       NaN  NaN     NaN   \n",
       "4  100062493  10006249            1  20120105  20120109  NaN     NaN   \n",
       "\n",
       "       filename  \n",
       "0  THER17Q2.txt  \n",
       "1  THER17Q2.txt  \n",
       "2  THER17Q2.txt  \n",
       "3  THER17Q2.txt  \n",
       "4  THER17Q2.txt  "
      ],
      "text/html": [
       "<div>\n",
       "<style scoped>\n",
       "    .dataframe tbody tr th:only-of-type {\n",
       "        vertical-align: middle;\n",
       "    }\n",
       "\n",
       "    .dataframe tbody tr th {\n",
       "        vertical-align: top;\n",
       "    }\n",
       "\n",
       "    .dataframe thead th {\n",
       "        text-align: right;\n",
       "    }\n",
       "</style>\n",
       "<table border=\"1\" class=\"dataframe\">\n",
       "  <thead>\n",
       "    <tr style=\"text-align: right;\">\n",
       "      <th></th>\n",
       "      <th>primaryid</th>\n",
       "      <th>caseid</th>\n",
       "      <th>dsg_drug_seq</th>\n",
       "      <th>start_dt</th>\n",
       "      <th>end_dt</th>\n",
       "      <th>dur</th>\n",
       "      <th>dur_cod</th>\n",
       "      <th>filename</th>\n",
       "    </tr>\n",
       "  </thead>\n",
       "  <tbody>\n",
       "    <tr>\n",
       "      <th>0</th>\n",
       "      <td>100052112</td>\n",
       "      <td>10005211</td>\n",
       "      <td>1</td>\n",
       "      <td>20130101</td>\n",
       "      <td>NaN</td>\n",
       "      <td>NaN</td>\n",
       "      <td>NaN</td>\n",
       "      <td>THER17Q2.txt</td>\n",
       "    </tr>\n",
       "    <tr>\n",
       "      <th>1</th>\n",
       "      <td>100052112</td>\n",
       "      <td>10005211</td>\n",
       "      <td>3</td>\n",
       "      <td>20130612</td>\n",
       "      <td>NaN</td>\n",
       "      <td>NaN</td>\n",
       "      <td>NaN</td>\n",
       "      <td>THER17Q2.txt</td>\n",
       "    </tr>\n",
       "    <tr>\n",
       "      <th>2</th>\n",
       "      <td>100052112</td>\n",
       "      <td>10005211</td>\n",
       "      <td>4</td>\n",
       "      <td>20130101</td>\n",
       "      <td>2013</td>\n",
       "      <td>NaN</td>\n",
       "      <td>NaN</td>\n",
       "      <td>THER17Q2.txt</td>\n",
       "    </tr>\n",
       "    <tr>\n",
       "      <th>3</th>\n",
       "      <td>100052112</td>\n",
       "      <td>10005211</td>\n",
       "      <td>5</td>\n",
       "      <td>20130101</td>\n",
       "      <td>NaN</td>\n",
       "      <td>NaN</td>\n",
       "      <td>NaN</td>\n",
       "      <td>THER17Q2.txt</td>\n",
       "    </tr>\n",
       "    <tr>\n",
       "      <th>4</th>\n",
       "      <td>100062493</td>\n",
       "      <td>10006249</td>\n",
       "      <td>1</td>\n",
       "      <td>20120105</td>\n",
       "      <td>20120109</td>\n",
       "      <td>NaN</td>\n",
       "      <td>NaN</td>\n",
       "      <td>THER17Q2.txt</td>\n",
       "    </tr>\n",
       "  </tbody>\n",
       "</table>\n",
       "</div>"
      ]
     },
     "execution_count": 7,
     "metadata": {},
     "output_type": "execute_result"
    }
   ],
   "execution_count": 7
  },
  {
   "metadata": {
    "ExecuteTime": {
     "end_time": "2024-07-16T16:13:47.260643Z",
     "start_time": "2024-07-16T16:11:31.065949Z"
    }
   },
   "cell_type": "code",
   "source": [
    "folder_path = '/Users/liuhaoran/PycharmProjects/Faers/data/'\n",
    "combined_df.to_csv(folder_path + 'combined_df.csv', index=False);\n"
   ],
   "id": "7f3b9347c5865c45",
   "outputs": [],
   "execution_count": 10
  },
  {
   "metadata": {
    "ExecuteTime": {
     "end_time": "2024-07-16T17:10:59.058570Z",
     "start_time": "2024-07-16T16:25:39.757867Z"
    }
   },
   "cell_type": "code",
   "source": [
    "max_start_dt = combined_df.groupby(['primaryid', 'caseid', 'dsg_drug_seq']).agg({'start_dt': 'max'})\n",
    "max_start_dt.head()"
   ],
   "id": "6ad242508cc2f384",
   "outputs": [
    {
     "data": {
      "text/plain": [
       "                                 start_dt\n",
       "primaryid caseid   dsg_drug_seq          \n",
       "100035813 10003581 1             20130101\n",
       "                   2             19700101\n",
       "100035916 10003591 1             20130718\n",
       "100036473 10003647 1             20130529\n",
       "                   5             19700101"
      ],
      "text/html": [
       "<div>\n",
       "<style scoped>\n",
       "    .dataframe tbody tr th:only-of-type {\n",
       "        vertical-align: middle;\n",
       "    }\n",
       "\n",
       "    .dataframe tbody tr th {\n",
       "        vertical-align: top;\n",
       "    }\n",
       "\n",
       "    .dataframe thead th {\n",
       "        text-align: right;\n",
       "    }\n",
       "</style>\n",
       "<table border=\"1\" class=\"dataframe\">\n",
       "  <thead>\n",
       "    <tr style=\"text-align: right;\">\n",
       "      <th></th>\n",
       "      <th></th>\n",
       "      <th></th>\n",
       "      <th>start_dt</th>\n",
       "    </tr>\n",
       "    <tr>\n",
       "      <th>primaryid</th>\n",
       "      <th>caseid</th>\n",
       "      <th>dsg_drug_seq</th>\n",
       "      <th></th>\n",
       "    </tr>\n",
       "  </thead>\n",
       "  <tbody>\n",
       "    <tr>\n",
       "      <th rowspan=\"2\" valign=\"top\">100035813</th>\n",
       "      <th rowspan=\"2\" valign=\"top\">10003581</th>\n",
       "      <th>1</th>\n",
       "      <td>20130101</td>\n",
       "    </tr>\n",
       "    <tr>\n",
       "      <th>2</th>\n",
       "      <td>19700101</td>\n",
       "    </tr>\n",
       "    <tr>\n",
       "      <th>100035916</th>\n",
       "      <th>10003591</th>\n",
       "      <th>1</th>\n",
       "      <td>20130718</td>\n",
       "    </tr>\n",
       "    <tr>\n",
       "      <th rowspan=\"2\" valign=\"top\">100036473</th>\n",
       "      <th rowspan=\"2\" valign=\"top\">10003647</th>\n",
       "      <th>1</th>\n",
       "      <td>20130529</td>\n",
       "    </tr>\n",
       "    <tr>\n",
       "      <th>5</th>\n",
       "      <td>19700101</td>\n",
       "    </tr>\n",
       "  </tbody>\n",
       "</table>\n",
       "</div>"
      ]
     },
     "execution_count": 11,
     "metadata": {},
     "output_type": "execute_result"
    }
   ],
   "execution_count": 11
  },
  {
   "metadata": {},
   "cell_type": "markdown",
   "source": [
    "### promotion\n",
    "给定一个dataframe对象 combined_df, 计算primaryid, caseid,dsg_drug_seq 为key的情况下 的 最大的start_dt\n"
   ],
   "id": "c786623acfb73760"
  },
  {
   "metadata": {},
   "cell_type": "code",
   "outputs": [],
   "execution_count": null,
   "source": [
    "drop table therapy;\n",
    "CREATE TABLE therapy (\n",
    "    primaryid BIGINT NOT NULL,\n",
    "    caseid BIGINT NOT NULL,\n",
    "    dsg_drug_seq INT NOT NULL,\n",
    "    start_dt VARCHAR(255),\n",
    "    end_dt VARCHAR(255),\n",
    "    dur VARCHAR(255),\n",
    "    dur_cod VARCHAR(255),\n",
    "    filename VARCHAR(255)\n",
    ");\n",
    "\n",
    "\n",
    "LOAD DATA INFILE '/Users/liuhaoran/PycharmProjects/Faers/data/combined_df.csv'\n",
    "INTO TABLE therapy\n",
    "FIELDS TERMINATED BY ','  -- 假设CSV文件使用逗号分隔\n",
    "ENCLOSED BY '\"'\n",
    "LINES TERMINATED BY '\\n'\n",
    "IGNORE 1 ROWS  -- 如果CSV文件有标题行，则忽略第一行\n",
    ";"
   ],
   "id": "72ce88af75475af5"
  }
 ],
 "metadata": {
  "kernelspec": {
   "display_name": "Python 3",
   "language": "python",
   "name": "python3"
  },
  "language_info": {
   "codemirror_mode": {
    "name": "ipython",
    "version": 2
   },
   "file_extension": ".py",
   "mimetype": "text/x-python",
   "name": "python",
   "nbconvert_exporter": "python",
   "pygments_lexer": "ipython2",
   "version": "2.7.6"
  }
 },
 "nbformat": 4,
 "nbformat_minor": 5
}
